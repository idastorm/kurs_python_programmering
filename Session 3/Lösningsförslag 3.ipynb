{
 "cells": [
  {
   "cell_type": "markdown",
   "metadata": {},
   "source": [
    "**Utmaning!**\n",
    "\n",
    "Sök på förekomst av ord i Boye-texten.\n",
    "\n",
    "Skriv en if-sats som printar texten\n",
    "\n",
    "- \"Följande ord finns: SÖKORD\" om ditt SÖKORD finns i texten\n",
    "- \"Ordet hittades inte\" om ditt SÖKORD inte finns i texten\n"
   ]
  },
  {
   "cell_type": "code",
   "execution_count": 1,
   "metadata": {},
   "outputs": [],
   "source": [
    "from samples import boye_string\n",
    "\n",
    "# Skriv uppgiften här"
   ]
  },
  {
   "cell_type": "markdown",
   "metadata": {},
   "source": [
    "**Lösning**\n",
    "\n",
    "Vi kan börja med att skriva ut innehållet i ``boye_string``:"
   ]
  },
  {
   "cell_type": "code",
   "execution_count": 2,
   "metadata": {},
   "outputs": [
    {
     "name": "stdout",
     "output_type": "stream",
     "text": [
      "vi är din skara som du svek herre förtrösta bjöd du och det blev värre ur ondskans dimmor steg ingen ljusning ur tordönet ingen sakta susning vi skalv i öknen övergivna med hårda bud i sten skrivna de blev oss bröd de blev oss vatten men kring vår fromhet teg natten vi drog längs vägarna gudsslagna budbärare i eld tvagna dom och soning så bjöd rösten och domen sannades men aldrig trösten vi sjöng i markerna i jubel vända mot nya stjärnor till tecken tända o dröm o hopp vad du flöt rikligt o löftens löfte så stort och svikligt en bön en enda återstår oss slå ännu hårdare du som slår oss vik samman rummet och släck tiden förgör allt och skapa friden hur länge än hur länge än hur länge än förinta oss förinta oss\n"
     ]
    }
   ],
   "source": [
    "print(boye_string)"
   ]
  },
  {
   "cell_type": "markdown",
   "metadata": {},
   "source": [
    "Ett enkelt sätt att kontrollera innehållet är att använda operatorn ``in``. Vi testar därför **om** den innehåller ett sökord och printar svaret, **annars** skriver vi ut att det inte finns däri."
   ]
  },
  {
   "cell_type": "code",
   "execution_count": 3,
   "metadata": {},
   "outputs": [
    {
     "name": "stdout",
     "output_type": "stream",
     "text": [
      "Följande ord finns:\n",
      "vi\n"
     ]
    }
   ],
   "source": [
    "query = 'vi' # sökord\n",
    "\n",
    "if query in boye_string:\n",
    "    print('Följande ord finns:')\n",
    "    print(query)\n",
    "    \n",
    "else:\n",
    "    print('Ordet hittades inte.')"
   ]
  },
  {
   "cell_type": "markdown",
   "metadata": {},
   "source": [
    "**Utmaning!**\n",
    "\n",
    "Skapa en lista siffrorna (int) 1-10 och använd en for-loop för att räkna ut summan av siffrorna i listan.\n",
    "Tips: skapa ett variabel som uppdateras i loopen. "
   ]
  },
  {
   "cell_type": "markdown",
   "metadata": {},
   "source": [
    "**Lösning**\n",
    "\n",
    "Vi börjar med att skapa en lista med siffror, samt en variabel ``summa``, som kommer hålla summan av värdena i listan. Vi sätter den till 0 till att börja med, och adderar sedan varje värde i listan."
   ]
  },
  {
   "cell_type": "code",
   "execution_count": 7,
   "metadata": {},
   "outputs": [
    {
     "name": "stdout",
     "output_type": "stream",
     "text": [
      "Summan är:  55\n"
     ]
    }
   ],
   "source": [
    "\n",
    "lista = [1, 2, 3, 4, 5, 6, 7, 8, 9, 10] # Kan också skrivas range(1, 11) [sic]\n",
    "summa = 0\n",
    "\n",
    "for element in lista: # eller x in lista, blörgh in lista, o.s.v.\n",
    "    \n",
    "    # Lägg till elementet i listan till förra värdet\n",
    "    new_value = summa + element\n",
    "    \n",
    "    # Uppdatera summan med nya värdet\n",
    "    summa = new_value\n",
    "    \n",
    "    \n",
    "print('Summan är: ', summa)"
   ]
  },
  {
   "cell_type": "code",
   "execution_count": null,
   "metadata": {},
   "outputs": [],
   "source": []
  },
  {
   "cell_type": "markdown",
   "metadata": {},
   "source": [
    "**Bonusutmaning!**\n",
    "\n",
    "Du har blivit ombedd att räkna på hur mycket det skulle kosta Göteborgs Universitet att ge alla anställda \n",
    "anställda på LIR en bonus på 5% av sin månadslön. Du har fått en lista på alla löner (se nedan). \n",
    "Beräkna den totala månatliga kostnaden för denna ökning. \n",
    "\n",
    "Kör nästa cell för att skapa variablet \"löner\" som är en lista på alla löner som hämtas från en fil \n",
    "(se detaljer i kommentarerna). \n",
    "\n",
    "Är det svårt att lösa uppgiften kan du visa förslagsvis\n",
    "en ledtråd i taget genom att ta bort \"#\" framför till exempel \"Utmaning_löner.ledtråd1()\". För den som är snabb\n",
    "finns det även bonusfrågor i cellen med ledtrådarna. "
   ]
  },
  {
   "cell_type": "code",
   "execution_count": 8,
   "metadata": {},
   "outputs": [
    {
     "name": "stdout",
     "output_type": "stream",
     "text": [
      "[44000, 25000, 51000, 33000, 47000, 25100, 57000, 31000, 41100, 42500, 27300, 29000, 31000, 45000, 50100]\n"
     ]
    }
   ],
   "source": [
    "from samples import löner\n",
    "print(löner)"
   ]
  },
  {
   "cell_type": "markdown",
   "metadata": {},
   "source": [
    "**Lösning**\n",
    "\n",
    "Vi demonstrerar endast slutlösningen då det finns ledtrådar i uppgiften."
   ]
  },
  {
   "cell_type": "code",
   "execution_count": 9,
   "metadata": {},
   "outputs": [],
   "source": [
    "from ledtrådar import Utmaning_löner\n"
   ]
  },
  {
   "cell_type": "code",
   "execution_count": 12,
   "metadata": {},
   "outputs": [
    {
     "name": "stdout",
     "output_type": "stream",
     "text": [
      "bonusar=[]\n",
      "for lön in löner:\n",
      "   bonus=lön*0.05\n",
      "   bonusar.append(bonus)\n",
      "print(sum(bonusar)\n"
     ]
    }
   ],
   "source": [
    "Utmaning_löner.lösning()"
   ]
  },
  {
   "cell_type": "code",
   "execution_count": 14,
   "metadata": {},
   "outputs": [
    {
     "name": "stdout",
     "output_type": "stream",
     "text": [
      "28955.0\n"
     ]
    }
   ],
   "source": [
    "bonusar=[]\n",
    "for lön in löner:\n",
    "    bonus=lön*0.05\n",
    "    bonusar.append(bonus)\n",
    "print(sum(bonusar))"
   ]
  },
  {
   "cell_type": "markdown",
   "metadata": {},
   "source": [
    "Medianlönen ges av mittvärdet i en sorterad lista av värden. Vi kan använda den inbyggda funktionen ``sorted``:"
   ]
  },
  {
   "cell_type": "code",
   "execution_count": 15,
   "metadata": {},
   "outputs": [
    {
     "data": {
      "text/plain": [
       "[25000,\n",
       " 25100,\n",
       " 27300,\n",
       " 29000,\n",
       " 31000,\n",
       " 31000,\n",
       " 33000,\n",
       " 41100,\n",
       " 42500,\n",
       " 44000,\n",
       " 45000,\n",
       " 47000,\n",
       " 50100,\n",
       " 51000,\n",
       " 57000]"
      ]
     },
     "execution_count": 15,
     "metadata": {},
     "output_type": "execute_result"
    }
   ],
   "source": [
    "sorted(löner)"
   ]
  },
  {
   "cell_type": "markdown",
   "metadata": {},
   "source": [
    "Mittvärdet är ``löner[7]``, det åttonde värdet, d.v.s. 41100."
   ]
  },
  {
   "cell_type": "markdown",
   "metadata": {},
   "source": [
    "Medellönen definieras som summan dividerat med antal löner i listan, alltså på samma sätt som i andra utmaningen:"
   ]
  },
  {
   "cell_type": "code",
   "execution_count": 16,
   "metadata": {},
   "outputs": [
    {
     "name": "stdout",
     "output_type": "stream",
     "text": [
      "Summan är:  579100\n"
     ]
    }
   ],
   "source": [
    "löner\n",
    "summa = 0\n",
    "\n",
    "for element in löner: # eller x in lista, blörgh in lista, o.s.v.\n",
    "    \n",
    "    # Lägg till elementet i listan till förra värdet\n",
    "    new_value = summa + element\n",
    "    \n",
    "    # Uppdatera summan med nya värdet\n",
    "    summa = new_value\n",
    "    \n",
    "    \n",
    "print('Summan är: ', summa)"
   ]
  },
  {
   "cell_type": "markdown",
   "metadata": {},
   "source": [
    "Vi dividerar med antalet löner i listan, vilket är samma som längden (``len``) på listan."
   ]
  },
  {
   "cell_type": "code",
   "execution_count": 17,
   "metadata": {},
   "outputs": [
    {
     "name": "stdout",
     "output_type": "stream",
     "text": [
      "38606.666666666664\n"
     ]
    }
   ],
   "source": [
    "medellön = summa/len(löner)\n",
    "print(medellön)"
   ]
  },
  {
   "cell_type": "markdown",
   "metadata": {},
   "source": [
    "**Bonusutmaning!**\n",
    "\n",
    "Barnnamn.net har rankat de 99 mest populära namnen på barn för killar respektiver tjejer för 2014.\n",
    "Vi är intresserade av följande:\n",
    "\n",
    "- Är något av killnamnen dubbelnamn? \n",
    "- I så fall, hur många? \n",
    "- Svara på samma gällande tjejnamnen. \n",
    "\n",
    "Det finns ledtrådar som du kan öppna en och en cellen två celler ner. \n",
    "\n",
    "Data importeras från samples i nästa cell. \n",
    "\n",
    "Bonusfrågor:\n",
    "    \n",
    "- Är de mest populära namnen på tjejerna längre än de mest populära namnen för killarna?\n",
    "\n",
    "Namnen är i ordningen mest populära till 99e mest populära.\n",
    "\n",
    "- Vilket var det mest populära kill-respektive tjejnamnet?\n"
   ]
  },
  {
   "cell_type": "code",
   "execution_count": 18,
   "metadata": {},
   "outputs": [],
   "source": [
    "from samples import mest_populära_killnamn_2014, mest_populära_tjejnamn_2014"
   ]
  },
  {
   "cell_type": "code",
   "execution_count": 19,
   "metadata": {},
   "outputs": [],
   "source": [
    "from ledtrådar import Utmaning_namn\n",
    "\n",
    "#Utmaning_namn.ledtråd1()\n",
    "#Utmaning_namn.ledtråd2()\n",
    "#Utmaning_namn.lösning()\n"
   ]
  },
  {
   "cell_type": "markdown",
   "metadata": {},
   "source": [
    "**Lösning**\n",
    "\n",
    "Vi demonstrerar endast slutlösningen då det finns ledtrådar i uppgiften."
   ]
  },
  {
   "cell_type": "code",
   "execution_count": 20,
   "metadata": {},
   "outputs": [
    {
     "name": "stdout",
     "output_type": "stream",
     "text": [
      "for namn in mest_populära_killnamn_2014:\n",
      "    if '-' in namn or ' ' in namn:\n",
      "        print(namn)\n"
     ]
    }
   ],
   "source": [
    "Utmaning_namn.lösning()"
   ]
  },
  {
   "cell_type": "code",
   "execution_count": 21,
   "metadata": {},
   "outputs": [],
   "source": [
    "for namn in mest_populära_killnamn_2014:\n",
    "    if '-' in namn or ' ' in namn:\n",
    "        print(namn)"
   ]
  },
  {
   "cell_type": "markdown",
   "metadata": {},
   "source": []
  }
 ],
 "metadata": {
  "kernelspec": {
   "display_name": "Python 3",
   "language": "python",
   "name": "python3"
  },
  "language_info": {
   "codemirror_mode": {
    "name": "ipython",
    "version": 3
   },
   "file_extension": ".py",
   "mimetype": "text/x-python",
   "name": "python",
   "nbconvert_exporter": "python",
   "pygments_lexer": "ipython3",
   "version": "3.7.6"
  }
 },
 "nbformat": 4,
 "nbformat_minor": 4
}
