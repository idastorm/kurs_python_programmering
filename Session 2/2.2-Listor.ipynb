{
 "cells": [
  {
   "cell_type": "markdown",
   "metadata": {},
   "source": [
    "<div class=\"image\">\n",
    "    <img src=\"cdh_logga.PNG\" width=\"1000\" align=\"top\"/>\n",
    "</div>\n",
    "\n",
    "\n",
    "<a id='section0'></a>\n",
    "## Listor\n",
    "\n",
    "<h3>Innehåll</h3><br>\n",
    "    <ul>\n",
    "        <li><a href='#section1'>1A. Att skapa listor med data</a></li><br>\n",
    "        <li><a href='#section2'>1B. Indexering av listor</a></li><br>\n",
    "        <li><a href='#section3'>1B1. Strängar som listor av tecken</a></li><br>\n",
    "        <li><a href='#section4'>1C. Inbyggda funktioner för listor</a></li><br>\n",
    "    </ul>    \n",
    "    "
   ]
  },
  {
   "cell_type": "markdown",
   "metadata": {},
   "source": [
    "<div style=\"text-align: right\"><a href='#section0' align='left'>Tillbaka till början</a></div>\n",
    "<a id='section1'></a>\n",
    "<h3>1A. Att skapa listor med data</h3>"
   ]
  },
  {
   "cell_type": "markdown",
   "metadata": {},
   "source": [
    "I <a href=\"https://docs.python.org/3/library/functions.html\">dokumentationen över inbyggda funktioner</a> finns flera funktioner som inte har så spännade effekt på variabler med endast ett värde. Dessa inkluderar\n",
    "    \n",
    "- <code>sum(x: list)</code>: Beräknar summan av flera numeriska värden\n",
    "- <code>min(x: list)</code>: Beräknar minsta värdet av flera numeriska värden\n",
    "\n",
    "Dessa tar ett argument <code>x</code> som är av typen ''list'' eller ''lista''. I Python är en lista samling helt godtyckliga värden som skrivs inom hakparenteser, <code>[]</code>.\n",
    "\n",
    "Exempelvis\n",
    "\n",
    "``\n",
    "x = 65\n",
    "[1, 2, \"ost\", 47.18, x]\n",
    "``\n",
    "\n",
    "Vi kan beräkna längden (antalet element) av listan med den inbyggda funktionen <code>len</code>."
   ]
  },
  {
   "cell_type": "code",
   "execution_count": null,
   "metadata": {},
   "outputs": [],
   "source": [
    "x = 65\n",
    "lista = [1, \"ost\", 2, 47.18, x]\n",
    "\n",
    "print(len(lista))"
   ]
  },
  {
   "cell_type": "markdown",
   "metadata": {},
   "source": [
    "Listor kan till och med innehålla andra listor. Dessa räknas dock som endast ett element."
   ]
  },
  {
   "cell_type": "code",
   "execution_count": 2,
   "metadata": {},
   "outputs": [
    {
     "name": "stdout",
     "output_type": "stream",
     "text": [
      "6\n"
     ]
    }
   ],
   "source": [
    "x = 65\n",
    "lista = [1, \"ost\", 2, 47.18, x, [\"värde i inre listan\", 780, x]]\n",
    "\n",
    "print(len(lista))"
   ]
  },
  {
   "cell_type": "markdown",
   "metadata": {},
   "source": [
    "Vissa funktioner ställer krav på att listor endast innehåller värden av en viss typ. <code>sum</code> och <code>min</code> vill exempelvis helst ha listor med endast siffror, av naturliga skäl"
   ]
  },
  {
   "cell_type": "code",
   "execution_count": 3,
   "metadata": {},
   "outputs": [
    {
     "name": "stdout",
     "output_type": "stream",
     "text": [
      "Summa:  15\n",
      "Minimum:  1\n"
     ]
    }
   ],
   "source": [
    "numerisk_lista = [1, 2, 3, 4, 5]\n",
    "\n",
    "summan_av_listan = sum(numerisk_lista)\n",
    "minsta_värdet_i_listan = min(numerisk_lista)\n",
    "\n",
    "print(\"Summa: \", summan_av_listan)\n",
    "print(\"Minimum: \", minsta_värdet_i_listan)"
   ]
  },
  {
   "cell_type": "markdown",
   "metadata": {},
   "source": [
    "<div style=\"text-align: right\"><a href='#section0' align='left'>Tillbaka till början</a></div>\n",
    "<a id='section2'></a>\n",
    "\n",
    "###  1B. Indexering av listor\n",
    "\n",
    "Listor tillhör en mer komplicerad typ av objekt och har egna inbyggda funktioner. I praktiken beter sig listor som kataloger eller arkiv i andra sammanhang, och för att hämta ut ett element behöver du ett index. Indexeringsreglerna styr hur man hämtar ett värde på en viss plats i en lista. Givet en lista\n",
    "\n",
    "``\n",
    "lista = [1, \"ost\", 2, 47.18, x, [\"värde i inre listan\", 780, x]]\n",
    "``\n",
    "\n",
    "så hämtas första elementet med <code>lista[0]</code>, vilket returnerar värdet 1. Andra elementet <code>lista[1]</code> ger \"ost\" och så vidare. Pröva själv nedan! "
   ]
  },
  {
   "cell_type": "code",
   "execution_count": 4,
   "metadata": {},
   "outputs": [
    {
     "data": {
      "text/plain": [
       "['värde i inre listan', 780, 65]"
      ]
     },
     "execution_count": 4,
     "metadata": {},
     "output_type": "execute_result"
    }
   ],
   "source": [
    "# Observera att sista elementet i listan är en lista i sig själv\n",
    "lista[5]"
   ]
  },
  {
   "cell_type": "markdown",
   "metadata": {},
   "source": [
    "Observera att indexering sker med en offset. Första elemtentet är inte <code>lista[1]</code> utan <code>lista[0]</code>. \n",
    "\n",
    "Detta är konvention, och något man får vänja sig vid. Index för sista elementet är alltså <code>sista_index = 1-len(list)</code>. Om du väljer ett index utanför <code>[0, 1, 2, 3, 4, 5]</code> i vårt fall, får du ett \"IndexError\".\n",
    "\n",
    "<img src=\"lista1.PNG\" width=\"500\" align=\"center\"/>\n",
    "\n",
    "En smidig notation hos python är att sista elementet också kan erhålla sista elementet med negativa index:"
   ]
  },
  {
   "cell_type": "code",
   "execution_count": 6,
   "metadata": {},
   "outputs": [
    {
     "data": {
      "text/plain": [
       "['värde i inre listan', 780, 65]"
      ]
     },
     "execution_count": 6,
     "metadata": {},
     "output_type": "execute_result"
    }
   ],
   "source": [
    "lista[-1] # Sista elementet i listan är en egen lista"
   ]
  },
  {
   "cell_type": "markdown",
   "metadata": {},
   "source": [
    "#### Framåt- och bakåtindexering\n",
    "\n",
    "Som ni nu märkt kan man använda både positiva och negativa tal för att indexera i listor. Att indexera med ``-1`` returnerar det sista elementet i en lista. \n",
    "\n",
    "Python har intuitivt utökat denna funktionalitet ytterligare: Indexering utgår från första (nollte, ``0``) elementet och andra elementet åt **höger** ges av index ``1``. Det andra elementet åt **vänster** ges av index ``-1``, vilket vi vet också motsvaras av sista elementet i listan. På så vis ges det tredje elementet åt vänster av index ``-2``, och det tredje elementet åt höger av index ``3``. Det är dock sällsynt att man använder bakåtindexering för att komma åt mer än sista ``-1`` och näst sista ``-2`` elementen.\n",
    "\n",
    "<img src=\"lista2.PNG\" width=\"500\" align=\"center\"/>\n",
    "<img src=\"lista3.PNG\" width=\"500\" align=\"center\"/>\n"
   ]
  },
  {
   "cell_type": "code",
   "execution_count": 7,
   "metadata": {},
   "outputs": [
    {
     "name": "stdout",
     "output_type": "stream",
     "text": [
      "[1, 2, 3, 4, 5]\n",
      "['Ida', 'Jonas', 'Johan', 'Jonathan', 'Kalle', 'Åsa', 'Stina']\n",
      "exempel index 0:  Ida\n",
      "exempel index 1:  Jonas\n",
      "exempel index -1:  Stina\n",
      "exempel index -2:  Åsa\n",
      "Den uppdaterade listan med Ida ersatt med Vilma:  ['Vilma', 'Jonas', 'Johan', 'Jonathan', 'Kalle', 'Åsa', 'Stina']\n"
     ]
    }
   ],
   "source": [
    "en_lista=[1,2,3,4,5]\n",
    "\n",
    "print(en_lista)\n",
    "\n",
    "en_lista_med_text=['Ida', 'Jonas', 'Johan', 'Jonathan', 'Kalle', 'Åsa', 'Stina']\n",
    "\n",
    "print(en_lista_med_text)\n",
    "\n",
    "#man använder \"index\" för att komma åt den data man vill ha\n",
    "#det första objektet är på index 0\n",
    "print('exempel index 0: ', en_lista_med_text[0])\n",
    "print('exempel index 1: ', en_lista_med_text[1])\n",
    "\n",
    "#vill man ha det sista objektet kan man använda -1 som index\n",
    "print('exempel index -1: ', en_lista_med_text[-1])\n",
    "print('exempel index -2: ', en_lista_med_text[-2])\n",
    "\n",
    "#man kan också använda index för att ersätta det befintliga objektet med annan data.\n",
    "#i exemplet nedan vill jag ersätta Ida med Vilma:\n",
    "\n",
    "en_lista_med_text[0]='Vilma'\n",
    "\n",
    "print('Den uppdaterade listan med Ida ersatt med Vilma: ', en_lista_med_text)\n"
   ]
  },
  {
   "cell_type": "markdown",
   "metadata": {},
   "source": [
    "<div style=\"text-align: right\"><a href='#section0' align='left'>Tillbaka till början</a></div>\n",
    "<a id='section3'></a>\n",
    "\n",
    "#### 1B.1 Strängar som listor av tecken\n",
    "Ni har faktiskt stött på listor omedelbart i kursen. I Python är alla strängar listor av tecken. Exempelvis är strängen\n",
    "\n",
    "<code>text = \"Hello there!\"</code>\n",
    "\n",
    "en lista av tecken, där\n",
    "\n",
    "``\n",
    "text[0]\n",
    " 'H'\n",
    "text[1]\n",
    " 'e'\n",
    "text[2]\n",
    " 'l'\n",
    "text[-1]\n",
    " '!'\n",
    "``\n",
    "\n",
    "<img src=\"sträng.PNG\" width=\"500\" align=\"center\"/>"
   ]
  },
  {
   "cell_type": "markdown",
   "metadata": {},
   "source": [
    "**Utmaning!**\n",
    "Givet variabeln <code>text</code>, vad returneras av \n",
    "1. <code>text[-2]</code>\n",
    "2. <code>text[5]</code>\n",
    "3. <code>text[-7]</code>\n",
    "\n",
    "Motivera ditt svar!"
   ]
  },
  {
   "cell_type": "code",
   "execution_count": null,
   "metadata": {},
   "outputs": [],
   "source": [
    "text = \"Hello there!\""
   ]
  },
  {
   "cell_type": "markdown",
   "metadata": {},
   "source": [
    "<div style=\"text-align: right\"><a href='#section0' align='left'>Tillbaka till början</a></div>\n",
    "<a id='section4'></a>\n",
    "\n",
    "### 1C. Inbyggda funktioner för listor\n",
    "Vissa objekt har inbyggda funktioner. Listor har exempelvis <a href=\"https://docs.python.org/2/tutorial/datastructures.html\">följande funktionalitet</a>:\n",
    "\n",
    "- <code>append(x)</code>: Lägg till ett element <code>x</code> sist i listan\n",
    "- <code>insert(i, x)</code>: Lägg till ett element <code>x</code> vid index <code>i</code> i listan. Observera att detta ändrar index ordningen på påföljande element\n",
    "- <code>pop()</code>: Ta bort sista elementet i listan\n",
    "\n",
    "Man kallar på funktionerna genom punktnotation, exempelvis\n",
    "``\n",
    "lista.append(\"konst\")\n",
    "``\n",
    "lägger till en sträng \"konst\" sist i listan \"lista\"."
   ]
  },
  {
   "cell_type": "code",
   "execution_count": null,
   "metadata": {},
   "outputs": [],
   "source": [
    "#man kan också använda index tillsammans med \"insert\" för att lägga till ett objekt på en specifik plats i listan:\n",
    "en_lista_med_text.insert(0, 'Axel')\n",
    "\n",
    "print('Den uppdaterade listan med Axel tillagt först i listan (index 0): ', en_lista_med_text)\n",
    "\n",
    "#för att lägga till ett namn, använd den inbyggda funktionen \"append()\":\n",
    "en_lista_med_text.append('Sture')\n",
    "\n",
    "print('Den uppdaterade lista med Sture tillagd: ', en_lista_med_text)\n",
    "\n",
    "# Vi kan ta bort Sture igen, som lades till sist\n",
    "en_lista_med_text.pop()\n",
    "\n",
    "print('Den uppdaterade lista med Sture borttagen igen: ', en_lista_med_text)"
   ]
  },
  {
   "cell_type": "markdown",
   "metadata": {},
   "source": [
    "Listorna som skapades i förra cellen (den sista versionen av dem) finns kvar för användning i andra celler<br>\n",
    "Gör övningarna i nästa cell för att öva på listorna! "
   ]
  },
  {
   "cell_type": "markdown",
   "metadata": {},
   "source": [
    "#### Utmaning!\n",
    "\n",
    "Gör följande övningar på listan *en_lista_med_text*:\n",
    "\n",
    "1. Prova att ersätta Johan med valfritt namn (kom ihåg att använda det index Johan är på i den senast uppdaterade listan):\n",
    "2. Skapa en egen lista där du provar att mixa text och nummer. \n",
    "3. Hur tar man bort ett objekt i din nya lista? Prova att göra en sökning för att hitta svaret! "
   ]
  },
  {
   "cell_type": "code",
   "execution_count": null,
   "metadata": {},
   "outputs": [],
   "source": [
    "# 1. Ta bort Johan från listan\n",
    "\n",
    "# 2. Skapa ny lista med både text och nummer\n",
    "\n",
    "# 3. Ta bort ett objekt i din lista"
   ]
  },
  {
   "cell_type": "code",
   "execution_count": null,
   "metadata": {},
   "outputs": [],
   "source": []
  }
 ],
 "metadata": {
  "kernelspec": {
   "display_name": "Python 3",
   "language": "python",
   "name": "python3"
  },
  "language_info": {
   "codemirror_mode": {
    "name": "ipython",
    "version": 3
   },
   "file_extension": ".py",
   "mimetype": "text/x-python",
   "name": "python",
   "nbconvert_exporter": "python",
   "pygments_lexer": "ipython3",
   "version": "3.8.3"
  }
 },
 "nbformat": 4,
 "nbformat_minor": 4
}
