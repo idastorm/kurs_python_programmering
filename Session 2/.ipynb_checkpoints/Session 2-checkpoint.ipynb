{
 "cells": [
  {
   "cell_type": "code",
   "execution_count": null,
   "metadata": {},
   "outputs": [],
   "source": []
  },
  {
   "cell_type": "code",
   "execution_count": null,
   "metadata": {},
   "outputs": [],
   "source": []
  },
  {
   "cell_type": "markdown",
   "metadata": {},
   "source": [
    "<p><b>KANSKE SKIPPA DEN TILL TILLFÄLLET MED DATATYPER? Mer om variabler</b><br>\n",
    "Ett variabel finns kvar tills du tar bort det, eller ersätter det med ett annat värde<br>\n",
    "Variabler av olika typ kan inte sättas ihop<br>\n",
    "<a href=\"https://www.guru99.com/variables-in-python.html\">Mer om variabel i Python</a></p>"
   ]
  },
  {
   "cell_type": "code",
   "execution_count": null,
   "metadata": {},
   "outputs": [],
   "source": [
    "print('Mina variabel från förra cellen finns kvar! Här är mitt första variabel:', mitt_första_variabel)\n",
    "\n",
    "\n",
    "#använder vi samma namn på variabel igen och sätter det lika med något annat är det tidigare värdet ersatt:\n",
    "mitt_första_variabel='Hej!'\n",
    "\n",
    "\n",
    "print('Mitt första variabel ersatt:', mitt_första_variabel)\n",
    "\n",
    "#nu är det första variablet fortfarande ett nummer, medan Hej! är text\n",
    "#att köra den här koden ger ett \"error\" (\"can only concatenate str (not \"int\") to str\")\n",
    "#kommentera (#) nästa rad för att kunna köra kode utan \"error\"\n",
    "#print('Mitt första variabel + mitt andra variabel:', (mitt_första_variabel + mitt_andra_variabel))\n",
    "\n",
    "print('Typ första variablet:', type(mitt_första_variabel))\n",
    "\n",
    "print('Typ andra variablet:', type(mitt_andra_variabel))\n",
    "\n",
    "mitt_tredje_variabel = 'Jag kommer från Malmö.'\n",
    "\n",
    "#första och tredje variablet är text och kan sättas ihop. \n",
    "#notera att de fortfarande är två separata variabel\n",
    "print(mitt_första_variabel + mitt_tredje_variabel)\n",
    "\n",
    "#men de kan sättas samman till ett variabel (jag har laggt till ett mellanrum också)!\n",
    "mitt_fjärde_variabel = mitt_första_variabel + ' ' + mitt_tredje_variabel\n",
    "\n",
    "print('Mitt fjärde variabel:', mitt_fjärde_variabel)\n",
    "\n",
    "#första och andra variablet finns fortfarande kvar:\n",
    "print('Första variablet finns fortfarande kvar:', mitt_första_variabel)\n",
    "\n",
    "print('Tredej variablet finns fortfarande kvar:', mitt_tredje_variabel)"
   ]
  },
  {
   "cell_type": "markdown",
   "metadata": {},
   "source": [
    "### Att använda if-satser i loopar"
   ]
  },
  {
   "cell_type": "code",
   "execution_count": null,
   "metadata": {},
   "outputs": [],
   "source": [
    "for name in en_lista_med_text:\n",
    "    if name=='Vilma':\n",
    "        print('Vilma finns i listan!')\n",
    "\n",
    "#\"Vilma eller Kalle har hittats\" kommer att skrivas två gånger - en gång när \"loopen hamnar på\" Vilma och en gång på Kalle\n",
    "#notera \"or\" som kollar är det här namnet Vilma ELLER Kalle. \n",
    "for name in en_lista_med_text:\n",
    "    if name=='Vilma' or name=='Kalle':\n",
    "        print('Vilma eller Kalle har hittats')\n",
    "        \n",
    "#Inte Vilma kommer att skrivas en gång för varje namn som inte är Vilma\n",
    "for name in en_lista_med_text:\n",
    "    if name != 'Vilma':\n",
    "        print('Inte Vilma')\n",
    "    \n",
    "#undersök vilka namn i listan som är längre än fyra karaktärer\n",
    "for name in en_lista_med_text:   \n",
    "    if len(name)>4:\n",
    "        print('namn i listan längre än fyra karaktärer:', name)\n",
    "        \n",
    "    else:\n",
    "        print('namn i listan som är fyra karaktärer eller kortare:', name)"
   ]
  },
  {
   "cell_type": "markdown",
   "metadata": {},
   "source": [
    "### Att läsa data från Excel"
   ]
  },
  {
   "cell_type": "code",
   "execution_count": null,
   "metadata": {},
   "outputs": [],
   "source": [
    "import pandas as pd\n",
    "import xlrd\n",
    "löner_2=pd.read_excel('löner.xlsx', index_col=0) \n",
    "\n",
    "print(löner_2)"
   ]
  },
  {
   "cell_type": "code",
   "execution_count": null,
   "metadata": {},
   "outputs": [],
   "source": [
    "#importera modul så vi kan hantera Excel-data\n",
    "\n",
    "\n",
    "löner_excel= 'löner.xlsx'\n",
    "löner_excel = xlrd.open_workbook(löner_excel)\n",
    "löner_excel = löner_excel.sheet_by_name('Blad1')\n",
    "\n",
    "num_cols = löner_excel.ncols\n",
    "\n",
    "print(num_cols)\n",
    "\n",
    "löner_från_fil=[]\n",
    "\n",
    "#range är en fukntion vi inte använt tidigare.\n",
    "for kolumn in range(num_cols):\n",
    "    \n",
    "    #namn i första raden (0)\n",
    "    print(löner_excel.cell_value(0, kolumn))\n",
    "    \n",
    "    #lön i andra raden\n",
    "    print(löner_excel.cell_value(1, kolumn))\n",
    "    \n",
    "    löner_från_fil.append(löner_excel.cell_value(1, kolumn))\n",
    "    \n",
    "print(löner_från_fil)\n",
    "\n",
    "#löner_excel.cell_value(curr_row, 1)"
   ]
  }
 ],
 "metadata": {
  "kernelspec": {
   "display_name": "Python 3",
   "language": "python",
   "name": "python3"
  },
  "language_info": {
   "codemirror_mode": {
    "name": "ipython",
    "version": 3
   },
   "file_extension": ".py",
   "mimetype": "text/x-python",
   "name": "python",
   "nbconvert_exporter": "python",
   "pygments_lexer": "ipython3",
   "version": "3.8.3"
  }
 },
 "nbformat": 4,
 "nbformat_minor": 4
}
