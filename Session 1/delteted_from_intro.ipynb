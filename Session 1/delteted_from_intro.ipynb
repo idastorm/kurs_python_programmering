{
 "cells": [
  {
   "cell_type": "markdown",
   "metadata": {},
   "source": [
    "<a href='#section0'>Tillbaka till början</a>\n",
    "<a id='section6'></a>\n",
    "<h3>2B. Att använda loopar</h3>\n",
    "\n",
    "Om vi vill tillämpa samma instruktion flera gånger är det ofta repititivt eller omöjligt att skriva ut det själv varje gång. Om man ska något göra en gång för varje objekt i en lista så är det en god idé att använda en loop. (eller ibland på svenska, \"snurra\").\n",
    "\n",
    "\n",
    "Det finns olika typer av loopar och här fokuserar vi på något som kallas \"for-loop\"\n",
    "Läs mer om denna typ av loop <a href=\"https://www.w3schools.com/python/python_for_loops.asp\">här</a>.\n",
    "\n",
    "En loop i Python går igenom alla element i en lista enskilt tills dess att listan är slut. För att printa alla element i listan brukar man skriva\n",
    "\n",
    "``\n",
    "for x in lista:\n",
    "    print(x)\n",
    "``\n",
    "\n",
    "Detta är ekvivalent med att skriva\n",
    "\n",
    "\n",
    "``\n",
    "x = lista[0]\n",
    "print(x)\n",
    "x = lista[1]\n",
    "print(x)\n",
    ".\n",
    ".\n",
    ".\n",
    "``\n",
    "\n",
    "Där <code>x</code> är en temporär variabel som bara existerar inuti loopen. Observera att indenteringen (tryck <b>Tab</b>) är obligatorisk. Om du missar den kommer du få ett \"IndentationError\"."
   ]
  },
  {
   "cell_type": "code",
   "execution_count": null,
   "metadata": {},
   "outputs": [],
   "source": [
    "# För varje namn (name - skulle kunna kalla det vad som helst) i en_lista_med_text:\n",
    "# print(name)\n",
    "for name in en_lista_med_text:\n",
    "    print(name)\n",
    "    \n",
    "print('Det här ger samma resultat:')\n",
    "\n",
    "for vad_som_helst in en_lista_med_text:\n",
    "    print(vad_som_helst)\n"
   ]
  },
  {
   "cell_type": "code",
   "execution_count": null,
   "metadata": {},
   "outputs": [],
   "source": [
    "#skapa en tom lista\n",
    "kvadrat_lista=[]\n",
    "\n",
    "# För varje tal i \"en_lista\" som definierades tidigare som (1, 2, 3, 4, 5)\n",
    "# skapa en ny variabel (ny_variabel = tal*tal)\n",
    "# lägg till ny_variabel till den tomma listan\n",
    "for tal in en_lista:\n",
    "    \n",
    "    ny_variabel = tal*tal\n",
    "    \n",
    "    kvadrat_lista.append(ny_variabel)\n",
    "    \n",
    "print('en_lista: ', en_lista)\n",
    "\n",
    "print('loop_lista: ', kvadrat_lista)"
   ]
  },
  {
   "cell_type": "code",
   "execution_count": null,
   "metadata": {},
   "outputs": [],
   "source": [
    "#skapa en egen lista och skriv en for-loop som skriver namnen (precis som i förra cellen)\n",
    "#för ökada svårighet: skriv både namnet och antalet karaktärer i namnet\n"
   ]
  },
  {
   "cell_type": "markdown",
   "metadata": {},
   "source": [
    "#### Utmaning!\n",
    "Genom indexering av listan *boye*, besvara följande:\n",
    "\n",
    "1. Vilket är det första ordet?\n",
    "2. Vilket är det andra ordet?\n",
    "3. Vilket är det sista ordet?\n",
    "4. Vilket är det näst sista ordet?"
   ]
  },
  {
   "cell_type": "code",
   "execution_count": null,
   "metadata": {},
   "outputs": [],
   "source": [
    "from samples import boye\n",
    "\n",
    "print(boye)\n",
    "\n",
    "# Vad är det första ordet?\n",
    "\n",
    "\n",
    "# Vad är det andra ordet?\n",
    "\n",
    "\n",
    "# Vad är det sista ordet?\n",
    "\n",
    "\n",
    "# Vad är det näst sista ordet?"
   ]
  },
  {
   "cell_type": "markdown",
   "metadata": {},
   "source": [
    "#### Utmaning\n",
    "Du har blivit ombedd att räkna på hur mycket det skulle kosta Göteborgs Universitet att ge alla anställda anställda på LIR en bonus på 5% av sin månadslön. Du har fått en lista på alla löner (se nedan).\n",
    "Ta bort kommentarerna och kör koden igen om ledtrådar skulle behövas. I ordning och en i taget rekommenderas.\n",
    "Ledtrådarna finns i ett egetbyggt paket som måste importeras först med <code>import ledtrådar</code>.\n"
   ]
  },
  {
   "cell_type": "code",
   "execution_count": 2,
   "metadata": {},
   "outputs": [
    {
     "ename": "TypeError",
     "evalue": "ledtråd1() missing 1 required positional argument: 'self'",
     "output_type": "error",
     "traceback": [
      "\u001b[0;31m---------------------------------------------------------------------------\u001b[0m",
      "\u001b[0;31mTypeError\u001b[0m                                 Traceback (most recent call last)",
      "\u001b[0;32m<ipython-input-2-4306b5ac9e05>\u001b[0m in \u001b[0;36m<module>\u001b[0;34m\u001b[0m\n\u001b[1;32m      1\u001b[0m \u001b[0;32mfrom\u001b[0m \u001b[0msamples\u001b[0m \u001b[0;32mimport\u001b[0m \u001b[0mlöner\u001b[0m\u001b[0;34m\u001b[0m\u001b[0;34m\u001b[0m\u001b[0m\n\u001b[1;32m      2\u001b[0m \u001b[0;32mfrom\u001b[0m \u001b[0mledtrådar\u001b[0m \u001b[0;32mimport\u001b[0m \u001b[0mUtmaning_löner\u001b[0m\u001b[0;34m\u001b[0m\u001b[0;34m\u001b[0m\u001b[0m\n\u001b[0;32m----> 3\u001b[0;31m \u001b[0mUtmaning_löner\u001b[0m\u001b[0;34m.\u001b[0m\u001b[0mledtråd1\u001b[0m\u001b[0;34m(\u001b[0m\u001b[0;34m)\u001b[0m\u001b[0;34m\u001b[0m\u001b[0;34m\u001b[0m\u001b[0m\n\u001b[0m\u001b[1;32m      4\u001b[0m \u001b[0;31m#Utmaning_löner.ledtråd2()\u001b[0m\u001b[0;34m\u001b[0m\u001b[0;34m\u001b[0m\u001b[0;34m\u001b[0m\u001b[0m\n\u001b[1;32m      5\u001b[0m \u001b[0;31m#Utmaning_löner.ledtråd3()\u001b[0m\u001b[0;34m\u001b[0m\u001b[0;34m\u001b[0m\u001b[0;34m\u001b[0m\u001b[0m\n",
      "\u001b[0;31mTypeError\u001b[0m: ledtråd1() missing 1 required positional argument: 'self'"
     ]
    }
   ],
   "source": [
    "from samples import löner\n",
    "from ledtrådar import Utmaning_löner\n",
    "Utmaning_löner.ledtråd1()\n",
    "#Utmaning_löner.ledtråd2()\n",
    "#Utmaning_löner.ledtråd3()\n",
    "\n",
    "#för lösning, ta bort den här kommentaren också (du måste fortfarande skriva av lösningen själv):\n",
    "Utmaning_löner.lösning()\n",
    "\n",
    "\n",
    "print(löner)\n",
    "\n",
    "#bonusfrågor:\n",
    "#vad är medellönen?\n",
    "\n",
    "\n",
    "#vad är medianlönen?\n",
    "\n",
    "\n",
    "#vad är lägsta lönen?\n",
    "\n",
    "\n",
    "#vad är högsta lönen?\n",
    "\n",
    "\n",
    "#vad är den totala kostnaden om endast de som tjänar över 40000 får 5% bonus?\n",
    "#ledtrådar_upd.ledtråd4()"
   ]
  },
  {
   "cell_type": "markdown",
   "metadata": {},
   "source": [
    "<a href='#section0'>Tillbaka till början</a>\n",
    "<a id='section9'></a>\n",
    "<h3>Exempel topic modelling</h3>"
   ]
  },
  {
   "cell_type": "code",
   "execution_count": null,
   "metadata": {},
   "outputs": [],
   "source": [
    "papers = pd.read_csv('papers.csv')\n",
    "\n",
    "# Print head\n",
    "papers.head()"
   ]
  },
  {
   "cell_type": "code",
   "execution_count": null,
   "metadata": {},
   "outputs": [],
   "source": [
    "\n",
    "\n",
    "# Remove the columns\n",
    "papers = papers.drop(columns=['id', 'event_type', 'pdf_name'], axis=1)\n",
    "\n",
    "# Print out the first rows of papers\n",
    "papers.head()"
   ]
  },
  {
   "cell_type": "code",
   "execution_count": null,
   "metadata": {},
   "outputs": [],
   "source": [
    "# Load the regular expression library\n",
    "import re\n",
    "\n",
    "# Remove punctuation\n",
    "papers['paper_text_processed'] = papers['paper_text'].map(lambda x: re.sub('[,\\.!?]', '', x))# Convert the titles to lowercase\n",
    "\n",
    "papers['paper_text_processed'] = papers['paper_text_processed'].map(lambda x: x.lower())\n",
    "\n",
    "papers['paper_text_processed'].head()"
   ]
  },
  {
   "cell_type": "code",
   "execution_count": null,
   "metadata": {},
   "outputs": [],
   "source": [
    "# Import the wordcloud library\n",
    "\n",
    "from wordcloud import WordCloud\n",
    "\n",
    "# Join the different processed titles together.\n",
    "long_string = ','.join(list(papers['paper_text_processed'].values))\n",
    "\n",
    "# Create a WordCloud object\n",
    "wordcloud = WordCloud(background_color=\"white\", max_words=5000, contour_width=3, contour_color='steelblue')\n",
    "\n",
    "# Generate a word cloud\n",
    "wordcloud.generate(long_string)# Visualize the word cloud\n",
    "wordcloud.to_image()"
   ]
  },
  {
   "cell_type": "code",
   "execution_count": null,
   "metadata": {},
   "outputs": [],
   "source": [
    "# Load the library with the CountVectorizer method\n",
    "from sklearn.feature_extraction.text import CountVectorizer\n",
    "import numpy as np\n",
    "import matplotlib.pyplot as plt\n",
    "import seaborn as sns\n",
    "sns.set_style('whitegrid')\n",
    "%matplotlib inline\n",
    "# Helper function\n",
    "def plot_10_most_common_words(count_data, count_vectorizer):\n",
    "    import matplotlib.pyplot as plt\n",
    "    words = count_vectorizer.get_feature_names()\n",
    "    total_counts = np.zeros(len(words))\n",
    "    for t in count_data:\n",
    "        total_counts+=t.toarray()[0]\n",
    "    \n",
    "    count_dict = (zip(words, total_counts))\n",
    "    count_dict = sorted(count_dict, key=lambda x:x[1], reverse=True)[0:10]\n",
    "    words = [w[0] for w in count_dict]\n",
    "    counts = [w[1] for w in count_dict]\n",
    "    x_pos = np.arange(len(words)) \n",
    "    \n",
    "    plt.figure(2, figsize=(15, 15/1.6180))\n",
    "    plt.subplot(title='10 most common words')\n",
    "    sns.set_context(\"notebook\", font_scale=1.25, rc={\"lines.linewidth\": 2.5})\n",
    "    sns.barplot(x_pos, counts, palette='husl')\n",
    "    plt.xticks(x_pos, words, rotation=90) \n",
    "    plt.xlabel('words')\n",
    "    plt.ylabel('counts')\n",
    "    plt.show()# Initialise the count vectorizer with the English stop words\n",
    "count_vectorizer = CountVectorizer(stop_words='english')# Fit and transform the processed titles\n",
    "count_data = count_vectorizer.fit_transform(papers['paper_text_processed'])# Visualise the 10 most common words\n",
    "plot_10_most_common_words(count_data, count_vectorizer)"
   ]
  },
  {
   "cell_type": "code",
   "execution_count": null,
   "metadata": {},
   "outputs": [],
   "source": [
    "import warnings\n",
    "warnings.simplefilter(\"ignore\", DeprecationWarning)# Load the LDA model from sk-learn\n",
    "from sklearn.decomposition import LatentDirichletAllocation as LDA\n",
    " \n",
    "# Helper function\n",
    "def print_topics(model, count_vectorizer, n_top_words):\n",
    "    words = count_vectorizer.get_feature_names()\n",
    "    for topic_idx, topic in enumerate(model.components_):\n",
    "        print(\"\\nTopic #%d:\" % topic_idx)\n",
    "        print(\" \".join([words[i]\n",
    "                        for i in topic.argsort()[:-n_top_words - 1:-1]]))\n",
    "        \n",
    "# Tweak the two parameters below\n",
    "number_topics = 5\n",
    "number_words = 10\n",
    "\n",
    "# Create and fit the LDA model\n",
    "lda = LDA(n_components=number_topics, n_jobs=-1)\n",
    "lda.fit(count_data)\n",
    "\n",
    "# Print the topics found by the LDA model\n",
    "print(\"Topics found via LDA:\")\n",
    "print_topics(lda, count_vectorizer, number_words)"
   ]
  },
  {
   "cell_type": "code",
   "execution_count": null,
   "metadata": {},
   "outputs": [],
   "source": [
    "%%time\n",
    "import os\n",
    "from pyLDAvis import sklearn as sklearn_lda\n",
    "import pickle \n",
    "import pyLDAvis\n",
    "#LDAvis_data_filepath = os.path.join('/ldavis_prepared_'+str(number_topics))\n",
    "# # this is a bit time consuming - make the if statement True\n",
    "# # if you want to execute visualization prep yourself\n",
    "if 1 == 1:\n",
    "    LDAvis_prepared = sklearn_lda.prepare(lda, count_data, count_vectorizer)\n",
    "    \n",
    "    #with open(LDAvis_data_filepath, 'w') as f:\n",
    "    pickle.dump(LDAvis_prepared)\n",
    "        \n",
    "# load the pre-prepared pyLDAvis data from disk\n",
    "#with open(LDAvis_data_filepath) as f:\n",
    "#LDAvis_prepared = pickle.load(f)\n",
    "    \n",
    "pyLDAvis.save_html(LDAvis_prepared, 'ldavis_prepared.html')"
   ]
  }
 ],
 "metadata": {
  "kernelspec": {
   "display_name": "Python 3",
   "language": "python",
   "name": "python3"
  },
  "language_info": {
   "codemirror_mode": {
    "name": "ipython",
    "version": 3
   },
   "file_extension": ".py",
   "mimetype": "text/x-python",
   "name": "python",
   "nbconvert_exporter": "python",
   "pygments_lexer": "ipython3",
   "version": "3.7.6"
  }
 },
 "nbformat": 4,
 "nbformat_minor": 4
}
