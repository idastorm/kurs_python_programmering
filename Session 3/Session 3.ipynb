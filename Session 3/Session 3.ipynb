{
 "cells": [
  {
   "cell_type": "code",
   "execution_count": null,
   "metadata": {},
   "outputs": [],
   "source": []
  },
  {
   "cell_type": "code",
   "execution_count": null,
   "metadata": {},
   "outputs": [],
   "source": []
  },
  {
   "cell_type": "code",
   "execution_count": null,
   "metadata": {},
   "outputs": [],
   "source": []
  },
  {
   "cell_type": "markdown",
   "metadata": {},
   "source": [
    "### Klasser och objekt\n",
    "Klasser och objekt är en viktig del i så kallad objekt-orienterad programmering. Det är dock så fundamentalt att det är i princip omöjligt att täcka i en så här liten kurs.\n",
    "\n",
    "#### Vad är en klass?\n",
    "Enklast uttryckt är en klass en mall för behållare. Behållarna är objekt, som kan innehålla egna variabler och funktioner.\n",
    "Klassen definierar vilka typer av funktioner och variabler de får innehålla.\n",
    "\n",
    "Klasser är ritningar för hur objekt skall skapas.\n",
    "\n",
    "#### Vad är ett objekt?\n",
    "Ett objekt är en så kallad *instans* av en klass. Objekt förhåller sig till klasser så som hus förhåller sig till ritningar. Objekt kan innehålla attribut (e.g. antal dörrar i ett hus, antal våningar) men också funktioner (hus.öppna_dörr, hus.stäng_dörr). Vi kan också exemplifiera med en bil:"
   ]
  },
  {
   "cell_type": "code",
   "execution_count": 15,
   "metadata": {},
   "outputs": [],
   "source": [
    "class Bil:\n",
    "    \n",
    "    # Skapar två klassvariabler\n",
    "    antal_hjul   = 4\n",
    "    antal_dörrar = 4\n",
    "    \n",
    "    def __init__(self, färg, antal_dörrar):\n",
    "        \n",
    "        # Skapar en instansvariabel\n",
    "        self.färg = färg\n",
    "        \n",
    "        # Skriver över klassvariabeln med ett specifikt antal dörrar för denna bilen.\n",
    "        self.antal_dörrar = antal_dörrar\n",
    "        \n",
    "    def accelerera(self):\n",
    "        pass\n",
    "    \n",
    "    def bromsa(self):\n",
    "        pass\n",
    "        "
   ]
  },
  {
   "cell_type": "markdown",
   "metadata": {},
   "source": [
    "### Skrivning av filer\n",
    "En viktig del av programmering är så kallad I/O, eller input/output av information till och från datorn. Ett exempel på output är funktionen ``print`` som vi är väl bekanta med nu, som ju skriver till skärmen. Ett exempel på input är koden vi skriver till datorn i cellerna.\n",
    "\n",
    "Det är dock vanligt att I/O inbegriper filer: Att man har data samlat i exempelvis text- eller Excel-filer man vill läsa av programmatiskt."
   ]
  },
  {
   "cell_type": "markdown",
   "metadata": {},
   "source": [
    "#### Öppna och stäng filer\n",
    "Filer i programmeringsspråk måste *öppnas* och *stängas*. Filer öppnas med den inbyggda funktionen [open](https://docs.python.org/3/library/functions.html#open). Detta returnerar ett fil-objekt, som har inbyggda funktioner för att läsa, stänga och modifiera filen. ``open(path, mode)`` har ett argument ``mode`` specificerar exempelvis om filen skall läsas eller skrivas till.\n",
    "\n",
    "- ``'r'``: \"read\", läsning av filer\n",
    "- ``'w'``: \"write\", skrivning till filer\n",
    "\n",
    "Ett filobjekt ``file`` som öppnats i läsläge har den inbyggda funktionen ``file.read()`` som läser vanlig text till en sträng."
   ]
  },
  {
   "cell_type": "code",
   "execution_count": 5,
   "metadata": {},
   "outputs": [
    {
     "name": "stdout",
     "output_type": "stream",
     "text": [
      "Fackelfester i forntidshallar.\n",
      "Det spillda vinet ångar.\n",
      "Ur det slocknade skenet glimmar\n",
      "kungars pannband.\n",
      "Flackande skuggor slickar\n",
      "unga lemmar i klirrande rassel:\n",
      "dans i smycken; dans i vapen.\n",
      "Druckna skymningar faller och faller,\n",
      "brinner, tätnar,\n",
      "sväller och slukar,\n",
      "kramar glimmet, dränker minnet,\n",
      "borrar:\n",
      "hetare, blindare, tätare,\n",
      "bort i törstiga mörker en glödrubin.\n"
     ]
    }
   ],
   "source": [
    "# Ladda en text-fil till ett fil-objekt\n",
    "f = open('example_file.txt', mode='r')\n",
    "\n",
    "# Använd den inbyggda funktionen .read() hos fil-objektet\n",
    "text_in_file = f.read()\n",
    "\n",
    "# Stäng filen\n",
    "f.close()\n",
    "\n",
    "print(text_in_file)"
   ]
  },
  {
   "cell_type": "markdown",
   "metadata": {},
   "source": [
    "#### Utnyttja scopes med nyckelordet *with*\n",
    "Att glömma stänga filer innebär att man kan råka modifiera en file senare, eller att man öppnar den med pekaren mitt i texten. Nyckelordet ``with`` tillåter en definiera variabler (exempelvis en fil-variabel) inom ett begränsat scope. Då stängs filen automatiskt."
   ]
  },
  {
   "cell_type": "code",
   "execution_count": 8,
   "metadata": {},
   "outputs": [],
   "source": [
    "with open('example_file.txt', mode='r') as f:\n",
    "    text_in_file = f.read()\n",
    "    \n",
    "# print(text_in_file)"
   ]
  },
  {
   "cell_type": "markdown",
   "metadata": {},
   "source": [
    "**OBS!**\n",
    "\n",
    "Den inbyggda funktionen ``.read()`` kräver att din text-fil är fri från formattering (kursiv text, listor, tabeller et c.). Filformat som .doc, .docx som används av Microsoft Word har gömd formattering för att det ska se snyggt ut. Dessa kan alltså inte läsas av pythons inbyggda funktioner.\n",
    "\n",
    "Men som vi skall se finns det externa bibliotek som möjliggör läsning av ex.-vis .docx."
   ]
  },
  {
   "cell_type": "code",
   "execution_count": 10,
   "metadata": {},
   "outputs": [
    {
     "ename": "UnicodeDecodeError",
     "evalue": "'utf-8' codec can't decode byte 0x91 in position 15: invalid start byte",
     "output_type": "error",
     "traceback": [
      "\u001b[0;31m---------------------------------------------------------------------------\u001b[0m",
      "\u001b[0;31mUnicodeDecodeError\u001b[0m                        Traceback (most recent call last)",
      "\u001b[0;32m<ipython-input-10-43678ce7fee0>\u001b[0m in \u001b[0;36m<module>\u001b[0;34m\u001b[0m\n\u001b[1;32m      4\u001b[0m     \u001b[0;31m# Funktionen skickar ett felmeddelande, då den hittat formatterings-karaktärer\u001b[0m\u001b[0;34m\u001b[0m\u001b[0;34m\u001b[0m\u001b[0;34m\u001b[0m\u001b[0m\n\u001b[1;32m      5\u001b[0m     \u001b[0;31m# som inte är unicode.\u001b[0m\u001b[0;34m\u001b[0m\u001b[0;34m\u001b[0m\u001b[0;34m\u001b[0m\u001b[0m\n\u001b[0;32m----> 6\u001b[0;31m     \u001b[0mword_text\u001b[0m \u001b[0;34m=\u001b[0m \u001b[0mf\u001b[0m\u001b[0;34m.\u001b[0m\u001b[0mread\u001b[0m\u001b[0;34m(\u001b[0m\u001b[0;34m)\u001b[0m\u001b[0;34m\u001b[0m\u001b[0;34m\u001b[0m\u001b[0m\n\u001b[0m",
      "\u001b[0;32m~/anaconda3/envs/course/lib/python3.8/codecs.py\u001b[0m in \u001b[0;36mdecode\u001b[0;34m(self, input, final)\u001b[0m\n\u001b[1;32m    320\u001b[0m         \u001b[0;31m# decode input (taking the buffer into account)\u001b[0m\u001b[0;34m\u001b[0m\u001b[0;34m\u001b[0m\u001b[0;34m\u001b[0m\u001b[0m\n\u001b[1;32m    321\u001b[0m         \u001b[0mdata\u001b[0m \u001b[0;34m=\u001b[0m \u001b[0mself\u001b[0m\u001b[0;34m.\u001b[0m\u001b[0mbuffer\u001b[0m \u001b[0;34m+\u001b[0m \u001b[0minput\u001b[0m\u001b[0;34m\u001b[0m\u001b[0;34m\u001b[0m\u001b[0m\n\u001b[0;32m--> 322\u001b[0;31m         \u001b[0;34m(\u001b[0m\u001b[0mresult\u001b[0m\u001b[0;34m,\u001b[0m \u001b[0mconsumed\u001b[0m\u001b[0;34m)\u001b[0m \u001b[0;34m=\u001b[0m \u001b[0mself\u001b[0m\u001b[0;34m.\u001b[0m\u001b[0m_buffer_decode\u001b[0m\u001b[0;34m(\u001b[0m\u001b[0mdata\u001b[0m\u001b[0;34m,\u001b[0m \u001b[0mself\u001b[0m\u001b[0;34m.\u001b[0m\u001b[0merrors\u001b[0m\u001b[0;34m,\u001b[0m \u001b[0mfinal\u001b[0m\u001b[0;34m)\u001b[0m\u001b[0;34m\u001b[0m\u001b[0;34m\u001b[0m\u001b[0m\n\u001b[0m\u001b[1;32m    323\u001b[0m         \u001b[0;31m# keep undecoded input until the next call\u001b[0m\u001b[0;34m\u001b[0m\u001b[0;34m\u001b[0m\u001b[0;34m\u001b[0m\u001b[0m\n\u001b[1;32m    324\u001b[0m         \u001b[0mself\u001b[0m\u001b[0;34m.\u001b[0m\u001b[0mbuffer\u001b[0m \u001b[0;34m=\u001b[0m \u001b[0mdata\u001b[0m\u001b[0;34m[\u001b[0m\u001b[0mconsumed\u001b[0m\u001b[0;34m:\u001b[0m\u001b[0;34m]\u001b[0m\u001b[0;34m\u001b[0m\u001b[0;34m\u001b[0m\u001b[0m\n",
      "\u001b[0;31mUnicodeDecodeError\u001b[0m: 'utf-8' codec can't decode byte 0x91 in position 15: invalid start byte"
     ]
    }
   ],
   "source": [
    "# Testa att läsa en word-fil\n",
    "with open('word_example.docx', mode='r') as f:\n",
    "    \n",
    "    # Funktionen skickar ett felmeddelande, då den hittat formatterings-karaktärer\n",
    "    # som inte är unicode.\n",
    "    word_text = f.read()"
   ]
  },
  {
   "cell_type": "markdown",
   "metadata": {},
   "source": [
    "Vi kan också testa att läsa en .csv-fil eller Excel-fil med den inbyggda funktionen. Excel-filen fungerar inte, eftersom den har gömd formattering för att se bra ut i Office-paketet."
   ]
  },
  {
   "cell_type": "code",
   "execution_count": 14,
   "metadata": {},
   "outputs": [
    {
     "ename": "UnicodeDecodeError",
     "evalue": "'utf-8' codec can't decode bytes in position 15-16: invalid continuation byte",
     "output_type": "error",
     "traceback": [
      "\u001b[0;31m---------------------------------------------------------------------------\u001b[0m",
      "\u001b[0;31mUnicodeDecodeError\u001b[0m                        Traceback (most recent call last)",
      "\u001b[0;32m<ipython-input-14-2a388d2714b1>\u001b[0m in \u001b[0;36m<module>\u001b[0;34m\u001b[0m\n\u001b[1;32m      4\u001b[0m     \u001b[0;31m# Funktionen skickar ett felmeddelande, då den hittat formatterings-karaktärer\u001b[0m\u001b[0;34m\u001b[0m\u001b[0;34m\u001b[0m\u001b[0;34m\u001b[0m\u001b[0m\n\u001b[1;32m      5\u001b[0m     \u001b[0;31m# som inte är unicode.\u001b[0m\u001b[0;34m\u001b[0m\u001b[0;34m\u001b[0m\u001b[0;34m\u001b[0m\u001b[0m\n\u001b[0;32m----> 6\u001b[0;31m     \u001b[0mword_text\u001b[0m \u001b[0;34m=\u001b[0m \u001b[0mf\u001b[0m\u001b[0;34m.\u001b[0m\u001b[0mread\u001b[0m\u001b[0;34m(\u001b[0m\u001b[0;34m)\u001b[0m\u001b[0;34m\u001b[0m\u001b[0;34m\u001b[0m\u001b[0m\n\u001b[0m",
      "\u001b[0;32m~/anaconda3/envs/course/lib/python3.8/codecs.py\u001b[0m in \u001b[0;36mdecode\u001b[0;34m(self, input, final)\u001b[0m\n\u001b[1;32m    320\u001b[0m         \u001b[0;31m# decode input (taking the buffer into account)\u001b[0m\u001b[0;34m\u001b[0m\u001b[0;34m\u001b[0m\u001b[0;34m\u001b[0m\u001b[0m\n\u001b[1;32m    321\u001b[0m         \u001b[0mdata\u001b[0m \u001b[0;34m=\u001b[0m \u001b[0mself\u001b[0m\u001b[0;34m.\u001b[0m\u001b[0mbuffer\u001b[0m \u001b[0;34m+\u001b[0m \u001b[0minput\u001b[0m\u001b[0;34m\u001b[0m\u001b[0;34m\u001b[0m\u001b[0m\n\u001b[0;32m--> 322\u001b[0;31m         \u001b[0;34m(\u001b[0m\u001b[0mresult\u001b[0m\u001b[0;34m,\u001b[0m \u001b[0mconsumed\u001b[0m\u001b[0;34m)\u001b[0m \u001b[0;34m=\u001b[0m \u001b[0mself\u001b[0m\u001b[0;34m.\u001b[0m\u001b[0m_buffer_decode\u001b[0m\u001b[0;34m(\u001b[0m\u001b[0mdata\u001b[0m\u001b[0;34m,\u001b[0m \u001b[0mself\u001b[0m\u001b[0;34m.\u001b[0m\u001b[0merrors\u001b[0m\u001b[0;34m,\u001b[0m \u001b[0mfinal\u001b[0m\u001b[0;34m)\u001b[0m\u001b[0;34m\u001b[0m\u001b[0;34m\u001b[0m\u001b[0m\n\u001b[0m\u001b[1;32m    323\u001b[0m         \u001b[0;31m# keep undecoded input until the next call\u001b[0m\u001b[0;34m\u001b[0m\u001b[0;34m\u001b[0m\u001b[0;34m\u001b[0m\u001b[0m\n\u001b[1;32m    324\u001b[0m         \u001b[0mself\u001b[0m\u001b[0;34m.\u001b[0m\u001b[0mbuffer\u001b[0m \u001b[0;34m=\u001b[0m \u001b[0mdata\u001b[0m\u001b[0;34m[\u001b[0m\u001b[0mconsumed\u001b[0m\u001b[0;34m:\u001b[0m\u001b[0;34m]\u001b[0m\u001b[0;34m\u001b[0m\u001b[0;34m\u001b[0m\u001b[0m\n",
      "\u001b[0;31mUnicodeDecodeError\u001b[0m: 'utf-8' codec can't decode bytes in position 15-16: invalid continuation byte"
     ]
    }
   ],
   "source": [
    "# Testa att läsa en Excel-fil\n",
    "with open('löner.xlsx', mode='r') as f:\n",
    "    \n",
    "    # Funktionen skickar ett felmeddelande, då den hittat formatterings-karaktärer\n",
    "    # som inte är unicode.\n",
    "    excel_text = f.read()"
   ]
  },
  {
   "cell_type": "markdown",
   "metadata": {},
   "source": [
    "Däremot fungerar .csv-filen, som ju bara är (semikolon)-separerad text. Problemet är ju dock att innehållet nu är en textsträng, vilket gjort att vi mist all funktionalitet i ett kalkylblad."
   ]
  },
  {
   "cell_type": "code",
   "execution_count": 16,
   "metadata": {},
   "outputs": [
    {
     "name": "stdout",
     "output_type": "stream",
     "text": [
      "First name;Last name;Salary\n",
      "Klara;Rosgren;38000\n",
      "Elin;B:son;40000\n",
      "Niklas;Lindquist;15000\n",
      "Abbe;Karlsson;40000\n",
      "Carola;Hagman;75000\n",
      "\n"
     ]
    }
   ],
   "source": [
    "with open('löner.csv', mode='r') as f:\n",
    "    \n",
    "    # Funktionen skickar ett felmeddelande, då den hittat formatterings-karaktärer\n",
    "    # som inte är unicode.\n",
    "    csv_text = f.read()\n",
    "    \n",
    "print(csv_text)"
   ]
  },
  {
   "cell_type": "markdown",
   "metadata": {},
   "source": [
    "### Paket\n",
    "Problemet med att läsa Excel-, CSV- och Word-dokument har lett oss till sista ämnet i kursen, och den stora styrkan med programmering: Färdiga paket.\n",
    "\n",
    "Den mesta funktionaliteten ni saknar medan ni programmerar har redan implementerats som ett paket som ni kan importera och använda i er kod. Vi ska här exemplifiera med några passande paket för läsning av text, kalkylark, samt visualisering.\n",
    "\n",
    "Vi börjar med ett någorlunda okänt paket som löser vårt problem med att läsa .xlsx och .csv-filer, nämligen [pandas](https://pandas.pydata.org/). Vi måste först installera paketet. Det sköts oftast i python med en så kallad *pakethanterare*, vid namn **pip**. I Jupyter Notebook skriver vi så här:"
   ]
  },
  {
   "cell_type": "code",
   "execution_count": 2,
   "metadata": {},
   "outputs": [
    {
     "name": "stdout",
     "output_type": "stream",
     "text": [
      "Requirement already satisfied: pandas in /home/vws/anaconda3/envs/course/lib/python3.8/site-packages (1.0.5)\n",
      "Requirement already satisfied: pytz>=2017.2 in /home/vws/anaconda3/envs/course/lib/python3.8/site-packages (from pandas) (2020.1)\n",
      "Requirement already satisfied: numpy>=1.13.3 in /home/vws/anaconda3/envs/course/lib/python3.8/site-packages (from pandas) (1.19.1)\n",
      "Requirement already satisfied: python-dateutil>=2.6.1 in /home/vws/anaconda3/envs/course/lib/python3.8/site-packages (from pandas) (2.8.1)\n",
      "Requirement already satisfied: six>=1.5 in /home/vws/anaconda3/envs/course/lib/python3.8/site-packages (from python-dateutil>=2.6.1->pandas) (1.15.0)\n",
      "Note: you may need to restart the kernel to use updated packages.\n"
     ]
    }
   ],
   "source": [
    "%pip install pandas"
   ]
  },
  {
   "cell_type": "markdown",
   "metadata": {},
   "source": [
    "Varpå paketet kan importeras med uttrycket ``import pandas as pd``, och vi kan använda dess inbyggda funktioner ``.read_excel()`` och ``.read_csv()``."
   ]
  },
  {
   "cell_type": "code",
   "execution_count": 3,
   "metadata": {},
   "outputs": [
    {
     "data": {
      "text/html": [
       "<div>\n",
       "<style scoped>\n",
       "    .dataframe tbody tr th:only-of-type {\n",
       "        vertical-align: middle;\n",
       "    }\n",
       "\n",
       "    .dataframe tbody tr th {\n",
       "        vertical-align: top;\n",
       "    }\n",
       "\n",
       "    .dataframe thead th {\n",
       "        text-align: right;\n",
       "    }\n",
       "</style>\n",
       "<table border=\"1\" class=\"dataframe\">\n",
       "  <thead>\n",
       "    <tr style=\"text-align: right;\">\n",
       "      <th></th>\n",
       "      <th>First name</th>\n",
       "      <th>Last name</th>\n",
       "      <th>Salary</th>\n",
       "    </tr>\n",
       "  </thead>\n",
       "  <tbody>\n",
       "    <tr>\n",
       "      <th>0</th>\n",
       "      <td>Klara</td>\n",
       "      <td>Rosgren</td>\n",
       "      <td>38000</td>\n",
       "    </tr>\n",
       "    <tr>\n",
       "      <th>1</th>\n",
       "      <td>Elin</td>\n",
       "      <td>B:son</td>\n",
       "      <td>40000</td>\n",
       "    </tr>\n",
       "    <tr>\n",
       "      <th>2</th>\n",
       "      <td>Niklas</td>\n",
       "      <td>Lindquist</td>\n",
       "      <td>15000</td>\n",
       "    </tr>\n",
       "    <tr>\n",
       "      <th>3</th>\n",
       "      <td>Abbe</td>\n",
       "      <td>Karlsson</td>\n",
       "      <td>40000</td>\n",
       "    </tr>\n",
       "    <tr>\n",
       "      <th>4</th>\n",
       "      <td>Carola</td>\n",
       "      <td>Hagman</td>\n",
       "      <td>75000</td>\n",
       "    </tr>\n",
       "  </tbody>\n",
       "</table>\n",
       "</div>"
      ],
      "text/plain": [
       "  First name  Last name  Salary\n",
       "0      Klara    Rosgren   38000\n",
       "1       Elin      B:son   40000\n",
       "2     Niklas  Lindquist   15000\n",
       "3       Abbe   Karlsson   40000\n",
       "4     Carola     Hagman   75000"
      ]
     },
     "execution_count": 3,
     "metadata": {},
     "output_type": "execute_result"
    }
   ],
   "source": [
    "import pandas as pd\n",
    "pd.read_excel('löner.xlsx')\n"
   ]
  },
  {
   "cell_type": "code",
   "execution_count": 7,
   "metadata": {},
   "outputs": [
    {
     "data": {
      "text/html": [
       "<div>\n",
       "<style scoped>\n",
       "    .dataframe tbody tr th:only-of-type {\n",
       "        vertical-align: middle;\n",
       "    }\n",
       "\n",
       "    .dataframe tbody tr th {\n",
       "        vertical-align: top;\n",
       "    }\n",
       "\n",
       "    .dataframe thead th {\n",
       "        text-align: right;\n",
       "    }\n",
       "</style>\n",
       "<table border=\"1\" class=\"dataframe\">\n",
       "  <thead>\n",
       "    <tr style=\"text-align: right;\">\n",
       "      <th></th>\n",
       "      <th>First name</th>\n",
       "      <th>Last name</th>\n",
       "      <th>Salary</th>\n",
       "    </tr>\n",
       "  </thead>\n",
       "  <tbody>\n",
       "    <tr>\n",
       "      <th>0</th>\n",
       "      <td>Klara</td>\n",
       "      <td>Rosgren</td>\n",
       "      <td>38000</td>\n",
       "    </tr>\n",
       "    <tr>\n",
       "      <th>1</th>\n",
       "      <td>Elin</td>\n",
       "      <td>B:son</td>\n",
       "      <td>40000</td>\n",
       "    </tr>\n",
       "    <tr>\n",
       "      <th>2</th>\n",
       "      <td>Niklas</td>\n",
       "      <td>Lindquist</td>\n",
       "      <td>15000</td>\n",
       "    </tr>\n",
       "    <tr>\n",
       "      <th>3</th>\n",
       "      <td>Abbe</td>\n",
       "      <td>Karlsson</td>\n",
       "      <td>40000</td>\n",
       "    </tr>\n",
       "    <tr>\n",
       "      <th>4</th>\n",
       "      <td>Carola</td>\n",
       "      <td>Hagman</td>\n",
       "      <td>75000</td>\n",
       "    </tr>\n",
       "  </tbody>\n",
       "</table>\n",
       "</div>"
      ],
      "text/plain": [
       "  First name  Last name  Salary\n",
       "0      Klara    Rosgren   38000\n",
       "1       Elin      B:son   40000\n",
       "2     Niklas  Lindquist   15000\n",
       "3       Abbe   Karlsson   40000\n",
       "4     Carola     Hagman   75000"
      ]
     },
     "execution_count": 7,
     "metadata": {},
     "output_type": "execute_result"
    }
   ],
   "source": [
    "# Observera att man måste specificera vad datan separeras av, exempelvis komma ',' eller semikolon ';'\n",
    "pd.read_csv('löner.csv', delimiter=';')\n"
   ]
  },
  {
   "cell_type": "markdown",
   "metadata": {},
   "source": [
    "Pandas returnerar ett objekt, som vanligen kallas *DataFrame*, vilket motsvarar ett blad i ett kalkylark. Detta kan indexeras som en lista eller dictionary, med kolumnnamn.\n",
    "\n",
    "Kolumnen returneras som en typ av lista, som indexeras på vanligt vis."
   ]
  },
  {
   "cell_type": "code",
   "execution_count": 13,
   "metadata": {},
   "outputs": [
    {
     "name": "stdout",
     "output_type": "stream",
     "text": [
      "0     Klara\n",
      "1      Elin\n",
      "2    Niklas\n",
      "3      Abbe\n",
      "4    Carola\n",
      "Name: First name, dtype: object\n"
     ]
    }
   ],
   "source": [
    "df = pd.read_excel('löner.xlsx')\n",
    "print(df['First name'])"
   ]
  },
  {
   "cell_type": "code",
   "execution_count": 14,
   "metadata": {},
   "outputs": [
    {
     "name": "stdout",
     "output_type": "stream",
     "text": [
      "Klara\n"
     ]
    }
   ],
   "source": [
    "print(df[\"First name\"][0])"
   ]
  },
  {
   "cell_type": "code",
   "execution_count": null,
   "metadata": {},
   "outputs": [],
   "source": []
  }
 ],
 "metadata": {
  "kernelspec": {
   "display_name": "Python 3.8.3 64-bit",
   "language": "python",
   "name": "python38364bitc07ce002ff1d424798a183d93faa705c"
  },
  "language_info": {
   "codemirror_mode": {
    "name": "ipython",
    "version": 3
   },
   "file_extension": ".py",
   "mimetype": "text/x-python",
   "name": "python",
   "nbconvert_exporter": "python",
   "pygments_lexer": "ipython3",
   "version": "3.8.3"
  }
 },
 "nbformat": 4,
 "nbformat_minor": 4
}
