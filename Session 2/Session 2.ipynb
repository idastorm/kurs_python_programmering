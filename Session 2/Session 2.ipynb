{
 "cells": [
  {
   "cell_type": "markdown",
   "metadata": {},
   "source": [
    "<a id='section0'></a>\n",
    "<h3>Innehåll</h3>\n",
    "    <ol>\n",
    "        <li>Hur fattar datorn kod?</li>\n",
    "            <ol>\n",
    "                <li><a href='#section1'>xxx</a></li><br>\n",
    "            </ol>    \n",
    "        <li>Datatyper</li>\n",
    "            <ol>\n",
    "                <li><a href='#section2'>Heltal/decimaltal</a></li><br>\n",
    "                <li><a href='#section3'>Sträng (string)</a></li><br>\n",
    "                <li><a href='#section4'>Booleanska</a></li><br>\n",
    "                <li><a href='#section5'>Inbyggda funktioner</a></li><br>\n",
    "                <li><a href='#section6'>Sammansatta datatyper</a></li><br>\n",
    "            </ol>\n",
    "        <li>Loopar</li>\n",
    "            <ol>\n",
    "                <li><a href='#section7'>for-loops</a></li><br>\n",
    "                <li><a href='#section8'>Loopar med if-satser</a></li><br>\n",
    "            </ol>\n",
    "        <li>Läsning av filer</li>\n",
    "            <ol>\n",
    "                <li><a href='#section9'>Att läsa data från Excel</a></li><br>\n",
    "                <li><a href='#section10'>Att läsa geografiska data</a></li><br>\n",
    "            </ol><br>"
   ]
  },
  {
   "cell_type": "markdown",
   "metadata": {},
   "source": [
    "### Hur fattar datorn kod?\n",
    "\n",
    "I första föreläsningen lärde vi oss att skriva enkla instruktioner med variabler, aritmetik (``+``,``-``,``/``,``*``), inbyggda funktioner (``print``, ``sum``, ...) samt egenbyggda funktioner. \n",
    "\n",
    "Inget i detta förtäljer hur dessa instruktioner, som ju är relativt läsliga för människor, tolkas av datorn. Vi ska ge en liten kort överblick av hur datorn går från kod till genomförd instruktion. Det finns två typer av sätt att gå från källkod till utförd instruktion.\n",
    "\n",
    "<img src=\"Compilation.png\" width=\"960\" align=\"left\"/>\n",
    "\n",
    "\n",
    "\n",
    "\n",
    "#### Kompilerade språk\n",
    "Givet att du som programmerare skrivit en kodsnutt kallas den för *källkod* och genomgår som minst 3 steg.\n",
    "\n",
    "1. Preprocessing: Detta innebär att ditt program \"städas\" från kommentarer, nya rader och annat som ökar läsbarheten, men inte påverkar programmet. Här sker också lite mindre optimeringar. Preprocessorn kan exempelvis se om du upprepar dig i koden.\n",
    "\n",
    "2. Kompilering: Under kompileringen så omvandlas din städade kod till datorinstruktioner som är unika för just din datortyp. Dessa instruktioner skiljer sig om du har en Mac eller en PC, om du har en x32- eller x64-arkitektur (det är därför vissa program kräver att du laddar ner en viss version). \n",
    "\n",
    "3. Assembly: I det sista obligatoriska steget omvandlas instruktionerna till maskinkod, binär kod av 1:or och 0:or. Detta motsvarar tillstånd hos kretsarna som styr datorn. Maskinkoden är fristående, och kan köras utan tillgång till källkoden.\n",
    "\n",
    "Vanligtvis följs dessa processer av ytterligare två: En länkningsprocess som hittar och sammanfogar kod från olika bibliotek och filer, samt en som kallas tolkning. \n",
    "\n",
    "En vanlig fråga är, vad är programmen som sköter dessa stegen skrivna i? Blir det inte en fråga om hönan och ägget? I det här fallet är det så att vi har ett urägg: Maskinkod, motsvarande 1:or och 0:or. Alla kompileringsfunktioner är i slutändan implementerade på detta viset. \n",
    "\n",
    "<img src=\"Interpreting.png\" width=\"960\" align=\"left\"/>\n",
    "\n",
    "\n",
    "#### Tolkade språk\n",
    "När vi har kört kod i Jupyter Notebook har det inte producerats några binärkod-filer. Det beror på att Python är ett tolkat språk. I tolkade språk så genomgår varje bearbetas varje rad i ett program en i taget. Instruktionerna preprocessas som i kompileringsfallet, men skickas till en tolkare (*interpreter*) som direkt omvandlar det till maskinkod och exekverar den. Sedan fortsätter processen med nästa rad.\n",
    "\n",
    "Fördelen är att man inte behöver ha ett färdigt program utan kan ta en instruktion i taget. Nackdelen är att tolkade språk är väsentligt långsammare.\n"
   ]
  },
  {
   "cell_type": "markdown",
   "metadata": {},
   "source": [
    "<div style=\"text-align: right\"><a href='#section0' align='left'>Tillbaka till början</a></div>\n",
    "<a id='section1'></a> \n",
    "\n",
    "### 1A. xxx"
   ]
  },
  {
   "cell_type": "markdown",
   "metadata": {},
   "source": [
    "### Datatyper\n",
    "\n",
    "I förra föreläsningen märkte ni att vissa funktioner, såsom ``round``, ``max`` och ``sum`` ställde krav på argumentens typ, de var tvunget numeriska. Detta är väldigt vanligt, och de flesta funktioner har sådana krav på sina argument. \n",
    "\n",
    "I Python har alla variabler en *datatyp*. Språket har följande datatyper:\n",
    "\n",
    "- Numeriska:\n",
    "    - Heltal (*int*, *integer*)\n",
    "    - Flyttal (*float*, *floating point*)\n",
    "- Strängar\n",
    "- Booleaner\n",
    "\n",
    "Vi har redan stött på flera av dessa i första tillfället, men vi ska nu formalisera skillnaden.\n",
    "\n",
    "\n",
    "<!-- \n",
    "Det finns många olika sätt att spara information i variabel i Python, och vi har redan sett de flesta av dem vid första tillfället. \n",
    "Starten på det här tillfället blir alltså en möjlighet till lite repitition, men också reflektion om skillnaden \n",
    "och vad det innebär när vi använder språket. \n",
    "\n",
    "Vi kan undersöka vilken typ av data vi jobbar med genom att använda den inbyggda funktionen <code>type()</code>.\n",
    "Vi kan skriva <code>type(ditt_variabel)</code> och kan få alla dessa svar tillbaka:\n",
    "    \n",
    "<code>int<br>float<br>str<br>complex<br>list<br>tuple<br>range<br>dict<br>set<br>frozenset<br>bool<br>bytes<br>bytearray<br>memoryview</code>\n",
    "\n",
    "Vi kommer att kort repetera heltal (int), decimaltal (float), sträng (str) och listor (list). \n",
    "Nytt är boleanska (bool) och att skapa en ordbok (dict). -->"
   ]
  },
  {
   "cell_type": "markdown",
   "metadata": {},
   "source": [
    "### Heltal och flyttal\n"
   ]
  },
  {
   "cell_type": "markdown",
   "metadata": {},
   "source": [
    "Heltal (*ints*, *integers*) är en så kallad numerisk typ som representeras med siffror, den andra är flyttal. Flyttal kallas ibland för decimaltal, men vi kommer snart att klargöra varför det namnet inte används.\n",
    "\n",
    "Detta kan verka väldigt basalt att göra skillnad på heltal och flyttal, då man gjorde det senast på lågstadiet. Faktum är dock att heltal och flyttal har helt olika egenskaper.\n",
    "\n",
    "Heltal betecknar tal som används för uppräkning eller ordning. Det jobbar exempelvis ungefär 6500 personer på GU, och i skrivande stund har hälften av dem tillgång till sin mejl.\n",
    "\n",
    "Man *kan* inte använda flyttal för att representera antal, eftersom det implicerar att man också kan ha halva människor, och andra bråkdelar av anställda. Inte heller kan man komma på 2.5:e plats i en tävling. En annan viktig användning av heltal är index (som ju är ekvivalent med ordning), exempelvis i listor. Givet en lista ``x`` kan man ange ``x[0]`` men inte ``x[0.5]``.\n",
    "\n",
    "I Python anges heltal med siffror utan decimalpunkt. 0 är alltså ett heltal, men 0.0 och 0.5 är så kallade flyttal. Tal med decimalpunkt kallas flyttal, eller *floats*, *floating point numbers* på engelska då detta avser att punkten \"flyter\" längs olika positioner i talet. \n",
    "\n",
    "Vi illustrerar med ett exempel. Antal anställda på GU låter vi vara 6499. Om vi dividerar det med två erhålls ett flyttal, som alltså antyder en halv människa på någon avdelning."
   ]
  },
  {
   "cell_type": "code",
   "execution_count": 11,
   "metadata": {},
   "outputs": [
    {
     "name": "stdout",
     "output_type": "stream",
     "text": [
      "3249.5\n"
     ]
    }
   ],
   "source": [
    "n_employees = 6499\n",
    "\n",
    "employees_wo_email = n_employees/2\n",
    "\n",
    "print(employees_wo_email)"
   ]
  },
  {
   "cell_type": "markdown",
   "metadata": {},
   "source": [
    "I Python finns dock så kallad heltalsdivision (``//``), som förkastar resten vid division:"
   ]
  },
  {
   "cell_type": "code",
   "execution_count": 12,
   "metadata": {},
   "outputs": [
    {
     "name": "stdout",
     "output_type": "stream",
     "text": [
      "3249\n"
     ]
    }
   ],
   "source": [
    "employees_wo_email = n_employees//2\n",
    "\n",
    "print(employees_wo_email)"
   ]
  },
  {
   "cell_type": "markdown",
   "metadata": {},
   "source": [
    "Att växla mellan heltal och flyttal är oftast smärtfritt, och görs med de inbyggda funktionerna ``int`` och ``float``, detta kallas att kasta:"
   ]
  },
  {
   "cell_type": "code",
   "execution_count": 13,
   "metadata": {},
   "outputs": [
    {
     "data": {
      "text/plain": [
       "5"
      ]
     },
     "execution_count": 13,
     "metadata": {},
     "output_type": "execute_result"
    }
   ],
   "source": [
    "int(5.0)"
   ]
  },
  {
   "cell_type": "code",
   "execution_count": 14,
   "metadata": {},
   "outputs": [
    {
     "data": {
      "text/plain": [
       "5.0"
      ]
     },
     "execution_count": 14,
     "metadata": {},
     "output_type": "execute_result"
    }
   ],
   "source": [
    "float(5)"
   ]
  },
  {
   "cell_type": "markdown",
   "metadata": {},
   "source": [
    "Man ska vara försiktig vid typkastning dock, eftersom det inte är väldefinierat att gå från flyttal till heltal. Detta är ett så kallat avrundningsproblem. I Python förkastas decimaldelen av talet när man går från flyttal till heltal."
   ]
  },
  {
   "cell_type": "code",
   "execution_count": 16,
   "metadata": {},
   "outputs": [
    {
     "data": {
      "text/plain": [
       "5"
      ]
     },
     "execution_count": 16,
     "metadata": {},
     "output_type": "execute_result"
    }
   ],
   "source": [
    "int(5.7)"
   ]
  },
  {
   "cell_type": "markdown",
   "metadata": {},
   "source": [
    "Vid aritmerik med numeriska typer sker i allmänhet automatisk typkastning. Det innebär allt som oftast att heltal konverteras till flyttal."
   ]
  },
  {
   "cell_type": "code",
   "execution_count": 1,
   "metadata": {},
   "outputs": [
    {
     "name": "stdout",
     "output_type": "stream",
     "text": [
      "18\n",
      "18.0\n"
     ]
    }
   ],
   "source": [
    "print(1+17)\n",
    "print(1+17.0)"
   ]
  },
  {
   "cell_type": "markdown",
   "metadata": {},
   "source": [
    "Om man är osäker på vilken typ en variabel har, kan man använda den inbyggda funktionen ``type``:"
   ]
  },
  {
   "cell_type": "code",
   "execution_count": 17,
   "metadata": {},
   "outputs": [
    {
     "name": "stdout",
     "output_type": "stream",
     "text": [
      "<class 'float'>\n",
      "<class 'int'>\n",
      "<class 'str'>\n"
     ]
    }
   ],
   "source": [
    "a = 5.2\n",
    "b = 6499\n",
    "c = \"Ida\"\n",
    "\n",
    "\n",
    "print(type(a))\n",
    "print(type(b))\n",
    "print(type(c))"
   ]
  },
  {
   "cell_type": "markdown",
   "metadata": {},
   "source": [
    "**Utmaning!**\n",
    "\n",
    "Fundera över olika situationer när heltal respektive flyttal lämpar sig bäst."
   ]
  },
  {
   "cell_type": "markdown",
   "metadata": {},
   "source": [
    "<div style=\"text-align: right\"><a href='#section0' align='left'>Tillbaka till början</a></div>\n",
    "<a id='section2'></a> \n",
    "\n",
    "### Sträng (string)\n",
    "Nästa grundläggande typ är strängen. Strängen är, som vi fick erfara i förra tillfället, en slags lista av karaktärer eller tecken. Strängar betecknas med citationstecken, och kan innehålla alla typer av karaktärer på tangentbordet.\n",
    "\n",
    "Variabler kan typkastas till strängar med hjälp av den inbyggda funktionen ``str``. Detta returnerar allt som oftast värdet av variabeln inneslutet i citationstecken. \n"
   ]
  },
  {
   "cell_type": "code",
   "execution_count": 6,
   "metadata": {},
   "outputs": [
    {
     "name": "stdout",
     "output_type": "stream",
     "text": [
      "<class 'str'>\n",
      "5 . 2\n"
     ]
    }
   ],
   "source": [
    "# Numerisk variabel\n",
    "a = 5.2\n",
    "\n",
    "a_as_string = str(a)\n",
    "\n",
    "# Vi kan kontrollera typen\n",
    "print(type(a_as_string))\n",
    "\n",
    "# Variabeln är indexerbar som en sträng\n",
    "print(a_as_string[0], a_as_string[1], a_as_string[2])"
   ]
  },
  {
   "cell_type": "markdown",
   "metadata": {},
   "source": [
    "Strängar har också stöd för grundläggande aritmetik med ``+``- och ``*``-operatorerna, men det har en helt annan effekt än för numeriska typer. Addition av strängar *konkatenerar* eller sammanfogar strängarna, medan multiplikation upprepar dem. Betrakta följande exempel:"
   ]
  },
  {
   "cell_type": "code",
   "execution_count": 12,
   "metadata": {},
   "outputs": [
    {
     "name": "stdout",
     "output_type": "stream",
     "text": [
      "Jag heterNikolajeff\n",
      "Jag heter Nikolajeff\n",
      "Jag heterJag heterJag heterJag heterJag heter\n",
      "Jag heter NikolajeffJag heter NikolajeffJag heter NikolajeffJag heter NikolajeffJag heter Nikolajeff\n"
     ]
    }
   ],
   "source": [
    "a = \"Jag heter\"\n",
    "\n",
    "# Sammanfogning med +\n",
    "print(a + \"Nikolajeff\")\n",
    "\n",
    "# Sammanfogning sker inte automatiskt med mellanslag. Mellanslag är en karaktär som måste läggas till\n",
    "print(a + \" \" + \"Nikolajeff\")\n",
    "\n",
    "# Upprepning av sträng\n",
    "print(a*5)\n",
    "print((a + \" \" + \"Nikolajeff\")*5)"
   ]
  },
  {
   "cell_type": "markdown",
   "metadata": {},
   "source": [
    "Vi observerar också att det är väsentlig skillnad att addera siffror och siffror som strängar:"
   ]
  },
  {
   "cell_type": "code",
   "execution_count": 30,
   "metadata": {},
   "outputs": [
    {
     "name": "stdout",
     "output_type": "stream",
     "text": [
      "6\n",
      "123\n"
     ]
    }
   ],
   "source": [
    "print(1 + 2 + 3)\n",
    "\n",
    "print(\"1\" + \"2\" + \"3\")"
   ]
  },
  {
   "cell_type": "markdown",
   "metadata": {},
   "source": [
    "Strängar är egentligen inte helt vanliga typer, utan har en hel del inbyggda funktioner, som man kommer åt med ``.``-notation. En full lista av funktioner finns [här](https://docs.python.org/2.5/lib/string-methods.html). Vi ska dock ta ett par användbara exempel. \n",
    "\n",
    "- ``.lower()``: Returnerar en kopia av hela strängen som små bokstäver (gemener)\n",
    "- ``.upper()``: Returnerar en kopia av hela strängen som stora bokstäver (versaler)\n",
    "- ``.count(substring)``: Räknar förekomsten av en strängdel i en annan\n",
    "- ``.find(substring)``: Söker och hittar index för en strängdel"
   ]
  },
  {
   "cell_type": "code",
   "execution_count": 13,
   "metadata": {},
   "outputs": [
    {
     "name": "stdout",
     "output_type": "stream",
     "text": [
      "jag heter nikolajeff\n",
      "JAG HETER NIKOLAJEFF\n"
     ]
    }
   ],
   "source": [
    "b = a + \" \" + \"Nikolajeff\"\n",
    "\n",
    "b_gemen = b.lower()\n",
    "b_versal = b.upper()\n",
    "\n",
    "print(b_gemen)\n",
    "print(b_versal)"
   ]
  },
  {
   "cell_type": "markdown",
   "metadata": {},
   "source": [
    "Vi kan titta vårt Boye-exempel från förra tillfället. Med ``.count()`` kan vi få enkel statistik på ordförekomst i texten. Detta förutsätter att delsträngen har exakt samma form det du söker."
   ]
  },
  {
   "cell_type": "code",
   "execution_count": 19,
   "metadata": {},
   "outputs": [
    {
     "name": "stdout",
     "output_type": "stream",
     "text": [
      "<class 'str'>\n",
      "vi är din skara som du svek herre förtrösta bjöd du och det blev värre ur ondskans dimmor steg ingen ljusning ur tordönet ingen sakta susning vi skalv i öknen övergivna med hårda bud i sten skrivna de blev oss bröd de blev oss vatten men kring vår fromhet teg natten vi drog längs vägarna gudsslagna budbärare i eld tvagna dom och soning så bjöd rösten och domen sannades men aldrig trösten vi sjöng i markerna i jubel vända mot nya stjärnor till tecken tända o dröm o hopp vad du flöt rikligt o löftens löfte så stort och svikligt en bön en enda återstår oss slå ännu hårdare du som slår oss vik samman rummet och släck tiden förgör allt och skapa friden hur länge än hur länge än hur länge än förinta oss förinta oss\n"
     ]
    }
   ],
   "source": [
    "from samples import boye_string\n",
    "\n",
    "# Kontrollera typen\n",
    "print(type(boye_string))\n",
    "\n",
    "print(boye_string)"
   ]
  },
  {
   "cell_type": "code",
   "execution_count": 23,
   "metadata": {},
   "outputs": [
    {
     "data": {
      "text/plain": [
       "6"
      ]
     },
     "execution_count": 23,
     "metadata": {},
     "output_type": "execute_result"
    }
   ],
   "source": [
    "# Vi beräknar förekomsten av \"och\" i texten\n",
    "boye_string.count(\"och\")"
   ]
  },
  {
   "cell_type": "markdown",
   "metadata": {},
   "source": [
    "Vi kan också använda den inbyggda funktionen ``.find(substring)`` för att hitta om en delsträng förekommer i texten, och returnera index av **första förekomsten**. Denna inbyggda funktionen kan alltså inte hitta alla förekomster. Obser"
   ]
  },
  {
   "cell_type": "code",
   "execution_count": 28,
   "metadata": {},
   "outputs": [
    {
     "name": "stdout",
     "output_type": "stream",
     "text": [
      "o\n"
     ]
    }
   ],
   "source": [
    "# Sökord kallas ibland \"query\"\n",
    "# Testa att söka själv efter olika strängar\n",
    "query = \"och\"\n",
    "\n",
    "index_for_first_appearance = boye_string.find(query)\n",
    "\n",
    "# Borde returnera första bokstaven i sökordet\n",
    "print(boye_string[index_for_first_appearance])"
   ]
  },
  {
   "cell_type": "markdown",
   "metadata": {},
   "source": [
    "**Utmaning!**\n",
    "1. Beräkna förekomsten av alla personliga pronomen i texten.\n",
    "2. Beräkna totala antalet ord. Tips: Hur relaterar ord till mellanslag?\n",
    "3. Beräkna procentandelen personliga pronomen i texten.\n"
   ]
  },
  {
   "cell_type": "code",
   "execution_count": null,
   "metadata": {},
   "outputs": [],
   "source": []
  },
  {
   "cell_type": "markdown",
   "metadata": {},
   "source": [
    "<div style=\"text-align: right\"><a href='#section0' align='left'>Tillbaka till början</a></div>\n",
    "<a id='section3'></a> \n",
    "\n",
    "### 2C. Booleaner (boolean)"
   ]
  },
  {
   "cell_type": "markdown",
   "metadata": {},
   "source": [
    "En väldigt smidig inbyggd funktion i strängar är ``.isalpha()`` som avgör **om** strängen endast består av alfabetiska tecken, eller **om** det också finns siffror och specialtecken. "
   ]
  },
  {
   "cell_type": "code",
   "execution_count": 32,
   "metadata": {},
   "outputs": [
    {
     "name": "stdout",
     "output_type": "stream",
     "text": [
      "True\n"
     ]
    }
   ],
   "source": [
    "alfabetet = \"abcdefghijklmnopqrstuvwxyz\"\n",
    "\n",
    "print(alfabetet.isalpha())"
   ]
  },
  {
   "cell_type": "code",
   "execution_count": 33,
   "metadata": {},
   "outputs": [
    {
     "name": "stdout",
     "output_type": "stream",
     "text": [
      "False\n"
     ]
    }
   ],
   "source": [
    "alfabetet_med_siffror = alfabetet + \"0123456789\" # Sammanfogar strängarna\n",
    "\n",
    "print(alfabetet_med_siffror.isalpha())"
   ]
  },
  {
   "cell_type": "markdown",
   "metadata": {},
   "source": [
    "Returvärdena från dessa funktioner är *antingen* sant eller falskt. Dessa två värden kallas booleaner (*bool*, *boolean*) som utgör den absolut viktigaste datatypen i programmering. Dessa används för villkorliga instruktioner, och är oerhört viktiga i många funktioner. Booleaner följer en speciell typ av aritmetik (som kallas [booleansk algebra](https://sv.wikipedia.org/wiki/Boolesk_algebra)). De kan ta värdena ``True`` och ``False`` som är nyckelord i Python. Man kan alltså inte döpa variabler till detta.\n",
    "\n",
    "Det vanligaste användningsområdet för booleaner är att testa likhet. Minns att det vardagliga likhetstecknet ``=`` i programmering används för tilldelning av variabler. Om vi vill testa om två variabler har samma värde, används ``==``. Vi kan också testa numeriska variabler om de är större, respektive mindre än varandra med operatorerna ``<, >``."
   ]
  },
  {
   "cell_type": "code",
   "execution_count": 37,
   "metadata": {},
   "outputs": [
    {
     "name": "stdout",
     "output_type": "stream",
     "text": [
      "x, y är lika:  False\n",
      "x är större än y:  False\n",
      "x är mindre än y:  True\n"
     ]
    }
   ],
   "source": [
    "x = 40000000 # Fyra miljoner\n",
    "y = 40000000000000 # Fyrtio tusen miljarder svenska kronor\n",
    "\n",
    "# Vi testar om dessa är lika\n",
    "print(\"x, y är lika: \", x == y)\n",
    "\n",
    "# Vi testar om x är större än y\n",
    "print(\"x är större än y: \", x > y)\n",
    "\n",
    "# Vi testar om x är mindre än y\n",
    "print(\"x är mindre än y: \", x < y)\n"
   ]
  },
  {
   "cell_type": "code",
   "execution_count": 42,
   "metadata": {},
   "outputs": [
    {
     "name": "stdout",
     "output_type": "stream",
     "text": [
      "False\n",
      "True\n"
     ]
    }
   ],
   "source": [
    "# Vi kan också testa likhet hos strängar\n",
    "a = \"ost\"\n",
    "b = \"Ost\"\n",
    "c = \"chèvre\"\n",
    "d = \"ost\"\n",
    "\n",
    "# Observera då att gemener och versaler är olika karaktärer\n",
    "print(a == b)\n",
    "\n",
    "print(a == d)"
   ]
  },
  {
   "cell_type": "markdown",
   "metadata": {},
   "source": [
    "**Utmaning!**"
   ]
  },
  {
   "cell_type": "code",
   "execution_count": null,
   "metadata": {},
   "outputs": [],
   "source": [
    "y = 157/12\n",
    "\n",
    "# undersök om y är större än 13\n",
    "\n",
    "\n",
    "# undersök om y*3 är lika med 100\n",
    "\n"
   ]
  },
  {
   "cell_type": "markdown",
   "metadata": {},
   "source": [
    "### If-satser\n",
    "Användningen av booleaner kommer till sin rätta med betingade uttryck, eller så kallade ``if-satser`` (*if-statements*). Dessa uttryck har liknande syntax som funktionsdefinitioner, och används för att köra kod på villkor att något är sant."
   ]
  },
  {
   "cell_type": "code",
   "execution_count": 44,
   "metadata": {},
   "outputs": [
    {
     "name": "stdout",
     "output_type": "stream",
     "text": [
      "Allt i första uttrycket körs\n"
     ]
    }
   ],
   "source": [
    "if 54 > 10:\n",
    "    print(\"Allt i första uttrycket körs\")\n",
    "    \n",
    "if 54 < 10:\n",
    "    print(\"Men det här uttrycket körs inte\")"
   ]
  },
  {
   "cell_type": "markdown",
   "metadata": {},
   "source": [
    "Observera att liksom i funktionsdefinitioner är indraget obligatoriskt. Om det *booleanska uttrycket* gäller kommer allt i indraget att köras. Eftersom de booleanska uttrycken alltid returnerar sant eller falskt, kan man reducera ner alla if-satser till"
   ]
  },
  {
   "cell_type": "code",
   "execution_count": 45,
   "metadata": {},
   "outputs": [
    {
     "name": "stdout",
     "output_type": "stream",
     "text": [
      "Om booleanen är sann körs uttrycken.\n"
     ]
    }
   ],
   "source": [
    "if True:\n",
    "    print(\"Om booleanen är sann körs uttrycken.\")\n",
    "\n",
    "if False:\n",
    "    print(\"Om booleanen är falsk körs uttrycken inte.\")"
   ]
  },
  {
   "cell_type": "markdown",
   "metadata": {},
   "source": [
    "Det är vanligt att man behöver sammansatta booleanska uttryck. Det är här booleanska algebran kommer in. Det finns ett antal booleanska operatorer med ganska transparenta namn:\n",
    "\n",
    "- ``X and Y``: returnerar sant om **både** X och Y är sanna, annars falskt\n",
    "- ``X or Y``: returnerar sant om **någon** av X och Y är sanna, annars falskt\n",
    "\n",
    "Man brukar för att undvika misstag använda parenteser för X, Y."
   ]
  },
  {
   "cell_type": "code",
   "execution_count": 5,
   "metadata": {},
   "outputs": [
    {
     "name": "stdout",
     "output_type": "stream",
     "text": [
      "Båda uttryck är sanna.\n",
      "Något uttryck är sant. Vilket?\n"
     ]
    }
   ],
   "source": [
    "if (6 > 5) and (8/2 == 4):\n",
    "    print(\"Båda uttryck är sanna.\")\n",
    "    \n",
    "if (\"ost\" == \"Ost\") or (13*4 > 4):\n",
    "    print(\"Något uttryck är sant. Vilket?\")\n",
    "    \n",
    "if (1 > 2) and (2 > 3):\n",
    "    print(\"Här är inget uttryck sant, så det skrivs inte ut.\")"
   ]
  },
  {
   "cell_type": "markdown",
   "metadata": {},
   "source": [
    "Vi betraktar nu fallet att värdet på en variabel är okänt, och vi vill göra olika saker beroende på dess värde. Ett exempelvis är en bil som visar olika varningar beroende på bränslenivån. Vi introducerar också nyckelordet ``pass`` som bokstavligt talat säger till tolkaren att hoppa över den raden."
   ]
  },
  {
   "cell_type": "code",
   "execution_count": 1,
   "metadata": {},
   "outputs": [
    {
     "name": "stdout",
     "output_type": "stream",
     "text": [
      "Orange varning. Du borde tanka snarast.\n",
      "Gul varning. Du har förbrukat en del bränsle. Dags att tanka.\n"
     ]
    }
   ],
   "source": [
    "from samples import fuel_level\n",
    "\n",
    "if fuel_level == 0: \n",
    "    print(\"Röd varning! Du har väldigt lite bränsle!\")\n",
    "\n",
    "if fuel_level < 15:\n",
    "    print(\"Orange varning. Du borde tanka snarast.\")\n",
    "    \n",
    "if fuel_level < 30:\n",
    "    print(\"Gul varning. Du har förbrukat en del bränsle. Dags att tanka.\")\n",
    "    \n",
    "if fuel_level > 30:\n",
    "    pass"
   ]
  },
  {
   "cell_type": "markdown",
   "metadata": {},
   "source": [
    "Aj då. Två varningar är ju inte hjälpsamt. Nu vet vi att värdet är mellan 5 och 15, men vi vill ju bara ha en varning. Nu körs alla if-satser, men om en av dem exekverat behöver ju resten inte köras. Därför används ofta \"if-else if-else\" satser:"
   ]
  },
  {
   "cell_type": "code",
   "execution_count": 2,
   "metadata": {},
   "outputs": [
    {
     "name": "stdout",
     "output_type": "stream",
     "text": [
      "Orange varning. Du borde tanka snarast.\n"
     ]
    }
   ],
   "source": [
    "if fuel_level < 5: \n",
    "    print(\"Röd varning! Du har väldigt lite bränsle!\")\n",
    "\n",
    "elif fuel_level < 15:\n",
    "    print(\"Orange varning. Du borde tanka snarast.\")\n",
    "    \n",
    "elif fuel_level < 30:\n",
    "    print(\"Gul varning. Du har förbrukat en del bränsle. Dags att tanka.\")\n",
    "    \n",
    "elif fuel_level > 30:\n",
    "    pass"
   ]
  },
  {
   "cell_type": "markdown",
   "metadata": {},
   "source": [
    "``elif`` eller \"else-if\" körs i ordning efter första if-satsen, och endast en sats exekveras. Om det booleanska uttrycket är falskt går det vidare till nästa ``elif`` tills någon är sann eller satserna är slut. Man kan göra villkoren lite säkrare genom att introducera \"else\", som alltid körs sist:"
   ]
  },
  {
   "cell_type": "code",
   "execution_count": 7,
   "metadata": {},
   "outputs": [
    {
     "name": "stdout",
     "output_type": "stream",
     "text": [
      "Bränslenivån måste vara ett positivt tal.\n"
     ]
    }
   ],
   "source": [
    "fuel_level = -10\n",
    "\n",
    "if (fuel_level > 0) and (fuel_level < 10): \n",
    "    print(\"Röd varning! Du har väldigt lite bränsle!\")\n",
    "\n",
    "elif (fuel_level > 0) and (fuel_level < 15):\n",
    "    print(\"Orange varning. Du borde tanka snarast.\")\n",
    "    \n",
    "elif (fuel_level > 0) and (fuel_level < 30):\n",
    "    print(\"Gul varning. Du har förbrukat en del bränsle. Dags att tanka.\")\n",
    "    \n",
    "elif (fuel_level > 0) and (fuel_level > 30):\n",
    "    pass\n",
    "\n",
    "else:\n",
    "    print(\"Bränslenivån måste vara ett positivt tal.\")"
   ]
  },
  {
   "cell_type": "markdown",
   "metadata": {},
   "source": [
    "**Utmaning!**\n",
    "\n",
    "Beräkna antalet \"vi\" i Boye-texten.\n",
    "\n",
    "Skriv en if-sats som printar texten\n",
    "\n",
    "- \"Det finns inga 'vi' i texten\" om det inte finns några\n",
    "- \"Det är väldigt få 'vi' i texten\" om det är färre än 2\n",
    "- \"Det är fler än jag orkar räkna\" annars.\n"
   ]
  },
  {
   "cell_type": "code",
   "execution_count": 10,
   "metadata": {},
   "outputs": [],
   "source": [
    "from samples import boye_string\n",
    "\n",
    "# Skriv uppgiften här"
   ]
  },
  {
   "cell_type": "markdown",
   "metadata": {},
   "source": [
    "### Loopar\n",
    "Att upprepa kod kallas för att iterera. En upprepning kallas för en iteration eller en loop.\n",
    "Det finns olika strukturer i Python för iteration, for-satser och while-satser. \n",
    "\n",
    "for-satser lämpar sig om du vet hur många gånger du vill iterera, till exempel om du vill gå igenom\n",
    "alla element i till exempel en lista. I while-satser kommer iterationen fortsätta så länge det boleanska uttrycket\n",
    "är sant ex. while x<100 (forstätt iterera medans x är lägre än 100).\n"
   ]
  },
  {
   "cell_type": "markdown",
   "metadata": {},
   "source": [
    "<div style=\"text-align: right\"><a href='#section0' align='left'>Tillbaka till början</a></div>\n",
    "<a id='section3'></a> \n",
    "\n",
    "### 3A. for-loopar\n",
    "\n",
    "Det lättaste sättet att förstå hur loopar fungerar är att se olika exempel. Nedan följer ett första exempel på en \n",
    "lista med namn på frukter. \n",
    "    \n",
    "<code>lista_med_frukt=['äpple', 'päron', 'apelsin']\n",
    "for frukt in lista_med_frukt:\n",
    "    print(frukt)</code>\n",
    "    \n",
    "Fundera på vad som kommer att hända när du själv provar att köra den här loopen i nästa cell. "
   ]
  },
  {
   "cell_type": "code",
   "execution_count": null,
   "metadata": {},
   "outputs": [],
   "source": [
    "\n"
   ]
  },
  {
   "cell_type": "markdown",
   "metadata": {},
   "source": [
    "Läser vi ut vad det är som händer i loopen är det \"för varje frukt i listan med frukt, skriv frukt\". \n",
    "Notera att följande kommer att ge precis samma resultat:\n",
    "    \n",
    "``\n",
    "for x in lista_med_frukt:\n",
    "    print(x)\n",
    "``\n",
    "    \n",
    "Det går också att loopa över en sträng. Fundera på vad följande loop kommer att göra, och prova genom att skriva loopen \n",
    "i nästa cell.\n",
    "\n",
    "\n",
    "``\n",
    "min_sträng='Det är soligt i malmö idag'\n",
    "for x in min_sträng:\n",
    "    print(x)\n",
    "``\n",
    "    \n",
    "    \n",
    "    "
   ]
  },
  {
   "cell_type": "code",
   "execution_count": null,
   "metadata": {},
   "outputs": [],
   "source": [
    "\n"
   ]
  },
  {
   "cell_type": "markdown",
   "metadata": {},
   "source": [
    "Notera att även mellanrummen skrivs ut. Vad som sker är:\n",
    "    \n",
    "<code>print('D')\n",
    "print('e')\n",
    "print('t')\n",
    "print(' ')\n",
    "print('ä')\n",
    "print('r')</code>\n",
    "\n",
    "och så vidare...\n",
    "\n",
    "Vi kan göra något med varje element i listan vi itererar igenom. I följande exemepl så skrivs det ut ett utropstecken\n",
    "efter varje karaktär. \n",
    "\n",
    "<code>for x in min_sträng:\n",
    "    print(x +'!')</code>\n",
    "\n",
    "Betyder det att min_sträng ('Det är soligt i Malmö idag') numera har utropstecken efter varje karaktär? \n",
    "Om du känner dig osäker kan du undersöka det i nästa cell. "
   ]
  },
  {
   "cell_type": "code",
   "execution_count": null,
   "metadata": {},
   "outputs": [],
   "source": [
    "\n"
   ]
  },
  {
   "cell_type": "markdown",
   "metadata": {},
   "source": [
    "För att börja fundera på mer användbara exempel på att använda loopar så kan vi tänka oss en lista med\n",
    "nummer, och att vi vill skapa en ny lista där varje nummer i listan har blivit uppdaterad på samma sätt:\n",
    "    \n",
    "<code>lista_med_nummer=[1,2,3,4]\n",
    "ny_lista_med_uppdaterade_nummer=[]\n",
    "for nummer in lista_med_nummer:\n",
    "    nytt_nummer=nummer*nummer\n",
    "    ny_lista_med_uppdaterade_nummer.append(nytt_nummer)</code>\n",
    "    \n",
    "Fundera på vad som händer i varje steg av loopen. Kör loopen i nästa cell och avsluta med att undersöka hur den \n",
    "nya listan ser ut (<code>print(ny_lista_med_uppdaterade_nummer)</code> efter loopen)\n",
    "\n",
    "    "
   ]
  },
  {
   "cell_type": "code",
   "execution_count": null,
   "metadata": {},
   "outputs": [],
   "source": [
    "\n"
   ]
  },
  {
   "cell_type": "markdown",
   "metadata": {},
   "source": [
    "Vad händer om du skriver <code>print(ny_lista_med_uppdaterade_nummer)</code> i loopen efter \n",
    "<code>ny_lista_med_uppdaterade_nummer.append(nytt_nummer)</code>? \n",
    "Testa i nästa cell och fundera på varför!"
   ]
  },
  {
   "cell_type": "code",
   "execution_count": null,
   "metadata": {},
   "outputs": [],
   "source": []
  },
  {
   "cell_type": "markdown",
   "metadata": {},
   "source": [
    "**Utmaning!**\n",
    "\n",
    "Du har blivit ombedd att räkna på hur mycket det skulle kosta Göteborgs Universitet att ge alla anställda \n",
    "anställda på LIR en bonus på 5% av sin månadslön. Du har fått en lista på alla löner (se nedan). \n",
    "Beräkna den totala månatliga kostnaden för denna ökning. \n",
    "\n",
    "Kör nästa cell för att skapa variablet \"löner\" som är en lista på alla löner som hämtas från en fil \n",
    "(se detaljer i kommentarerna). \n",
    "\n",
    "Är det svårt att lösa uppgiften kan du visa förslagsvis\n",
    "en ledtråd i taget genom att ta bort \"#\" framför till exempel \"Utmaning_löner.ledtråd1()\". För den som är snabb\n",
    "finns det även bonusfrågor i cellen med ledtrådarna. \n",
    "\n",
    "Känns det för svårt kan du gå tillbaka till de tidigare övningarna och försöka skriva fler egna varianter. "
   ]
  },
  {
   "cell_type": "code",
   "execution_count": null,
   "metadata": {},
   "outputs": [],
   "source": [
    "# vad som händer här är att vi importerar en lista (löner) som finns i en python fil (samples) som\n",
    "# också är uppladdat till den här JupyterHubben. Du kan hitta den bland filerna, öppna det, också kanske \n",
    "# lägga till en lön om du till exempel får en ny medarbetare. \n",
    "from samples import löner\n",
    "print(löner)"
   ]
  },
  {
   "cell_type": "code",
   "execution_count": null,
   "metadata": {},
   "outputs": [],
   "source": [
    "# \"ledtrådar\" är ytterligare en python fil som är uppladdad till JupyterHubben. \n",
    "# där finns det en \"class\" som heter Utmaning_löner som i sin tur har fuktionerna ledtråd1, ledtråd2, ledtråd3 och lösning\n",
    "from ledtrådar import Utmaning_löner\n",
    "\n",
    "#ta bort \"#\" en i taget om det behövs.\n",
    "#Utmaning_löner.ledtråd1()\n",
    "#Utmaning_löner.ledtråd2()\n",
    "#Utmaning_löner.ledtråd3()\n",
    "\n",
    "# För lösning, ta bort den här kommentaren också (du måste fortfarande skriva av lösningen själv):\n",
    "#Utmaning_löner.lösning()\n",
    "\n",
    "\n",
    "#bonusfrågor:\n",
    "#vad är medellönen?\n",
    "\n",
    "\n",
    "#vad är medianlönen?\n",
    "\n",
    "\n",
    "#vad är lägsta lönen?\n",
    "\n",
    "\n",
    "#vad är högsta lönen?\n",
    "\n",
    "#vad är den totala kostnaden om endast de som tjänar över 40000 får 5% bonus?\n",
    "#Utmaning_löner.ledtråd4()"
   ]
  },
  {
   "cell_type": "markdown",
   "metadata": {},
   "source": [
    "<div style=\"text-align: right\"><a href='#section0' align='left'>Tillbaka till början</a></div>\n",
    "<a id='section4'></a> \n",
    "\n",
    "### 3B. while-loopar\n",
    "\n",
    "I en while-loop håller alltså iterationen på så länge det boleanska uttrycket är sant (True).\n",
    "Här är ett exempel på en loop som håller på så länge x<10 (x är mindre än 10).\n",
    "\n",
    "<code>x=1\n",
    "while x&lt;10:\n",
    "    print(x)\n",
    "    x=x+1</code>\n",
    "    \n",
    "Notera att variablet i det boleakska uttrycket (x) måste ändras så att uttrycket efter ett antal iterationer blir falskt. \n",
    "I det här fallet läggs 1 till variablet (x=x+1) i varje loop. x har definierats innan loopen startar som x=1.\n",
    "\n",
    "Fundera på vad du kommer att hända när du kör loopen och vad variablet x kommer vara när loopen är färdig. Se om \n",
    "du hade rätt genom att testa i nästa cell.\n"
   ]
  },
  {
   "cell_type": "code",
   "execution_count": null,
   "metadata": {},
   "outputs": [],
   "source": [
    "\n"
   ]
  },
  {
   "cell_type": "code",
   "execution_count": null,
   "metadata": {},
   "outputs": [],
   "source": [
    "Varför är inte x=9?\n",
    "Iterationen kommer att köra nio gånger, sista gången när x=9. Det som sker när x=9 är:\n",
    "\n",
    "print(9)\n",
    "x=9+1\n",
    "\n",
    "Vad händer om du ändrar så att du lägger till 2 i varje iteration (x=x+2)? Prova i nästa cell! \n"
   ]
  },
  {
   "cell_type": "code",
   "execution_count": null,
   "metadata": {},
   "outputs": [],
   "source": [
    "\n"
   ]
  },
  {
   "cell_type": "code",
   "execution_count": null,
   "metadata": {},
   "outputs": [],
   "source": [
    "Fundera på när du skulle kunna använda en while-loop. Om du har tid, experimentera i nästa cell! "
   ]
  },
  {
   "cell_type": "code",
   "execution_count": null,
   "metadata": {},
   "outputs": [],
   "source": [
    "\n"
   ]
  },
  {
   "cell_type": "markdown",
   "metadata": {},
   "source": [
    "<div style=\"text-align: right\"><a href='#section0' align='left'>Tillbaka till början</a></div>\n",
    "<a id='section5'></a> \n",
    "\n",
    "### 3C. Att använda if-satser i loopar\n",
    "\n",
    "if-satser innebär att den delen av koden som kommer efter bara utförs om (if) det boleanska uttrycket stämmer \n",
    "är sant (True). \n",
    "\n",
    "När man till exempel itererar över en lista och man har en if-sats så kan det se ut såhär:\n",
    "\n",
    "<code>lista_med_namn=['Jens', 'Eva', 'Gustav', 'Vilma', 'Sonja', 'Karl']\n",
    "for namn in lista_med_namn:\n",
    "    if namn=='Gustav':\n",
    "        print('Gustav finns i listan!')</code>\n",
    "        \n",
    "Fundera på vad som kommer hända när man kör koden. Fundera också på vad som kommer hända om du bytt ut \n",
    "<code>if namn=='Gustav':</code> mot <code>if namn=='Julia':</code>\n",
    "        \n",
    "Testa i nästa cell och se om du har rätt!"
   ]
  },
  {
   "cell_type": "code",
   "execution_count": null,
   "metadata": {},
   "outputs": [],
   "source": [
    "\n"
   ]
  },
  {
   "cell_type": "markdown",
   "metadata": {},
   "source": [
    "Vi kan också använda inbyggda funktioner i våra if-satser. Fundera på vad följande kod gör innan du provar i nästa cell:\n",
    "\n",
    "<code>for namn in lista_med_namn:\n",
    "    if len(namn)&gt;4:\n",
    "        print(namn)</code>\n",
    "        \n",
    "        "
   ]
  },
  {
   "cell_type": "code",
   "execution_count": null,
   "metadata": {},
   "outputs": [],
   "source": [
    "\n"
   ]
  },
  {
   "cell_type": "markdown",
   "metadata": {},
   "source": [
    "**Utmaning!**\n",
    "\n",
    "Barnnamn.net har rankat de 99 mest populära namnen på barn för killar respektiver tjejer för 2014.\n",
    "Vi är intresserade av följande:\n",
    "\n",
    "Är något av killnamnen dubbelnamn? I så fall, hur många? Svara på samma gällande tjejnamnen. \n",
    "\n",
    "Det finns ledtrådar som du kan öppna en och en cellen två celler ner. \n",
    "\n",
    "Data importeras från samples i nästa cell. \n",
    "\n",
    "Bonusfrågor:\n",
    "    \n",
    "Är de mest populära namnen på tjejerna längre än de mest populära namnen för killarna?\n",
    "\n",
    "Namnen är i ordningen mest populära till 99e mest populära. Vilket var det mest populära kill-\n",
    "respektive tjejnamnet?\n",
    "\n"
   ]
  },
  {
   "cell_type": "code",
   "execution_count": null,
   "metadata": {},
   "outputs": [],
   "source": [
    "from samples import mest_populära_killnamn_2014, mest_populära_tjejnamn_2014"
   ]
  },
  {
   "cell_type": "code",
   "execution_count": 2,
   "metadata": {},
   "outputs": [],
   "source": [
    "from ledtrådar import Utmaning_namn\n",
    "\n",
    "#Utmaning_namn.ledtråd1()\n",
    "#Utmaning_namn.ledtråd2()\n",
    "#Utmaning_namn.lösning()"
   ]
  },
  {
   "cell_type": "markdown",
   "metadata": {},
   "source": [
    "### Att läsa data från Excel"
   ]
  },
  {
   "cell_type": "code",
   "execution_count": null,
   "metadata": {},
   "outputs": [],
   "source": [
    "import pandas as pd\n",
    "import xlrd\n",
    "löner_2=pd.read_excel('löner.xlsx', index_col=0) \n",
    "\n",
    "print(löner_2)"
   ]
  },
  {
   "cell_type": "code",
   "execution_count": null,
   "metadata": {},
   "outputs": [],
   "source": [
    "#importera modul så vi kan hantera Excel-data\n",
    "\n",
    "\n",
    "löner_excel= 'löner.xlsx'\n",
    "löner_excel = xlrd.open_workbook(löner_excel)\n",
    "löner_excel = löner_excel.sheet_by_name('Blad1')\n",
    "\n",
    "num_cols = löner_excel.ncols\n",
    "\n",
    "print(num_cols)\n",
    "\n",
    "löner_från_fil=[]\n",
    "\n",
    "#range är en fukntion vi inte använt tidigare.\n",
    "for kolumn in range(num_cols):\n",
    "    \n",
    "    #namn i första raden (0)\n",
    "    print(löner_excel.cell_value(0, kolumn))\n",
    "    \n",
    "    #lön i andra raden\n",
    "    print(löner_excel.cell_value(1, kolumn))\n",
    "    \n",
    "    löner_från_fil.append(löner_excel.cell_value(1, kolumn))\n",
    "    \n",
    "print(löner_från_fil)\n",
    "\n",
    "#löner_excel.cell_value(curr_row, 1)"
   ]
  }
 ],
 "metadata": {
  "kernelspec": {
   "display_name": "Python 3",
   "language": "python",
   "name": "python3"
  },
  "language_info": {
   "codemirror_mode": {
    "name": "ipython",
    "version": 3
   },
   "file_extension": ".py",
   "mimetype": "text/x-python",
   "name": "python",
   "nbconvert_exporter": "python",
   "pygments_lexer": "ipython3",
   "version": "3.8.3"
  }
 },
 "nbformat": 4,
 "nbformat_minor": 4
}
