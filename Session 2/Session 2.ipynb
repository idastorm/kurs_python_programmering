{
 "cells": [
  {
   "cell_type": "code",
   "execution_count": null,
   "metadata": {},
   "outputs": [],
   "source": []
  },
  {
   "cell_type": "code",
   "execution_count": null,
   "metadata": {},
   "outputs": [],
   "source": []
  },
  {
   "cell_type": "code",
   "execution_count": null,
   "metadata": {},
   "outputs": [],
   "source": []
  },
  {
   "cell_type": "code",
   "execution_count": null,
   "metadata": {},
   "outputs": [],
   "source": []
  },
  {
   "cell_type": "markdown",
   "metadata": {},
   "source": [
    "### Att använda if-satser i loopar"
   ]
  },
  {
   "cell_type": "code",
   "execution_count": null,
   "metadata": {},
   "outputs": [],
   "source": [
    "for name in en_lista_med_text:\n",
    "    if name=='Vilma':\n",
    "        print('Vilma finns i listan!')\n",
    "\n",
    "#\"Vilma eller Kalle har hittats\" kommer att skrivas två gånger - en gång när \"loopen hamnar på\" Vilma och en gång på Kalle\n",
    "#notera \"or\" som kollar är det här namnet Vilma ELLER Kalle. \n",
    "for name in en_lista_med_text:\n",
    "    if name=='Vilma' or name=='Kalle':\n",
    "        print('Vilma eller Kalle har hittats')\n",
    "        \n",
    "#Inte Vilma kommer att skrivas en gång för varje namn som inte är Vilma\n",
    "for name in en_lista_med_text:\n",
    "    if name != 'Vilma':\n",
    "        print('Inte Vilma')\n",
    "    \n",
    "#undersök vilka namn i listan som är längre än fyra karaktärer\n",
    "for name in en_lista_med_text:   \n",
    "    if len(name)>4:\n",
    "        print('namn i listan längre än fyra karaktärer:', name)\n",
    "        \n",
    "    else:\n",
    "        print('namn i listan som är fyra karaktärer eller kortare:', name)"
   ]
  },
  {
   "cell_type": "markdown",
   "metadata": {},
   "source": [
    "### Att läsa data från Excel"
   ]
  },
  {
   "cell_type": "code",
   "execution_count": null,
   "metadata": {},
   "outputs": [],
   "source": [
    "import pandas as pd\n",
    "import xlrd\n",
    "löner_2=pd.read_excel('löner.xlsx', index_col=0) \n",
    "\n",
    "print(löner_2)"
   ]
  },
  {
   "cell_type": "code",
   "execution_count": null,
   "metadata": {},
   "outputs": [],
   "source": [
    "#importera modul så vi kan hantera Excel-data\n",
    "\n",
    "\n",
    "löner_excel= 'löner.xlsx'\n",
    "löner_excel = xlrd.open_workbook(löner_excel)\n",
    "löner_excel = löner_excel.sheet_by_name('Blad1')\n",
    "\n",
    "num_cols = löner_excel.ncols\n",
    "\n",
    "print(num_cols)\n",
    "\n",
    "löner_från_fil=[]\n",
    "\n",
    "#range är en fukntion vi inte använt tidigare.\n",
    "for kolumn in range(num_cols):\n",
    "    \n",
    "    #namn i första raden (0)\n",
    "    print(löner_excel.cell_value(0, kolumn))\n",
    "    \n",
    "    #lön i andra raden\n",
    "    print(löner_excel.cell_value(1, kolumn))\n",
    "    \n",
    "    löner_från_fil.append(löner_excel.cell_value(1, kolumn))\n",
    "    \n",
    "print(löner_från_fil)\n",
    "\n",
    "#löner_excel.cell_value(curr_row, 1)"
   ]
  }
 ],
 "metadata": {
  "kernelspec": {
   "display_name": "Python 3.8.3 64-bit",
   "language": "python",
   "name": "python38364bitc07ce002ff1d424798a183d93faa705c"
  },
  "language_info": {
   "codemirror_mode": {
    "name": "ipython",
    "version": 3
   },
   "file_extension": ".py",
   "mimetype": "text/x-python",
   "name": "python",
   "nbconvert_exporter": "python",
   "pygments_lexer": "ipython3",
   "version": "3.8.3"
  }
 },
 "nbformat": 4,
 "nbformat_minor": 4
}
