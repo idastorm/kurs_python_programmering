{
 "cells": [
  {
   "cell_type": "markdown",
   "metadata": {},
   "source": [
    "### Klasser och objekt\n",
    "\n",
    "Vid flera tillfällen har vi använt oss av listor, som har haft så kallade *medlemsfunktioner*, funktioner inbyggda i variablerna som man kallar med ``.``-notation. Exempelvis\n",
    "\n",
    "``\n",
    "byzantine_emperors = [\"Konstans\", \"Justinius\", \"Irene\", \"Basileios II\"]\n",
    "byzantine_emperors.pop()               \n",
    "byzantine_emperors.append(\"Theodora\")  \n",
    "``\n",
    "\n",
    "som ju tar bort sista elementet (\"Basileios II\") och sedan lägger till \"Theodora\" i slutet. \n",
    "\n",
    "Inte alla variabler har den här typen av interna funktioner. Listor är exempel på så kallade *objekt* i Python. Objekt är användardesignade datatyper (se förra föreläsningen). De är sammansatta typer, som kan innehålla både andra variabler och hela funktioner.\n",
    "\n",
    "\n",
    "Objekt är en viktig del i så kallad objekt-orienterad programmering. Det är dock så fundamentalt att det är i princip omöjligt att täcka i en så här liten kurs. Vi ger en liten överblick för att ni skall kunna använda dem.\n",
    "\n",
    "#### Vad är en klass?\n",
    "Enklast uttryckt är en klass en mall för behållare. Behållarna är objekt, som kan innehålla egna variabler och funktioner.\n",
    "Klassen definierar vilka typer av funktioner och variabler de får innehålla.\n",
    "\n",
    "Klasser är ritningar för hur objekt skall skapas. I Python skrivs de exempelvis så här:"
   ]
  },
  {
   "cell_type": "code",
   "execution_count": 17,
   "metadata": {},
   "outputs": [],
   "source": [
    "class Car:\n",
    "    \n",
    "    wheels = 4\n",
    "    doors  = 4"
   ]
  },
  {
   "cell_type": "markdown",
   "metadata": {},
   "source": [
    "``wheels`` och ``doors`` är klassvariabler. Det är egenskaper som alla bilar av vår typ delar. Det blir som en behållare för våra hjul- och dörr-variabler. Man kan skapa en *instans* av klassen och komma åt klassvariablerna med ``.``-notation:"
   ]
  },
  {
   "cell_type": "code",
   "execution_count": 18,
   "metadata": {},
   "outputs": [
    {
     "name": "stdout",
     "output_type": "stream",
     "text": [
      "4\n"
     ]
    }
   ],
   "source": [
    "my_car = Car\n",
    "print(my_car.wheels)"
   ]
  },
  {
   "cell_type": "markdown",
   "metadata": {},
   "source": [
    "En annan bil kommer ha exakt samma egenskaper, även om vi skapar en ny variabel:"
   ]
  },
  {
   "cell_type": "code",
   "execution_count": 19,
   "metadata": {},
   "outputs": [
    {
     "name": "stdout",
     "output_type": "stream",
     "text": [
      "4\n"
     ]
    }
   ],
   "source": [
    "your_car = Car\n",
    "print(your_car.wheels)"
   ]
  },
  {
   "cell_type": "markdown",
   "metadata": {},
   "source": [
    "#### Vad är ett objekt?\n",
    "Ett objekt är en så kallad *instans* av en klass. Objekt förhåller sig till klasser så som hus förhåller sig till ritningar. Objekt kan innehålla attribut (e.g. antal dörrar i ett hus, antal våningar) men också funktioner (hus.öppna_dörr, hus.stäng_dörr). "
   ]
  },
  {
   "cell_type": "markdown",
   "metadata": {},
   "source": [
    "Problemet är att vår bil-mall är väldigt oflexibel. De kan ha olika märken, färg, acceleration och liknande. Men i grunden kräver vi att de måste ha 4 hjul och 4 dörrar. Om vi vill kunna skapa lite mer olika bilar, måste vi skriva som följer:"
   ]
  },
  {
   "cell_type": "code",
   "execution_count": 20,
   "metadata": {},
   "outputs": [],
   "source": [
    "class Car:\n",
    "    \n",
    "    wheels = 4\n",
    "    doors  = 4\n",
    "    \n",
    "    def __init__(self, brand, colour, acceleration):\n",
    "        \n",
    "        self.brand_of_car = brand\n",
    "        self.colour_of_car = colour\n",
    "        self.acceleration_of_car = acceleration\n",
    "        "
   ]
  },
  {
   "cell_type": "markdown",
   "metadata": {},
   "source": [
    "``__init__(self, brand, colour, acceleration)`` är en *konstruktionsfunktion* som används för att skapa objekt med attribut som inte delas av alla objekt. Argumenten ``brand, colour, acceleration`` används när man skapar objektet för att bestämma egenskaperna. Det första argumentet, ``self``, används internt av Python för att egenskaperna ska sättas för endast denna instansen av objektet, och inte något annat."
   ]
  },
  {
   "cell_type": "code",
   "execution_count": 22,
   "metadata": {},
   "outputs": [],
   "source": [
    "# Man kallar på __init__ funktionen automatiskt när man konstruerar klassen.\n",
    "# Vi kan namnge argumenten om vi vill\n",
    "my_car = Car(brand=\"BMW\", colour=\"green\", acceleration=15)\n",
    "\n",
    "# Vi behöver inte namnge argumenten om vi vet ordningen\n",
    "your_car = Car(\"Volvo\", \"black\", 120)"
   ]
  },
  {
   "cell_type": "markdown",
   "metadata": {},
   "source": [
    "Observera att dessa två variabler tillhör samma *klass* men är två olika *objekt*. De har alltså samma antal hjul och dörrar, men andra instansattribut:"
   ]
  },
  {
   "cell_type": "code",
   "execution_count": 26,
   "metadata": {},
   "outputs": [
    {
     "name": "stdout",
     "output_type": "stream",
     "text": [
      "Number of wheels of my car: 4\n",
      "Number of wheels of your car: 4\n",
      "-----------------------------\n",
      "Brand of my car:  BMW\n",
      "Brand of your car:  Volvo\n"
     ]
    }
   ],
   "source": [
    "print(\"Number of wheels of my car:\", my_car.wheels)\n",
    "print(\"Number of wheels of your car:\", your_car.wheels)\n",
    "print(\"-----------------------------\")\n",
    "print(\"Brand of my car: \", my_car.brand_of_car)\n",
    "print(\"Brand of your car: \", your_car.brand_of_car)"
   ]
  },
  {
   "cell_type": "markdown",
   "metadata": {},
   "source": [
    "Klasser kan också definiera medlemsfunktioner för objekten, som i sin tur modifierar attributen. Bilar har ju i allmänhet inte samma hastighet vid samma tidpunkt, så vi låter bilen kunna accelerera över en tid:"
   ]
  },
  {
   "cell_type": "code",
   "execution_count": 31,
   "metadata": {},
   "outputs": [],
   "source": [
    "class Car:\n",
    "    \n",
    "    wheels = 4\n",
    "    doors  = 4\n",
    "    \n",
    "    def __init__(self, brand, colour, acceleration):\n",
    "        \n",
    "        self.speed = 0 # Nytt attribut\n",
    "        self.brand_of_car = brand\n",
    "        self.colour_of_car = colour\n",
    "        self.acceleration_of_car = acceleration\n",
    "        \n",
    "    def accelerate(self, duration): # Ny funktion\n",
    "        \n",
    "        self.speed =  self.speed + self.acceleration_of_car * duration\n",
    "        "
   ]
  },
  {
   "cell_type": "code",
   "execution_count": 35,
   "metadata": {},
   "outputs": [
    {
     "name": "stdout",
     "output_type": "stream",
     "text": [
      "First speed of my car:  0\n",
      "First speed of my other car:  0\n",
      "Second speed:  1200\n",
      "Second speed of my other car:  100\n"
     ]
    }
   ],
   "source": [
    "my_car = Car(\"Volvo\", \"black\", 120)\n",
    "my_other_car = Car(\"Volvo\", \"black\", 10)\n",
    "\n",
    "print(\"First speed of my car: \", my_car.speed)\n",
    "print(\"First speed of my other car: \", my_other_car.speed)\n",
    "\n",
    "my_car.accelerate(duration=10)\n",
    "my_other_car.accelerate(duration=10)\n",
    "\n",
    "print(\"Second speed: \", my_car.speed)\n",
    "print(\"Second speed of my other car: \", my_other_car.speed)\n"
   ]
  },
  {
   "cell_type": "markdown",
   "metadata": {},
   "source": [
    "Båda bilar har ett nytt attribut vid namn ``speed``. Observera dock att i medlemsfunktionen ``accelerate`` så refererar vi till det egna objektets hastighet och acceleration med nyckelordet ``self``, och deras hastighet ändras oberoende av varandra."
   ]
  },
  {
   "cell_type": "markdown",
   "metadata": {},
   "source": [
    "**Sammanfattning**\n",
    "\n",
    "Nästan allt som skrivs i Python är egna objekt och funktioner som löser specifika problem. Nyckeln till att programmera i språket är att lära sig att använda olika färdigskrivna objekt. Vi börjar med ett exempel skrivning och läsning av datafiler som använder sig av objekt av typen ``File``."
   ]
  },
  {
   "cell_type": "markdown",
   "metadata": {},
   "source": [
    "**Utmaning!**\n",
    "\n",
    "Skriv en klass som symboliserar en bok. Boken skall ha följande egenskaper:\n",
    "- titel\n",
    "- antal sidor\n",
    "- författare\n",
    "- nuvarande sida\n",
    "\n",
    "samt en funktion\n",
    "- en funktion som vänder blad (uppdaterar nuvarande sida)\n"
   ]
  },
  {
   "cell_type": "code",
   "execution_count": null,
   "metadata": {},
   "outputs": [],
   "source": []
  },
  {
   "cell_type": "markdown",
   "metadata": {},
   "source": [
    "### Skrivning av filer\n",
    "En viktig del av programmering är så kallad I/O, eller input/output av information till och från datorn. Ett exempel på output är funktionen ``print`` som vi är väl bekanta med nu, som ju skriver till skärmen. Ett exempel på input är koden vi skriver till datorn i cellerna.\n",
    "\n",
    "Det är dock vanligt att I/O inbegriper filer: Att man har data samlat i exempelvis text- eller Excel-filer man vill läsa av programmatiskt."
   ]
  },
  {
   "cell_type": "markdown",
   "metadata": {},
   "source": [
    "#### Öppna och stäng filer\n",
    "Filer i programmeringsspråk måste *öppnas* och *stängas*. Filer öppnas med den inbyggda funktionen [open](https://docs.python.org/3/library/functions.html#open). Detta returnerar ett fil-objekt av klassen ``File``, som har inbyggda funktioner för att läsa, stänga och modifiera filen. ``open(path, mode)`` har ett argument ``mode`` specificerar exempelvis om filen skall läsas eller skrivas till.\n",
    "\n",
    "- ``'r'``: \"read\", läsning av filer\n",
    "- ``'w'``: \"write\", skrivning till filer\n",
    "\n",
    "Ett filobjekt ``file`` som öppnats i läsläge har den inbyggda funktionen ``file.read()`` som läser vanlig text till en sträng."
   ]
  },
  {
   "cell_type": "code",
   "execution_count": 5,
   "metadata": {},
   "outputs": [
    {
     "name": "stdout",
     "output_type": "stream",
     "text": [
      "Fackelfester i forntidshallar.\n",
      "Det spillda vinet ångar.\n",
      "Ur det slocknade skenet glimmar\n",
      "kungars pannband.\n",
      "Flackande skuggor slickar\n",
      "unga lemmar i klirrande rassel:\n",
      "dans i smycken; dans i vapen.\n",
      "Druckna skymningar faller och faller,\n",
      "brinner, tätnar,\n",
      "sväller och slukar,\n",
      "kramar glimmet, dränker minnet,\n",
      "borrar:\n",
      "hetare, blindare, tätare,\n",
      "bort i törstiga mörker en glödrubin.\n"
     ]
    }
   ],
   "source": [
    "# Ladda en text-fil till ett fil-objekt\n",
    "f = open('example_file.txt', mode='r')\n",
    "\n",
    "# Använd den inbyggda funktionen .read() hos fil-objektet\n",
    "text_in_file = f.read()\n",
    "\n",
    "# Stäng filen\n",
    "f.close()\n",
    "\n",
    "print(text_in_file)"
   ]
  },
  {
   "cell_type": "markdown",
   "metadata": {},
   "source": [
    "#### Utnyttja scopes med nyckelordet *with*\n",
    "Att glömma stänga filer innebär att man kan råka modifiera en file senare, eller att man öppnar den med pekaren mitt i texten. Nyckelordet ``with`` tillåter en definiera variabler (exempelvis en fil-variabel) inom ett begränsat scope. Då stängs filen automatiskt."
   ]
  },
  {
   "cell_type": "code",
   "execution_count": 8,
   "metadata": {},
   "outputs": [],
   "source": [
    "with open('example_file.txt', mode='r') as f:\n",
    "    text_in_file = f.read()\n",
    "    \n",
    "# print(text_in_file)"
   ]
  },
  {
   "cell_type": "markdown",
   "metadata": {},
   "source": [
    "**OBS!**\n",
    "\n",
    "Den inbyggda funktionen ``.read()`` kräver att din text-fil är fri från formattering (kursiv text, listor, tabeller et c.). Filformat som .doc, .docx som används av Microsoft Word har gömd formattering för att det ska se snyggt ut. Dessa kan alltså inte läsas av pythons inbyggda funktioner.\n",
    "\n",
    "Men som vi skall se finns det externa bibliotek som möjliggör läsning av ex.-vis .docx."
   ]
  },
  {
   "cell_type": "code",
   "execution_count": 10,
   "metadata": {},
   "outputs": [
    {
     "ename": "UnicodeDecodeError",
     "evalue": "'utf-8' codec can't decode byte 0x91 in position 15: invalid start byte",
     "output_type": "error",
     "traceback": [
      "\u001b[0;31m---------------------------------------------------------------------------\u001b[0m",
      "\u001b[0;31mUnicodeDecodeError\u001b[0m                        Traceback (most recent call last)",
      "\u001b[0;32m<ipython-input-10-43678ce7fee0>\u001b[0m in \u001b[0;36m<module>\u001b[0;34m\u001b[0m\n\u001b[1;32m      4\u001b[0m     \u001b[0;31m# Funktionen skickar ett felmeddelande, då den hittat formatterings-karaktärer\u001b[0m\u001b[0;34m\u001b[0m\u001b[0;34m\u001b[0m\u001b[0;34m\u001b[0m\u001b[0m\n\u001b[1;32m      5\u001b[0m     \u001b[0;31m# som inte är unicode.\u001b[0m\u001b[0;34m\u001b[0m\u001b[0;34m\u001b[0m\u001b[0;34m\u001b[0m\u001b[0m\n\u001b[0;32m----> 6\u001b[0;31m     \u001b[0mword_text\u001b[0m \u001b[0;34m=\u001b[0m \u001b[0mf\u001b[0m\u001b[0;34m.\u001b[0m\u001b[0mread\u001b[0m\u001b[0;34m(\u001b[0m\u001b[0;34m)\u001b[0m\u001b[0;34m\u001b[0m\u001b[0;34m\u001b[0m\u001b[0m\n\u001b[0m",
      "\u001b[0;32m~/anaconda3/envs/course/lib/python3.8/codecs.py\u001b[0m in \u001b[0;36mdecode\u001b[0;34m(self, input, final)\u001b[0m\n\u001b[1;32m    320\u001b[0m         \u001b[0;31m# decode input (taking the buffer into account)\u001b[0m\u001b[0;34m\u001b[0m\u001b[0;34m\u001b[0m\u001b[0;34m\u001b[0m\u001b[0m\n\u001b[1;32m    321\u001b[0m         \u001b[0mdata\u001b[0m \u001b[0;34m=\u001b[0m \u001b[0mself\u001b[0m\u001b[0;34m.\u001b[0m\u001b[0mbuffer\u001b[0m \u001b[0;34m+\u001b[0m \u001b[0minput\u001b[0m\u001b[0;34m\u001b[0m\u001b[0;34m\u001b[0m\u001b[0m\n\u001b[0;32m--> 322\u001b[0;31m         \u001b[0;34m(\u001b[0m\u001b[0mresult\u001b[0m\u001b[0;34m,\u001b[0m \u001b[0mconsumed\u001b[0m\u001b[0;34m)\u001b[0m \u001b[0;34m=\u001b[0m \u001b[0mself\u001b[0m\u001b[0;34m.\u001b[0m\u001b[0m_buffer_decode\u001b[0m\u001b[0;34m(\u001b[0m\u001b[0mdata\u001b[0m\u001b[0;34m,\u001b[0m \u001b[0mself\u001b[0m\u001b[0;34m.\u001b[0m\u001b[0merrors\u001b[0m\u001b[0;34m,\u001b[0m \u001b[0mfinal\u001b[0m\u001b[0;34m)\u001b[0m\u001b[0;34m\u001b[0m\u001b[0;34m\u001b[0m\u001b[0m\n\u001b[0m\u001b[1;32m    323\u001b[0m         \u001b[0;31m# keep undecoded input until the next call\u001b[0m\u001b[0;34m\u001b[0m\u001b[0;34m\u001b[0m\u001b[0;34m\u001b[0m\u001b[0m\n\u001b[1;32m    324\u001b[0m         \u001b[0mself\u001b[0m\u001b[0;34m.\u001b[0m\u001b[0mbuffer\u001b[0m \u001b[0;34m=\u001b[0m \u001b[0mdata\u001b[0m\u001b[0;34m[\u001b[0m\u001b[0mconsumed\u001b[0m\u001b[0;34m:\u001b[0m\u001b[0;34m]\u001b[0m\u001b[0;34m\u001b[0m\u001b[0;34m\u001b[0m\u001b[0m\n",
      "\u001b[0;31mUnicodeDecodeError\u001b[0m: 'utf-8' codec can't decode byte 0x91 in position 15: invalid start byte"
     ]
    }
   ],
   "source": [
    "# Testa att läsa en word-fil\n",
    "with open('word_example.docx', mode='r') as f:\n",
    "    \n",
    "    # Funktionen skickar ett felmeddelande, då den hittat formatterings-karaktärer\n",
    "    # som inte är unicode.\n",
    "    word_text = f.read()"
   ]
  },
  {
   "cell_type": "markdown",
   "metadata": {},
   "source": [
    "Vi kan också testa att läsa en .csv-fil eller Excel-fil med den inbyggda funktionen. Excel-filen fungerar inte, eftersom den har gömd formattering för att se bra ut i Office-paketet."
   ]
  },
  {
   "cell_type": "code",
   "execution_count": 14,
   "metadata": {
    "scrolled": true
   },
   "outputs": [
    {
     "ename": "UnicodeDecodeError",
     "evalue": "'utf-8' codec can't decode bytes in position 15-16: invalid continuation byte",
     "output_type": "error",
     "traceback": [
      "\u001b[0;31m---------------------------------------------------------------------------\u001b[0m",
      "\u001b[0;31mUnicodeDecodeError\u001b[0m                        Traceback (most recent call last)",
      "\u001b[0;32m<ipython-input-14-2a388d2714b1>\u001b[0m in \u001b[0;36m<module>\u001b[0;34m\u001b[0m\n\u001b[1;32m      4\u001b[0m     \u001b[0;31m# Funktionen skickar ett felmeddelande, då den hittat formatterings-karaktärer\u001b[0m\u001b[0;34m\u001b[0m\u001b[0;34m\u001b[0m\u001b[0;34m\u001b[0m\u001b[0m\n\u001b[1;32m      5\u001b[0m     \u001b[0;31m# som inte är unicode.\u001b[0m\u001b[0;34m\u001b[0m\u001b[0;34m\u001b[0m\u001b[0;34m\u001b[0m\u001b[0m\n\u001b[0;32m----> 6\u001b[0;31m     \u001b[0mword_text\u001b[0m \u001b[0;34m=\u001b[0m \u001b[0mf\u001b[0m\u001b[0;34m.\u001b[0m\u001b[0mread\u001b[0m\u001b[0;34m(\u001b[0m\u001b[0;34m)\u001b[0m\u001b[0;34m\u001b[0m\u001b[0;34m\u001b[0m\u001b[0m\n\u001b[0m",
      "\u001b[0;32m~/anaconda3/envs/course/lib/python3.8/codecs.py\u001b[0m in \u001b[0;36mdecode\u001b[0;34m(self, input, final)\u001b[0m\n\u001b[1;32m    320\u001b[0m         \u001b[0;31m# decode input (taking the buffer into account)\u001b[0m\u001b[0;34m\u001b[0m\u001b[0;34m\u001b[0m\u001b[0;34m\u001b[0m\u001b[0m\n\u001b[1;32m    321\u001b[0m         \u001b[0mdata\u001b[0m \u001b[0;34m=\u001b[0m \u001b[0mself\u001b[0m\u001b[0;34m.\u001b[0m\u001b[0mbuffer\u001b[0m \u001b[0;34m+\u001b[0m \u001b[0minput\u001b[0m\u001b[0;34m\u001b[0m\u001b[0;34m\u001b[0m\u001b[0m\n\u001b[0;32m--> 322\u001b[0;31m         \u001b[0;34m(\u001b[0m\u001b[0mresult\u001b[0m\u001b[0;34m,\u001b[0m \u001b[0mconsumed\u001b[0m\u001b[0;34m)\u001b[0m \u001b[0;34m=\u001b[0m \u001b[0mself\u001b[0m\u001b[0;34m.\u001b[0m\u001b[0m_buffer_decode\u001b[0m\u001b[0;34m(\u001b[0m\u001b[0mdata\u001b[0m\u001b[0;34m,\u001b[0m \u001b[0mself\u001b[0m\u001b[0;34m.\u001b[0m\u001b[0merrors\u001b[0m\u001b[0;34m,\u001b[0m \u001b[0mfinal\u001b[0m\u001b[0;34m)\u001b[0m\u001b[0;34m\u001b[0m\u001b[0;34m\u001b[0m\u001b[0m\n\u001b[0m\u001b[1;32m    323\u001b[0m         \u001b[0;31m# keep undecoded input until the next call\u001b[0m\u001b[0;34m\u001b[0m\u001b[0;34m\u001b[0m\u001b[0;34m\u001b[0m\u001b[0m\n\u001b[1;32m    324\u001b[0m         \u001b[0mself\u001b[0m\u001b[0;34m.\u001b[0m\u001b[0mbuffer\u001b[0m \u001b[0;34m=\u001b[0m \u001b[0mdata\u001b[0m\u001b[0;34m[\u001b[0m\u001b[0mconsumed\u001b[0m\u001b[0;34m:\u001b[0m\u001b[0;34m]\u001b[0m\u001b[0;34m\u001b[0m\u001b[0;34m\u001b[0m\u001b[0m\n",
      "\u001b[0;31mUnicodeDecodeError\u001b[0m: 'utf-8' codec can't decode bytes in position 15-16: invalid continuation byte"
     ]
    }
   ],
   "source": [
    "# Testa att läsa en Excel-fil\n",
    "with open('löner.xlsx', mode='r') as f:\n",
    "    \n",
    "    # Funktionen skickar ett felmeddelande, då den hittat formatterings-karaktärer\n",
    "    # som inte är unicode.\n",
    "    excel_text = f.read()"
   ]
  },
  {
   "cell_type": "markdown",
   "metadata": {},
   "source": [
    "Däremot fungerar .csv-filen, som ju bara är (semikolon)-separerad text. Problemet är ju dock att innehållet nu är en textsträng, vilket gjort att vi mist all funktionalitet i ett kalkylblad."
   ]
  },
  {
   "cell_type": "code",
   "execution_count": 16,
   "metadata": {},
   "outputs": [
    {
     "name": "stdout",
     "output_type": "stream",
     "text": [
      "First name;Last name;Salary\n",
      "Klara;Rosgren;38000\n",
      "Elin;B:son;40000\n",
      "Niklas;Lindquist;15000\n",
      "Abbe;Karlsson;40000\n",
      "Carola;Hagman;75000\n",
      "\n"
     ]
    }
   ],
   "source": [
    "with open('löner.csv', mode='r') as f:\n",
    "    \n",
    "    # Funktionen skickar ett felmeddelande, då den hittat formatterings-karaktärer\n",
    "    # som inte är unicode.\n",
    "    csv_text = f.read()\n",
    "    \n",
    "print(csv_text)"
   ]
  },
  {
   "cell_type": "markdown",
   "metadata": {},
   "source": [
    "### Paket\n",
    "Problemet med att läsa Excel-, CSV- och Word-dokument har lett oss till sista ämnet i kursen, och den stora styrkan med programmering: Färdiga paket.\n",
    "\n",
    "Den mesta funktionaliteten ni saknar medan ni programmerar har redan implementerats som ett paket som ni kan importera och använda i er kod. Vi ska här exemplifiera med några passande paket för läsning av text, kalkylark, samt visualisering.\n",
    "\n",
    "#### Pandas\n",
    "Vi börjar med ett någorlunda okänt paket som löser vårt problem med att läsa .xlsx och .csv-filer, nämligen [pandas](https://pandas.pydata.org/). Vi måste först installera paketet. Det sköts oftast i python med en så kallad *pakethanterare*, vid namn **pip**. I Jupyter Notebook skriver vi så här:"
   ]
  },
  {
   "cell_type": "code",
   "execution_count": 2,
   "metadata": {},
   "outputs": [
    {
     "name": "stdout",
     "output_type": "stream",
     "text": [
      "Requirement already satisfied: pandas in /home/vws/anaconda3/envs/course/lib/python3.8/site-packages (1.0.5)\n",
      "Requirement already satisfied: pytz>=2017.2 in /home/vws/anaconda3/envs/course/lib/python3.8/site-packages (from pandas) (2020.1)\n",
      "Requirement already satisfied: numpy>=1.13.3 in /home/vws/anaconda3/envs/course/lib/python3.8/site-packages (from pandas) (1.19.1)\n",
      "Requirement already satisfied: python-dateutil>=2.6.1 in /home/vws/anaconda3/envs/course/lib/python3.8/site-packages (from pandas) (2.8.1)\n",
      "Requirement already satisfied: six>=1.5 in /home/vws/anaconda3/envs/course/lib/python3.8/site-packages (from python-dateutil>=2.6.1->pandas) (1.15.0)\n",
      "Note: you may need to restart the kernel to use updated packages.\n"
     ]
    }
   ],
   "source": [
    "%pip install pandas"
   ]
  },
  {
   "cell_type": "markdown",
   "metadata": {},
   "source": [
    "Varpå paketet kan importeras med uttrycket ``import pandas as pd``, och vi kan använda dess inbyggda funktioner ``.read_excel()`` och ``.read_csv()``."
   ]
  },
  {
   "cell_type": "code",
   "execution_count": 39,
   "metadata": {},
   "outputs": [
    {
     "data": {
      "text/html": [
       "<div>\n",
       "<style scoped>\n",
       "    .dataframe tbody tr th:only-of-type {\n",
       "        vertical-align: middle;\n",
       "    }\n",
       "\n",
       "    .dataframe tbody tr th {\n",
       "        vertical-align: top;\n",
       "    }\n",
       "\n",
       "    .dataframe thead th {\n",
       "        text-align: right;\n",
       "    }\n",
       "</style>\n",
       "<table border=\"1\" class=\"dataframe\">\n",
       "  <thead>\n",
       "    <tr style=\"text-align: right;\">\n",
       "      <th></th>\n",
       "      <th>First name</th>\n",
       "      <th>Last name</th>\n",
       "      <th>Salary</th>\n",
       "    </tr>\n",
       "  </thead>\n",
       "  <tbody>\n",
       "    <tr>\n",
       "      <th>0</th>\n",
       "      <td>Klara</td>\n",
       "      <td>Rosgren</td>\n",
       "      <td>38000</td>\n",
       "    </tr>\n",
       "    <tr>\n",
       "      <th>1</th>\n",
       "      <td>Elin</td>\n",
       "      <td>B:son</td>\n",
       "      <td>40000</td>\n",
       "    </tr>\n",
       "    <tr>\n",
       "      <th>2</th>\n",
       "      <td>Niklas</td>\n",
       "      <td>Lindquist</td>\n",
       "      <td>15000</td>\n",
       "    </tr>\n",
       "    <tr>\n",
       "      <th>3</th>\n",
       "      <td>Abbe</td>\n",
       "      <td>Karlsson</td>\n",
       "      <td>40000</td>\n",
       "    </tr>\n",
       "    <tr>\n",
       "      <th>4</th>\n",
       "      <td>Carola</td>\n",
       "      <td>Hagman</td>\n",
       "      <td>75000</td>\n",
       "    </tr>\n",
       "  </tbody>\n",
       "</table>\n",
       "</div>"
      ],
      "text/plain": [
       "  First name  Last name  Salary\n",
       "0      Klara    Rosgren   38000\n",
       "1       Elin      B:son   40000\n",
       "2     Niklas  Lindquist   15000\n",
       "3       Abbe   Karlsson   40000\n",
       "4     Carola     Hagman   75000"
      ]
     },
     "execution_count": 39,
     "metadata": {},
     "output_type": "execute_result"
    }
   ],
   "source": [
    "import pandas as pd\n",
    "pd.read_excel('löner.xlsx')\n",
    "# Datan är nu inläst, men inte sparad i en variabel"
   ]
  },
  {
   "cell_type": "code",
   "execution_count": 7,
   "metadata": {},
   "outputs": [
    {
     "data": {
      "text/html": [
       "<div>\n",
       "<style scoped>\n",
       "    .dataframe tbody tr th:only-of-type {\n",
       "        vertical-align: middle;\n",
       "    }\n",
       "\n",
       "    .dataframe tbody tr th {\n",
       "        vertical-align: top;\n",
       "    }\n",
       "\n",
       "    .dataframe thead th {\n",
       "        text-align: right;\n",
       "    }\n",
       "</style>\n",
       "<table border=\"1\" class=\"dataframe\">\n",
       "  <thead>\n",
       "    <tr style=\"text-align: right;\">\n",
       "      <th></th>\n",
       "      <th>First name</th>\n",
       "      <th>Last name</th>\n",
       "      <th>Salary</th>\n",
       "    </tr>\n",
       "  </thead>\n",
       "  <tbody>\n",
       "    <tr>\n",
       "      <th>0</th>\n",
       "      <td>Klara</td>\n",
       "      <td>Rosgren</td>\n",
       "      <td>38000</td>\n",
       "    </tr>\n",
       "    <tr>\n",
       "      <th>1</th>\n",
       "      <td>Elin</td>\n",
       "      <td>B:son</td>\n",
       "      <td>40000</td>\n",
       "    </tr>\n",
       "    <tr>\n",
       "      <th>2</th>\n",
       "      <td>Niklas</td>\n",
       "      <td>Lindquist</td>\n",
       "      <td>15000</td>\n",
       "    </tr>\n",
       "    <tr>\n",
       "      <th>3</th>\n",
       "      <td>Abbe</td>\n",
       "      <td>Karlsson</td>\n",
       "      <td>40000</td>\n",
       "    </tr>\n",
       "    <tr>\n",
       "      <th>4</th>\n",
       "      <td>Carola</td>\n",
       "      <td>Hagman</td>\n",
       "      <td>75000</td>\n",
       "    </tr>\n",
       "  </tbody>\n",
       "</table>\n",
       "</div>"
      ],
      "text/plain": [
       "  First name  Last name  Salary\n",
       "0      Klara    Rosgren   38000\n",
       "1       Elin      B:son   40000\n",
       "2     Niklas  Lindquist   15000\n",
       "3       Abbe   Karlsson   40000\n",
       "4     Carola     Hagman   75000"
      ]
     },
     "execution_count": 7,
     "metadata": {},
     "output_type": "execute_result"
    }
   ],
   "source": [
    "# Observera att man måste specificera vad datan separeras av, exempelvis komma ',' eller semikolon ';'\n",
    "pd.read_csv('löner.csv', delimiter=';')\n",
    "# Datan är nu inläst, men inte sparad i en variabel"
   ]
  },
  {
   "cell_type": "markdown",
   "metadata": {},
   "source": [
    "Pandas returnerar ett objekt, som vanligen kallas *DataFrame*, vilket motsvarar ett blad i ett kalkylark. Detta kan indexeras som en lista eller dictionary, med kolumnnamn.\n",
    "\n",
    "Kolumnen returneras som en typ av lista, som indexeras på vanligt vis."
   ]
  },
  {
   "cell_type": "code",
   "execution_count": 40,
   "metadata": {},
   "outputs": [
    {
     "name": "stdout",
     "output_type": "stream",
     "text": [
      "0     Klara\n",
      "1      Elin\n",
      "2    Niklas\n",
      "3      Abbe\n",
      "4    Carola\n",
      "Name: First name, dtype: object\n"
     ]
    }
   ],
   "source": [
    "df = pd.read_excel('löner.xlsx')\n",
    "print(df['First name'])"
   ]
  },
  {
   "cell_type": "code",
   "execution_count": 14,
   "metadata": {},
   "outputs": [
    {
     "name": "stdout",
     "output_type": "stream",
     "text": [
      "Klara\n"
     ]
    }
   ],
   "source": [
    "print(df[\"First name\"][0])"
   ]
  },
  {
   "cell_type": "markdown",
   "metadata": {},
   "source": [
    "#### Matplotlib\n",
    "Ett annat viktigt verktyg särskilt inom digital humaniora och data science är visualisering i form av grafer. Standardpaketet för visualisering i Python är [matplotlib](https://matplotlib.org/), som tillåter visualisering av siffror och text. Tidigare har det verktyget använts både i Session 1 och Session 2. Vi börjar med att installera det."
   ]
  },
  {
   "cell_type": "code",
   "execution_count": 36,
   "metadata": {},
   "outputs": [
    {
     "name": "stdout",
     "output_type": "stream",
     "text": [
      "Requirement already satisfied: matplotlib in /home/vws/anaconda3/envs/course/lib/python3.8/site-packages (3.2.2)\n",
      "Requirement already satisfied: numpy>=1.11 in /home/vws/anaconda3/envs/course/lib/python3.8/site-packages (from matplotlib) (1.19.1)\n",
      "Requirement already satisfied: kiwisolver>=1.0.1 in /home/vws/anaconda3/envs/course/lib/python3.8/site-packages (from matplotlib) (1.2.0)\n",
      "Requirement already satisfied: python-dateutil>=2.1 in /home/vws/anaconda3/envs/course/lib/python3.8/site-packages (from matplotlib) (2.8.1)\n",
      "Requirement already satisfied: cycler>=0.10 in /home/vws/anaconda3/envs/course/lib/python3.8/site-packages (from matplotlib) (0.10.0)\n",
      "Requirement already satisfied: pyparsing!=2.0.4,!=2.1.2,!=2.1.6,>=2.0.1 in /home/vws/anaconda3/envs/course/lib/python3.8/site-packages (from matplotlib) (2.4.7)\n",
      "Requirement already satisfied: six>=1.5 in /home/vws/anaconda3/envs/course/lib/python3.8/site-packages (from python-dateutil>=2.1->matplotlib) (1.15.0)\n",
      "Note: you may need to restart the kernel to use updated packages.\n"
     ]
    }
   ],
   "source": [
    "%pip install matplotlib"
   ]
  },
  {
   "cell_type": "markdown",
   "metadata": {},
   "source": [
    "Vi kan nu använda det för att visualisera lönerna hos de olika anställda. I matplotlib finns flera funktioner som används för att skapa ett figur-objekt, och sedan modifiera det. På samma sätt som vi modifierade hastigheten i bil-objektet modifierar dessa funktioner de visuella egenskaperna hos figur-objektet."
   ]
  },
  {
   "cell_type": "code",
   "execution_count": 51,
   "metadata": {},
   "outputs": [
    {
     "data": {
      "image/png": "[encoded data removed]",
      "text/plain": [
       "<Figure size 432x288 with 1 Axes>"
      ]
     },
     "metadata": {
      "needs_background": "light"
     },
     "output_type": "display_data"
    }
   ],
   "source": [
    "import matplotlib.pyplot as plt # Observera att vi bara behöver en del av paketet, som heter PyPlot\n",
    "\n",
    "löner = df[\"Salary\"]\n",
    "\n",
    "# Skapa en figur och ett axel-objekt\n",
    "fig, ax = plt.subplots()\n",
    "\n",
    "# Välj vilken typ av graf du vill visa i dina axlar\n",
    "ax.hist(löner)\n",
    "\n",
    "# Sätter x-axelns namn\n",
    "ax.set_xlabel(\"Lön i kr.\")\n",
    "\n",
    "# Sätter y-axelns namn\n",
    "ax.set_ylabel(\"Antal\")\n",
    "\n",
    "# Sätt titel på figuren\n",
    "ax.set_title(\"Fördelning av lön hos anställda\")\n",
    "\n",
    "# Visar figuren (inte obligatoriskt i Jupyter)\n",
    "plt.show()\n"
   ]
  },
  {
   "cell_type": "markdown",
   "metadata": {},
   "source": [
    "Vi kan också använda visualisera med en bar-plot, som har namn eller kategorier på x-axeln. En sådan visualisering är bara lämplig om man har väldigt få kategorier eller personer."
   ]
  },
  {
   "cell_type": "code",
   "execution_count": 53,
   "metadata": {},
   "outputs": [
    {
     "data": {
      "image/png": "[encoded data removed]",
      "text/plain": [
       "<Figure size 432x288 with 1 Axes>"
      ]
     },
     "metadata": {
      "needs_background": "light"
     },
     "output_type": "display_data"
    }
   ],
   "source": [
    "löner = df[\"Salary\"]\n",
    "folk  = df[\"First name\"]\n",
    "\n",
    "# Skapa en figur och ett axel-objekt\n",
    "fig, ax = plt.subplots()\n",
    "\n",
    "# Skapar en bar-graf i axlarna\n",
    "ax.bar(folk, löner) # x = folk, y = löner\n",
    "\n",
    "# Sätter x-axelns namn\n",
    "ax.set_ylabel(\"Lön i kr.\")\n",
    "\n",
    "# Sätter y-axelns namn\n",
    "ax.set_xlabel(\"Förnamn på anställd\")\n",
    "\n",
    "# Sätt titel på figuren\n",
    "ax.set_title(\"Fördelning av lön hos anställda\")\n",
    "\n",
    "# Visar figuren (inte obligatoriskt i Jupyter)\n",
    "plt.show()"
   ]
  },
  {
   "cell_type": "markdown",
   "metadata": {},
   "source": [
    "Observera skillnaden i visualiseringarna: Första figuren visar *hur många* som har en viss lön, medan den andra visar vilken lön vissa individer har.\n",
    "\n",
    "Vi tar ett annat exempel för att visa olika typer av visualiseringar. Från SCB har vi samlat lite data om hela Sveriges hyresläge för lägenheter, samt deras yta. Vi läser in från CSV med Pandas:"
   ]
  },
  {
   "cell_type": "code",
   "execution_count": 85,
   "metadata": {},
   "outputs": [
    {
     "data": {
      "text/html": [
       "<div>\n",
       "<style scoped>\n",
       "    .dataframe tbody tr th:only-of-type {\n",
       "        vertical-align: middle;\n",
       "    }\n",
       "\n",
       "    .dataframe tbody tr th {\n",
       "        vertical-align: top;\n",
       "    }\n",
       "\n",
       "    .dataframe thead th {\n",
       "        text-align: right;\n",
       "    }\n",
       "</style>\n",
       "<table border=\"1\" class=\"dataframe\">\n",
       "  <thead>\n",
       "    <tr style=\"text-align: right;\">\n",
       "      <th></th>\n",
       "      <th>Year</th>\n",
       "      <th>Rent</th>\n",
       "      <th>CI Rent</th>\n",
       "      <th>Rent/kvm</th>\n",
       "      <th>CI Rent/kvm</th>\n",
       "      <th>Avg kvm</th>\n",
       "      <th>Area kvm nybyggt</th>\n",
       "    </tr>\n",
       "  </thead>\n",
       "  <tbody>\n",
       "    <tr>\n",
       "      <th>0</th>\n",
       "      <td>2003</td>\n",
       "      <td>51351</td>\n",
       "      <td>232</td>\n",
       "      <td>774</td>\n",
       "      <td>3</td>\n",
       "      <td>68</td>\n",
       "      <td>80.2</td>\n",
       "    </tr>\n",
       "    <tr>\n",
       "      <th>1</th>\n",
       "      <td>2004</td>\n",
       "      <td>52864</td>\n",
       "      <td>241</td>\n",
       "      <td>798</td>\n",
       "      <td>3</td>\n",
       "      <td>68</td>\n",
       "      <td>75.2</td>\n",
       "    </tr>\n",
       "    <tr>\n",
       "      <th>2</th>\n",
       "      <td>2005</td>\n",
       "      <td>54242</td>\n",
       "      <td>251</td>\n",
       "      <td>818</td>\n",
       "      <td>3</td>\n",
       "      <td>68</td>\n",
       "      <td>76.5</td>\n",
       "    </tr>\n",
       "    <tr>\n",
       "      <th>3</th>\n",
       "      <td>2006</td>\n",
       "      <td>54701</td>\n",
       "      <td>255</td>\n",
       "      <td>826</td>\n",
       "      <td>3</td>\n",
       "      <td>68</td>\n",
       "      <td>76.9</td>\n",
       "    </tr>\n",
       "    <tr>\n",
       "      <th>4</th>\n",
       "      <td>2007</td>\n",
       "      <td>55749</td>\n",
       "      <td>273</td>\n",
       "      <td>842</td>\n",
       "      <td>3</td>\n",
       "      <td>68</td>\n",
       "      <td>79.0</td>\n",
       "    </tr>\n",
       "  </tbody>\n",
       "</table>\n",
       "</div>"
      ],
      "text/plain": [
       "   Year   Rent  CI Rent  Rent/kvm  CI Rent/kvm  Avg kvm  Area kvm nybyggt\n",
       "0  2003  51351      232       774            3       68              80.2\n",
       "1  2004  52864      241       798            3       68              75.2\n",
       "2  2005  54242      251       818            3       68              76.5\n",
       "3  2006  54701      255       826            3       68              76.9\n",
       "4  2007  55749      273       842            3       68              79.0"
      ]
     },
     "execution_count": 85,
     "metadata": {},
     "output_type": "execute_result"
    }
   ],
   "source": [
    "df = pd.read_csv(\"rent_and_area.csv\")\n",
    "df.head(5) # Visar 5 första raderna i dataframen"
   ]
  },
  {
   "cell_type": "markdown",
   "metadata": {},
   "source": [
    "Vi skapar flera grafer i samma figur-objekt genom att mata argumentet 2 till ``plt.subplots``:"
   ]
  },
  {
   "cell_type": "code",
   "execution_count": 95,
   "metadata": {},
   "outputs": [
    {
     "data": {
      "image/png": "[encoded data removed]",
      "text/plain": [
       "<Figure size 432x288 with 2 Axes>"
      ]
     },
     "metadata": {
      "needs_background": "light"
     },
     "output_type": "display_data"
    }
   ],
   "source": [
    "year = df[\"Year\"]\n",
    "rent  = df[\"Rent\"]\n",
    "area = df[\"Area kvm nybyggt\"]\n",
    "# Skapa flera figur och ett axel-objekt\n",
    "fig, (ax1, ax2) = plt.subplots(2)\n",
    "\n",
    "ax1.plot(year, rent) \n",
    "ax1.set_ylabel(\"Hyra i kr.\")\n",
    "ax1.grid()\n",
    "ax2.plot(year, area)\n",
    "\n",
    "ax2.set_ylabel(\"Yta i kvm. hos nybygge\")\n",
    "ax2.set_xlabel(\"År\")\n",
    "ax2.grid()\n",
    "\n",
    "plt.show()"
   ]
  },
  {
   "cell_type": "markdown",
   "metadata": {},
   "source": [
    "Vi ser då att samtidigt som hyrorna har ökat totalt, så har storleken på nybyggda lägenheter minskat konsekvent sedan 2003. Man kan också lägga båda grafer i samma axlar:"
   ]
  },
  {
   "cell_type": "code",
   "execution_count": 98,
   "metadata": {},
   "outputs": [
    {
     "data": {
      "image/png": "[encoded data removed]",
      "text/plain": [
       "<Figure size 432x288 with 2 Axes>"
      ]
     },
     "metadata": {
      "needs_background": "light"
     },
     "output_type": "display_data"
    }
   ],
   "source": [
    "fig, ax1 = plt.subplots()\n",
    "\n",
    "color = 'tab:red'\n",
    "\n",
    "ax1.set_xlabel('År')\n",
    "ax1.set_ylabel('Hyra i kr.', color=color)\n",
    "ax1.plot(year, rent, color=color)\n",
    "\n",
    "ax1.tick_params(axis='y', labelcolor=color) # Sätt färgen på axeln\n",
    "\n",
    "ax2 = ax1.twinx()  # Skapa en tvilling-axel på samma figur\n",
    "\n",
    "color = 'tab:blue'\n",
    "ax2.set_ylabel('Yta i kvm. hos nybygge', color=color) \n",
    "ax2.plot(year, area, color=color)\n",
    "ax2.tick_params(axis='y', labelcolor=color) # Sätt färgen på axeln\n",
    "\n",
    "ax1.grid()"
   ]
  },
  {
   "cell_type": "code",
   "execution_count": null,
   "metadata": {},
   "outputs": [],
   "source": []
  }
 ],
 "metadata": {
  "kernelspec": {
   "display_name": "Python 3.8.3 64-bit",
   "language": "python",
   "name": "python38364bitc07ce002ff1d424798a183d93faa705c"
  },
  "language_info": {
   "codemirror_mode": {
    "name": "ipython",
    "version": 3
   },
   "file_extension": ".py",
   "mimetype": "text/x-python",
   "name": "python",
   "nbconvert_exporter": "python",
   "pygments_lexer": "ipython3",
   "version": "3.8.3"
  }
 },
 "nbformat": 4,
 "nbformat_minor": 4
}
