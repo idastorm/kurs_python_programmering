{
 "cells": [
  {
   "cell_type": "markdown",
   "metadata": {},
   "source": [
    "<div style=\"text-align: right\"><a href='#section0' align='left'>Tillbaka till början</a></div>\n",
    "<a id='section7'></a>\n",
    "<h3>4A. Att skapa listor med data</h3>"
   ]
  },
  {
   "cell_type": "markdown",
   "metadata": {},
   "source": [
    "I <a href=\"https://docs.python.org/3/library/functions.html\">dokumentationen över inbyggda funktioner</a> finns flera funktioner som inte har så spännade effekt på variabler med endast ett värde. Dessa inkluderar\n",
    "    \n",
    "- <code>sum(x: list)</code>: Beräknar summan av flera numeriska värden\n",
    "- <code>min(x: list)</code>: Beräknar minsta värdet av flera numeriska värden\n",
    "\n",
    "Dessa tar ett argument <code>x</code> som är av typen ''list'' eller ''lista''. I Python är en lista samling helt godtyckliga värden som skrivs inom hakparenteser, <code>[]</code>.\n",
    "\n",
    "Exempelvis\n",
    "\n",
    "``\n",
    "x = 65\n",
    "[1, 2, \"ost\", 47.18, x]\n",
    "``\n",
    "\n",
    "Vi kan beräkna längden (antalet element) av listan med den inbyggda funktionen <code>len</code>."
   ]
  },
  {
   "cell_type": "code",
   "execution_count": null,
   "metadata": {},
   "outputs": [],
   "source": [
    "x = 65\n",
    "lista = [1, \"ost\", 2, 47.18, x]\n",
    "\n",
    "print(len(lista))"
   ]
  },
  {
   "cell_type": "markdown",
   "metadata": {},
   "source": [
    "Listor kan till och med innehålla andra listor. Dessa räknas dock som endast ett element."
   ]
  },
  {
   "cell_type": "code",
   "execution_count": null,
   "metadata": {},
   "outputs": [],
   "source": [
    "x = 65\n",
    "lista = [1, \"ost\", 2, 47.18, x, [\"värde i inre listan\", 780, x]]\n",
    "\n",
    "print(len(lista))"
   ]
  },
  {
   "cell_type": "markdown",
   "metadata": {},
   "source": [
    "Vissa funktioner ställer krav på att listor endast innehåller värden av en viss typ. <code>sum</code> och <code>min</code> vill exempelvis helst ha listor med endast siffror, av naturliga skäl"
   ]
  },
  {
   "cell_type": "code",
   "execution_count": null,
   "metadata": {},
   "outputs": [],
   "source": [
    "numerisk_lista = [1, 2, 3, 4, 5]\n",
    "\n",
    "summan_av_listan = sum(numerisk_lista)\n",
    "minsta_värdet_i_listan = min(numerisk_lista)\n",
    "\n",
    "print(\"Summa: \", summan_av_listan)\n",
    "print(\"Minimum: \", minsta_värdet_i_listan)"
   ]
  },
  {
   "cell_type": "markdown",
   "metadata": {},
   "source": [
    "<div style=\"text-align: right\"><a href='#section0' align='left'>Tillbaka till början</a></div>\n",
    "<a id='section8'></a>\n",
    "\n",
    "###  4B. Indexering av listor\n",
    "\n",
    "Listor tillhör en mer komplicerad typ av objekt och har egna inbyggda funktioner. Exempelvis vill man kunna hämta värden på en viss plats i en lista. Detta kallas indexering, och givet en lista\n",
    "\n",
    "``\n",
    "lista = [1, \"ost\", 2, 47.18, x, [\"värde i inre listan\", 780, x]]\n",
    "``\n",
    "\n",
    "så hämtas första elementet med <code>lista[0]</code>, vilket returnerar värdet 1. Andra elementet <code>lista[1]</code> ger \"ost\" och så vidare. Pröva själv nedan! "
   ]
  },
  {
   "cell_type": "code",
   "execution_count": null,
   "metadata": {},
   "outputs": [],
   "source": [
    "# Observera att sista elementet i listan är en lista i sig själv\n",
    "lista[5]"
   ]
  },
  {
   "cell_type": "markdown",
   "metadata": {},
   "source": [
    "Observera att indexering sker med en offset. Första elemtentet är inte <code>lista[1]</code> utan <code>lista[0]</code>. Detta är konvention, och något man får vänja sig vid. Index för sista elementet är alltså <code>sista_index = 1-len(list)</code>. Om du väljer ett index utanför <code>[0, 1, 2, 3, 4, 5]</code> i vårt fall, får du ett \"IndexError\".\n",
    "\n",
    "En smidig notation hos python är att sista elementet också kan erhålla sista elementet med negativa index:"
   ]
  },
  {
   "cell_type": "code",
   "execution_count": null,
   "metadata": {},
   "outputs": [],
   "source": [
    "lista[-1]"
   ]
  },
  {
   "cell_type": "code",
   "execution_count": null,
   "metadata": {},
   "outputs": [],
   "source": [
    "en_lista=[1,2,3,4,5]\n",
    "\n",
    "print(en_lista)\n",
    "\n",
    "en_lista_med_text=['Ida', 'Jonas', 'Johan', 'Jonathan', 'Kalle', 'Åsa', 'Stina']\n",
    "\n",
    "print(en_lista_med_text)\n",
    "\n",
    "#man använder \"index\" för att komma åt den data man vill ha\n",
    "#det första objektet är på index 0\n",
    "print('exempel index 0: ', en_lista_med_text[0])\n",
    "print('exempel index 1: ', en_lista_med_text[1])\n",
    "\n",
    "#vill man ha det sista objektet kan man använda -1 som index\n",
    "print('exempel index -1: ', en_lista_med_text[-1])\n",
    "print('exempel index -2: ', en_lista_med_text[-2])\n",
    "\n",
    "#man kan också använda index för att ersätta det befintliga objektet med annan data.\n",
    "#i exemplet nedan vill jag ersätta Ida med Vilma:\n",
    "\n",
    "en_lista_med_text[0]='Vilma'\n",
    "\n",
    "print('Den uppdaterade listan med Ida ersatt med Vilma: ', en_lista_med_text)\n"
   ]
  },
  {
   "cell_type": "markdown",
   "metadata": {},
   "source": [
    "#### 4B.1 Strängar som listor av tecken\n",
    "Ni har faktiskt stött på listor omedelbart i kursen. I Python är alla strängar listor av tecken. Exempelvis är strängen\n",
    "\n",
    "<code>text = \"Hello there!\"</code>\n",
    "\n",
    "en lista av tecken, där\n",
    "\n",
    "``\n",
    "text[0]\n",
    " 'H'\n",
    "text[1]\n",
    " 'e'\n",
    "text[2]\n",
    " 'l'\n",
    "text[-1]\n",
    " '!'\n",
    "``"
   ]
  },
  {
   "cell_type": "markdown",
   "metadata": {},
   "source": [
    "**Utmaning!**\n",
    "Givet variabeln <code>text</code>, vad returneras av \n",
    "1. <code>text[-2]</code>\n",
    "2. <code>text[5]</code>\n",
    "3. <code>text[-7]</code>\n",
    "\n",
    "Motivera ditt svar!"
   ]
  },
  {
   "cell_type": "code",
   "execution_count": null,
   "metadata": {},
   "outputs": [],
   "source": [
    "text = \"Hello there!\""
   ]
  },
  {
   "cell_type": "markdown",
   "metadata": {},
   "source": [
    "<div style=\"text-align: right\"><a href='#section0' align='left'>Tillbaka till början</a></div>\n",
    "<a id='section8'></a>\n",
    "\n",
    "### 4C. Inbyggda funktioner för listor\n",
    "Vissa objekt har inbyggda funktioner. Listor har exempelvis <a href=\"https://docs.python.org/2/tutorial/datastructures.html\">följande funktionalitet</a>:\n",
    "\n",
    "- <code>append(x)</code>: Lägg till ett element <code>x</code> sist i listan\n",
    "- <code>insert(i, x)</code>: Lägg till ett element <code>x</code> vid index <code>i</code> i listan. Observera att detta ändrar index ordningen på påföljande element\n",
    "- <code>pop()</code>: Ta bort sista elementet i listan\n",
    "\n",
    "Man kallar på funktionerna genom punktnotation, exempelvis\n",
    "``\n",
    "lista.append(\"konst\")\n",
    "``\n",
    "lägger till en sträng \"konst\" sist i listan \"lista\"."
   ]
  },
  {
   "cell_type": "code",
   "execution_count": null,
   "metadata": {},
   "outputs": [],
   "source": [
    "#man kan också använda index tillsammans med \"insert\" för att lägga till ett objekt på en specifik plats i listan:\n",
    "en_lista_med_text.insert(0, 'Axel')\n",
    "\n",
    "print('Den uppdaterade listan med Axel tillagt först i listan (index 0): ', en_lista_med_text)\n",
    "\n",
    "#för att lägga till ett namn, använd den inbyggda funktionen \"append()\":\n",
    "en_lista_med_text.append('Sture')\n",
    "\n",
    "print('Den uppdaterade lista med Sture tillagd: ', en_lista_med_text)\n",
    "\n",
    "# Vi kan ta bort Sture igen, som lades till sist\n",
    "en_lista_med_text.pop()\n",
    "\n",
    "print('Den uppdaterade lista med Sture borttagen igen: ', en_lista_med_text)"
   ]
  },
  {
   "cell_type": "markdown",
   "metadata": {},
   "source": [
    "Listorna som skapades i förra cellen (den sista versionen av dem) finns kvar för användning i andra celler<br>\n",
    "Gör övningarna i nästa cell för att öva på listorna! "
   ]
  },
  {
   "cell_type": "markdown",
   "metadata": {},
   "source": [
    "#### Utmaning!\n",
    "\n",
    "Gör följande övningar på listan *en_lista_med_text*:\n",
    "\n",
    "1. Prova att ersätta Johan med valfritt namn (kom ihåg att använda det index Johan är på i den senast uppdaterade listan):\n",
    "2. Skapa en egen lista där du provar att mixa text och nummer. \n",
    "3. Hur tar man bort ett objekt i din nya lista? Prova att göra en sökning för att hitta svaret! "
   ]
  },
  {
   "cell_type": "code",
   "execution_count": null,
   "metadata": {},
   "outputs": [],
   "source": [
    "# 1. Ta bort Johan från listan\n",
    "\n",
    "# 2. Skapa ny lista med både text och nummer\n",
    "\n",
    "# 3. Ta bort ett objekt i din lista"
   ]
  }
 ],
 "metadata": {
  "kernelspec": {
   "display_name": "Python 3",
   "language": "python",
   "name": "python3"
  },
  "language_info": {
   "codemirror_mode": {
    "name": "ipython",
    "version": 3
   },
   "file_extension": ".py",
   "mimetype": "text/x-python",
   "name": "python",
   "nbconvert_exporter": "python",
   "pygments_lexer": "ipython3",
   "version": "3.8.3"
  }
 },
 "nbformat": 4,
 "nbformat_minor": 4
}
