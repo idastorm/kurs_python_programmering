{
 "cells": [
  {
   "cell_type": "markdown",
   "metadata": {},
   "source": [
    "<div class=\"image\">\n",
    "    <img src=\"cdh_logga.PNG\" width=\"1000\" align=\"top\"/>\n",
    "</div>\n",
    "\n",
    "\n",
    "<a id='section0'></a>\n",
    "## Loopar\n",
    "\n",
    "<h3>Innehåll</h3><br>\n",
    "    <ul>\n",
    "        <li><a href='#section1'>1A. For-loopar</a></li><br>\n",
    "        <li><a href='#section2'>1B. While-loopar</a></li><br>\n",
    "        <li><a href='#section3'>1C. if-satser i loopar</a></li><br>\n",
    "    </ul>    \n",
    "    "
   ]
  },
  {
   "cell_type": "markdown",
   "metadata": {},
   "source": [
    "# Loopar\n",
    "Att upprepa kod kallas för att iterera. En upprepning kallas för en iteration eller en loop.\n",
    "Det finns olika strukturer i Python för iteration, for-satser och while-satser som använder nyckelorden ``for`` respektive ``while``.\n",
    "\n",
    "for-satser lämpar sig om du vet hur många gånger du vill iterera, till exempel om du vill gå igenom\n",
    "alla element i till exempel en lista. I while-satser itererar man tills ett villkor är uppfyllt, formulerat med hjälp av ett booleanskt uttryck: Ex.-vis ``while x<100...`` (forstätt iterera medan x är mindre än 100)."
   ]
  },
  {
   "cell_type": "markdown",
   "metadata": {},
   "source": [
    "<div style=\"text-align: right\"><a href='#section0' align='left'>Tillbaka till början</a></div>\n",
    "<a id='section1'></a>\n",
    "\n",
    "### 1A. *for*-loopar\n",
    "\n",
    "Det lättaste sättet att förstå hur loopar fungerar är att se olika exempel. Nedan följer ett första exempel på en \n",
    "lista med namn på frukter. \n",
    "    \n",
    "Fundera på vad som kommer att hända när nästa cell körs? "
   ]
  },
  {
   "cell_type": "code",
   "execution_count": null,
   "metadata": {},
   "outputs": [],
   "source": [
    "lista_med_frukt=['äpple', 'päron', 'banan']\n",
    "for frukt in lista_med_frukt:\n",
    "    print(frukt)\n"
   ]
  },
  {
   "cell_type": "markdown",
   "metadata": {},
   "source": [
    "Läser vi ut vad det är som händer i loopen är det \"för varje frukt i listan med frukt, skriv frukt\". \n",
    "Notera att följande kommer att ge precis samma resultat:\n",
    "    \n",
    "``\n",
    "for x in lista_med_frukt:\n",
    "    print(x)\n",
    "``\n",
    "    \n",
    "Det går också att loopa över en sträng. Fundera på vad som kommer ske när nästa cell körs?\n",
    "        "
   ]
  },
  {
   "cell_type": "code",
   "execution_count": null,
   "metadata": {},
   "outputs": [],
   "source": [
    "\n",
    "min_sträng='Det är soligt i malmö idag'\n",
    "for bokstav in min_sträng:\n",
    "    print(bokstav)"
   ]
  },
  {
   "cell_type": "markdown",
   "metadata": {},
   "source": [
    "Notera att även mellanrummen skrivs ut. Vad som sker är:\n",
    "``    \n",
    "print('D')\n",
    "print('e')\n",
    "print('t')\n",
    "print(' ')\n",
    "print('ä')\n",
    "print('r')\n",
    "``\n",
    "och så vidare...\n",
    "\n",
    "Vi kan göra något med varje element i listan vi itererar igenom. I exemplet i nästa cell följande exemepl\n",
    "skrivs det ut ett utropstecken efter varje karaktär. \n"
   ]
  },
  {
   "cell_type": "code",
   "execution_count": null,
   "metadata": {},
   "outputs": [],
   "source": [
    "for x in min_sträng:\n",
    "    print(x +'!')"
   ]
  },
  {
   "cell_type": "markdown",
   "metadata": {},
   "source": [
    "För att börja fundera på mer användbara exempel på att använda loopar så kan vi tänka oss en lista med\n",
    "nummer, och att vi vill skapa en ny lista där varje nummer i listan har blivit uppdaterad på samma sätt.\n",
    "\n",
    "Fundera på vad som kommer att hända i varje steg av loopen i nästa cell och hur \"en_lista_med_uppdaterade_nummer\" \n",
    "kommer att se ut."
   ]
  },
  {
   "cell_type": "code",
   "execution_count": null,
   "metadata": {},
   "outputs": [],
   "source": [
    "lista_med_nummer=[1,2,3,4]\n",
    "ny_lista_med_uppdaterade_nummer=[]\n",
    "for nummer in lista_med_nummer:\n",
    "    nytt_nummer=nummer*nummer\n",
    "    ny_lista_med_uppdaterade_nummer.append(nytt_nummer)\n",
    "    \n",
    "    #fundera på vad som kommer att hända om du även kör nästa rad (ta bort kommentaren för att prova)\n",
    "    #print(ny_lista_med_uppdaterade_nummer)\n",
    "    \n",
    "print(ny_lista_med_uppdaterade_nummer)\n"
   ]
  },
  {
   "cell_type": "markdown",
   "metadata": {},
   "source": [
    "**Utmaning!**\n",
    "\n",
    "Skapa en lista siffrorna (int) 1-10 och använd en for-loop för att räkna ut summan av siffrorna i listan.\n",
    "Tips: skapa ett variabel som uppdateras i loopen. "
   ]
  },
  {
   "cell_type": "code",
   "execution_count": null,
   "metadata": {},
   "outputs": [],
   "source": []
  },
  {
   "cell_type": "markdown",
   "metadata": {},
   "source": [
    "**Bonusutmaning!**\n",
    "\n",
    "Du har blivit ombedd att räkna på hur mycket det skulle kosta Göteborgs Universitet att ge alla anställda \n",
    "anställda på LIR en bonus på 5% av sin månadslön. Du har fått en lista på alla löner (se nedan). \n",
    "Beräkna den totala månatliga kostnaden för denna ökning. \n",
    "\n",
    "Kör nästa cell för att skapa variablet \"löner\" som är en lista på alla löner som hämtas från en fil \n",
    "(se detaljer i kommentarerna). \n",
    "\n",
    "Är det svårt att lösa uppgiften kan du visa förslagsvis\n",
    "en ledtråd i taget genom att ta bort \"#\" framför till exempel \"Utmaning_löner.ledtråd1()\". För den som är snabb\n",
    "finns det även bonusfrågor i cellen med ledtrådarna. \n"
   ]
  },
  {
   "cell_type": "code",
   "execution_count": null,
   "metadata": {},
   "outputs": [],
   "source": [
    "from samples import löner\n",
    "print(löner)"
   ]
  },
  {
   "cell_type": "code",
   "execution_count": null,
   "metadata": {},
   "outputs": [],
   "source": [
    "# \"ledtrådar\" är ytterligare en python fil som är uppladdad till JupyterHubben. \n",
    "# där finns det en \"class\" som heter Utmaning_löner som i sin tur har fuktionerna ledtråd1, ledtråd2, ledtråd3 \n",
    "#och lösning\n",
    "from ledtrådar import Utmaning_löner\n",
    "\n",
    "# Ta bort \"#\" en i taget om det behövs.\n",
    "#Utmaning_löner.ledtråd1()\n",
    "#Utmaning_löner.ledtråd2()\n",
    "#Utmaning_löner.ledtråd3()\n",
    "\n",
    "# För lösning, ta bort den här kommentaren också (du måste fortfarande skriva av lösningen själv):\n",
    "# Utmaning_löner.lösning()\n",
    "\n",
    "\n",
    "# Bonusfrågor:\n",
    "# Vad är medellönen?\n",
    "\n",
    "\n",
    "# Vad är medianlönen?\n",
    "\n",
    "\n",
    "# Vad är lägsta lönen?\n",
    "\n",
    "\n",
    "# Vad är högsta lönen?\n",
    "\n",
    "# Vad är den totala kostnaden om endast de som tjänar över 40000 får 5% bonus?\n",
    "# Utmaning_löner.ledtråd4()"
   ]
  },
  {
   "cell_type": "markdown",
   "metadata": {},
   "source": [
    "<div style=\"text-align: right\"><a href='#section0' align='left'>Tillbaka till början</a></div>\n",
    "<a id='section2'></a>\n",
    "\n",
    "### 1B. *while*-loopar\n",
    "\n",
    "I en while-loop håller alltså iterationen på så länge det boleanska uttrycket är sant (True).\n",
    "I nästa cell är ett exempel på en loop som håller på så länge x<10 (x är mindre än 10).\n",
    "    \n",
    "Notera att variablet i det boleakska uttrycket (x) måste ändras så att uttrycket efter ett antal iterationer blir \n",
    "falskt. I det här fallet läggs 1 till variablet (x=x+1) i varje loop. x har definierats innan loopen startar som x=1.\n",
    "\n",
    "Fundera på vad du kommer att hända när du kör loopen och vad variablet x kommer vara när loopen är färdig. "
   ]
  },
  {
   "cell_type": "code",
   "execution_count": null,
   "metadata": {},
   "outputs": [],
   "source": [
    "x=1\n",
    "while x<10:\n",
    "    print(x)\n",
    "    x=x+2\n",
    "    \n",
    "#fundera på, och prova sen, vad som händer som du istället skriver x=x+2?"
   ]
  },
  {
   "cell_type": "markdown",
   "metadata": {},
   "source": [
    "<div style=\"text-align: right\"><a href='#section0' align='left'>Tillbaka till början</a></div>\n",
    "<a id='section3'></a>\n",
    "\n",
    "### 1C. if-satser i loopar\n",
    "\n",
    "*if*-satser innebär att den delen av koden som kommer efter bara utförs om (*if*) det boleanska uttrycket stämmer \n",
    "är sant (True). \n",
    "\n",
    "Nästa cell innehåller ett exempel. Fundera påa vad som kommer att hända när man kör cellen. Kommer det skrivas \n",
    "ut någon text, och i så fall hur många gånger?\n"
   ]
  },
  {
   "cell_type": "code",
   "execution_count": null,
   "metadata": {},
   "outputs": [],
   "source": [
    "lista_med_namn=['Jens', 'Eva', 'Gustav', 'Vilma', 'Sonja', 'Karl', 'Jens']\n",
    "for namn in lista_med_namn:\n",
    "    if namn=='Gustav':\n",
    "        print('Gustav finns i listan!')\n",
    "        \n",
    "#vad hade hänt om du istället skev if namn=='Jens'?"
   ]
  },
  {
   "cell_type": "markdown",
   "metadata": {},
   "source": [
    "Vi kan också använda inbyggda funktioner i våra if-satser. \n",
    "Fundera på vad som kommer hända när du kör nästa cell."
   ]
  },
  {
   "cell_type": "code",
   "execution_count": null,
   "metadata": {},
   "outputs": [],
   "source": [
    "for namn in lista_med_namn:\n",
    "    if len(namn)>4:\n",
    "        print(namn)"
   ]
  },
  {
   "cell_type": "markdown",
   "metadata": {},
   "source": [
    "**Bonusutmaning!**\n",
    "\n",
    "Barnnamn.net har rankat de 99 mest populära namnen på barn för killar respektiver tjejer för 2014.\n",
    "Vi är intresserade av följande:\n",
    "\n",
    "- Är något av killnamnen dubbelnamn? \n",
    "- I så fall, hur många? \n",
    "- Svara på samma gällande tjejnamnen. \n",
    "\n",
    "Det finns ledtrådar som du kan öppna en och en cellen två celler ner. \n",
    "\n",
    "Data importeras från samples i nästa cell. \n",
    "\n",
    "Bonusfrågor:\n",
    "    \n",
    "- Är de mest populära namnen på tjejerna längre än de mest populära namnen för killarna?\n",
    "\n",
    "Namnen är i ordningen mest populära till 99e mest populära.\n",
    "\n",
    "- Vilket var det mest populära kill-respektive tjejnamnet?\n",
    "\n"
   ]
  },
  {
   "cell_type": "code",
   "execution_count": null,
   "metadata": {},
   "outputs": [],
   "source": [
    "from samples import mest_populära_killnamn_2014, mest_populära_tjejnamn_2014"
   ]
  },
  {
   "cell_type": "code",
   "execution_count": null,
   "metadata": {},
   "outputs": [],
   "source": [
    "from ledtrådar import Utmaning_namn\n",
    "\n",
    "#Utmaning_namn.ledtråd1()\n",
    "#Utmaning_namn.ledtråd2()\n",
    "#Utmaning_namn.lösning()\n"
   ]
  }
 ],
 "metadata": {
  "kernelspec": {
   "display_name": "Python 3",
   "language": "python",
   "name": "python3"
  },
  "language_info": {
   "codemirror_mode": {
    "name": "ipython",
    "version": 3
   },
   "file_extension": ".py",
   "mimetype": "text/x-python",
   "name": "python",
   "nbconvert_exporter": "python",
   "pygments_lexer": "ipython3",
   "version": "3.7.6"
  }
 },
 "nbformat": 4,
 "nbformat_minor": 4
}
