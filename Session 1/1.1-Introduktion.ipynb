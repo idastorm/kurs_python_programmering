{
 "cells": [
  {
   "cell_type": "markdown",
   "metadata": {},
   "source": [
    "<div class=\"image\">\n",
    "    <img src=\"cdh_logga.PNG\" width=\"1000\" align=\"top\"/>\n",
    "</div>\n",
    "<h1>Hej och välkomna till CDH:s kurs i Python-programmering i Jupyter Notebooks!</h1><br>\n",
    "Python är ett programmeringsspråk som kan användas för olika applikationer såsom analys och visualisering av data. Data kan betyda text(er) eller numerisk data av olika slag. <a href='https://jupyter.org/'>Jupyter Notebooks</a> är ett alternativ för att läsa och utföra koden som vi har valt att använda eftersom går att blanda instruktioner (i ”markdown language”) med ”celler” med kod. Endast den kod du har i just cellen du ”kör” kommer att utföras. <br><br>\n",
    "Vi kommer börja på en nivå som inte kräver förkunskaper, men också visa på några av de möjligheter som finns efter man har lärt sig grunderna. Det finns mycket resurser online, och vi har samlat lite nyttiga länkar som ni kan följa beroende på intresse.  \n",
    "<br>\n",
    "<br>\n",
    "<a id='section0'></a>\n",
    "<h3>Innehåll</h3><br>\n",
    "Introduktion<br>\n",
    "    <ol>\n",
    "        <li>Programmeringsmiljön</li><br>\n",
    "            <ol>\n",
    "                <li><a href='#section1'>1A. Min första kod och att hantera Jupyter Notebook</a></li><br>\n",
    "            </ol>    \n",
    "        <li>Grundläggande programmering</li><br>\n",
    "            <ol>\n",
    "                <li><a href='#section2'>Lite enkel matte</a></li><br>\n",
    "                <li><a href='#section3'>Spara data i variabel</a></li><br>\n",
    "            </ol>\n",
    "            </ol><br>"
   ]
  },
  {
   "cell_type": "markdown",
   "metadata": {},
   "source": [
    "\n",
    "<h3>Introduktion</h3>\n",
    "\n",
    "Syftet med den här kursen är inte att kursdeltagarna skall bli programmerare. Snarare är tanken att väcka intresse för programmering som ett verktyg (liksom Word, Excel och andra mjukvaror), samt skapa förståelse för vad utveckling av program innebär i praktiken.\n",
    "\n",
    "<h4>Vad är kod?</h4>\n",
    "Kod har många betydelser, och vanligtvis kallas inte programmering numer att <i>koda</i>. Koden i sig är språket som används för att representera skrift, bilder eller instruktion i kommunikation med datorer. \n",
    "\n",
    "<h4>Vad är programmering?</h4>\n",
    "Programmering är ett verktyg för att skriva instruktioner till datorer i kod. Programmeringen utgår från ett av flera <i> <a href='https://en.wikipedia.org/wiki/Programming_paradigm'>paradigm</a></i>; samt ett programmeringsspråk. I vårt fall skall vi använda programmeringsspråket Python som använder ett imperativt paradigm - det innebär i huvudsak att\n",
    "\n",
    "- Vi definierar ordningen på våra instruktioner\n",
    "- Endast en instruktion i taget tolkas av datorn.\n",
    "\n",
    "<h4>Hur programmerar man?</h4>\n",
    "När programmeraren skrivit sina instruktioner skickas det till program som tolkar det valda programspråket och omvandlar det till 1:or och 0:or (såkallad binärkod) för datorn att genomföra. Ett exempel på ett sådant program är <b>Jupyter Notebook</b>, en interaktiv IDE (<i>Interactive Development Environment</i>) för programmeringsspråket Python. I Jupyter skrivs instruktionerna i celler för att organisera koden."
   ]
  },
  {
   "cell_type": "markdown",
   "metadata": {},
   "source": [
    "<div style=\"text-align: right\"><a href='#section0' align='left'>Tillbaka till början</a></div>\n",
    "<a id='section1'></a>\n",
    "<h3>1 A. Min första kod och att hantera Jupyter</h3>\n",
    "\n",
    "Vi testar nu att skriva meddelanden till skärmen med den inbyggda instruktionen <code>print</code>. När instruktionen genomförts av datorn kommer ''Hello World!'' skrivas ut nedanför cellen.\n",
    "\n",
    "Markera cellen du vill köra genom att <b>klicka i den</b>\n",
    "\n",
    "Klicka sen på <b>run cell</b> i raden högst upp på sidan, alternativt tryck <b>Shift+Enter</b>.\n",
    "\n",
    "\n",
    "<img src=\"kör_cell.PNG\" width=\"500\" align=\"left\"/>\n",
    "\n"
   ]
  },
  {
   "cell_type": "code",
   "execution_count": null,
   "metadata": {},
   "outputs": [],
   "source": [
    "# Detta skriver ut \"Hello World!\" på skärmen\n",
    "print(\"Hello World!\")"
   ]
  },
  {
   "cell_type": "code",
   "execution_count": null,
   "metadata": {},
   "outputs": [],
   "source": [
    "print('Prova att köra den här cellen!')\n",
    "\n",
    "# Det här är en kommentar och kommer inte att påverka resten av koden.\n",
    "# Du kan exekvera flera instruktioner i sekvens genom att skriva dem på en ny rad.\n",
    "# - Prova att använda print själv (ta bort # och skriv valfri text)\n",
    "\n",
    "#print('Skriv din text här')"
   ]
  },
  {
   "cell_type": "markdown",
   "metadata": {},
   "source": [
    "<p>Prova att skapa en helt ny cell efter den här cellen, skriv lite kod, och kör cellen.<br>\n",
    "<ol>\n",
    "    <li>Markera den här cellen genom att klicka i den</li>\n",
    "    <li>Klicka på <b>insert cell below (se bild nedan)</b></li>\n",
    "    <li>Skriv kod i den nya cellen</li>\n",
    "    <li>Se till att den nya cellen är markerad och klicka på <b>run cell</b></li>\n",
    "</ol>\n",
    "\n",
    "<img src=\"insert_cell.PNG\" width=\"500\" align=\"left\"/>"
   ]
  },
  {
   "cell_type": "markdown",
   "metadata": {},
   "source": [
    "Instruktionen <code>print</code> är en <i>funktion</i>, en samling underliggande instruktioner som förpackats till en ny instruktion med ett mer avancerat syfte. <code>print</code> tar ett <i>argument</i>; det vi önskar skriva ut på skärmen.\n",
    "\n",
    "Jupyter skrivet automatiskt ut resultatet från den sista raden i en cell. Resultatet från <code>print</code> skrivs alltid ut. "
   ]
  },
  {
   "cell_type": "code",
   "execution_count": null,
   "metadata": {},
   "outputs": [],
   "source": [
    "print(\"Hello World!\")\n",
    "\"Andra raden skrivs inte ut\"\n",
    "\"Tredje raden skrivs ut\""
   ]
  },
  {
   "cell_type": "markdown",
   "metadata": {},
   "source": [
    "#### Lite om syntax\n",
    "Syntax är det regelverk som programmeringspråket sätter på sin kod - hur ord och instruktioner skall sammanfogas. Det finns i synnerhet tre delar av syntaxen som följer egna regler.\n",
    "\n",
    "- Kommentarer\n",
    "- Variabler och funktioner\n",
    "- Nyckelord\n"
   ]
  },
  {
   "cell_type": "markdown",
   "metadata": {},
   "source": [
    "##### Kommentarer\n",
    "Kommentarer är bitar av text som programmeringsspråket ignorerar. De påverkar inte instruktionerna som skrivs och finns endast där för att förklara och förtydliga kod. I Python kan man skriva kommentarer på ett sätt; med grindtecken ``#``."
   ]
  },
  {
   "cell_type": "code",
   "execution_count": 1,
   "metadata": {},
   "outputs": [],
   "source": [
    "# En kommentar på\n",
    "# flera rader, som inte stöds\n",
    "# av #"
   ]
  },
  {
   "cell_type": "markdown",
   "metadata": {},
   "source": [
    "##### Variabler och funktioner\n",
    "Funktioner är sammansatta instruktioner som packeterats för att utföra en specifik uppgift. Ett exempel är ``print`` som är namnet på en funktion som skriver text till skärmen. \n",
    "\n",
    "Funktioner har stöd för *argument*, eller parametrar. I fallet ``print`` tar den ett argument som placeras inom parentes efter funktionsnamnet, och skriver ut dess värde till skärmen: "
   ]
  },
  {
   "cell_type": "code",
   "execution_count": null,
   "metadata": {},
   "outputs": [],
   "source": [
    "print(\"Hej!\")"
   ]
  },
  {
   "cell_type": "markdown",
   "metadata": {},
   "source": [
    "Egentligen tar ``print`` flera argument, som separeras av ett komma-tecken. Det är därför viktigt att komma ihåg att decimaltal separeras av decimal-**punkt** och inte decimalkomma inom programmering."
   ]
  },
  {
   "cell_type": "code",
   "execution_count": null,
   "metadata": {},
   "outputs": [],
   "source": [
    "print(\"Hej!\", \"Hallå!\", \"Tjabba.\")"
   ]
  },
  {
   "cell_type": "markdown",
   "metadata": {},
   "source": [
    "<code>print</code> ställer vissa krav på argumenten. Det måste vara en så kallad sträng (eng. <i>string</i>), vilken används för att representera mänsklig text i kod. I Python betecknas strängar med citationstecken (ex.vis. \"sträng\") eller apostrofer (ex.vis. 'sträng').\n",
    "\n",
    "Variabler och funktioner är behållare av information. En variabel definieras med ett tilldelningstecken ``=``, exempelvis så att"
   ]
  },
  {
   "cell_type": "code",
   "execution_count": null,
   "metadata": {},
   "outputs": [],
   "source": [
    "a = 42"
   ]
  },
  {
   "cell_type": "markdown",
   "metadata": {},
   "source": [
    "vilket tilldelar variabeln ``a`` värdet 42. Variabelnamn har restriktioner: De får inte innehålla specialtecken eller punktuation (&/,. o.s.v), och får inte innehålla mellanslag.\n",
    "\n",
    "En ytterligare begränsning är att variabelnamn inte får vara samma som Pythons inbyggda *nyckelord*.\n",
    "\n",
    "##### Nyckelord\n",
    "\n",
    "Vi ska inte gå igenom alla nyckelord här, utan de används för mer avancerade begrepp som kommer senare i kursen. Några viktiga nyckelord som man inte kan döpa sina variabler eller funktioner till är:\n",
    "\n",
    "- ``def``: Definierar en ny funktion\n",
    "- ``return``: Betecknar returvärdet av funktioner\n",
    "- ``for``: Upprepar en instruktion ett visst antal gånger\n",
    "- ``while``: Upprepar en instruktion tills ett villkor är uppfyllt\n",
    "- ``with``: Avgränsar ett så kallat scope.\n",
    "\n",
    "Vi går igenom detta allt eftersom kursen fortsätter."
   ]
  },
  {
   "cell_type": "markdown",
   "metadata": {},
   "source": [
    "<div style=\"text-align: right\"><a href='#section0' align='left'>Tillbaka till början</a></div>\n",
    "<a id='section2'></a>\n",
    "<h3>2A. Lite enkel matte</h3>\n",
    "\n",
    "Vad många inte känner till är att programmering uppfanns för att automatisera tidskrävande matematiska beräkningar. Därför finns så kallade matematiska ''operatorer'' (räknesätt) inbyggda i de flesta programmeringsspråk. \n",
    "\n",
    "Observera att alla heltal skrivs utan landsformattering, exempelvis avskiljare för tusental. Man skriver alltså <code>10000</code> inte <code>10'000, 10 000, 10.000</code>.\n",
    "\n",
    "Decimaltal skrivs med decimalpunkt (ex.vis. <code>18.97</code> inte <code>18,97</code>), vilket är ISO-standard.\n",
    "\n",
    "Du kan genomföra enkla beräkningar direkt i en cell, då Jupyter alltid skriver sista radens resultat till skärmen. Vill du skriva ut fler beräkningar används lämpligtvis <code>print</code>."
   ]
  },
  {
   "cell_type": "code",
   "execution_count": null,
   "metadata": {},
   "outputs": [],
   "source": [
    "18.97+10000"
   ]
  },
  {
   "cell_type": "code",
   "execution_count": null,
   "metadata": {},
   "outputs": [],
   "source": [
    "print(1+1)\n",
    "\n",
    "print(1-2)\n",
    "\n",
    "print(5/2) # Division\n",
    "\n",
    "print(5//2) # Betecknar heltalsdivision\n",
    "\n",
    "print(146*69) # Multiplikation\n",
    "\n",
    "print(5 % 2) # Betecknar rest från division (så kallad modulus)\n",
    "\n",
    "#prova själv!"
   ]
  },
  {
   "cell_type": "markdown",
   "metadata": {},
   "source": [
    "<div style=\"text-align: right\"><a href='#section0' align='left'>Tillbaka till början</a></div>\n",
    "<a id='section3'></a>\n",
    "<h3>2B. Spara data i variabel</h3>\n",
    "Det är ofta smidigt att kunna spara sina textsträngar eller beräkningar för senare användning. För detta syfte används <i>variabler</i>. Variabler tilldelas ett värde med hjälp av operatorn <code>=</code>, som skall läsas 'tilldelas värdet', absolut inte 'är lika med'.\n",
    "\n",
    "Variabelnamn skrivs med vanliga tecken, utan citationstecken, specialkaraktärer och mellanslag. Exempelvis kan vi sätta värdet på variabeln <code>a</code> genom att skriva <code>a=10</code>. Det är en förvirrande notation, men om vi vill testa om <code>a</code>:s värde är 10, skrivs <code>a==10</code>, vilket returnerar \"sant\".\n",
    "\n",
    "Variabler som tilldelats ett värde <b>behåller sitt värde mellan celler</b> tills de omdefinieras eller Jupyter startas om."
   ]
  },
  {
   "cell_type": "code",
   "execution_count": null,
   "metadata": {},
   "outputs": [],
   "source": [
    "# Tilldela ett värde till en variabel\n",
    "min_första_variabel = 2\n",
    "\n",
    "print('Min första variabel:', min_första_variabel)\n",
    "\n",
    "# Tilldela ett värde hämtat från en tidigare definierad variabel\n",
    "min_andra_variabel = min_första_variabel+10\n",
    "\n",
    "print('Min andra variabel:', min_andra_variabel)\n",
    "\n",
    "# Genomför beräkningar med variabler som om de vore tal.\n",
    "print('Min första variabel + min andra variabel:', (min_första_variabel + min_andra_variabel))\n"
   ]
  },
  {
   "cell_type": "code",
   "execution_count": null,
   "metadata": {},
   "outputs": [],
   "source": [
    "# De finns fortfarande kvar \"separat\":\n",
    "\n",
    "print('Fortfarande samma värde på min första variabel:', min_första_variabel)"
   ]
  },
  {
   "cell_type": "markdown",
   "metadata": {},
   "source": [
    "**Utmaning!**\n",
    "\n",
    "1. Spara din ålder som siffra i en variabel med samma namn som ditt förnamn.\n",
    "2. Spara din värdet av din åldersvariabel - 15 i en variabel vid namn *min_önskeålder*."
   ]
  },
  {
   "cell_type": "code",
   "execution_count": null,
   "metadata": {},
   "outputs": [],
   "source": [
    "victor = 25\n",
    "min_önskeålder = victor-15\n",
    "\n",
    "min_önskeålder"
   ]
  }
 ],
 "metadata": {
  "kernelspec": {
   "display_name": "Python 3",
   "language": "python",
   "name": "python3"
  },
  "language_info": {
   "codemirror_mode": {
    "name": "ipython",
    "version": 3
   },
   "file_extension": ".py",
   "mimetype": "text/x-python",
   "name": "python",
   "nbconvert_exporter": "python",
   "pygments_lexer": "ipython3",
   "version": "3.7.6"
  }
 },
 "nbformat": 4,
 "nbformat_minor": 4
}
