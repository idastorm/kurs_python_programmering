{
 "cells": [
  {
   "cell_type": "markdown",
   "metadata": {},
   "source": [
    "<div class=\"image\">\n",
    "    <img src=\"cdh_logga.png\" width=\"1000\" align=\"top\"/>\n",
    "</div>\n",
    "<h1>Hej och välkomna till CDH:s kurs i Python-programmering i Jupyter Notebooks!</h1><br>\n",
    "Python är ett programmeringsspråk som kan användas för olika applikationer såsom analys och visualisering av data. Data kan betyda text(er) eller numerisk data av olika slag. <a href=https://jupyter.org/>Jupyter Notebooks</a> är ett alternativ för att läsa och utföra koden som vi har valt att använda eftersom går att blanda instruktioner (i ”markdown language”) med ”celler” med kod. Endast den kod du har i just cellen du ”kör” kommer att utföras. <br><br>\n",
    "Vi kommer börja på en nivå som inte kräver förkunskaper, men också visa på några av de möjligheter som finns efter man har lärt sig grunderna. Det finns mycket resurser online, och vi har samlat lite nyttiga länkar som ni kan följa beroende på intresse.  \n",
    "<br>\n",
    "<br>\n",
    "<a id='section0'></a>\n",
    "<h3>Innehåll</h3>\n",
    "    <ol>\n",
    "        Introduktion<br><br>\n",
    "        <li>Programmeringsmiljön</li>\n",
    "            <ol>\n",
    "                <li><a href='#section1'>Min första kod och att hantera Jupyter Notebook</a></li><br>\n",
    "            </ol>    \n",
    "        <li>Grundläggande programmering</li>\n",
    "            <ol>\n",
    "                <li><a href='#section2'>Lite enkel matte</a></li><br>\n",
    "                <li><a href='#section3'>Spara data i variabel</a></li><br>\n",
    "            </ol>\n",
    "        <li>Funktioner</li>\n",
    "            <ol>\n",
    "                <li><a href='#section4'>Inbygda funktioner</a></li><br>\n",
    "                <li><a href='#section5'>Importera funktioner</a></li><br>\n",
    "                <li><a href='#section6'>Skapa egna funktioner</a></li><br>\n",
    "            </ol>\n",
    "        <li>Listor</li>\n",
    "            <ol>\n",
    "                <li><a href='#section7'>Att skapa listor med data</a></li><br>\n",
    "                <li><a href='#section8'>Manipulera listor</a></li><br>\n",
    "                <li><a href='#section9'>Inbyggda funktioner för listor</a></li>\n",
    "            </ol><br>"
   ]
  },
  {
   "cell_type": "markdown",
   "metadata": {},
   "source": [
    "\n",
    "<h3>Introduktion</h3>\n",
    "\n",
    "Syftet med den här kursen är inte att kursdeltagarna skall bli programmerare. Snarare är tanken att väcka intresse för programmering som ett verktyg (liksom Word, Excel och andra mjukvaror), samt skapa förståelse för vad utveckling av program innebär i praktiken.\n",
    "\n",
    "<h4>Vad är kod?</h4>\n",
    "Kod har många betydelser, och vanligtvis kallas inte programmering numer att <i>koda</i>. Koden i sig är språket som används för att representera skrift, bilder eller instruktion i kommunikation med datorer. \n",
    "\n",
    "<h4>Vad är programmering?</h4>\n",
    "Programmering är ett verktyg för att skriva instruktioner till datorer i kod. Programmeringen utgår från ett av flera <i> <a href='https://en.wikipedia.org/wiki/Programming_paradigm'>paradigm</a></i>; samt ett programmeringsspråk. I vårt fall skall vi använda programmeringsspråket Python som använder ett imperativt paradigm - det innebär i huvudsak att\n",
    "\n",
    "- Vi definierar ordningen på våra instruktioner\n",
    "- Endast en instruktion i taget tolkas av datorn.\n",
    "\n",
    "<h4>Hur programmerar man?</h4>\n",
    "När programmeraren skrivit sina instruktioner skickas det till program som tolkar det valda programspråket och omvandlar det till 1:or och 0:or (såkallad binärkod) för datorn att genomföra. Ett exempel på ett sådant program är <b>Jupyter Notebook</b>, en interaktiv IDE (<i>Interactive Development Environment</i>) för programmeringsspråket Python. I Jupyter skrivs instruktionerna i celler för att organisera koden."
   ]
  },
  {
   "cell_type": "code",
   "execution_count": null,
   "metadata": {},
   "outputs": [],
   "source": []
  }
 ],
 "metadata": {
  "kernelspec": {
   "display_name": "Python 3",
   "language": "python",
   "name": "python3"
  },
  "language_info": {
   "codemirror_mode": {
    "name": "ipython",
    "version": 3
   },
   "file_extension": ".py",
   "mimetype": "text/x-python",
   "name": "python",
   "nbconvert_exporter": "python",
   "pygments_lexer": "ipython3",
   "version": "3.7.6"
  }
 },
 "nbformat": 4,
 "nbformat_minor": 4
}
