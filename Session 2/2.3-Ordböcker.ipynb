{
 "cells": [
  {
   "cell_type": "markdown",
   "metadata": {},
   "source": [
    "# Ordböcker\n",
    "\n",
    "Ordböcker, eller hädanefter *dictionaries* är en generalisering av listor. I förra avsnittet diskuterade vi listor med index likt en katalog, eller ett arkiv. Varje element i listan hämtas med index. I verkligheten är index mindre rigida, och inte bara en siffra. \n",
    "\n",
    "I exempelvis ett bibliografiskt index hittar ni publikationer efter journal, år och författare. Journal, författare och år utgör då er *nyckel*, och den erhållna publikationen ert *värde*. \n",
    "\n",
    "Ordböcker tillåter er att hämta element i listor med vilken typ av index ni önskar - heltal, strängar eller till och med egenbyggda funktioner. De är dock inte riktigt lika smidiga att arbeta med."
   ]
  },
  {
   "cell_type": "markdown",
   "metadata": {},
   "source": [
    "## Dictionaries: Nycklar och värden\n",
    "\n",
    "En lista definieras med hjälp av hakparenteser: ``[123, \"namn\", 3.14]``. \n",
    "\n",
    "Ett dictionary definieras med klammrar eller måsvingar: ``{\"heltalet\": 123, \"strängen\": \"namn\", \"flyttalet\": 3.14}`` samt av *par* av nycklar-värden. Nyckeln skrivs innan ett kolon, och värdet efter kolon, ``nyckel : värde``. Dictionaries kan på detta vis indexeras med hjälp av nyckeln, medan man i listor måste känna till dess absoluta position."
   ]
  },
  {
   "cell_type": "code",
   "execution_count": 1,
   "metadata": {},
   "outputs": [],
   "source": [
    "l = [123, \"namn\", 3.14]\n",
    "\n",
    "d = {\"heltalet\": 123, \"strängen\": \"namn\", \"flyttalet\": 3.14}"
   ]
  },
  {
   "cell_type": "code",
   "execution_count": 3,
   "metadata": {},
   "outputs": [
    {
     "name": "stdout",
     "output_type": "stream",
     "text": [
      "123\n"
     ]
    }
   ],
   "source": [
    "print(l[0])"
   ]
  },
  {
   "cell_type": "code",
   "execution_count": 6,
   "metadata": {},
   "outputs": [
    {
     "name": "stdout",
     "output_type": "stream",
     "text": [
      "123\n",
      "namn\n",
      "3.14\n"
     ]
    }
   ],
   "source": [
    "print(d[\"heltalet\"])\n",
    "\n",
    "print(d[\"strängen\"])\n",
    "\n",
    "print(d[\"flyttalet\"])"
   ]
  },
  {
   "cell_type": "markdown",
   "metadata": {},
   "source": [
    "Denna metod utgör en väsentligt mer läsbar och kontrollerad indexering. Nackdelen är att eftersom även nycklarna måste fyllas i för varje element, är det något mer att skriva.\n",
    "\n",
    "Vi observerar att man inte nödvändigtvis måste använda strängar för att indexera som ovan, utan även variabler och heltal."
   ]
  },
  {
   "cell_type": "code",
   "execution_count": 10,
   "metadata": {},
   "outputs": [
    {
     "name": "stdout",
     "output_type": "stream",
     "text": [
      "en etta\n",
      "en tvåa som flyttal\n",
      "7\n"
     ]
    }
   ],
   "source": [
    "d = {1: \"en etta\", 2.0: \"en tvåa som flyttal\", 12: 7}\n",
    "\n",
    "print(d[1])\n",
    "\n",
    "print(d[2.0])\n",
    "\n",
    "print(d[12])"
   ]
  },
  {
   "cell_type": "markdown",
   "metadata": {},
   "source": [
    "Detta kan också leda till förvirring. Man kan använda *vad som helst* för indexering, och i bland kan det bli ottydligt vad som är nyckeln och vad som är värdet:"
   ]
  },
  {
   "cell_type": "code",
   "execution_count": 15,
   "metadata": {},
   "outputs": [
    {
     "name": "stdout",
     "output_type": "stream",
     "text": [
      "0\n",
      "1\n"
     ]
    }
   ],
   "source": [
    "d = {1: 0, 0: 1, print: \"Ja, man kan använda funktioner som index.\"}\n",
    "\n",
    "# Förvirrande nycklar och värde\n",
    "print(d[1]) # returnerar 0\n",
    "print(d[0]) # returnerar 1\n"
   ]
  },
  {
   "cell_type": "code",
   "execution_count": 13,
   "metadata": {},
   "outputs": [
    {
     "data": {
      "text/plain": [
       "'Ja, man kan använda funktioner som index.'"
      ]
     },
     "execution_count": 13,
     "metadata": {},
     "output_type": "execute_result"
    }
   ],
   "source": [
    "# Man kan till och med använda funktioner som nycklar\n",
    "d[print]"
   ]
  },
  {
   "cell_type": "markdown",
   "metadata": {},
   "source": [
    "## Inbyggda funktioner för dictionaries\n",
    "\n",
    "Liksom listor så har dictionaries egna, inbyggda funktioner för att lägga till och ta bort element. De viktigaste är\n",
    "\n",
    "- ``.update(d)``: Lägger till ett nytt nyckel-värde-par ``d`` i ordboken\n",
    "- ``.pop(key)``: Tar bort nyckel-värde-paret med nyckeln ``key``.\n",
    "- ``.keys()``: Ger alla nycklar i ordboken\n",
    "- ``.values()``: Ger alla värden i ordboken"
   ]
  },
  {
   "cell_type": "code",
   "execution_count": null,
   "metadata": {},
   "outputs": [],
   "source": []
  },
  {
   "cell_type": "markdown",
   "metadata": {},
   "source": [
    "## Exempel: Ett bibliografiskt index\n",
    "I det här avsnittet ska vi illustrera dictionaries med just exemplet bibliografiska index. Det blir en grov förenkling som snarare liknar en mappstruktur, men det visar också hur viktiga väldefinierade. "
   ]
  },
  {
   "cell_type": "code",
   "execution_count": 16,
   "metadata": {},
   "outputs": [
    {
     "data": {
      "text/plain": [
       "{1997: ['Duke Of The Ancients', 'Enemy Of Greatness', 'Girls With Pride'],\n",
       " 1998: ['Swindlers Of Wood',\n",
       "  'Assassins And Heirs',\n",
       "  'Witches And Slaves',\n",
       "  'Victory Without Hope'],\n",
       " 1999: ['Chase Without Time', 'Delaying The Ashes', 'Destroying The Hunter'],\n",
       " 2000: ['Monster Of The Void']}"
      ]
     },
     "execution_count": 16,
     "metadata": {},
     "output_type": "execute_result"
    }
   ],
   "source": [
    "{\n",
    "    1997: [\"Duke Of The Ancients\", \"Enemy Of Greatness\",\"Girls With Pride\"],\n",
    "    1998: [\"Swindlers Of Wood\", \"Assassins And Heirs\", \"Witches And Slaves\", \"Victory Without Hope\"],\n",
    "    1999: [\"Chase Without Time\", \"Delaying The Ashes\", \"Destroying The Hunter\"], \n",
    "    2000: [\"Monster Of The Void\"]\n",
    "}"
   ]
  },
  {
   "cell_type": "code",
   "execution_count": null,
   "metadata": {},
   "outputs": [],
   "source": []
  },
  {
   "cell_type": "code",
   "execution_count": null,
   "metadata": {},
   "outputs": [],
   "source": []
  },
  {
   "cell_type": "code",
   "execution_count": null,
   "metadata": {},
   "outputs": [],
   "source": []
  },
  {
   "cell_type": "code",
   "execution_count": null,
   "metadata": {},
   "outputs": [],
   "source": []
  },
  {
   "cell_type": "code",
   "execution_count": null,
   "metadata": {},
   "outputs": [],
   "source": []
  }
 ],
 "metadata": {
  "kernelspec": {
   "display_name": "Python 3.8.3 64-bit",
   "language": "python",
   "name": "python38364bitc07ce002ff1d424798a183d93faa705c"
  },
  "language_info": {
   "codemirror_mode": {
    "name": "ipython",
    "version": 3
   },
   "file_extension": ".py",
   "mimetype": "text/x-python",
   "name": "python",
   "nbconvert_exporter": "python",
   "pygments_lexer": "ipython3",
   "version": "3.8.3"
  }
 },
 "nbformat": 4,
 "nbformat_minor": 4
}
