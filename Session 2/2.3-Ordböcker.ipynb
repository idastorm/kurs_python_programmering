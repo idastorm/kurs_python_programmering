{
 "cells": [
  {
   "cell_type": "markdown",
   "metadata": {},
   "source": [
    "<div class=\"image\">\n",
    "    <img src=\"cdh_logga.PNG\" width=\"1000\" align=\"top\"/>\n",
    "</div>\n",
    "\n",
    "\n",
    "<a id='section0'></a>\n",
    "## Ordböcker\n",
    "\n",
    "<h3>Innehåll</h3><br>\n",
    "    <ul>\n",
    "        <li><a href='#section1'>1A. Dictionaries: Nycklar och värden</a></li><br>\n",
    "        <li><a href='#section2'>1B. Inbyggda funktioner för dictionaries</a></li><br>\n",
    "        <li><a href='#section3'>1C. Exempel: Ett bibliografiskt index</a></li><br>\n",
    "    </ul>    \n",
    "    "
   ]
  },
  {
   "cell_type": "markdown",
   "metadata": {},
   "source": [
    "# Ordböcker\n",
    "\n",
    "Ordböcker, eller hädanefter *dictionaries* är en generalisering av listor. I förra avsnittet diskuterade vi listor med index likt en katalog, eller ett arkiv. Varje element i listan hämtas med index. I verkligheten är index mindre rigida, och inte bara en siffra. \n",
    "\n",
    "I exempelvis ett bibliografiskt index hittar ni publikationer efter journal, år och författare. Journal, författare och år utgör då er *nyckel*, och den erhållna publikationen ert *värde*. \n",
    "\n",
    "Ordböcker tillåter er att hämta element i listor med vilken typ av index ni önskar - heltal, strängar eller till och med egenbyggda funktioner. De är dock inte riktigt lika smidiga att arbeta med."
   ]
  },
  {
   "cell_type": "code",
   "execution_count": null,
   "metadata": {},
   "outputs": [],
   "source": [
    "<div style=\"text-align: right\"><a href='#section0' align='left'>Tillbaka till början</a></div>\n",
    "<a id='section1'></a>\n",
    "\n",
    "## 1A. Dictionaries: Nycklar och värden\n",
    "\n",
    "En lista definieras med hjälp av hakparenteser: ``[123, \"namn\", 3.14]``. \n",
    "\n",
    "Ett dictionary definieras med klammrar eller måsvingar: ``{\"heltalet\": 123, \"strängen\": \"namn\", \"flyttalet\": 3.14}`` samt av *par* av nycklar-värden. Nyckeln skrivs innan ett kolon, och värdet efter kolon, ``nyckel : värde``. Dictionaries kan på detta vis indexeras med hjälp av nyckeln, medan man i listor måste känna till dess absoluta position."
   ]
  },
  {
   "cell_type": "code",
   "execution_count": 1,
   "metadata": {},
   "outputs": [],
   "source": [
    "l = [123, \"namn\", 3.14]\n",
    "\n",
    "d = {\"heltalet\": 123, \"strängen\": \"namn\", \"flyttalet\": 3.14}\n",
    "\n",
    "# Kan också skrivas med tydligare indentering\n",
    "# d = {\n",
    "#      \"heltalet\": 123, \n",
    "#      \"strängen\": \"namn\", \n",
    "#      \"flyttalet\": 3.14\n",
    "#     }"
   ]
  },
  {
   "cell_type": "code",
   "execution_count": 3,
   "metadata": {},
   "outputs": [
    {
     "name": "stdout",
     "output_type": "stream",
     "text": [
      "123\n"
     ]
    }
   ],
   "source": [
    "print(l[0])"
   ]
  },
  {
   "cell_type": "code",
   "execution_count": 6,
   "metadata": {},
   "outputs": [
    {
     "name": "stdout",
     "output_type": "stream",
     "text": [
      "123\n",
      "namn\n",
      "3.14\n"
     ]
    }
   ],
   "source": [
    "print(d[\"heltalet\"])\n",
    "\n",
    "print(d[\"strängen\"])\n",
    "\n",
    "print(d[\"flyttalet\"])"
   ]
  },
  {
   "cell_type": "markdown",
   "metadata": {},
   "source": [
    "**Utmaning!**\n",
    "\n",
    "Skapa ett dictionary som har följande nycklar\n",
    "- 'namn'\n",
    "- 'efternamn'\n",
    "- 'antal barn'\n",
    "\n",
    "med din egen information (eller påhittad) som värden."
   ]
  },
  {
   "cell_type": "code",
   "execution_count": null,
   "metadata": {},
   "outputs": [],
   "source": []
  },
  {
   "cell_type": "markdown",
   "metadata": {},
   "source": [
    "Denna metod utgör en väsentligt mer läsbar och kontrollerad indexering. Nackdelen är att eftersom även nycklarna måste fyllas i för varje element, är det något mer att skriva.\n",
    "\n",
    "Vi observerar att man inte nödvändigtvis måste använda strängar för att indexera som ovan, utan även variabler och heltal."
   ]
  },
  {
   "cell_type": "code",
   "execution_count": 10,
   "metadata": {},
   "outputs": [
    {
     "name": "stdout",
     "output_type": "stream",
     "text": [
      "en etta\n",
      "en tvåa som flyttal\n",
      "7\n"
     ]
    }
   ],
   "source": [
    "d = {1: \"en etta\", 2.0: \"en tvåa som flyttal\", 12: 7}\n",
    "\n",
    "print(d[1])\n",
    "\n",
    "print(d[2.0])\n",
    "\n",
    "print(d[12])"
   ]
  },
  {
   "cell_type": "markdown",
   "metadata": {},
   "source": [
    "Detta kan också leda till förvirring. Man kan använda *vad som helst* för indexering, och i bland kan det bli ottydligt vad som är nyckeln och vad som är värdet:"
   ]
  },
  {
   "cell_type": "code",
   "execution_count": 15,
   "metadata": {},
   "outputs": [
    {
     "name": "stdout",
     "output_type": "stream",
     "text": [
      "0\n",
      "1\n"
     ]
    }
   ],
   "source": [
    "d = {1: 0, 0: 1, print: \"Ja, man kan använda funktioner som index.\"}\n",
    "\n",
    "# Förvirrande nycklar och värde\n",
    "print(d[1]) # returnerar 0\n",
    "print(d[0]) # returnerar 1\n"
   ]
  },
  {
   "cell_type": "code",
   "execution_count": 13,
   "metadata": {},
   "outputs": [
    {
     "data": {
      "text/plain": [
       "'Ja, man kan använda funktioner som index.'"
      ]
     },
     "execution_count": 13,
     "metadata": {},
     "output_type": "execute_result"
    }
   ],
   "source": [
    "# Man kan till och med använda funktioner som nycklar\n",
    "d[print]"
   ]
  },
  {
   "cell_type": "markdown",
   "metadata": {},
   "source": [
    "**Utmaning!**\n",
    "\n",
    "I en enkel frekvensanalys av en text erhålls följande antal instanser av ord i texten:\n",
    "\n",
    "- *glad* (10235 ggr)\n",
    "- *oemotståndlig* (235 ggr)\n",
    "- *elak* (4089 ggr)\n",
    "- *vämjelig* (24 ggr)\n",
    "- *likgiltig* (124 ggr)\n",
    "\n",
    "Skapa ett dictionary vid namn *d* som sparar ordens frekvenser, inte antal."
   ]
  },
  {
   "cell_type": "code",
   "execution_count": 4,
   "metadata": {},
   "outputs": [],
   "source": [
    "# d = ..."
   ]
  },
  {
   "cell_type": "code",
   "execution_count": 5,
   "metadata": {},
   "outputs": [
    {
     "data": {
      "text/plain": [
       "<BarContainer object of 5 artists>"
      ]
     },
     "execution_count": 5,
     "metadata": {},
     "output_type": "execute_result"
    },
    {
     "data": {
      "image/png": "[encoded data removed]",
      "text/plain": [
       "<Figure size 432x288 with 1 Axes>"
      ]
     },
     "metadata": {
      "needs_background": "light"
     },
     "output_type": "display_data"
    }
   ],
   "source": [
    "# Kör denna cell för att visualisera dina frekvenser\n",
    "import matplotlib.pyplot as plt\n",
    "\n",
    "plt.bar(d.keys(), d.values())"
   ]
  },
  {
   "cell_type": "markdown",
   "metadata": {},
   "source": [
    "<div style=\"text-align: right\"><a href='#section0' align='left'>Tillbaka till början</a></div>\n",
    "<a id='section1'></a>\n",
    "\n",
    "## 1B. Inbyggda funktioner för dictionaries\n",
    "\n",
    "Liksom listor så har dictionaries egna, inbyggda funktioner för att lägga till och ta bort element. De viktigaste är\n",
    "\n",
    "- ``.update(d)``: Lägger till ett nytt nyckel-värde-par ``d`` i ordboken\n",
    "- ``.pop(key)``: Tar bort nyckel-värde-paret med nyckeln ``key``.\n",
    "- ``.keys()``: Ger alla nycklar i ordboken\n",
    "- ``.values()``: Ger alla värden i ordboken"
   ]
  },
  {
   "cell_type": "code",
   "execution_count": null,
   "metadata": {},
   "outputs": [],
   "source": []
  },
  {
   "cell_type": "markdown",
   "metadata": {},
   "source": [
    "<div style=\"text-align: right\"><a href='#section0' align='left'>Tillbaka till början</a></div>\n",
    "<a id='section3'></a>\n",
    "\n",
    "## 1C. Exempel: Ett bibliografiskt index\n",
    "I det här avsnittet ska vi illustrera dictionaries med just exemplet bibliografiska index. Det blir en grov förenkling som snarare liknar en mappstruktur, men det visar också hur viktiga väldefinierade nycklar och värden är.\n",
    "\n",
    "Antag att vi har ett antal böcker med vissa ugivningsår. Vi kan samla alla utgivningsår som index och spara alla böcker för det året i en lista. \n",
    "\n",
    "Nyckeln till bibliografin blir då *årtalet* och värdet *en lista med titlar som strängar*."
   ]
  },
  {
   "cell_type": "code",
   "execution_count": 7,
   "metadata": {},
   "outputs": [],
   "source": [
    "bib_index = {\n",
    "    1997: [\"Duke Of The Ancients\", \"Enemy Of Greatness\",\"Girls With Pride\"],\n",
    "    1998: [\"Swindlers Of Wood\", \"Assassins And Heirs\", \"Witches And Slaves\", \"Victory Without Hope\"],\n",
    "    1999: [\"Chase Without Time\", \"Delaying The Ashes\", \"Destroying The Hunter\"], \n",
    "    2000: [\"Monster Of The Void\"]\n",
    "}"
   ]
  },
  {
   "cell_type": "code",
   "execution_count": 6,
   "metadata": {},
   "outputs": [
    {
     "data": {
      "text/plain": [
       "['Duke Of The Ancients', 'Enemy Of Greatness', 'Girls With Pride']"
      ]
     },
     "execution_count": 6,
     "metadata": {},
     "output_type": "execute_result"
    }
   ],
   "source": [
    "# Returnerar alla böcker från 1997\n",
    "bib_index[1997]"
   ]
  },
  {
   "cell_type": "markdown",
   "metadata": {},
   "source": [
    "**Utmaning!**\n",
    "\n",
    "Utöka vårt bibliografiska index med följande uppslag:\n",
    "\n",
    "- *'Winds of Winter'*, 2023\n",
    "- *'Farewell Space Guardian'*, 2001\n",
    "- *'The Too-Many-Body Problem'*, 2002\n",
    "- *'Avantgard Streets: Nottingham'*, 2002\n",
    "\n",
    "Observera att varje bok ska ligga i en lista så att man kan lägga till fler till varje år."
   ]
  },
  {
   "cell_type": "code",
   "execution_count": null,
   "metadata": {},
   "outputs": [],
   "source": []
  }
 ],
 "metadata": {
  "kernelspec": {
   "display_name": "Python 3",
   "language": "python",
   "name": "python3"
  },
  "language_info": {
   "codemirror_mode": {
    "name": "ipython",
    "version": 3
   },
   "file_extension": ".py",
   "mimetype": "text/x-python",
   "name": "python",
   "nbconvert_exporter": "python",
   "pygments_lexer": "ipython3",
   "version": "3.8.3"
  }
 },
 "nbformat": 4,
 "nbformat_minor": 4
}
