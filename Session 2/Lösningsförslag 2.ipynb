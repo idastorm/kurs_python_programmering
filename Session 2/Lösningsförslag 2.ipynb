{
 "cells": [
  {
   "cell_type": "markdown",
   "metadata": {},
   "source": [
    "**Utmaning!**\n",
    "Givet variabeln <code>text</code>, vad returneras av \n",
    "1. <code>text[-2]</code>\n",
    "2. <code>text[5]</code>\n",
    "3. <code>text[-7]</code>\n",
    "\n",
    "Motivera ditt svar!"
   ]
  },
  {
   "cell_type": "code",
   "execution_count": 1,
   "metadata": {},
   "outputs": [],
   "source": [
    "text = \"Hello there!\""
   ]
  },
  {
   "cell_type": "markdown",
   "metadata": {},
   "source": [
    "**Lösning**\n",
    "\n",
    "Kom ihåg följande:\n",
    "\n",
    "2. Strängar är som listor, där varje tecken är ett element. Första elementet i en lista nås av ``text[0]``, andra elementet av ``text[1]``. Det betyder att ``text[5]`` ger det sjätte tecknet, d.v.s. mellanslaget \" \".\n",
    "\n",
    "1. Minns att sista elementet av lista är ``text[-1]``. Det betyder att näst sista elementet ges av ``text[-2]``. Jämför med bilden för bakåtindexering.\n",
    "\n",
    "3. Börja räkna bakifrån från sista elementet med index ``-1``, vilket motsvarar \"!\". Näst sista är ``-2``, ``-3`` och så vidare tills ``-7``, vilket än en gång motsvarar mellanslaget \" \"."
   ]
  },
  {
   "cell_type": "markdown",
   "metadata": {},
   "source": [
    "**Utmaning!**\n",
    "\n",
    "Gör följande övningar på listan *en_lista_med_text*:\n",
    "\n",
    "1. Prova att ersätta Johan med valfritt namn (kom ihåg att använda det index Johan är på i den senast uppdaterade listan):\n",
    "2. Skapa en egen lista där du provar att mixa text och nummer. \n",
    "3. Hur tar man bort ett objekt i din nya lista? Prova att göra en sökning för att hitta svaret! "
   ]
  },
  {
   "cell_type": "code",
   "execution_count": 2,
   "metadata": {},
   "outputs": [],
   "source": [
    "en_lista_med_text=['Ida', 'Jonas', 'Johan', 'Jonathan', 'Kalle', 'Åsa', 'Stina']"
   ]
  },
  {
   "cell_type": "markdown",
   "metadata": {},
   "source": [
    "**Lösning**\n",
    "\n",
    "1. Att ersätta ett namn kan göras på två sätt - antingen tar man först bort namnet och lägger till ett nytt, eller också utnyttjar man indexeringen. Johan har index ``2`` i listan. Alltså kan vi skriva"
   ]
  },
  {
   "cell_type": "code",
   "execution_count": 3,
   "metadata": {},
   "outputs": [],
   "source": [
    "en_lista_med_text[2] = 'Victor' # Sätter värdet på tredje elementet till Victor istället för Johan\n",
    "print(en_lista_med_text)"
   ]
  },
  {
   "cell_type": "markdown",
   "metadata": {},
   "source": [
    "2. En lista definieras med hakparenteser och varje element måste separeras med komma-tecken."
   ]
  },
  {
   "cell_type": "code",
   "execution_count": 9,
   "metadata": {},
   "outputs": [],
   "source": [
    "egen_lista = [12, \"hallihallå\", 0.234]"
   ]
  },
  {
   "cell_type": "markdown",
   "metadata": {},
   "source": [
    "3. En lämplig googling för detta är \"python remove element list\". En bra sida för frågor och svar är StackOverflow. Det är bättre att googla på engelska än svenska vad gäller programmering. Det finns flera lösningar till detta, antingen kan man använda nyckelordet ``del``, som också tar bort variabler i allmänhet."
   ]
  },
  {
   "cell_type": "code",
   "execution_count": 5,
   "metadata": {},
   "outputs": [],
   "source": [
    "del egen_lista[1] # Tar bort \"hallihallå\"\n",
    "# del egen_lista # Tar bort hela listan"
   ]
  },
  {
   "cell_type": "markdown",
   "metadata": {},
   "source": [
    "Eftersom det det är lätt att råka skriva fel när man använder ``del``, och råka ta bort hela sin lista eller variabel, rekommenderar jag inte att man använder det. Den inbyggda funktionen ``.pop()`` tar som bekant bort sista elementet i en lista och returnerar det (jämför att plocka pappret högst upp i högen).\n",
    "\n",
    "Funktionen kan dock också ta ett valfritt argument, ``.pop(index)`` och ta bort önskat element med visst index:"
   ]
  },
  {
   "cell_type": "code",
   "execution_count": 10,
   "metadata": {},
   "outputs": [
    {
     "data": {
      "text/plain": [
       "'hallihallå'"
      ]
     },
     "execution_count": 10,
     "metadata": {},
     "output_type": "execute_result"
    }
   ],
   "source": [
    "egen_lista.pop(1) # Tar bort \"hallihallå\""
   ]
  },
  {
   "cell_type": "markdown",
   "metadata": {},
   "source": [
    "Denna metod kräver att du vet vilket index elementet finns på. Om du inte vet, utan vill ta bort ett specifikt element kan du använda den inbyggda funktionen ``.remove(element)``. "
   ]
  },
  {
   "cell_type": "code",
   "execution_count": 7,
   "metadata": {},
   "outputs": [],
   "source": [
    "egen_lista.remove('hallihallå') # Tar bort \"hallihallå\""
   ]
  },
  {
   "cell_type": "markdown",
   "metadata": {},
   "source": [
    "**Utmaning!**\n",
    "\n",
    "Skapa ett dictionary som har följande nycklar\n",
    "- 'namn'\n",
    "- 'efternamn'\n",
    "- 'antal barn'\n",
    "\n",
    "med din egen information (eller påhittad) som värden."
   ]
  },
  {
   "cell_type": "markdown",
   "metadata": {},
   "source": [
    "**Lösning**\n",
    "\n",
    "Ett dictionary definieras med klammrar, samt nyckel-värdespar, som separeras med kolon. Vi har fått alla nycklarna givna, och behöver bara fyllas i. Elementen (nyckel:värde) separeras med kommatecken, och kan också skrivas med ny rad för läslighet."
   ]
  },
  {
   "cell_type": "code",
   "execution_count": 11,
   "metadata": {},
   "outputs": [],
   "source": [
    "d1 = {'namn': 'Victor', 'efternamn': 'Wåhlstrand Skärström', 'antal barn': 0}\n",
    "\n",
    "d2 = {'namn': 'Victor', \n",
    "      'efternamn': 'Wåhlstrand Skärström', \n",
    "      'antal barn': 0}"
   ]
  },
  {
   "cell_type": "markdown",
   "metadata": {},
   "source": [
    "**Utmaning!**\n",
    "\n",
    "I en enkel frekvensanalys av en text erhålls följande antal instanser av ord i texten:\n",
    "\n",
    "- *glad* (10235 ggr)\n",
    "- *oemotståndlig* (235 ggr)\n",
    "- *elak* (4089 ggr)\n",
    "- *vämjelig* (24 ggr)\n",
    "- *likgiltig* (124 ggr)\n",
    "\n",
    "Skapa ett dictionary vid namn *d* som sparar ordens frekvenser, inte antal."
   ]
  },
  {
   "cell_type": "markdown",
   "metadata": {},
   "source": [
    "**Lösning**\n",
    "\n",
    "Vi gör på samma sätt som i förra uppgiften, men nu är både nycklar och (delvis) värdena givna. Antingen matar vi in endast antalet instanser, eller också beräknar vi deras frekvenser.\n",
    "\n",
    "Frekvensen beräknas genom att dividera med antalet ord. Vi måste först beräkna totala antalet:"
   ]
  },
  {
   "cell_type": "code",
   "execution_count": 12,
   "metadata": {},
   "outputs": [],
   "source": [
    "totalt_antal_ord = 10235 + 235 + 4089 + 24 + 124"
   ]
  },
  {
   "cell_type": "markdown",
   "metadata": {},
   "source": [
    "Vi skapar sedan ett dictionary med klammrar, kolon mellan nycklar och värden, och komma mellan varje element. Varje värde divideras med totala antalet ord för att få frekvensen. Man kan skippa detta steget, men då blir figuren omskalad till instanser istället. \n",
    "\n",
    "Observera att om totala antalet varierar exempelvis i tid är det väldigt viktigt att man beräknar totala antalet ord för varje tidssteg och dividerar."
   ]
  },
  {
   "cell_type": "code",
   "execution_count": 13,
   "metadata": {},
   "outputs": [],
   "source": [
    "d = {'glad': 10235/totalt_antal_ord,\n",
    "    'oemotståndlig': 235/totalt_antal_ord,\n",
    "    'elak': 4089/totalt_antal_ord,\n",
    "    'vämjelig': 24/totalt_antal_ord,\n",
    "    'likgiltig': 124/totalt_antal_ord}"
   ]
  },
  {
   "cell_type": "code",
   "execution_count": 14,
   "metadata": {},
   "outputs": [
    {
     "data": {
      "text/plain": [
       "<BarContainer object of 5 artists>"
      ]
     },
     "execution_count": 14,
     "metadata": {},
     "output_type": "execute_result"
    },
    {
     "data": {
      "image/png": "[encoded data removed]",
      "text/plain": [
       "<Figure size 432x288 with 1 Axes>"
      ]
     },
     "metadata": {
      "needs_background": "light"
     },
     "output_type": "display_data"
    }
   ],
   "source": [
    "# Kör denna cell för att visualisera dina frekvenser\n",
    "import matplotlib.pyplot as plt\n",
    "\n",
    "plt.bar(d.keys(), d.values())"
   ]
  },
  {
   "cell_type": "markdown",
   "metadata": {},
   "source": [
    "**Utmaning!**\n",
    "\n",
    "Utöka vårt bibliografiska index med följande uppslag:\n",
    "\n",
    "- *'Winds of Winter'*, 2023\n",
    "- *'Farewell Space Guardian'*, 2001\n",
    "- *'The Too-Many-Body Problem'*, 2002\n",
    "- *'Avantgard Streets: Nottingham'*, 2002\n",
    "\n",
    "Observera att varje bok ska ligga i en lista så att man kan lägga till fler till varje år."
   ]
  },
  {
   "cell_type": "code",
   "execution_count": 15,
   "metadata": {},
   "outputs": [],
   "source": [
    "bib_index = {\n",
    "    1997: [\"Duke Of The Ancients\", \"Enemy Of Greatness\",\"Girls With Pride\"],\n",
    "    1998: [\"Swindlers Of Wood\", \"Assassins And Heirs\", \"Witches And Slaves\", \"Victory Without Hope\"],\n",
    "    1999: [\"Chase Without Time\", \"Delaying The Ashes\", \"Destroying The Hunter\"], \n",
    "    2000: [\"Monster Of The Void\"]\n",
    "}"
   ]
  },
  {
   "cell_type": "markdown",
   "metadata": {},
   "source": [
    "**Lösning**\n",
    "\n",
    "Vi börjar med att skapa listor för varje årtal med titlarna."
   ]
  },
  {
   "cell_type": "code",
   "execution_count": 16,
   "metadata": {},
   "outputs": [],
   "source": [
    "entry_2001 = ['Farewell Space Guardian']\n",
    "entry_2002 = ['The Too-Many-Body Problem', 'Avantgard Streets: Nottingham']\n",
    "entry_2023 = ['Winds of Winter']"
   ]
  },
  {
   "cell_type": "markdown",
   "metadata": {},
   "source": [
    "Om vi vill lägga till något i ett dictionary kan vi använda antingen tilldelning av element, som med listor, eller också kan vi använda den inbyggda funktionen ``.update(dictionary)``, där de nya elementen läggs till som ett nytt dictionary:"
   ]
  },
  {
   "cell_type": "code",
   "execution_count": 18,
   "metadata": {},
   "outputs": [],
   "source": [
    "bib_index[2001] = entry_2001\n",
    "bib_index[2002] = entry_2002\n",
    "bib_index[2023] = entry_2023"
   ]
  },
  {
   "cell_type": "code",
   "execution_count": 19,
   "metadata": {},
   "outputs": [],
   "source": [
    "dictionary_to_add = {2001: entry_2001, 2002: entry_2002, 2023: entry_2023}\n",
    "\n",
    "bib_index.update(dictionary_to_add)"
   ]
  },
  {
   "cell_type": "code",
   "execution_count": 20,
   "metadata": {},
   "outputs": [
    {
     "name": "stdout",
     "output_type": "stream",
     "text": [
      "{1997: ['Duke Of The Ancients', 'Enemy Of Greatness', 'Girls With Pride'], 1998: ['Swindlers Of Wood', 'Assassins And Heirs', 'Witches And Slaves', 'Victory Without Hope'], 1999: ['Chase Without Time', 'Delaying The Ashes', 'Destroying The Hunter'], 2000: ['Monster Of The Void'], 2001: ['Farewell Space Guardian'], 2002: ['The Too-Many-Body Problem', 'Avantgard Streets: Nottingham'], 2023: ['Winds of Winter']}\n"
     ]
    }
   ],
   "source": [
    "print(bib_index)"
   ]
  },
  {
   "cell_type": "code",
   "execution_count": null,
   "metadata": {},
   "outputs": [],
   "source": []
  }
 ],
 "metadata": {
  "kernelspec": {
   "display_name": "Python 3",
   "language": "python",
   "name": "python3"
  },
  "language_info": {
   "codemirror_mode": {
    "name": "ipython",
    "version": 3
   },
   "file_extension": ".py",
   "mimetype": "text/x-python",
   "name": "python",
   "nbconvert_exporter": "python",
   "pygments_lexer": "ipython3",
   "version": "3.7.6"
  }
 },
 "nbformat": 4,
 "nbformat_minor": 4
}
