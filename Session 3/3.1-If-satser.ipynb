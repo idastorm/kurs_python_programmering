{
 "cells": [
  {
   "cell_type": "markdown",
   "metadata": {},
   "source": [
    "# *if*-satser"
   ]
  },
  {
   "cell_type": "markdown",
   "metadata": {},
   "source": [
    "Användningen av booleaner kommer till sin rätta med betingade uttryck, eller så kallade ``if-satser`` (*if-statements*). Dessa uttryck har liknande syntax som funktionsdefinitioner, och används för att köra kod på villkor att något är sant."
   ]
  },
  {
   "cell_type": "code",
   "execution_count": 2,
   "metadata": {},
   "outputs": [
    {
     "name": "stdout",
     "output_type": "stream",
     "text": [
      "Allt i första uttrycket körs\n"
     ]
    }
   ],
   "source": [
    "if 54 > 10:\n",
    "    print(\"Allt i första uttrycket körs\")\n",
    "    \n",
    "if 54 < 10:\n",
    "    print(\"Men det här uttrycket körs inte\")"
   ]
  },
  {
   "cell_type": "markdown",
   "metadata": {},
   "source": [
    "Observera att liksom i funktionsdefinitioner är indraget obligatoriskt. Om det *booleanska uttrycket* gäller kommer allt i indraget att köras. Eftersom de booleanska uttrycken alltid returnerar sant eller falskt, kan man reducera ner alla if-satser till"
   ]
  },
  {
   "cell_type": "code",
   "execution_count": 3,
   "metadata": {},
   "outputs": [
    {
     "name": "stdout",
     "output_type": "stream",
     "text": [
      "Om booleanen är sann körs uttrycken.\n"
     ]
    }
   ],
   "source": [
    "if True:\n",
    "    print(\"Om booleanen är sann körs uttrycken.\")\n",
    "\n",
    "if False:\n",
    "    print(\"Om booleanen är falsk körs uttrycken inte.\")"
   ]
  },
  {
   "cell_type": "markdown",
   "metadata": {},
   "source": [
    "Det är vanligt att man behöver sammansatta booleanska uttryck. Det är här booleanska algebran kommer in. Det finns ett antal booleanska operatorer med ganska transparenta namn:\n",
    "\n",
    "- ``X and Y``: returnerar sant om **både** X och Y är sanna, annars falskt\n",
    "- ``X or Y``: returnerar sant om **någon** av X och Y är sanna, annars falskt\n",
    "\n",
    "Man brukar för att undvika misstag använda parenteser för X, Y."
   ]
  },
  {
   "cell_type": "code",
   "execution_count": 4,
   "metadata": {},
   "outputs": [
    {
     "name": "stdout",
     "output_type": "stream",
     "text": [
      "Båda uttryck är sanna.\n",
      "Något uttryck är sant. Vilket?\n"
     ]
    }
   ],
   "source": [
    "if (6 > 5) and (8/2 == 4):\n",
    "    print(\"Båda uttryck är sanna.\")\n",
    "    \n",
    "if (\"ost\" == \"Ost\") or (13*4 > 4):\n",
    "    print(\"Något uttryck är sant. Vilket?\")\n",
    "    \n",
    "if (1 > 2) and (2 > 3):\n",
    "    print(\"Här är inget uttryck sant, så det skrivs inte ut.\")"
   ]
  },
  {
   "cell_type": "markdown",
   "metadata": {},
   "source": [
    "Vi betraktar nu fallet att värdet på en variabel är okänt, och vi vill göra olika saker beroende på dess värde. Ett exempelvis är en bil som visar olika varningar beroende på bränslenivån. Vi introducerar också nyckelordet ``pass`` som bokstavligt talat säger till tolkaren att hoppa över den raden."
   ]
  },
  {
   "cell_type": "code",
   "execution_count": 5,
   "metadata": {},
   "outputs": [
    {
     "name": "stdout",
     "output_type": "stream",
     "text": [
      "Orange varning. Du borde tanka snarast.\n",
      "Gul varning. Du har förbrukat en del bränsle. Dags att tanka.\n"
     ]
    }
   ],
   "source": [
    "from samples import fuel_level\n",
    "\n",
    "if fuel_level == 0: \n",
    "    print(\"Röd varning! Du har väldigt lite bränsle!\")\n",
    "\n",
    "if fuel_level < 15:\n",
    "    print(\"Orange varning. Du borde tanka snarast.\")\n",
    "    \n",
    "if fuel_level < 30:\n",
    "    print(\"Gul varning. Du har förbrukat en del bränsle. Dags att tanka.\")\n",
    "    \n",
    "if fuel_level > 30:\n",
    "    pass"
   ]
  },
  {
   "cell_type": "markdown",
   "metadata": {},
   "source": [
    "Aj då. Två varningar är ju inte hjälpsamt. Nu vet vi att värdet är mellan 5 och 15, men vi vill ju bara ha en varning. Nu körs alla if-satser, men om en av dem exekverat behöver ju resten inte köras. Därför används ofta \"if-else if-else\" satser:"
   ]
  },
  {
   "cell_type": "code",
   "execution_count": 6,
   "metadata": {},
   "outputs": [
    {
     "name": "stdout",
     "output_type": "stream",
     "text": [
      "Orange varning. Du borde tanka snarast.\n"
     ]
    }
   ],
   "source": [
    "if fuel_level < 5: \n",
    "    print(\"Röd varning! Du har väldigt lite bränsle!\")\n",
    "\n",
    "elif fuel_level < 15:\n",
    "    print(\"Orange varning. Du borde tanka snarast.\")\n",
    "    \n",
    "elif fuel_level < 30:\n",
    "    print(\"Gul varning. Du har förbrukat en del bränsle. Dags att tanka.\")\n",
    "    \n",
    "elif fuel_level > 30:\n",
    "    pass"
   ]
  },
  {
   "cell_type": "markdown",
   "metadata": {},
   "source": [
    "## *if-elif-else*-satser\n",
    "``elif`` eller \"else-if\" körs i ordning efter första if-satsen, och endast en sats exekveras. Om det booleanska uttrycket är falskt går det vidare till nästa ``elif`` tills någon är sann eller satserna är slut. Man kan göra villkoren lite säkrare genom att introducera \"else\", som alltid körs sist:"
   ]
  },
  {
   "cell_type": "code",
   "execution_count": 7,
   "metadata": {},
   "outputs": [
    {
     "name": "stdout",
     "output_type": "stream",
     "text": [
      "Bränslenivån måste vara ett positivt tal.\n"
     ]
    }
   ],
   "source": [
    "fuel_level = -10\n",
    "\n",
    "if (fuel_level > 0) and (fuel_level < 10): \n",
    "    print(\"Röd varning! Du har väldigt lite bränsle!\")\n",
    "\n",
    "elif (fuel_level > 0) and (fuel_level < 15):\n",
    "    print(\"Orange varning. Du borde tanka snarast.\")\n",
    "    \n",
    "elif (fuel_level > 0) and (fuel_level < 30):\n",
    "    print(\"Gul varning. Du har förbrukat en del bränsle. Dags att tanka.\")\n",
    "    \n",
    "elif (fuel_level > 0) and (fuel_level > 30):\n",
    "    pass\n",
    "\n",
    "else:\n",
    "    print(\"Bränslenivån måste vara ett positivt tal.\")"
   ]
  },
  {
   "cell_type": "markdown",
   "metadata": {},
   "source": [
    "**Utmaning!**\n",
    "\n",
    "Beräkna antalet \"vi\" i Boye-texten.\n",
    "\n",
    "Skriv en if-sats som printar texten\n",
    "\n",
    "- \"Det finns inga 'vi' i texten\" om det inte finns några\n",
    "- \"Det är väldigt få 'vi' i texten\" om det är färre än 2\n",
    "- \"Det är fler än jag orkar räkna\" annars.\n"
   ]
  },
  {
   "cell_type": "code",
   "execution_count": 9,
   "metadata": {},
   "outputs": [],
   "source": [
    "from samples import boye_string\n",
    "\n",
    "# Skriv uppgiften här"
   ]
  }
 ],
 "metadata": {
  "kernelspec": {
   "display_name": "Python 3",
   "language": "python",
   "name": "python3"
  },
  "language_info": {
   "codemirror_mode": {
    "name": "ipython",
    "version": 3
   },
   "file_extension": ".py",
   "mimetype": "text/x-python",
   "name": "python",
   "nbconvert_exporter": "python",
   "pygments_lexer": "ipython3",
   "version": "3.8.3"
  }
 },
 "nbformat": 4,
 "nbformat_minor": 4
}
