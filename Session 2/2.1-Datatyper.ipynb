{
 "cells": [
  {
   "cell_type": "markdown",
   "metadata": {},
   "source": [
    "# Datatyper\n",
    "\n",
    "I förra föreläsningen märkte ni att vissa funktioner, såsom ``round``, ``max`` och ``sum`` ställde krav på argumentens typ, de var tvunget numeriska. Detta är väldigt vanligt, och de flesta funktioner har sådana krav på sina argument. \n",
    "\n",
    "I Python har alla variabler en *datatyp*. Språket har följande datatyper:\n",
    "\n",
    "- Numeriska:\n",
    "    - Heltal (*int*, *integer*)\n",
    "    - Flyttal (*float*, *floating point*)\n",
    "- Strängar\n",
    "- Booleaner\n",
    "\n",
    "Vi har redan stött på flera av dessa i första tillfället, men vi ska nu formalisera skillnaden.\n",
    "\n",
    "<img src=\"typer.PNG\" width=\"700\" align=\"center\"/>\n",
    "\n",
    "<!-- \n",
    "Det finns många olika sätt att spara information i variabel i Python, och vi har redan sett de flesta av dem vid första tillfället. \n",
    "Starten på det här tillfället blir alltså en möjlighet till lite repitition, men också reflektion om skillnaden \n",
    "och vad det innebär när vi använder språket. \n",
    "\n",
    "Vi kan undersöka vilken typ av data vi jobbar med genom att använda den inbyggda funktionen <code>type()</code>.\n",
    "Vi kan skriva <code>type(ditt_variabel)</code> och kan få alla dessa svar tillbaka:\n",
    "    \n",
    "<code>int<br>float<br>str<br>complex<br>list<br>tuple<br>range<br>dict<br>set<br>frozenset<br>bool<br>bytes<br>bytearray<br>memoryview</code>\n",
    "\n",
    "Vi kommer att kort repetera heltal (int), decimaltal (float), sträng (str) och listor (list). \n",
    "Nytt är boleanska (bool) och att skapa en ordbok (dict). -->"
   ]
  },
  {
   "cell_type": "markdown",
   "metadata": {},
   "source": [
    "## Heltal och flyttal\n",
    "Heltal (*ints*, *integers*) är en så kallad numerisk typ som representeras med siffror, den andra är flyttal. Flyttal kallas ibland för decimaltal, men vi kommer snart att klargöra varför det namnet inte används.\n",
    "\n",
    "Detta kan verka väldigt basalt att göra skillnad på heltal och flyttal, då man gjorde det senast på lågstadiet. Faktum är dock att heltal och flyttal har helt olika egenskaper.\n",
    "\n",
    "Heltal betecknar tal som används för uppräkning eller ordning. Det jobbar exempelvis ungefär 6500 personer på GU, och i skrivande stund har hälften av dem tillgång till sin mejl.\n",
    "\n",
    "Man *kan* inte använda flyttal för att representera antal, eftersom det implicerar att man också kan ha halva människor, och andra bråkdelar av anställda. Inte heller kan man komma på 2.5:e plats i en tävling. En annan viktig användning av heltal är index (som ju är ekvivalent med ordning), exempelvis i listor. Givet en lista ``x`` kan man ange ``x[0]`` men inte ``x[0.5]``.\n",
    "\n",
    "I Python anges heltal med siffror utan decimalpunkt. 0 är alltså ett heltal, men 0.0 och 0.5 är så kallade flyttal. Tal med decimalpunkt kallas flyttal, eller *floats*, *floating point numbers* på engelska då detta avser att punkten \"flyter\" längs olika positioner i talet. \n",
    "\n",
    "Vi illustrerar med ett exempel. Antal anställda på GU låter vi vara 6499. Om vi dividerar det med två erhålls ett flyttal, som alltså antyder en halv människa på någon avdelning."
   ]
  },
  {
   "cell_type": "code",
   "execution_count": 2,
   "metadata": {},
   "outputs": [
    {
     "name": "stdout",
     "output_type": "stream",
     "text": [
      "3249.5\n"
     ]
    }
   ],
   "source": [
    "n_employees = 6499\n",
    "\n",
    "employees_wo_email = n_employees/2\n",
    "\n",
    "print(employees_wo_email)"
   ]
  },
  {
   "cell_type": "markdown",
   "metadata": {},
   "source": [
    "I Python finns dock så kallad heltalsdivision (``//``), som förkastar resten vid division:"
   ]
  },
  {
   "cell_type": "code",
   "execution_count": 3,
   "metadata": {},
   "outputs": [
    {
     "name": "stdout",
     "output_type": "stream",
     "text": [
      "3249\n"
     ]
    }
   ],
   "source": [
    "employees_wo_email = n_employees//2\n",
    "\n",
    "print(employees_wo_email)"
   ]
  },
  {
   "cell_type": "markdown",
   "metadata": {},
   "source": [
    "Att växla mellan heltal och flyttal är oftast smärtfritt, och görs med de inbyggda funktionerna ``int`` och ``float``. Detta kallas typkastning:"
   ]
  },
  {
   "cell_type": "code",
   "execution_count": 4,
   "metadata": {},
   "outputs": [
    {
     "data": {
      "text/plain": [
       "5"
      ]
     },
     "execution_count": 4,
     "metadata": {},
     "output_type": "execute_result"
    }
   ],
   "source": [
    "int(5.0)"
   ]
  },
  {
   "cell_type": "code",
   "execution_count": 5,
   "metadata": {},
   "outputs": [
    {
     "data": {
      "text/plain": [
       "5.0"
      ]
     },
     "execution_count": 5,
     "metadata": {},
     "output_type": "execute_result"
    }
   ],
   "source": [
    "float(5)"
   ]
  },
  {
   "cell_type": "markdown",
   "metadata": {},
   "source": [
    "Man ska vara försiktig vid typkastning dock, eftersom det inte är väldefinierat att gå från flyttal till heltal. Detta är ett så kallat avrundningsproblem. I Python förkastas decimaldelen av talet när man går från flyttal till heltal."
   ]
  },
  {
   "cell_type": "code",
   "execution_count": 6,
   "metadata": {},
   "outputs": [
    {
     "data": {
      "text/plain": [
       "5"
      ]
     },
     "execution_count": 6,
     "metadata": {},
     "output_type": "execute_result"
    }
   ],
   "source": [
    "int(5.7)"
   ]
  },
  {
   "cell_type": "markdown",
   "metadata": {},
   "source": [
    "Vid aritmerik med numeriska typer sker i allmänhet automatisk typkastning. Det innebär allt som oftast att heltal konverteras till flyttal."
   ]
  },
  {
   "cell_type": "code",
   "execution_count": 8,
   "metadata": {},
   "outputs": [
    {
     "name": "stdout",
     "output_type": "stream",
     "text": [
      "18\n",
      "18.0\n"
     ]
    }
   ],
   "source": [
    "print(1+17)\n",
    "print(1+17.0)"
   ]
  },
  {
   "cell_type": "markdown",
   "metadata": {},
   "source": [
    "Om man är osäker på vilken typ en variabel har, kan man använda den inbyggda funktionen ``type``:"
   ]
  },
  {
   "cell_type": "code",
   "execution_count": 9,
   "metadata": {},
   "outputs": [
    {
     "name": "stdout",
     "output_type": "stream",
     "text": [
      "<class 'float'>\n",
      "<class 'int'>\n",
      "<class 'str'>\n"
     ]
    }
   ],
   "source": [
    "a = 5.2\n",
    "b = 6499\n",
    "c = \"Ida\"\n",
    "\n",
    "\n",
    "print(type(a))\n",
    "print(type(b))\n",
    "print(type(c))"
   ]
  },
  {
   "cell_type": "markdown",
   "metadata": {},
   "source": [
    "**Utmaning!**\n",
    "\n",
    "Fundera över olika situationer när heltal respektive flyttal lämpar sig bäst."
   ]
  },
  {
   "cell_type": "markdown",
   "metadata": {},
   "source": [
    "## Sträng (string)\n",
    "Nästa grundläggande typ är strängen. Strängen är, som vi fick erfara i förra tillfället, en slags lista av karaktärer eller tecken. Strängar betecknas med citationstecken, och kan innehålla alla typer av karaktärer på tangentbordet.\n",
    "\n",
    "Variabler kan typkastas till strängar med hjälp av den inbyggda funktionen ``str``. Detta returnerar allt som oftast värdet av variabeln inneslutet i citationstecken. "
   ]
  },
  {
   "cell_type": "code",
   "execution_count": 10,
   "metadata": {},
   "outputs": [
    {
     "name": "stdout",
     "output_type": "stream",
     "text": [
      "<class 'str'>\n",
      "5 . 2\n"
     ]
    }
   ],
   "source": [
    "# Numerisk variabel\n",
    "a = 5.2\n",
    "\n",
    "a_as_string = str(a)\n",
    "\n",
    "# Vi kan kontrollera typen\n",
    "print(type(a_as_string))\n",
    "\n",
    "# Variabeln är indexerbar som en sträng\n",
    "print(a_as_string[0], a_as_string[1], a_as_string[2])"
   ]
  },
  {
   "cell_type": "markdown",
   "metadata": {},
   "source": [
    "Strängar har också stöd för grundläggande aritmetik med ``+``- och ``*``-operatorerna, men det har en helt annan effekt än för numeriska typer. Addition av strängar *konkatenerar* eller sammanfogar strängarna, medan multiplikation upprepar dem. Betrakta följande exempel:"
   ]
  },
  {
   "cell_type": "code",
   "execution_count": 11,
   "metadata": {},
   "outputs": [
    {
     "name": "stdout",
     "output_type": "stream",
     "text": [
      "Jag heterNikolajeff\n",
      "Jag heter Nikolajeff\n",
      "Jag heterJag heterJag heterJag heterJag heter\n",
      "Jag heter NikolajeffJag heter NikolajeffJag heter NikolajeffJag heter NikolajeffJag heter Nikolajeff\n"
     ]
    }
   ],
   "source": [
    "a = \"Jag heter\"\n",
    "\n",
    "# Sammanfogning med +\n",
    "print(a + \"Nikolajeff\")\n",
    "\n",
    "# Sammanfogning sker inte automatiskt med mellanslag. Mellanslag är en karaktär som måste läggas till\n",
    "print(a + \" \" + \"Nikolajeff\")\n",
    "\n",
    "# Upprepning av sträng\n",
    "print(a*5)\n",
    "print((a + \" \" + \"Nikolajeff\")*5)"
   ]
  },
  {
   "cell_type": "markdown",
   "metadata": {},
   "source": [
    "**Utmaning!**\n",
    "\n",
    "1. Sammanfoga en hel mening som en sträng av ord.\n",
    "2. Upprepa meningen 3 gånger\n",
    "3. Upprepa meningen 0 gånger\n",
    "4. Upprepa meningen -1 gånger"
   ]
  },
  {
   "cell_type": "code",
   "execution_count": null,
   "metadata": {},
   "outputs": [],
   "source": []
  },
  {
   "cell_type": "markdown",
   "metadata": {},
   "source": [
    "Vi observerar också att det är väsentlig skillnad att addera siffror och siffror som strängar:"
   ]
  },
  {
   "cell_type": "code",
   "execution_count": 12,
   "metadata": {},
   "outputs": [
    {
     "name": "stdout",
     "output_type": "stream",
     "text": [
      "6\n",
      "123\n"
     ]
    }
   ],
   "source": [
    "print(1 + 2 + 3)\n",
    "\n",
    "print(\"1\" + \"2\" + \"3\")"
   ]
  },
  {
   "cell_type": "markdown",
   "metadata": {},
   "source": [
    "I det första exemplet verkar ``+``-operatorn på siffror, och adderar dem precis som vi är vana. I det andra fallet opererar den på strängar, och har då en konkatenerande funktion istället. Vi kan dock även här använda oss av typkastning: Både ``float`` och ``int`` verkar på strängar och producerar siffror."
   ]
  },
  {
   "cell_type": "code",
   "execution_count": 13,
   "metadata": {},
   "outputs": [
    {
     "name": "stdout",
     "output_type": "stream",
     "text": [
      "6\n"
     ]
    }
   ],
   "source": [
    "print(int(\"1\")+int(\"2\")+int(\"3\"))"
   ]
  },
  {
   "cell_type": "markdown",
   "metadata": {},
   "source": [
    "Strängar är egentligen inte helt vanliga typer, utan har en hel del inbyggda funktioner, som man kommer åt med ``.``-notation. En full lista av funktioner finns [här](https://docs.python.org/2.5/lib/string-methods.html). Vi ska dock ta ett par användbara exempel. \n",
    "\n",
    "- ``.lower()``: Returnerar en kopia av hela strängen som små bokstäver (gemener)\n",
    "- ``.upper()``: Returnerar en kopia av hela strängen som stora bokstäver (versaler)\n",
    "- ``.count(substring)``: Räknar förekomsten av en strängdel i en annan\n",
    "- ``.find(substring)``: Söker och hittar index för en strängdel"
   ]
  },
  {
   "cell_type": "code",
   "execution_count": 14,
   "metadata": {},
   "outputs": [
    {
     "name": "stdout",
     "output_type": "stream",
     "text": [
      "jag heter nikolajeff\n",
      "JAG HETER NIKOLAJEFF\n"
     ]
    }
   ],
   "source": [
    "b = a + \" \" + \"Nikolajeff\"\n",
    "\n",
    "b_gemen = b.lower()\n",
    "b_versal = b.upper()\n",
    "\n",
    "print(b_gemen)\n",
    "print(b_versal)"
   ]
  },
  {
   "cell_type": "markdown",
   "metadata": {},
   "source": [
    "Vi kan titta vårt Boye-exempel från förra tillfället. Med ``.count()`` kan vi få enkel statistik på ordförekomst i texten. Detta förutsätter att delsträngen har exakt samma form det du söker."
   ]
  },
  {
   "cell_type": "code",
   "execution_count": 15,
   "metadata": {},
   "outputs": [
    {
     "name": "stdout",
     "output_type": "stream",
     "text": [
      "<class 'str'>\n",
      "vi är din skara som du svek herre förtrösta bjöd du och det blev värre ur ondskans dimmor steg ingen ljusning ur tordönet ingen sakta susning vi skalv i öknen övergivna med hårda bud i sten skrivna de blev oss bröd de blev oss vatten men kring vår fromhet teg natten vi drog längs vägarna gudsslagna budbärare i eld tvagna dom och soning så bjöd rösten och domen sannades men aldrig trösten vi sjöng i markerna i jubel vända mot nya stjärnor till tecken tända o dröm o hopp vad du flöt rikligt o löftens löfte så stort och svikligt en bön en enda återstår oss slå ännu hårdare du som slår oss vik samman rummet och släck tiden förgör allt och skapa friden hur länge än hur länge än hur länge än förinta oss förinta oss\n"
     ]
    }
   ],
   "source": [
    "from samples import boye_string\n",
    "\n",
    "# Kontrollera typen\n",
    "print(type(boye_string))\n",
    "\n",
    "print(boye_string)"
   ]
  },
  {
   "cell_type": "code",
   "execution_count": 16,
   "metadata": {},
   "outputs": [
    {
     "data": {
      "text/plain": [
       "6"
      ]
     },
     "execution_count": 16,
     "metadata": {},
     "output_type": "execute_result"
    }
   ],
   "source": [
    "# Vi beräknar förekomsten av \"och\" i texten\n",
    "boye_string.count(\"och\")"
   ]
  },
  {
   "cell_type": "markdown",
   "metadata": {},
   "source": [
    "Vi kan också använda den inbyggda funktionen ``.find(substring)`` för att hitta om en delsträng förekommer i texten, och returnera index av **första förekomsten**. Denna inbyggda funktionen kan alltså inte hitta alla förekomster. "
   ]
  },
  {
   "cell_type": "code",
   "execution_count": 17,
   "metadata": {},
   "outputs": [
    {
     "name": "stdout",
     "output_type": "stream",
     "text": [
      "o\n"
     ]
    }
   ],
   "source": [
    "# Sökord kallas ibland \"query\"\n",
    "# Testa att söka själv efter olika strängar\n",
    "query = \"och\"\n",
    "\n",
    "index_for_first_appearance = boye_string.find(query)\n",
    "\n",
    "# Borde returnera första bokstaven i sökordet\n",
    "print(boye_string[index_for_first_appearance])"
   ]
  },
  {
   "cell_type": "markdown",
   "metadata": {},
   "source": [
    "**Utmaning!**\n",
    "1. Beräkna förekomsten av alla personliga pronomen i texten (\"jag\", \"du\", \"han\", \"hon\", \"vi\", \"ni\", \"de\").\n",
    "2. Beräkna totala antalet ord. Tips: Hur relaterar antalet ord till antalet mellanslag?\n",
    "3. Beräkna procentandelen personliga pronomen i texten.\n"
   ]
  },
  {
   "cell_type": "code",
   "execution_count": null,
   "metadata": {},
   "outputs": [],
   "source": []
  },
  {
   "cell_type": "markdown",
   "metadata": {},
   "source": [
    "## Booleaner (boolean)\n",
    "En väldigt smidig inbyggd funktion i strängar är ``.isalpha()`` som avgör **om** strängen endast består av alfabetiska tecken, eller **om** det också finns siffror och specialtecken. "
   ]
  },
  {
   "cell_type": "code",
   "execution_count": 19,
   "metadata": {},
   "outputs": [
    {
     "name": "stdout",
     "output_type": "stream",
     "text": [
      "True\n"
     ]
    }
   ],
   "source": [
    "alfabetet = \"abcdefghijklmnopqrstuvwxyz\"\n",
    "\n",
    "print(alfabetet.isalpha())"
   ]
  },
  {
   "cell_type": "code",
   "execution_count": 20,
   "metadata": {},
   "outputs": [
    {
     "name": "stdout",
     "output_type": "stream",
     "text": [
      "False\n"
     ]
    }
   ],
   "source": [
    "alfabetet_med_siffror = alfabetet + \"0123456789\" # Sammanfogar strängarna\n",
    "\n",
    "print(alfabetet_med_siffror.isalpha())"
   ]
  },
  {
   "cell_type": "markdown",
   "metadata": {},
   "source": [
    "Returvärdena från dessa funktioner är *antingen* sant eller falskt. Dessa två värden kallas booleaner (*bool*, *boolean*) som utgör den absolut viktigaste datatypen i programmering. Dessa används för villkorliga instruktioner, och är oerhört viktiga i många funktioner. Booleaner följer en speciell typ av aritmetik (som kallas [booleansk algebra](https://sv.wikipedia.org/wiki/Boolesk_algebra)). De kan ta värdena ``True`` och ``False`` som är nyckelord i Python. Man kan alltså inte döpa variabler till detta.\n",
    "\n",
    "Det vanligaste användningsområdet för booleaner är att testa likhet. Minns att det vardagliga likhetstecknet ``=`` i programmering används för tilldelning av variabler. Om vi vill testa om två variabler har samma värde, används ``==``. Vi kan också testa numeriska variabler om de är större, respektive mindre än varandra med operatorerna ``<, >``."
   ]
  },
  {
   "cell_type": "code",
   "execution_count": 21,
   "metadata": {},
   "outputs": [
    {
     "name": "stdout",
     "output_type": "stream",
     "text": [
      "x, y är lika:  False\n",
      "x är större än y:  False\n",
      "x är mindre än y:  True\n"
     ]
    }
   ],
   "source": [
    "x = 40000000 # Fyra miljoner\n",
    "y = 40000000000000 # Fyrtio tusen miljarder svenska kronor\n",
    "\n",
    "# Vi testar om dessa är lika\n",
    "print(\"x, y är lika: \", x == y)\n",
    "\n",
    "# Vi testar om x är större än y\n",
    "print(\"x är större än y: \", x > y)\n",
    "\n",
    "# Vi testar om x är mindre än y\n",
    "print(\"x är mindre än y: \", x < y)"
   ]
  },
  {
   "cell_type": "code",
   "execution_count": 22,
   "metadata": {},
   "outputs": [
    {
     "name": "stdout",
     "output_type": "stream",
     "text": [
      "False\n",
      "True\n"
     ]
    }
   ],
   "source": [
    "# Vi kan också testa likhet hos strängar\n",
    "a = \"ost\"\n",
    "b = \"Ost\"\n",
    "c = \"chèvre\"\n",
    "d = \"ost\"\n",
    "\n",
    "# Observera då att gemener och versaler är olika karaktärer\n",
    "print(a == b)\n",
    "\n",
    "print(a == d)"
   ]
  },
  {
   "cell_type": "markdown",
   "metadata": {},
   "source": [
    "**Utmaning!**"
   ]
  },
  {
   "cell_type": "code",
   "execution_count": 23,
   "metadata": {},
   "outputs": [],
   "source": [
    "y = 157/12\n",
    "\n",
    "# undersök om y är större än 13\n",
    "\n",
    "\n",
    "# undersök om y*3 är lika med 100"
   ]
  },
  {
   "cell_type": "code",
   "execution_count": null,
   "metadata": {},
   "outputs": [],
   "source": []
  }
 ],
 "metadata": {
  "kernelspec": {
   "display_name": "Python 3",
   "language": "python",
   "name": "python3"
  },
  "language_info": {
   "codemirror_mode": {
    "name": "ipython",
    "version": 3
   },
   "file_extension": ".py",
   "mimetype": "text/x-python",
   "name": "python",
   "nbconvert_exporter": "python",
   "pygments_lexer": "ipython3",
   "version": "3.7.6"
  }
 },
 "nbformat": 4,
 "nbformat_minor": 4
}
