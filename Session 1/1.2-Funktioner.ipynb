{
 "cells": [
  {
   "cell_type": "markdown",
   "metadata": {},
   "source": [
    "<div style=\"text-align: right\"><a href='#section0' align='left'>Tillbaka till början</a></div>\n",
    "<a id='section4'></a>\n",
    "<h3>3A. Inbyggda funktioner</h3>\n",
    "\n",
    "Hittills har vi använt väldigt begränsad funktionalitet hos programmeringsspråket. Nyckeln till programmeringens framgång är att den är utbyggbar. Det finns så kallade bibliotek eller paket med utökad funktionalitet för språket. Python har ett standardbibliotek vars funktioner alltid är tillgängliga. Ett exempel på en funktion därifrån är <code>print</code> som vi redan använt.\n",
    "\n",
    "<a href=\"https://docs.python.org/3/library/functions.html\">Här</a> finns en lista med fler inbyggda funktioner. Många är mer avancerade och används på till exempel listor som vi kommer till senare. \n",
    "\n",
    "Den inbyggda funktionen <code>round</code> tar ett decimaltal som argument och avrundar det till närmsta heltal. <code>round</code> tar också ett valfritt, namngivet argument; <code>ndigits</code> som istället styr hur många decimaler vi vill avrunda till. Man kallar då på funktionen genom att skriva <code>round(14.71, ndigits=1)</code> vilket returnerar talet avrundat med en decimal, nämligen 14.7.\n",
    "\n",
    "<!--<p>Utan att göra något så finns det flera funktioner som du kan använda när du skriver din kod. Vi har redan använt \"type()\", \"print\" och enkla matematiska funktioner<br>-->\n"
   ]
  },
  {
   "cell_type": "code",
   "execution_count": null,
   "metadata": {},
   "outputs": [],
   "source": [
    "# Tilldela variabeln a värdet 12.896\n",
    "a = 12.896\n",
    "\n",
    "# Avrunda talet\n",
    "b = round(a)\n",
    "\n",
    "# Skriv ut resultatet\n",
    "print(b)\n",
    "\n",
    "# Funktionen tar också ett valfritt argument (ndigits) - se dokumentationen\n",
    "print('Avrundning med två decimaler:', round(a, ndigits=2))\n",
    "\n",
    "# Man kan även skriva argumenten utan att namnge dem, givet att de skrivs i rätt ordning\n",
    "print('Avrundning med två decimaler, utan namngivning i rätt ordning:', round(a, 2))\n",
    "\n",
    "# Man kan dock INTE ändra ordningen utan att namnge dem. Programmeringsspråket kan inte läsa tankar.\n",
    "print('Avrundning med två decimaler, utan namngivning i fel ordning:', round(2, a))\n",
    "\n",
    "\n",
    "#vad händer om du avrundar till fyra decimaler?"
   ]
  },
  {
   "cell_type": "markdown",
   "metadata": {},
   "source": [
    "Det sista fallet returnerar ett fel (\"TypeError\"). I detta fallet måste andra argumentet (<code>ndigits</code>) vara ett heltal, vilket Python detekterar att det inte är."
   ]
  },
  {
   "cell_type": "markdown",
   "metadata": {},
   "source": [
    "<div style=\"text-align: right\"><a href='#section0' align='left'>Tillbaka till början</a></div>\n",
    "<a id='section5'></a>\n",
    "<h3>3B. Importera funktioner</h3>\n",
    "De flesta funktioner finns inte i standardbiblioteket hos Python. Istället får man importera externa bibliotek, eller moduler.\n",
    "\n",
    "Exempel: Modulerna <b>math</b> och <b>numpy</b> med flera matematiska funktioner.\n",
    "\n",
    "Läs mer om de olika funktionerna man kan använda när man har importerat math <a href=\"https://docs.python.org/3/library/math.html\">här</a>.\n",
    "\n",
    "Läs mer om de olika funktionerna man kan använda när man har importerat numpy <a href=\"https://numpy.org/doc/stable/\">här</a>.\n",
    "\n",
    "Vi kommer importera och använda fler moduler vid ett senare tillfälle. För mer förståelse om vad en modul är läs <a href=\"https://docs.python.org/3/tutorial/modules.html\">här</a>.\n",
    "\n"
   ]
  },
  {
   "cell_type": "code",
   "execution_count": null,
   "metadata": {},
   "outputs": [],
   "source": [
    "# \"math\" är en modul med många olika fuktioner - \"math.sqrt()\" räknar ut kvadratroten av ett tal\n",
    "print(math.sqrt(4))\n",
    "\n",
    "# Men modulen måste importeras först (error \"name 'math' is not defined\" annars).\n",
    "# Kommentera \"print(math.sqrt(4)\" och prova igen)\n",
    "import math\n",
    "\n",
    "print(math.sqrt(4))\n",
    "\n",
    "#är det långa namn så kan man importera modulen \"math\" och kalla den \"m\" istället: \n",
    "import math as m\n",
    "\n",
    "print(m.sqrt(4))\n",
    "\n",
    "# Detta är även smidigt om det finns flera moduler med samma namn på flera funktioner.\n",
    "# Ett vanligt paket för beräkningar är numpy\n",
    "import numpy as np\n",
    "\n",
    "print(np.sqrt(4))\n",
    "\n",
    "# Vi har även importerat \"math\" som det är - så det fungerar fortfarande att skriva math.sqrt\n",
    "print(math.sqrt(4))\n"
   ]
  },
  {
   "cell_type": "markdown",
   "metadata": {},
   "source": [
    "**Utmaning!**\n",
    "\n",
    "1. Beräkna logaritmen av 100 med hjälp av *math*-paketet.\n",
    "2. Beräkna logaritmen av 100 med hjälp av *numpy*-paketet"
   ]
  },
  {
   "cell_type": "code",
   "execution_count": null,
   "metadata": {},
   "outputs": [],
   "source": [
    "# Med hjälp av math\n",
    "\n",
    "# Med hjälp av numpy"
   ]
  },
  {
   "cell_type": "markdown",
   "metadata": {},
   "source": [
    "<div style=\"text-align: right\"><a href='#section0' align='left'>Tillbaka till början</a></div>\n",
    "<a id='section6'></a>\n",
    "\n",
    "### 3C. Att skapa egna funktioner\n",
    "\n",
    "Ibland är inbyggda funktioner inte tillräckliga, eller också vill man på ett smidigt sätt kunna återanvända kod. Funktioner definieras med ett så kallat nyckelord, <code>def</code>.\n",
    "\n",
    "En funktion har tre viktiga egenskaper:\n",
    "- Ett namn (e.g square)\n",
    "- Ett eller flera argument (ibland kallat input)\n",
    "- Ev. en output-variabel\n",
    "\n",
    "Argumenten betecknas med parentes <code>(x, y, ...)</code> och separeras med komma-tecken. \n",
    "\n",
    "Output-variabel genereras av ett så kallat *retur*-uttryck, eller *return statement*, som skrivs <code>return</code>.\n",
    "\n",
    "Liksom funktioner i matematiken är det vanligt att illustrera med en funktion vid namn <code>f</code>. En funktion som skrivs\n",
    "\n",
    "$$ f(x) = 6x+5 $$\n",
    "\n",
    "formuleras i Python som\n",
    "\n",
    "``\n",
    "def f(x):\n",
    "    return 6*x+5\n",
    "``"
   ]
  },
  {
   "cell_type": "code",
   "execution_count": null,
   "metadata": {},
   "outputs": [],
   "source": [
    "# Exempel på funktion som beräknar kvadraten av input\n",
    "def square(x):\n",
    "    \n",
    "    return x*x\n",
    "\n",
    "# Exempel som beräknar kuben av input. \n",
    "def cube(x):\n",
    "    \n",
    "    return x*x*x"
   ]
  },
  {
   "cell_type": "markdown",
   "metadata": {},
   "source": [
    "Oftast kan det vara önskvärt att använda flera funktioner i en större för att slippa skriva om saker. Ta den matematiska beräkningen som ett exempel: \n",
    "\n",
    "$$ f(x) = 7x^3 + 2x^2 + x + 5 $$"
   ]
  },
  {
   "cell_type": "code",
   "execution_count": 1,
   "metadata": {},
   "outputs": [],
   "source": [
    "# Den matematiska funktionen ovan\n",
    "def f(x):\n",
    "    \n",
    "    return 7 * cube(x) + 2 * square(x) + x + 5\n",
    "    "
   ]
  },
  {
   "cell_type": "markdown",
   "metadata": {},
   "source": [
    "#### Lokala variabler\n",
    "Den viktigaste poängen med funktionen är att de utgör *små program* i det stora programmet. Du kan definiera lokala variabler i dina funktioner som **inte** är tillgängliga utanför den."
   ]
  },
  {
   "cell_type": "code",
   "execution_count": 2,
   "metadata": {},
   "outputs": [],
   "source": [
    "def round_add_five(x):\n",
    "    \n",
    "    # Lokal variabel som inte varierar\n",
    "    val = 5\n",
    "    \n",
    "    # Lokal variabel som varierar\n",
    "    rounded = round(x)\n",
    "    \n",
    "    # Lokal variabel som varierar\n",
    "    result = round(x) + val\n",
    "    \n",
    "    return result"
   ]
  },
  {
   "cell_type": "markdown",
   "metadata": {},
   "source": [
    "Vi kan nu inte tillgå variabeln ``val``, ``rounded`` eller ``result`` utanför funktionen! De existerar bara lokalt inuti funktionen. Pröva att skriva ut dem nedan:"
   ]
  },
  {
   "cell_type": "code",
   "execution_count": 4,
   "metadata": {},
   "outputs": [],
   "source": [
    "#print(val)\n",
    "#print(rounded)\n",
    "#print(result)"
   ]
  },
  {
   "cell_type": "markdown",
   "metadata": {},
   "source": [
    "#### Argumenten\n",
    "Egendefinierade funktioner kan ta hur många argument som man önskar. Dessa separeras med kommatecken."
   ]
  },
  {
   "cell_type": "code",
   "execution_count": 6,
   "metadata": {},
   "outputs": [
    {
     "data": {
      "text/plain": [
       "11"
      ]
     },
     "execution_count": 6,
     "metadata": {},
     "output_type": "execute_result"
    }
   ],
   "source": [
    "def sum_two_numbers(x, y):\n",
    "    \n",
    "    the_sum = x + y\n",
    "    \n",
    "    return the_sum\n",
    "\n",
    "sum_two_numbers(6, 5)"
   ]
  },
  {
   "cell_type": "markdown",
   "metadata": {},
   "source": [
    "Alla funktioner behöver inte returnera en output-variabel, utan kan exempelvis förändra input-argumenten eller skriva saker till skärmen."
   ]
  },
  {
   "cell_type": "code",
   "execution_count": 7,
   "metadata": {},
   "outputs": [
    {
     "name": "stdout",
     "output_type": "stream",
     "text": [
      "Hej\n",
      "Hallå\n",
      "Hej\n"
     ]
    }
   ],
   "source": [
    "def vaddera_text_med_hej(x):\n",
    "    print(\"Hej\")\n",
    "    print(x)\n",
    "    print(\"Hej\")\n",
    "    \n",
    "vaddera_text_med_hej(\"Hallå\")"
   ]
  },
  {
   "cell_type": "markdown",
   "metadata": {},
   "source": [
    "Observera att argumenten inte måste heta *x*. Det spelar ingen roll vad de kallas, och *x* är ett bra namn om man inte har något mer passande. Följande är ekvivalent med ovan funktionsdefinition:"
   ]
  },
  {
   "cell_type": "code",
   "execution_count": 8,
   "metadata": {},
   "outputs": [],
   "source": [
    "def vaddera_text_med_hej(text):\n",
    "    print(\"Hej\")\n",
    "    print(text)\n",
    "    print(\"Hej\")"
   ]
  },
  {
   "cell_type": "markdown",
   "metadata": {},
   "source": [
    "**Utmaning!**\n",
    "\n",
    "Skriv en funktion vid namn <code>hälsningsfunktion</code> som tar följande argument\n",
    "- <code>first_name</code> (ens förnamn som sträng)\n",
    "- <code>last_name</code> (ens efternamn som sträng)\n",
    "\n",
    "och skriver ut följande:\n",
    "\n",
    "``\n",
    "Mitt förnamn är \n",
    "<first_name>\n",
    "och mitt efternamn är \n",
    "<last_name>\n",
    "``"
   ]
  },
  {
   "cell_type": "code",
   "execution_count": null,
   "metadata": {},
   "outputs": [],
   "source": []
  }
 ],
 "metadata": {
  "kernelspec": {
   "display_name": "Python 3",
   "language": "python",
   "name": "python3"
  },
  "language_info": {
   "codemirror_mode": {
    "name": "ipython",
    "version": 3
   },
   "file_extension": ".py",
   "mimetype": "text/x-python",
   "name": "python",
   "nbconvert_exporter": "python",
   "pygments_lexer": "ipython3",
   "version": "3.7.6"
  }
 },
 "nbformat": 4,
 "nbformat_minor": 4
}
