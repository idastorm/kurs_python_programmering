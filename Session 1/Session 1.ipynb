{
 "cells": [
  {
   "cell_type": "markdown",
   "metadata": {},
   "source": [
    "<div class=\"image\">\n",
    "    <img src=\"cdh_logga.png\" width=\"1000\" align=\"top\"/>\n",
    "</div>\n",
    "<h1>Hej och välkomna till CDH:s kurs i Python-programmering i Jupyter Notebooks!</h1><br>\n",
    "Python är ett programmeringsspråk som kan användas för olika applikationer såsom analys och visualisering av data. Data kan betyda text(er) eller numerisk data av olika slag. <a href=https://jupyter.org/>Jupyter Notebooks</a> är ett alternativ för att läsa och utföra koden som vi har valt att använda eftersom går att blanda instruktioner (i ”markdown language”) med ”celler” med kod. Endast den kod du har i just cellen du ”kör” kommer att utföras. <br><br>\n",
    "Vi kommer börja på en nivå som inte kräver förkunskaper, men också visa på några av de möjligheter som finns efter man har lärt sig grunderna. Det finns mycket resurser online, och vi har samlat lite nyttiga länkar som ni kan följa beroende på intresse.  \n",
    "<br>\n",
    "<br>\n",
    "<a id='section0'></a>\n",
    "<h3>Innehåll</h3>\n",
    "    <ol>\n",
    "        Introduktion<br><br>\n",
    "        <li>Programmeringsmiljön</li>\n",
    "            <ol>\n",
    "                <li><a href='#section1'>Min första kod och att hantera Jupyter Notebook</a></li><br>\n",
    "            </ol>    \n",
    "        <li>Grundläggande programmering</li>\n",
    "            <ol>\n",
    "                <li><a href='#section2'>Lite enkel matte</a></li><br>\n",
    "                <li><a href='#section3'>Spara data i variabel</a></li><br>\n",
    "            </ol>\n",
    "        <li>Funktioner</li>\n",
    "            <ol>\n",
    "                <li><a href='#section4'>Inbygda funktioner</a></li><br>\n",
    "                <li><a href='#section5'>Importera funktioner</a></li><br>\n",
    "                <li><a href='#section6'>Skapa egna funktioner</a></li><br>\n",
    "            </ol>\n",
    "        <li>Listor</li>\n",
    "            <ol>\n",
    "                <li><a href='#section7'>Att skapa listor med data</a></li><br>\n",
    "                <li><a href='#section8'>Manipulera listor</a></li><br>\n",
    "                <li><a href='#section9'>Inbyggda funktioner för listor</a></li>\n",
    "            </ol><br>"
   ]
  },
  {
   "cell_type": "markdown",
   "metadata": {},
   "source": [
    "\n",
    "<h3>Introduktion</h3>\n",
    "\n",
    "Syftet med den här kursen är inte att kursdeltagarna skall bli programmerare. Snarare är tanken att väcka intresse för programmering som ett verktyg (liksom Word, Excel och andra mjukvaror), samt skapa förståelse för vad utveckling av program innebär i praktiken.\n",
    "\n",
    "<h4>Vad är kod?</h4>\n",
    "Kod har många betydelser, och vanligtvis kallas inte programmering numer att <i>koda</i>. Koden i sig är språket som används för att representera skrift, bilder eller instruktion i kommunikation med datorer. \n",
    "\n",
    "<h4>Vad är programmering?</h4>\n",
    "Programmering är ett verktyg för att skriva instruktioner till datorer i kod. Programmeringen utgår från ett av flera <i> <a href='https://en.wikipedia.org/wiki/Programming_paradigm'>paradigm</a></i>; samt ett programmeringsspråk. I vårt fall skall vi använda programmeringsspråket Python som använder ett imperativt paradigm - det innebär i huvudsak att\n",
    "\n",
    "- Vi definierar ordningen på våra instruktioner\n",
    "- Endast en instruktion i taget tolkas av datorn.\n",
    "\n",
    "<h4>Hur programmerar man?</h4>\n",
    "När programmeraren skrivit sina instruktioner skickas det till program som tolkar det valda programspråket och omvandlar det till 1:or och 0:or (såkallad binärkod) för datorn att genomföra. Ett exempel på ett sådant program är <b>Jupyter Notebook</b>, en interaktiv IDE (<i>Interactive Development Environment</i>) för programmeringsspråket Python. I Jupyter skrivs instruktionerna i celler för att organisera koden.\n"
   ]
  },
  {
   "cell_type": "markdown",
   "metadata": {},
   "source": [
    "<div style=\"text-align: right\"><a href='#section0' align='left'>Tillbaka till början</a></div>\n",
    "<a id='section1'></a>\n",
    "<h3>1 A. Min första kod och att hantera Jupyter</h3>\n",
    "\n",
    "Vi testar nu att skriva meddelanden till skärmen med den inbyggda instruktionen <code>print</code>. När instruktionen genomförts av datorn kommer ''Hello World!'' skrivas ut nedanför cellen.\n",
    "\n",
    "Markera cellen du vill köra genom att <b>klicka i den</b><br>\n",
    "Klicka sen på <b>run cell</b> i raden högst upp på sidan, alternativt tryck <b>Shift+Enter</b>.\n",
    "<img src=\"kör_cell.PNG\" width=\"500\" align=\"left\"/>\n",
    "\n"
   ]
  },
  {
   "cell_type": "code",
   "execution_count": 3,
   "metadata": {},
   "outputs": [
    {
     "name": "stdout",
     "output_type": "stream",
     "text": [
      "Hello World!\n"
     ]
    }
   ],
   "source": [
    "print(\"Hello World!\")"
   ]
  },
  {
   "cell_type": "markdown",
   "metadata": {},
   "source": [
    "Instruktionen <code>print</code> är en <i>funktion</i>, en samling underliggande instruktioner som förpackats till en ny instruktion med ett mer avancerat syfte. <code>print</code> tar ett <i>argument</i>; det vi önskar skriva ut på skärmen.\n",
    "\n",
    "<code>print</code> ställer vissa krav på argumentet. Det måste vara en så kallad sträng (eng. <i>string</i>), vilken används för att representera mänsklig text i kod. I Python betecknas strängar med citationstecken (ex.vis. \"sträng\") eller apostrofer (ex.vis. 'sträng')."
   ]
  },
  {
   "cell_type": "code",
   "execution_count": 8,
   "metadata": {},
   "outputs": [
    {
     "name": "stdout",
     "output_type": "stream",
     "text": [
      "Prova att köra den här cellen!\n"
     ]
    }
   ],
   "source": [
    "print('Prova att köra den här cellen!')\n",
    "\n",
    "# Det här är en kommentar och kommer inte att påverka resten av koden.\n",
    "# Du kan exekvera flera instruktioner i sekvens genom att skriva dem på en ny rad.\n",
    "# - Prova att använda print själv (ta bort # och skriv valfri text)\n",
    "\n",
    "#print('Skriv din text här')"
   ]
  },
  {
   "cell_type": "markdown",
   "metadata": {},
   "source": [
    "<p>Prova att skapa en helt ny cell efter den här cellen, skriv lite kod, och kör cellen.<br>\n",
    "<ol>\n",
    "    <li>Markera den här cellen genom att klicka i den</li>\n",
    "    <li>Klicka på <b>insert cell below (se bild nedan)</b></li>\n",
    "    <li>Skriv kod i den nya cellen</li>\n",
    "    <li>Se till att den nya cellen är markerad och klicka på <b>run cell</b></li>\n",
    "</ol>\n",
    "\n",
    "<img src=\"insert_cell.PNG\" width=\"500\" align=\"left\"/>"
   ]
  },
  {
   "cell_type": "markdown",
   "metadata": {},
   "source": [
    "Jupyter skrivet automatiskt ut resultatet från den sista raden i en cell. Resultatet från <code>print</code> skrivs alltid ut."
   ]
  },
  {
   "cell_type": "code",
   "execution_count": 1,
   "metadata": {},
   "outputs": [
    {
     "name": "stdout",
     "output_type": "stream",
     "text": [
      "Hello World!\n"
     ]
    },
    {
     "data": {
      "text/plain": [
       "'Tredje raden skrivs ut'"
      ]
     },
     "execution_count": 1,
     "metadata": {},
     "output_type": "execute_result"
    }
   ],
   "source": [
    "print(\"Hello World!\")\n",
    "\"Andra raden skrivs inte ut\"\n",
    "\"Tredje raden skrivs ut\""
   ]
  },
  {
   "cell_type": "markdown",
   "metadata": {},
   "source": [
    "<div style=\"text-align: right\"><a href='#section0' align='left'>Tillbaka till början</a></div>\n",
    "<a id='section2'></a>\n",
    "<h3>2A. Lite enkel matte</h3>\n",
    "\n",
    "Vad många inte känner till är att programmering uppfanns för att automatisera tidskrävande matematiska beräkningar. Därför finns så kallade matematiska ''operatorer'' (räknesätt) inbyggda i de flesta programmeringsspråk. \n",
    "\n",
    "Observera att alla heltal skrivs utan landsformattering, exempelvis avskiljare för tusental. Man skriver alltså <code>10000</code> inte <code>10'000, 10 000, 10.000</code>.\n",
    "\n",
    "Decimaltal skrivs med decimalpunkt (ex.vis. <code>18.97</code> inte <code>18,97</code>), vilket är ISO-standard.\n",
    "\n",
    "Du kan genomföra enkla beräkningar direkt i en cell, då Jupyter alltid skriver sista radens resultat till skärmen. Vill du skriva ut fler beräkningar används lämpligtvis <code>print</code>."
   ]
  },
  {
   "cell_type": "code",
   "execution_count": 12,
   "metadata": {},
   "outputs": [
    {
     "data": {
      "text/plain": [
       "10018.97"
      ]
     },
     "execution_count": 12,
     "metadata": {},
     "output_type": "execute_result"
    }
   ],
   "source": [
    "18.97+10000"
   ]
  },
  {
   "cell_type": "code",
   "execution_count": 19,
   "metadata": {},
   "outputs": [
    {
     "name": "stdout",
     "output_type": "stream",
     "text": [
      "2\n",
      "-1\n",
      "2.5\n",
      "2\n",
      "10074\n",
      "1\n"
     ]
    }
   ],
   "source": [
    "print(1+1)\n",
    "\n",
    "print(1-2)\n",
    "\n",
    "print(5/2) # Division\n",
    "\n",
    "print(5//2) # Betecknar heltalsdivision\n",
    "\n",
    "print(146*69) # Multiplikation\n",
    "\n",
    "print(5 % 2) # Betecknar rest från division (så kallad modulus)\n",
    "\n",
    "#prova själv!"
   ]
  },
  {
   "cell_type": "markdown",
   "metadata": {},
   "source": [
    "<div style=\"text-align: right\"><a href='#section0' align='left'>Tillbaka till början</a></div>\n",
    "<a id='section3'></a>\n",
    "<h3>2B. Spara data i variabel</h3>\n",
    "Det är ofta smidigt att kunna spara sina textsträngar eller beräkningar för senare användning. För detta syfte används <i>variabler</i>. Variabler tilldelas ett värde med hjälp av operatorn <code>=</code>, som skall läsas 'tilldelas värdet', absolut inte 'är lika med'.\n",
    "\n",
    "Variabelnamn skrivs med vanliga tecken, utan citationstecken, specialkaraktärer och mellanslag. Exempelvis kan vi sätta värdet på variabeln <code>a</code> genom att skriva <code>a=10</code>. Det är en förvirrande notation, men om vi vill testa om <code>a</code>:s värde är 10, skrivs <code>a==10</code>, vilket returnerar \"sant\".\n",
    "\n",
    "Variabler som tilldelats ett värde <b>behåller sitt värde mellan celler</b> tills de omdefinieras eller Jupyter startas om."
   ]
  },
  {
   "cell_type": "code",
   "execution_count": 23,
   "metadata": {},
   "outputs": [
    {
     "name": "stdout",
     "output_type": "stream",
     "text": [
      "Min första variabel: 2\n",
      "Min andra variabel: 12\n",
      "Min första variabel + min andra variabel: 14\n"
     ]
    }
   ],
   "source": [
    "# Tilldela ett värde till en variabel\n",
    "min_första_variabel = 2\n",
    "\n",
    "print('Min första variabel:', min_första_variabel)\n",
    "\n",
    "# Tilldela ett värde hämtat från en tidigare definierad variabel\n",
    "min_andra_variabel = min_första_variabel+10\n",
    "\n",
    "print('Min andra variabel:', min_andra_variabel)\n",
    "\n",
    "# Genomför beräkningar med variabler som om de vore tal.\n",
    "print('Min första variabel + min andra variabel:', (min_första_variabel + min_andra_variabel))\n"
   ]
  },
  {
   "cell_type": "code",
   "execution_count": 24,
   "metadata": {},
   "outputs": [
    {
     "name": "stdout",
     "output_type": "stream",
     "text": [
      "Fortfarande samma värde på min första variabel: 2\n"
     ]
    }
   ],
   "source": [
    "# De finns fortfarande kvar \"separat\":\n",
    "\n",
    "print('Fortfarande samma värde på min första variabel:', min_första_variabel)"
   ]
  },
  {
   "cell_type": "markdown",
   "metadata": {},
   "source": [
    "<div style=\"text-align: right\"><a href='#section0' align='left'>Tillbaka till början</a></div>\n",
    "<a id='section4'></a>\n",
    "<h3>3A. Inbyggda funktioner</h3>\n",
    "\n",
    "Hittills har vi använt väldigt begränsad funktionalitet hos programmeringsspråket. Nyckeln till programmeringens framgång är att den är utbyggbar. Det finns så kallade bibliotek eller paket med utökad funktionalitet för språket. Python har ett standardbibliotek vars funktioner alltid är tillgängliga. Ett exempel på en funktion därifrån är <code>print</code> som vi redan använt.\n",
    "\n",
    "<a href=\"https://docs.python.org/3/library/functions.html\">Här</a> finns en lista med fler inbyggda funktioner. Många är mer avancerade och används på till exempel listor som vi kommer till senare. \n",
    "\n",
    "Den inbyggda funktionen <code>round</code> tar ett decimaltal som argument och avrundar det till närmsta heltal. <code>round</code> tar också ett valfritt, namngivet argument; <code>ndigits</code> som istället styr hur många decimaler vi vill avrunda till. Man kallar då på funktionen genom att skriva <code>round(14.71, ndigits=1)</code> vilket returnerar talet avrundat med en decimal, nämligen 14.7.\n",
    "\n",
    "<!--<p>Utan att göra något så finns det flera funktioner som du kan använda när du skriver din kod. Vi har redan använt \"type()\", \"print\" och enkla matematiska funktioner<br>-->\n"
   ]
  },
  {
   "cell_type": "code",
   "execution_count": 2,
   "metadata": {},
   "outputs": [
    {
     "name": "stdout",
     "output_type": "stream",
     "text": [
      "13\n",
      "Avrundning med två decimaler: 12.9\n",
      "Avrundning med två decimaler, utan namngivning i rätt ordning: 12.9\n"
     ]
    },
    {
     "ename": "TypeError",
     "evalue": "'float' object cannot be interpreted as an integer",
     "output_type": "error",
     "traceback": [
      "\u001b[1;31m---------------------------------------------------------------------------\u001b[0m",
      "\u001b[1;31mTypeError\u001b[0m                                 Traceback (most recent call last)",
      "\u001b[1;32m<ipython-input-2-a08533e4af49>\u001b[0m in \u001b[0;36m<module>\u001b[1;34m\u001b[0m\n\u001b[0;32m     15\u001b[0m \u001b[1;33m\u001b[0m\u001b[0m\n\u001b[0;32m     16\u001b[0m \u001b[1;31m# Man kan dock INTE ändra ordningen utan att namnge dem. Programmeringsspråket kan inte läsa tankar.\u001b[0m\u001b[1;33m\u001b[0m\u001b[1;33m\u001b[0m\u001b[1;33m\u001b[0m\u001b[0m\n\u001b[1;32m---> 17\u001b[1;33m \u001b[0mprint\u001b[0m\u001b[1;33m(\u001b[0m\u001b[1;34m'Avrundning med två decimaler, utan namngivning i fel ordning:'\u001b[0m\u001b[1;33m,\u001b[0m \u001b[0mround\u001b[0m\u001b[1;33m(\u001b[0m\u001b[1;36m2\u001b[0m\u001b[1;33m,\u001b[0m \u001b[0ma\u001b[0m\u001b[1;33m)\u001b[0m\u001b[1;33m)\u001b[0m\u001b[1;33m\u001b[0m\u001b[1;33m\u001b[0m\u001b[0m\n\u001b[0m\u001b[0;32m     18\u001b[0m \u001b[1;33m\u001b[0m\u001b[0m\n\u001b[0;32m     19\u001b[0m \u001b[1;33m\u001b[0m\u001b[0m\n",
      "\u001b[1;31mTypeError\u001b[0m: 'float' object cannot be interpreted as an integer"
     ]
    }
   ],
   "source": [
    "# Tilldela variabeln a värdet 12.896\n",
    "a = 12.896\n",
    "\n",
    "# Avrunda talet\n",
    "b = round(a)\n",
    "\n",
    "# Skriv ut resultatet\n",
    "print(b)\n",
    "\n",
    "# Funktionen tar också ett valfritt argument (ndigits) - se dokumentationen\n",
    "print('Avrundning med två decimaler:', round(a, ndigits=2))\n",
    "\n",
    "# Man kan även skriva argumenten utan att namnge dem, givet att de skrivs i rätt ordning\n",
    "print('Avrundning med två decimaler, utan namngivning i rätt ordning:', round(a, 2))\n",
    "\n",
    "# Man kan dock INTE ändra ordningen utan att namnge dem. Programmeringsspråket kan inte läsa tankar.\n",
    "print('Avrundning med två decimaler, utan namngivning i fel ordning:', round(2, a))\n",
    "\n",
    "\n",
    "#vad händer om du avrundar till fyra decimaler?"
   ]
  },
  {
   "cell_type": "markdown",
   "metadata": {},
   "source": [
    "Det sista fallet returnerar ett fel (\"TypeError\"). I detta fallet måste andra argumentet (<code>ndigits</code>) vara ett heltal, vilket Python detekterar att det inte är."
   ]
  },
  {
   "cell_type": "markdown",
   "metadata": {},
   "source": [
    "<div style=\"text-align: right\"><a href='#section0' align='left'>Tillbaka till början</a></div>\n",
    "<a id='section5'></a>\n",
    "<h3>3B. Importera funktioner</h3>\n",
    "De flesta funktioner finns inte i standardbiblioteket hos Python. Istället får man importera externa bibliotek, eller moduler.\n",
    "\n",
    "Exempel: Modulerna <b>math</b> och <b>numpy</b> med flera matematiska funktioner.\n",
    "\n",
    "Läs mer om de olika funktionerna man kan använda när man har importerat math <a href=\"https://docs.python.org/3/library/math.html\">här</a>.\n",
    "\n",
    "Läs mer om de olika funktionerna man kan använda när man har importerat numpy <a href=\"https://numpy.org/doc/stable/\">här</a>.\n",
    "\n",
    "Vi kommer importera och använda fler moduler vid ett senare tillfälle. För mer förståelse om vad en modul är läs <a href=\"https://docs.python.org/3/tutorial/modules.html\">här</a>.\n",
    "\n"
   ]
  },
  {
   "cell_type": "code",
   "execution_count": 28,
   "metadata": {},
   "outputs": [
    {
     "name": "stdout",
     "output_type": "stream",
     "text": [
      "2.0\n",
      "2.0\n",
      "2.0\n",
      "2.0\n"
     ]
    }
   ],
   "source": [
    "# \"math\" är en modul med många olika fuktioner - \"math.sqrt()\" räknar ut kvadratroten av ett tal\n",
    "# print(math.sqrt(4))\n",
    "\n",
    "# Men modulen måste importeras först (error \"name 'math' is not defined\" annars).\n",
    "# Kommentera \"print(math.sqrt(4)\" och prova igen)\n",
    "import math\n",
    "\n",
    "print(math.sqrt(4))\n",
    "\n",
    "#är det långa namn så kan man importera modulen \"math\" och kalla den \"m\" istället: \n",
    "import math as m\n",
    "\n",
    "print(m.sqrt(4))\n",
    "\n",
    "# Detta är även smidigt om det finns flera moduler med samma namn på flera funktioner.\n",
    "# Ett vanligt paket för beräkningar är numpy\n",
    "import numpy as np\n",
    "\n",
    "print(np.sqrt(4))\n",
    "\n",
    "# Vi har även importerat \"math\" som det är - så det fungerar fortfarande att skriva math.sqrt\n",
    "print(math.sqrt(4))\n"
   ]
  },
  {
   "cell_type": "markdown",
   "metadata": {},
   "source": [
    "<div style=\"text-align: right\"><a href='#section0' align='left'>Tillbaka till början</a></div>\n",
    "<a id='section6'></a>\n",
    "<h3>3C. Att skapa egna funktioner</h3>\n",
    "<p>Ska det här vara med som ett avsnitt?</p>"
   ]
  },
  {
   "cell_type": "markdown",
   "metadata": {},
   "source": [
    "<div style=\"text-align: right\"><a href='#section0' align='left'>Tillbaka till början</a></div>\n",
    "<a id='section7'></a>\n",
    "<h3>4A. Att skapa listor med data</h3>"
   ]
  },
  {
   "cell_type": "markdown",
   "metadata": {},
   "source": [
    "I <a href=\"https://docs.python.org/3/library/functions.html\">dokumentationen över inbyggda funktioner</a> finns flera funktioner som inte har så spännade effekt på variabler med endast ett värde. Dessa inkluderar\n",
    "    \n",
    "- <code>sum(x: list)</code>: Beräknar summan av flera numeriska värden\n",
    "- <code>min(x: list)</code>: Beräknar minsta värdet av flera numeriska värden\n",
    "\n",
    "Dessa tar ett argument <code>x</code> som är av typen ''list'' eller ''lista''. I Python är en lista samling helt godtyckliga värden som skrivs inom hakparenteser, <code>[]</code>.\n",
    "\n",
    "Exempelvis\n",
    "\n",
    "``\n",
    "x = 65\n",
    "[1, 2, \"ost\", 47.18, x]\n",
    "``\n",
    "\n",
    "Vi kan beräkna längden (antalet element) av listan med den inbyggda funktionen <code>len</code>."
   ]
  },
  {
   "cell_type": "code",
   "execution_count": 3,
   "metadata": {},
   "outputs": [
    {
     "name": "stdout",
     "output_type": "stream",
     "text": [
      "5\n"
     ]
    }
   ],
   "source": [
    "x = 65\n",
    "lista = [1, \"ost\", 2, 47.18, x]\n",
    "\n",
    "print(len(lista))"
   ]
  },
  {
   "cell_type": "markdown",
   "metadata": {},
   "source": [
    "Listor kan till och med innehålla andra listor. Dessa räknas dock som endast ett element."
   ]
  },
  {
   "cell_type": "code",
   "execution_count": 4,
   "metadata": {},
   "outputs": [
    {
     "name": "stdout",
     "output_type": "stream",
     "text": [
      "6\n"
     ]
    }
   ],
   "source": [
    "x = 65\n",
    "lista = [1, \"ost\", 2, 47.18, x, [\"värde i inre listan\", 780, x]]\n",
    "\n",
    "print(len(lista))"
   ]
  },
  {
   "cell_type": "markdown",
   "metadata": {},
   "source": [
    "Vissa funktioner ställer krav på att listor endast innehåller värden av en viss typ. <code>sum</code> och <code>min</code> vill exempelvis helst ha listor med endast siffror, av naturliga skäl"
   ]
  },
  {
   "cell_type": "code",
   "execution_count": 5,
   "metadata": {},
   "outputs": [
    {
     "name": "stdout",
     "output_type": "stream",
     "text": [
      "Summa:  15\n",
      "Minimum:  1\n"
     ]
    }
   ],
   "source": [
    "numerisk_lista = [1, 2, 3, 4, 5]\n",
    "\n",
    "summan_av_listan = sum(numerisk_lista)\n",
    "minsta_värdet_i_listan = min(numerisk_lista)\n",
    "\n",
    "print(\"Summa: \", summan_av_listan)\n",
    "print(\"Minimum: \", minsta_värdet_i_listan)"
   ]
  },
  {
   "cell_type": "markdown",
   "metadata": {},
   "source": [
    "<div style=\"text-align: right\"><a href='#section0' align='left'>Tillbaka till början</a></div>\n",
    "<a id='section8'></a>\n",
    "<h3>Inbyggda funktioner för listor</h3>\n",
    "\n",
    "Listor tillhör en mer komplicerad typ av objekt och har egna inbyggda funktioner. Exempelvis vill man kunna hämta värden på en viss plats i en lista. Detta kallas indexering, och givet en lista\n",
    "\n",
    "``\n",
    "lista = [1, \"ost\", 2, 47.18, x, [\"värde i inre listan\", 780, x]]\n",
    "``\n",
    "\n",
    "så hämtas första elementet med <code>lista[0]</code>, vilket returnerar värdet 1. Andra elementet <code>lista[1]</code> ger \"ost\" och så vidare. Pröva själv nedan! "
   ]
  },
  {
   "cell_type": "code",
   "execution_count": 39,
   "metadata": {},
   "outputs": [
    {
     "data": {
      "text/plain": [
       "['värde i inre listan', 780, 65]"
      ]
     },
     "execution_count": 39,
     "metadata": {},
     "output_type": "execute_result"
    }
   ],
   "source": [
    "lista[5]"
   ]
  },
  {
   "cell_type": "markdown",
   "metadata": {},
   "source": [
    "Observera att indexering sker med en offset. Första elemtentet är inte <code>lista[1]</code> utan <code>lista[0]</code>. Detta är konvention, och något man får vänja sig vid. Index för sista elementet är alltså <code>sista_index = 1-len(list)</code>. Om du väljer ett index utanför <code>[0, 1, 2, 3, 4, 5]</code> i vårt fall, får du ett \"IndexError\".\n",
    "\n",
    "En smidig notation hos python är att sista elementet också kan erhålla sista elementet med negativa index:"
   ]
  },
  {
   "cell_type": "code",
   "execution_count": 7,
   "metadata": {},
   "outputs": [
    {
     "data": {
      "text/plain": [
       "['värde i inre listan', 780, 65]"
      ]
     },
     "execution_count": 7,
     "metadata": {},
     "output_type": "execute_result"
    }
   ],
   "source": [
    "lista[-1]"
   ]
  },
  {
   "cell_type": "code",
   "execution_count": 8,
   "metadata": {},
   "outputs": [
    {
     "name": "stdout",
     "output_type": "stream",
     "text": [
      "[1, 2, 3, 4, 5]\n",
      "['Ida', 'Jonas', 'Johan', 'Jonathan', 'Kalle', 'Åsa', 'Stina']\n",
      "exempel index 0:  Ida\n",
      "exempel index 1:  Jonas\n",
      "exempel index -1:  Stina\n",
      "exempel index -2:  Åsa\n",
      "Den uppdaterade listan med Ida ersatt med Vilma:  ['Vilma', 'Jonas', 'Johan', 'Jonathan', 'Kalle', 'Åsa', 'Stina']\n"
     ]
    }
   ],
   "source": [
    "en_lista=[1,2,3,4,5]\n",
    "\n",
    "print(en_lista)\n",
    "\n",
    "en_lista_med_text=['Ida', 'Jonas', 'Johan', 'Jonathan', 'Kalle', 'Åsa', 'Stina']\n",
    "\n",
    "print(en_lista_med_text)\n",
    "\n",
    "#man använder \"index\" för att komma åt den data man vill ha\n",
    "#det första objektet är på index 0\n",
    "print('exempel index 0: ', en_lista_med_text[0])\n",
    "print('exempel index 1: ', en_lista_med_text[1])\n",
    "\n",
    "#vill man ha det sista objektet kan man använda -1 som index\n",
    "print('exempel index -1: ', en_lista_med_text[-1])\n",
    "print('exempel index -2: ', en_lista_med_text[-2])\n",
    "\n",
    "#man kan också använda index för att ersätta det befintliga objektet med annan data.\n",
    "#i exemplet nedan vill jag ersätta Ida med Vilma:\n",
    "\n",
    "en_lista_med_text[0]='Vilma'\n",
    "\n",
    "print('Den uppdaterade listan med Ida ersatt med Vilma: ', en_lista_med_text)\n"
   ]
  },
  {
   "cell_type": "markdown",
   "metadata": {},
   "source": [
    "<div style=\"text-align: right\"><a href='#section0' align='left'>Tillbaka till början</a></div>\n",
    "<a id='section8'></a>\n",
    "Vissa objekt har inbyggda funktioner. Listor har exempelvis <a href=\"https://docs.python.org/2/tutorial/datastructures.html\">följande funktionalitet</a>:\n",
    "\n",
    "- <code>append(x)</code>: Lägg till ett element <code>x</code> sist i listan\n",
    "- <code>insert(i, x)</code>: Lägg till ett element <code>x</code> vid index <code>i</code> i listan. Observera att detta ändrar index ordningen på påföljande element\n",
    "- <code>pop()</code>: Ta bort sista elementet i listan\n",
    "\n",
    "Man kallar på funktionerna genom punktnotation, exempelvis\n",
    "``\n",
    "lista.append(\"konst\")\n",
    "``\n",
    "lägger till en sträng \"konst\" sist i listan \"lista\"."
   ]
  },
  {
   "cell_type": "code",
   "execution_count": 9,
   "metadata": {},
   "outputs": [
    {
     "name": "stdout",
     "output_type": "stream",
     "text": [
      "Den uppdaterade listan med Axel tillagt först i listan (index 0):  ['Axel', 'Vilma', 'Jonas', 'Johan', 'Jonathan', 'Kalle', 'Åsa', 'Stina']\n",
      "Den uppdaterade lista med Sture tillagd:  ['Axel', 'Vilma', 'Jonas', 'Johan', 'Jonathan', 'Kalle', 'Åsa', 'Stina', 'Sture']\n",
      "Den uppdaterade lista med Sture borttagen igen:  ['Axel', 'Vilma', 'Jonas', 'Johan', 'Jonathan', 'Kalle', 'Åsa', 'Stina']\n"
     ]
    }
   ],
   "source": [
    "#man kan också använda index tillsammans med \"insert\" för att lägga till ett objekt på en specifik plats i listan:\n",
    "en_lista_med_text.insert(0, 'Axel')\n",
    "\n",
    "print('Den uppdaterade listan med Axel tillagt först i listan (index 0): ', en_lista_med_text)\n",
    "\n",
    "#för att lägga till ett namn, använd den inbyggda funktionen \"append()\":\n",
    "en_lista_med_text.append('Sture')\n",
    "\n",
    "print('Den uppdaterade lista med Sture tillagd: ', en_lista_med_text)\n",
    "\n",
    "# Vi kan ta bort Sture igen, som lades till sist\n",
    "en_lista_med_text.pop()\n",
    "\n",
    "print('Den uppdaterade lista med Sture borttagen igen: ', en_lista_med_text)\n"
   ]
  },
  {
   "cell_type": "markdown",
   "metadata": {},
   "source": [
    "<p>Listorna som skapades i förra cellen (den sista versionen av dem) finns kvar för användning i andra celler<br>\n",
    "Gör övningarna i nästa cell för att öva på listorna! </p>"
   ]
  },
  {
   "cell_type": "markdown",
   "metadata": {},
   "source": [
    "#### Utmaning!\n",
    "\n",
    "Gör följande övningar på listan *en_lista_med_text*:\n",
    "\n",
    "1. Prova att ersätta Johan med valfritt namn (kom ihåg att använda det index Johan är på i den senast uppdaterade listan):\n",
    "2. Skapa en egen lista där du provar att mixa text och nummer. \n",
    "3. Hur tar man bort ett objekt i din nya lista? Prova att göra en sökning för att hitta svaret! "
   ]
  },
  {
   "cell_type": "code",
   "execution_count": 6,
   "metadata": {},
   "outputs": [],
   "source": [
    "# 1. Ta bort Johan från listan\n",
    "\n",
    "# 2. Skapa ny lista med både text och nummer\n",
    "\n",
    "# 3. Ta bort ett objekt i din lista"
   ]
  }
 ],
 "metadata": {
  "kernelspec": {
   "display_name": "Python 3",
   "language": "python",
   "name": "python3"
  },
  "language_info": {
   "codemirror_mode": {
    "name": "ipython",
    "version": 3
   },
   "file_extension": ".py",
   "mimetype": "text/x-python",
   "name": "python",
   "nbconvert_exporter": "python",
   "pygments_lexer": "ipython3",
   "version": "3.8.3"
  }
 },
 "nbformat": 4,
 "nbformat_minor": 4
}
