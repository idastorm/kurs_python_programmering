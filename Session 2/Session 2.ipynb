{
 "cells": [
  {
   "cell_type": "markdown",
   "metadata": {},
   "source": [
    "<a id='section0'></a>\n",
    "<h3>Innehåll</h3>\n",
    "    <ol>\n",
    "        <li>Hur fattar datorn kod?</li>\n",
    "            <ol>\n",
    "                <li><a href='#section1'>xxx</a></li><br>\n",
    "            </ol>    \n",
    "        <li>Datatyper</li>\n",
    "            <ol>\n",
    "                <li><a href='#section2'>Heltal/decimaltal</a></li><br>\n",
    "                <li><a href='#section3'>Sträng (string)</a></li><br>\n",
    "                <li><a href='#section4'>Booleanska</a></li><br>\n",
    "                <li><a href='#section5'>Inbyggda funktioner</a></li><br>\n",
    "                <li><a href='#section6'>Sammansatta datatyper</a></li><br>\n",
    "            </ol>\n",
    "        <li>Loopar</li>\n",
    "            <ol>\n",
    "                <li><a href='#section7'>for-loops</a></li><br>\n",
    "                <li><a href='#section8'>Loopar med if-satser</a></li><br>\n",
    "            </ol>\n",
    "        <li>Läsning av filer</li>\n",
    "            <ol>\n",
    "                <li><a href='#section9'>Att läsa data från Excel</a></li><br>\n",
    "                <li><a href='#section10'>Att läsa geografiska data</a></li><br>\n",
    "            </ol><br>"
   ]
  },
  {
   "cell_type": "markdown",
   "metadata": {},
   "source": [
    "### Hur fattar datorn kod?"
   ]
  },
  {
   "cell_type": "markdown",
   "metadata": {},
   "source": [
    "<div style=\"text-align: right\"><a href='#section0' align='left'>Tillbaka till början</a></div>\n",
    "<a id='section1'></a> \n",
    "\n",
    "### 1A. xxx"
   ]
  },
  {
   "cell_type": "markdown",
   "metadata": {},
   "source": [
    "### Datatyper\n",
    "\n",
    "Det finns många olika sätt att spara information i variabel i Python, och vi har redan sett de flesta av dem vid första tillfället. \n",
    "Starten på det här tillfället blir alltså en möjlighet till lite repitition, men också reflektion om skillnaden \n",
    "och vad det innebär när vi använder språket. \n",
    "\n",
    "Vi kan undersöka vilken typ av data vi jobbar med genom att använda den inbyggda funktionen <code>type()</code>.\n",
    "Vi kan skriva <code>type(ditt_variabel)</code> och kan få alla dessa svar tillbaka:\n",
    "    \n",
    "<code>int<br>float<br>str<br>complex<br>list<br>tuple<br>range<br>dict<br>set<br>frozenset<br>bool<br>bytes<br>bytearray<br>memoryview</code>\n",
    "\n",
    "Vi kommer att kort repetera heltal (int), decimaltal (float), sträng (str) och listor (list). \n",
    "Nytt är boleanska (bool) och att skapa en ordbok (dict)."
   ]
  },
  {
   "cell_type": "code",
   "execution_count": 11,
   "metadata": {},
   "outputs": [
    {
     "name": "stdout",
     "output_type": "stream",
     "text": [
      "<class 'str'>\n"
     ]
    }
   ],
   "source": [
    "print(type('ida'))"
   ]
  },
  {
   "cell_type": "code",
   "execution_count": null,
   "metadata": {},
   "outputs": [],
   "source": [
    "<div style=\"text-align: right\"><a href='#section0' align='left'>Tillbaka till början</a></div>\n",
    "<a id='section1'></a> \n",
    "\n",
    "### 2A. Heltal/decimaltal\n",
    "\n"
   ]
  },
  {
   "cell_type": "markdown",
   "metadata": {},
   "source": [
    "<div style=\"text-align: right\"><a href='#section0' align='left'>Tillbaka till början</a></div>\n",
    "<a id='section2'></a> \n",
    "\n",
    "### 2B. Sträng (string)"
   ]
  },
  {
   "cell_type": "markdown",
   "metadata": {},
   "source": [
    "<div style=\"text-align: right\"><a href='#section0' align='left'>Tillbaka till början</a></div>\n",
    "<a id='section3'></a> \n",
    "\n",
    "### 2C. Booleanska (boolean)"
   ]
  },
  {
   "cell_type": "markdown",
   "metadata": {},
   "source": [
    "#### Utmaning!"
   ]
  },
  {
   "cell_type": "code",
   "execution_count": 8,
   "metadata": {},
   "outputs": [
    {
     "name": "stdout",
     "output_type": "stream",
     "text": [
      "False\n",
      "True\n"
     ]
    }
   ],
   "source": [
    "y = 157/12\n",
    "\n",
    "# undersök om y är större än 13\n",
    "\n",
    "\n",
    "# undersök om y*3 är lika med 100\n",
    "\n",
    "\n",
    "# skriv ett uttryck som undersöker om y är större än 13 OCH om y*3 är lika med 100\n",
    "\n",
    "print(y*3==100 and y>13)\n",
    "\n",
    "\n",
    "#skriv ett uttryck som undersöker om y är större än 13 ELLER om y*3 är lika med 100\n",
    "\n",
    "print(y*3==100 or y>13)\n",
    "\n"
   ]
  },
  {
   "cell_type": "markdown",
   "metadata": {},
   "source": [
    "<div style=\"text-align: right\"><a href='#section0' align='left'>Tillbaka till början</a></div>\n",
    "<a id='section4'></a> \n",
    "\n",
    "### 2D. Inbyggda funktioner"
   ]
  },
  {
   "cell_type": "markdown",
   "metadata": {},
   "source": [
    "<div style=\"text-align: right\"><a href='#section0' align='left'>Tillbaka till början</a></div>\n",
    "<a id='section5'></a> \n",
    "\n",
    "### 2E. Sammansatta data typer"
   ]
  },
  {
   "cell_type": "markdown",
   "metadata": {},
   "source": [
    "<div style=\"text-align: right\"><a href='#section0' align='left'>Tillbaka till början</a></div>\n",
    "<a id='section5'></a> \n",
    "\n",
    "### 3A. Översikt "
   ]
  },
  {
   "cell_type": "markdown",
   "metadata": {},
   "source": [
    "<p><b>KANSKE SKIPPA DEN TILL TILLFÄLLET MED DATATYPER? Mer om variabler</b><br>\n",
    "Ett variabel finns kvar tills du tar bort det, eller ersätter det med ett annat värde<br>\n",
    "Variabler av olika typ kan inte sättas ihop<br>\n",
    "<a href=\"https://www.guru99.com/variables-in-python.html\">Mer om variabel i Python</a></p>"
   ]
  },
  {
   "cell_type": "code",
   "execution_count": null,
   "metadata": {},
   "outputs": [],
   "source": [
    "print('Mina variabel från förra cellen finns kvar! Här är mitt första variabel:', mitt_första_variabel)\n",
    "\n",
    "#använder vi samma namn på variabel igen och sätter det lika med något annat är det tidigare värdet ersatt:\n",
    "mitt_första_variabel='Hej!'\n",
    "\n",
    "print('Mitt första variabel ersatt:', mitt_första_variabel)\n",
    "\n",
    "#nu är det första variablet fortfarande ett nummer, medan Hej! är text\n",
    "#att köra den här koden ger ett \"error\" (\"can only concatenate str (not \"int\") to str\")\n",
    "#kommentera (#) nästa rad för att kunna köra kode utan \"error\"\n",
    "#print('Mitt första variabel + mitt andra variabel:', (mitt_första_variabel + mitt_andra_variabel))\n",
    "\n",
    "print('Typ första variablet:', type(mitt_första_variabel))\n",
    "\n",
    "print('Typ andra variablet:', type(mitt_andra_variabel))\n",
    "\n",
    "mitt_tredje_variabel = 'Jag kommer från Malmö.'\n",
    "\n",
    "#första och tredje variablet är text och kan sättas ihop. \n",
    "#notera att de fortfarande är två separata variabel\n",
    "print(mitt_första_variabel + mitt_tredje_variabel)\n",
    "\n",
    "#men de kan sättas samman till ett variabel (jag har laggt till ett mellanrum också)!\n",
    "mitt_fjärde_variabel = mitt_första_variabel + ' ' + mitt_tredje_variabel\n",
    "\n",
    "print('Mitt fjärde variabel:', mitt_fjärde_variabel)\n",
    "\n",
    "#första och andra variablet finns fortfarande kvar:\n",
    "print('Första variablet finns fortfarande kvar:', mitt_första_variabel)\n",
    "\n",
    "print('Tredej variablet finns fortfarande kvar:', mitt_tredje_variabel)"
   ]
  },
  {
   "cell_type": "markdown",
   "metadata": {},
   "source": [
    "**Utmaning!**\n",
    "\n",
    "Du har blivit ombedd att räkna på hur mycket det skulle kosta Göteborgs Universitet att ge alla anställda anställda på LIR en bonus på 5% av sin månadslön. Du har fått en lista på alla löner (se nedan). Beräkna den totala månatliga kostnaden för denna ökning."
   ]
  },
  {
   "cell_type": "code",
   "execution_count": 9,
   "metadata": {},
   "outputs": [
    {
     "ename": "ModuleNotFoundError",
     "evalue": "No module named 'samples'",
     "output_type": "error",
     "traceback": [
      "\u001b[1;31m---------------------------------------------------------------------------\u001b[0m",
      "\u001b[1;31mModuleNotFoundError\u001b[0m                       Traceback (most recent call last)",
      "\u001b[1;32m<ipython-input-9-dd75fc00a223>\u001b[0m in \u001b[0;36m<module>\u001b[1;34m\u001b[0m\n\u001b[1;32m----> 1\u001b[1;33m \u001b[1;32mfrom\u001b[0m \u001b[0msamples\u001b[0m \u001b[1;32mimport\u001b[0m \u001b[0mlöner\u001b[0m\u001b[1;33m\u001b[0m\u001b[1;33m\u001b[0m\u001b[0m\n\u001b[0m\u001b[0;32m      2\u001b[0m \u001b[0mprint\u001b[0m\u001b[1;33m(\u001b[0m\u001b[0mlöner\u001b[0m\u001b[1;33m)\u001b[0m\u001b[1;33m\u001b[0m\u001b[1;33m\u001b[0m\u001b[0m\n",
      "\u001b[1;31mModuleNotFoundError\u001b[0m: No module named 'samples'"
     ]
    }
   ],
   "source": [
    "from samples import löner\n",
    "print(löner)"
   ]
  },
  {
   "cell_type": "code",
   "execution_count": null,
   "metadata": {},
   "outputs": [],
   "source": [
    "from ledtrådar import Utmaning_löner\n",
    "Utmaning_löner.ledtråd1()\n",
    "Utmaning_löner.ledtråd2()\n",
    "Utmaning_löner.ledtråd3()\n",
    "\n",
    "# För lösning, ta bort den här kommentaren också (du måste fortfarande skriva av lösningen själv):\n",
    "Utmaning_löner.lösning()\n",
    "\n",
    "\n",
    "\n",
    "#bonusfrågor:\n",
    "#vad är medellönen?\n",
    "\n",
    "\n",
    "#vad är medianlönen?\n",
    "\n",
    "\n",
    "#vad är lägsta lönen?\n",
    "\n",
    "\n",
    "#vad är högsta lönen?\n",
    "\n",
    "#vad är den totala kostnaden om endast de som tjänar över 40000 får 5% bonus?\n",
    "#Utmaning_löner.ledtråd4()"
   ]
  },
  {
   "cell_type": "markdown",
   "metadata": {},
   "source": [
    "### Att använda if-satser i loopar"
   ]
  },
  {
   "cell_type": "code",
   "execution_count": null,
   "metadata": {},
   "outputs": [],
   "source": [
    "for name in en_lista_med_text:\n",
    "    if name=='Vilma':\n",
    "        print('Vilma finns i listan!')\n",
    "\n",
    "#\"Vilma eller Kalle har hittats\" kommer att skrivas två gånger - en gång när \"loopen hamnar på\" Vilma och en gång på Kalle\n",
    "#notera \"or\" som kollar är det här namnet Vilma ELLER Kalle. \n",
    "for name in en_lista_med_text:\n",
    "    if name=='Vilma' or name=='Kalle':\n",
    "        print('Vilma eller Kalle har hittats')\n",
    "        \n",
    "#Inte Vilma kommer att skrivas en gång för varje namn som inte är Vilma\n",
    "for name in en_lista_med_text:\n",
    "    if name != 'Vilma':\n",
    "        print('Inte Vilma')\n",
    "    \n",
    "#undersök vilka namn i listan som är längre än fyra karaktärer\n",
    "for name in en_lista_med_text:   \n",
    "    if len(name)>4:\n",
    "        print('namn i listan längre än fyra karaktärer:', name)\n",
    "        \n",
    "    else:\n",
    "        print('namn i listan som är fyra karaktärer eller kortare:', name)"
   ]
  },
  {
   "cell_type": "markdown",
   "metadata": {},
   "source": [
    "### Att läsa data från Excel"
   ]
  },
  {
   "cell_type": "code",
   "execution_count": null,
   "metadata": {},
   "outputs": [],
   "source": [
    "import pandas as pd\n",
    "import xlrd\n",
    "löner_2=pd.read_excel('löner.xlsx', index_col=0) \n",
    "\n",
    "print(löner_2)"
   ]
  },
  {
   "cell_type": "code",
   "execution_count": null,
   "metadata": {},
   "outputs": [],
   "source": [
    "#importera modul så vi kan hantera Excel-data\n",
    "\n",
    "\n",
    "löner_excel= 'löner.xlsx'\n",
    "löner_excel = xlrd.open_workbook(löner_excel)\n",
    "löner_excel = löner_excel.sheet_by_name('Blad1')\n",
    "\n",
    "num_cols = löner_excel.ncols\n",
    "\n",
    "print(num_cols)\n",
    "\n",
    "löner_från_fil=[]\n",
    "\n",
    "#range är en fukntion vi inte använt tidigare.\n",
    "for kolumn in range(num_cols):\n",
    "    \n",
    "    #namn i första raden (0)\n",
    "    print(löner_excel.cell_value(0, kolumn))\n",
    "    \n",
    "    #lön i andra raden\n",
    "    print(löner_excel.cell_value(1, kolumn))\n",
    "    \n",
    "    löner_från_fil.append(löner_excel.cell_value(1, kolumn))\n",
    "    \n",
    "print(löner_från_fil)\n",
    "\n",
    "#löner_excel.cell_value(curr_row, 1)"
   ]
  }
 ],
 "metadata": {
  "kernelspec": {
   "display_name": "Python 3",
   "language": "python",
   "name": "python3"
  },
  "language_info": {
   "codemirror_mode": {
    "name": "ipython",
    "version": 3
   },
   "file_extension": ".py",
   "mimetype": "text/x-python",
   "name": "python",
   "nbconvert_exporter": "python",
   "pygments_lexer": "ipython3",
   "version": "3.8.3"
  }
 },
 "nbformat": 4,
 "nbformat_minor": 4
}
