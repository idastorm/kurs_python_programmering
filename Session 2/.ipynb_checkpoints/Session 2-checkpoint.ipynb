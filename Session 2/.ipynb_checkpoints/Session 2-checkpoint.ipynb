{
 "cells": [
  {
   "cell_type": "markdown",
   "metadata": {},
   "source": [
    "<a id='section0'></a>\n",
    "<h3>Innehåll</h3>\n",
    "    <ol>\n",
    "        <li>Hur fattar datorn kod?</li>\n",
    "            <ol>\n",
    "                <li><a href='#section1'>xxx</a></li><br>\n",
    "            </ol>    \n",
    "        <li>Datatyper</li>\n",
    "            <ol>\n",
    "                <li><a href='#section2'>Heltal/decimaltal</a></li><br>\n",
    "                <li><a href='#section3'>Sträng (string)</a></li><br>\n",
    "                <li><a href='#section4'>Booleanska</a></li><br>\n",
    "                <li><a href='#section5'>Inbyggda funktioner</a></li><br>\n",
    "                <li><a href='#section6'>Sammansatta datatyper</a></li><br>\n",
    "            </ol>\n",
    "        <li>Loopar</li>\n",
    "            <ol>\n",
    "                <li><a href='#section7'>for-loops</a></li><br>\n",
    "                <li><a href='#section8'>Loopar med if-satser</a></li><br>\n",
    "            </ol>\n",
    "        <li>Läsning av filer</li>\n",
    "            <ol>\n",
    "                <li><a href='#section9'>Att läsa data från Excel</a></li><br>\n",
    "                <li><a href='#section10'>Att läsa geografiska data</a></li><br>\n",
    "            </ol><br>"
   ]
  },
  {
   "cell_type": "markdown",
   "metadata": {},
   "source": [
    "### Hur fattar datorn kod?"
   ]
  },
  {
   "cell_type": "markdown",
   "metadata": {},
   "source": [
    "<div style=\"text-align: right\"><a href='#section0' align='left'>Tillbaka till början</a></div>\n",
    "<a id='section1'></a> \n",
    "\n",
    "### 1A. xxx"
   ]
  },
  {
   "cell_type": "markdown",
   "metadata": {},
   "source": [
    "### Datatyper\n",
    "\n",
    "Det finns många olika sätt att spara information i variabel i Python, och vi har redan sett de flesta av dem vid första tillfället. \n",
    "Starten på det här tillfället blir alltså en möjlighet till lite repitition, men också reflektion om skillnaden \n",
    "och vad det innebär när vi använder språket. \n",
    "\n",
    "Vi kan undersöka vilken typ av data vi jobbar med genom att använda den inbyggda funktionen <code>type()</code>.\n",
    "Vi kan skriva <code>type(ditt_variabel)</code> och kan få alla dessa svar tillbaka:\n",
    "    \n",
    "<code>int<br>float<br>str<br>complex<br>list<br>tuple<br>range<br>dict<br>set<br>frozenset<br>bool<br>bytes<br>bytearray<br>memoryview</code>\n",
    "\n",
    "Vi kommer att kort repetera heltal (int), decimaltal (float), sträng (str) och listor (list). \n",
    "Nytt är boleanska (bool) och att skapa en ordbok (dict)."
   ]
  },
  {
   "cell_type": "code",
   "execution_count": null,
   "metadata": {},
   "outputs": [],
   "source": [
    "print(type('ida'))"
   ]
  },
  {
   "cell_type": "code",
   "execution_count": null,
   "metadata": {},
   "outputs": [],
   "source": [
    "<div style=\"text-align: right\"><a href='#section0' align='left'>Tillbaka till början</a></div>\n",
    "<a id='section1'></a> \n",
    "\n",
    "### 2A. Heltal/decimaltal\n",
    "\n"
   ]
  },
  {
   "cell_type": "markdown",
   "metadata": {},
   "source": [
    "<div style=\"text-align: right\"><a href='#section0' align='left'>Tillbaka till början</a></div>\n",
    "<a id='section2'></a> \n",
    "\n",
    "### 2B. Sträng (string)"
   ]
  },
  {
   "cell_type": "markdown",
   "metadata": {},
   "source": [
    "<div style=\"text-align: right\"><a href='#section0' align='left'>Tillbaka till början</a></div>\n",
    "<a id='section3'></a> \n",
    "\n",
    "### 2C. Booleanska (boolean)"
   ]
  },
  {
   "cell_type": "markdown",
   "metadata": {},
   "source": [
    "#### Utmaning!"
   ]
  },
  {
   "cell_type": "code",
   "execution_count": null,
   "metadata": {},
   "outputs": [],
   "source": [
    "y = 157/12\n",
    "\n",
    "# undersök om y är större än 13\n",
    "\n",
    "\n",
    "# undersök om y*3 är lika med 100\n",
    "\n",
    "\n",
    "# skriv ett uttryck som undersöker om y är större än 13 OCH om y*3 är lika med 100\n",
    "\n",
    "print(y*3==100 and y>13)\n",
    "\n",
    "\n",
    "#skriv ett uttryck som undersöker om y är större än 13 ELLER om y*3 är lika med 100\n",
    "\n",
    "print(y*3==100 or y>13)\n",
    "\n"
   ]
  },
  {
   "cell_type": "markdown",
   "metadata": {},
   "source": [
    "<div style=\"text-align: right\"><a href='#section0' align='left'>Tillbaka till början</a></div>\n",
    "<a id='section4'></a> \n",
    "\n",
    "### 2D. Inbyggda funktioner"
   ]
  },
  {
   "cell_type": "markdown",
   "metadata": {},
   "source": [
    "<div style=\"text-align: right\"><a href='#section0' align='left'>Tillbaka till början</a></div>\n",
    "<a id='section5'></a> \n",
    "\n",
    "### 2E. Sammansatta data typer"
   ]
  },
  {
   "cell_type": "markdown",
   "metadata": {},
   "source": [
    "<div style=\"text-align: right\"><a href='#section0' align='left'>Tillbaka till början</a></div>\n",
    "<a id='section5'></a> \n",
    "\n",
    "### 3A. Översikt "
   ]
  },
  {
   "cell_type": "markdown",
   "metadata": {},
   "source": [
    "<p><b>KANSKE SKIPPA DEN TILL TILLFÄLLET MED DATATYPER? Mer om variabler</b><br>\n",
    "Ett variabel finns kvar tills du tar bort det, eller ersätter det med ett annat värde<br>\n",
    "Variabler av olika typ kan inte sättas ihop<br>\n",
    "<a href=\"https://www.guru99.com/variables-in-python.html\">Mer om variabel i Python</a></p>"
   ]
  },
  {
   "cell_type": "code",
   "execution_count": null,
   "metadata": {},
   "outputs": [],
   "source": [
    "print('Mina variabel från förra cellen finns kvar! Här är mitt första variabel:', mitt_första_variabel)\n",
    "\n",
    "#använder vi samma namn på variabel igen och sätter det lika med något annat är det tidigare värdet ersatt:\n",
    "mitt_första_variabel='Hej!'\n",
    "\n",
    "print('Mitt första variabel ersatt:', mitt_första_variabel)\n",
    "\n",
    "#nu är det första variablet fortfarande ett nummer, medan Hej! är text\n",
    "#att köra den här koden ger ett \"error\" (\"can only concatenate str (not \"int\") to str\")\n",
    "#kommentera (#) nästa rad för att kunna köra kode utan \"error\"\n",
    "#print('Mitt första variabel + mitt andra variabel:', (mitt_första_variabel + mitt_andra_variabel))\n",
    "\n",
    "print('Typ första variablet:', type(mitt_första_variabel))\n",
    "\n",
    "print('Typ andra variablet:', type(mitt_andra_variabel))\n",
    "\n",
    "mitt_tredje_variabel = 'Jag kommer från Malmö.'\n",
    "\n",
    "#första och tredje variablet är text och kan sättas ihop. \n",
    "#notera att de fortfarande är två separata variabel\n",
    "print(mitt_första_variabel + mitt_tredje_variabel)\n",
    "\n",
    "#men de kan sättas samman till ett variabel (jag har laggt till ett mellanrum också)!\n",
    "mitt_fjärde_variabel = mitt_första_variabel + ' ' + mitt_tredje_variabel\n",
    "\n",
    "print('Mitt fjärde variabel:', mitt_fjärde_variabel)\n",
    "\n",
    "#första och andra variablet finns fortfarande kvar:\n",
    "print('Första variablet finns fortfarande kvar:', mitt_första_variabel)\n",
    "\n",
    "print('Tredej variablet finns fortfarande kvar:', mitt_tredje_variabel)"
   ]
  },
  {
   "cell_type": "markdown",
   "metadata": {},
   "source": [
    "### Loopar\n",
    "Att upprepa kod kallas för att iterera. En upprepning kallas för en iteration eller en loop.\n",
    "Det finns olika strukturer i Python för iteration, for-satser och while-satser. \n",
    "\n",
    "for-satser lämpar sig om du vet hur många gånger du vill iterera, till exempel om du vill gå igenom\n",
    "alla element i till exempel en lista. I while-satser kommer iterationen fortsätta så länge det boleanska uttrycket\n",
    "är sant ex. while x<100 (forstätt iterera medans x är lägre än 100).\n"
   ]
  },
  {
   "cell_type": "markdown",
   "metadata": {},
   "source": [
    "<div style=\"text-align: right\"><a href='#section0' align='left'>Tillbaka till början</a></div>\n",
    "<a id='section3'></a> \n",
    "\n",
    "### 3A. for-loopar\n",
    "\n",
    "Det lättaste sättet att förstå hur loopar fungerar är att se olika exempel. Nedan följer ett första exempel på en \n",
    "lista med namn på frukter. \n",
    "    \n",
    "<code>lista_med_frukt=['äpple', 'päron', 'apelsin']\n",
    "for frukt in lista_med_frukt:\n",
    "    print(frukt)</code>\n",
    "    \n",
    "Fundera på vad som kommer att hända när du själv provar att köra den här loopen i nästa cell. "
   ]
  },
  {
   "cell_type": "code",
   "execution_count": null,
   "metadata": {},
   "outputs": [],
   "source": [
    "\n"
   ]
  },
  {
   "cell_type": "markdown",
   "metadata": {},
   "source": [
    "Läser vi ut vad det är som händer i loopen är det \"för varje frukt i listan med frukt, skriv frukt\". \n",
    "Notera att följande kommer att ge precis samma resultat:\n",
    "<code>for x in lista_med_frukt:\n",
    "    print(x)</code>\n",
    "    \n",
    "Det går också att loopa över en sträng. Fundera på vad följande loop kommer att göra, och prova genom att skriva loopen \n",
    "i nästa cell.\n",
    "\n",
    "\n",
    "<code>min_sträng='Det är soligt i malmö idag'\n",
    "for x in min_sträng:\n",
    "    print(x)</code>\n",
    "    \n",
    "    \n",
    "    "
   ]
  },
  {
   "cell_type": "code",
   "execution_count": null,
   "metadata": {},
   "outputs": [],
   "source": [
    "\n"
   ]
  },
  {
   "cell_type": "markdown",
   "metadata": {},
   "source": [
    "Notera att även mellanrummen skrivs ut. Vad som sker är:\n",
    "    \n",
    "<code>print('D')\n",
    "print('e')\n",
    "print('t')\n",
    "print(' ')\n",
    "print('ä')\n",
    "print('r')</code>\n",
    "\n",
    "och så vidare...\n",
    "\n",
    "Vi kan göra något med varje element i listan vi itererar igenom. I följande exemepl så skrivs det ut ett utropstecken\n",
    "efter varje karaktär. \n",
    "\n",
    "<code>for x in min_sträng:\n",
    "    print(x +'!')</code>\n",
    "\n",
    "Betyder det att min_sträng ('Det är soligt i Malmö idag') numera har utropstecken efter varje karaktär? \n",
    "Om du känner dig osäker kan du undersöka det i nästa cell. "
   ]
  },
  {
   "cell_type": "code",
   "execution_count": null,
   "metadata": {},
   "outputs": [],
   "source": [
    "\n"
   ]
  },
  {
   "cell_type": "markdown",
   "metadata": {},
   "source": [
    "För att börja fundera på mer användbara exempel på att använda loopar så kan vi tänka oss en lista med\n",
    "nummer, och att vi vill skapa en ny lista där varje nummer i listan har blivit uppdaterad på samma sätt:\n",
    "    \n",
    "<code>lista_med_nummer=[1,2,3,4]\n",
    "ny_lista_med_uppdaterade_nummer=[]\n",
    "for nummer in lista_med_nummer:\n",
    "    nytt_nummer=nummer*nummer\n",
    "    ny_lista_med_uppdaterade_nummer.append(nytt_nummer)</code>\n",
    "    \n",
    "Fundera på vad som händer i varje steg av loopen. Kör loopen i nästa cell och avsluta med att undersöka hur den \n",
    "nya listan ser ut (<code>print(ny_lista_med_uppdaterade_nummer)</code> efter loopen)\n",
    "\n",
    "    "
   ]
  },
  {
   "cell_type": "code",
   "execution_count": null,
   "metadata": {},
   "outputs": [],
   "source": [
    "\n"
   ]
  },
  {
   "cell_type": "markdown",
   "metadata": {},
   "source": [
    "Vad händer om du skriver <code>print(ny_lista_med_uppdaterade_nummer)</code> i loopen efter \n",
    "<code>ny_lista_med_uppdaterade_nummer.append(nytt_nummer)</code>? \n",
    "Testa i nästa cell och fundera på varför!"
   ]
  },
  {
   "cell_type": "code",
   "execution_count": null,
   "metadata": {},
   "outputs": [],
   "source": []
  },
  {
   "cell_type": "markdown",
   "metadata": {},
   "source": [
    "**Utmaning!**\n",
    "\n",
    "Du har blivit ombedd att räkna på hur mycket det skulle kosta Göteborgs Universitet att ge alla anställda \n",
    "anställda på LIR en bonus på 5% av sin månadslön. Du har fått en lista på alla löner (se nedan). \n",
    "Beräkna den totala månatliga kostnaden för denna ökning. \n",
    "\n",
    "Kör nästa cell för att skapa variablet \"löner\" som är en lista på alla löner som hämtas från en fil \n",
    "(se detaljer i kommentarerna). \n",
    "\n",
    "Är det svårt att lösa uppgiften kan du visa förslagsvis\n",
    "en ledtråd i taget genom att ta bort \"#\" framför till exempel \"Utmaning_löner.ledtråd1()\". För den som är snabb\n",
    "finns det även bonusfrågor i cellen med ledtrådarna. \n",
    "\n",
    "Känns det för svårt kan du gå tillbaka till de tidigare övningarna och försöka skriva fler egna varianter. "
   ]
  },
  {
   "cell_type": "code",
   "execution_count": null,
   "metadata": {},
   "outputs": [],
   "source": [
    "# vad som händer här är att vi importerar en lista (löner) som finns i en python fil (samples) som\n",
    "# också är uppladdat till den här JupyterHubben. Du kan hitta den bland filerna, öppna det, också kanske \n",
    "# lägga till en lön om du till exempel får en ny medarbetare. \n",
    "from samples import löner\n",
    "print(löner)"
   ]
  },
  {
   "cell_type": "code",
   "execution_count": null,
   "metadata": {},
   "outputs": [],
   "source": [
    "# \"ledtrådar\" är ytterligare en python fil som är uppladdad till JupyterHubben. \n",
    "# där finns det en \"class\" som heter Utmaning_löner som i sin tur har fuktionerna ledtråd1, ledtråd2, ledtråd3 och lösning\n",
    "from ledtrådar import Utmaning_löner\n",
    "\n",
    "#ta bort \"#\" en i taget om det behövs.\n",
    "#Utmaning_löner.ledtråd1()\n",
    "#Utmaning_löner.ledtråd2()\n",
    "#Utmaning_löner.ledtråd3()\n",
    "\n",
    "# För lösning, ta bort den här kommentaren också (du måste fortfarande skriva av lösningen själv):\n",
    "#Utmaning_löner.lösning()\n",
    "\n",
    "\n",
    "#bonusfrågor:\n",
    "#vad är medellönen?\n",
    "\n",
    "\n",
    "#vad är medianlönen?\n",
    "\n",
    "\n",
    "#vad är lägsta lönen?\n",
    "\n",
    "\n",
    "#vad är högsta lönen?\n",
    "\n",
    "#vad är den totala kostnaden om endast de som tjänar över 40000 får 5% bonus?\n",
    "#Utmaning_löner.ledtråd4()"
   ]
  },
  {
   "cell_type": "markdown",
   "metadata": {},
   "source": [
    "<div style=\"text-align: right\"><a href='#section0' align='left'>Tillbaka till början</a></div>\n",
    "<a id='section4'></a> \n",
    "\n",
    "### 3B. while-loopar\n",
    "\n",
    "I en while-loop håller alltså iterationen på så länge det boleanska uttrycket är sant (True).\n",
    "Här är ett exempel på en loop som håller på så länge x<10 (x är mindre än 10).\n",
    "\n",
    "<code>x=1\n",
    "while x&lt;10:\n",
    "    print(x)\n",
    "    x=x+1</code>\n",
    "    \n",
    "Notera att variablet i det boleakska uttrycket (x) måste ändras så att uttrycket efter ett antal iterationer blir falskt. \n",
    "I det här fallet läggs 1 till variablet (x=x+1) i varje loop. x har definierats innan loopen startar som x=1.\n",
    "\n",
    "Fundera på vad du kommer att hända när du kör loopen och vad variablet x kommer vara när loopen är färdig. Se om \n",
    "du hade rätt genom att testa i nästa cell.\n"
   ]
  },
  {
   "cell_type": "code",
   "execution_count": null,
   "metadata": {},
   "outputs": [],
   "source": [
    "\n"
   ]
  },
  {
   "cell_type": "code",
   "execution_count": null,
   "metadata": {},
   "outputs": [],
   "source": [
    "Varför är inte x=9?\n",
    "Iterationen kommer att köra nio gånger, sista gången när x=9. Det som sker när x=9 är:\n",
    "\n",
    "print(9)\n",
    "x=9+1\n",
    "\n",
    "Vad händer om du ändrar så att du lägger till 2 i varje iteration (x=x+2)? Prova i nästa cell! \n"
   ]
  },
  {
   "cell_type": "code",
   "execution_count": null,
   "metadata": {},
   "outputs": [],
   "source": [
    "\n"
   ]
  },
  {
   "cell_type": "code",
   "execution_count": null,
   "metadata": {},
   "outputs": [],
   "source": [
    "Fundera på när du skulle kunna använda en while-loop. Om du har tid, experimentera i nästa cell! "
   ]
  },
  {
   "cell_type": "code",
   "execution_count": null,
   "metadata": {},
   "outputs": [],
   "source": [
    "\n"
   ]
  },
  {
   "cell_type": "markdown",
   "metadata": {},
   "source": [
    "<div style=\"text-align: right\"><a href='#section0' align='left'>Tillbaka till början</a></div>\n",
    "<a id='section5'></a> \n",
    "\n",
    "### 3C. Att använda if-satser i loopar\n",
    "\n",
    "if-satser innebär att den delen av koden som kommer efter bara utförs om (if) det boleanska uttrycket stämmer \n",
    "är sant (True). \n",
    "\n",
    "När man till exempel itererar över en lista och man har en if-sats så kan det se ut såhär:\n",
    "\n",
    "<code>lista_med_namn=['Jens', 'Eva', 'Gustav', 'Vilma', 'Sonja', 'Karl']\n",
    "for namn in lista_med_namn:\n",
    "    if namn=='Gustav':\n",
    "        print('Gustav finns i listan!')</code>\n",
    "        \n",
    "Fundera på vad som kommer hända när man kör koden. Fundera också på vad som kommer hända om du bytt ut \n",
    "<code>if namn=='Gustav':</code> mot <code>if namn=='Julia':</code>\n",
    "        \n",
    "Testa i nästa cell och se om du har rätt!"
   ]
  },
  {
   "cell_type": "code",
   "execution_count": null,
   "metadata": {},
   "outputs": [],
   "source": [
    "\n"
   ]
  },
  {
   "cell_type": "markdown",
   "metadata": {},
   "source": [
    "Vi kan också använda inbyggda funktioner i våra if-satser. Fundera på vad följande kod gör innan du provar i nästa cell:\n",
    "\n",
    "<code>for namn in lista_med_namn:\n",
    "    if len(namn)&gt;4:\n",
    "        print(namn)</code>\n",
    "        \n",
    "        "
   ]
  },
  {
   "cell_type": "code",
   "execution_count": null,
   "metadata": {},
   "outputs": [],
   "source": [
    "\n"
   ]
  },
  {
   "cell_type": "markdown",
   "metadata": {},
   "source": [
    "**Utmaning!**\n",
    "\n",
    "Barnnamn.net har rankat de 99 mest populära namnen på barn för killar respektiver tjejer för 2014.\n",
    "Vi är intresserade av följande:\n",
    "\n",
    "Är något av killnamnen dubbelnamn? I så fall, hur många? Svara på samma gällande tjejnamnen. \n",
    "\n",
    "Det finns ledtrådar som du kan öppna en och en cellen två celler ner. \n",
    "\n",
    "Data importeras från samples i nästa cell. \n",
    "\n",
    "Bonusfrågor:\n",
    "    \n",
    "Är de mest populära namnen på tjejerna längre än de mest populära namnen för killarna?\n",
    "\n",
    "Namnen är i ordningen mest populära till 99e mest populära. Vilket var det mest populära kill-\n",
    "respektive tjejnamnet?\n",
    "\n"
   ]
  },
  {
   "cell_type": "code",
   "execution_count": null,
   "metadata": {},
   "outputs": [],
   "source": [
    "from samples import mest_populära_killnamn_2014, mest_populära_tjejnamn_2014"
   ]
  },
  {
   "cell_type": "code",
   "execution_count": 2,
   "metadata": {},
   "outputs": [],
   "source": [
    "from ledtrådar import Utmaning_namn\n",
    "\n",
    "#Utmaning_namn.ledtråd1()\n",
    "#Utmaning_namn.ledtråd2()\n",
    "#Utmaning_namn.lösning()"
   ]
  },
  {
   "cell_type": "markdown",
   "metadata": {},
   "source": [
    "### Att läsa data från Excel"
   ]
  },
  {
   "cell_type": "code",
   "execution_count": null,
   "metadata": {},
   "outputs": [],
   "source": [
    "import pandas as pd\n",
    "import xlrd\n",
    "löner_2=pd.read_excel('löner.xlsx', index_col=0) \n",
    "\n",
    "print(löner_2)"
   ]
  },
  {
   "cell_type": "code",
   "execution_count": null,
   "metadata": {},
   "outputs": [],
   "source": [
    "#importera modul så vi kan hantera Excel-data\n",
    "\n",
    "\n",
    "löner_excel= 'löner.xlsx'\n",
    "löner_excel = xlrd.open_workbook(löner_excel)\n",
    "löner_excel = löner_excel.sheet_by_name('Blad1')\n",
    "\n",
    "num_cols = löner_excel.ncols\n",
    "\n",
    "print(num_cols)\n",
    "\n",
    "löner_från_fil=[]\n",
    "\n",
    "#range är en fukntion vi inte använt tidigare.\n",
    "for kolumn in range(num_cols):\n",
    "    \n",
    "    #namn i första raden (0)\n",
    "    print(löner_excel.cell_value(0, kolumn))\n",
    "    \n",
    "    #lön i andra raden\n",
    "    print(löner_excel.cell_value(1, kolumn))\n",
    "    \n",
    "    löner_från_fil.append(löner_excel.cell_value(1, kolumn))\n",
    "    \n",
    "print(löner_från_fil)\n",
    "\n",
    "#löner_excel.cell_value(curr_row, 1)"
   ]
  }
 ],
 "metadata": {
  "kernelspec": {
   "display_name": "Python 3",
   "language": "python",
   "name": "python3"
  },
  "language_info": {
   "codemirror_mode": {
    "name": "ipython",
    "version": 3
   },
   "file_extension": ".py",
   "mimetype": "text/x-python",
   "name": "python",
   "nbconvert_exporter": "python",
   "pygments_lexer": "ipython3",
   "version": "3.8.3"
  }
 },
 "nbformat": 4,
 "nbformat_minor": 4
}
