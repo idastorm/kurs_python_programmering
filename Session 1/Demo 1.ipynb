{
 "cells": [
  {
   "cell_type": "code",
   "execution_count": 7,
   "metadata": {},
   "outputs": [],
   "source": [
    "import warnings\n",
    "warnings.filterwarnings('ignore')"
   ]
  },
  {
   "cell_type": "code",
   "execution_count": 8,
   "metadata": {},
   "outputs": [],
   "source": [
    "import nltk\n",
    "import matplotlib.pyplot as plt\n",
    "import pandas as pd"
   ]
  },
  {
   "cell_type": "markdown",
   "metadata": {},
   "source": [
    "# Läs in data\n",
    "\n",
    "I det här fallet har vi valt att ta in data från Excel (eller något motsvarande där datan finns i en fil). Datan innehåller artiklar med titlar inom data science, maskinlärning och artificiell intelligens."
   ]
  },
  {
   "cell_type": "code",
   "execution_count": 9,
   "metadata": {
    "scrolled": true
   },
   "outputs": [
    {
     "data": {
      "text/html": [
       "<div>\n",
       "<style scoped>\n",
       "    .dataframe tbody tr th:only-of-type {\n",
       "        vertical-align: middle;\n",
       "    }\n",
       "\n",
       "    .dataframe tbody tr th {\n",
       "        vertical-align: top;\n",
       "    }\n",
       "\n",
       "    .dataframe thead th {\n",
       "        text-align: right;\n",
       "    }\n",
       "</style>\n",
       "<table border=\"1\" class=\"dataframe\">\n",
       "  <thead>\n",
       "    <tr style=\"text-align: right;\">\n",
       "      <th></th>\n",
       "      <th>id</th>\n",
       "      <th>year</th>\n",
       "      <th>title</th>\n",
       "      <th>event_type</th>\n",
       "      <th>pdf_name</th>\n",
       "      <th>abstract</th>\n",
       "      <th>paper_text</th>\n",
       "    </tr>\n",
       "  </thead>\n",
       "  <tbody>\n",
       "    <tr>\n",
       "      <th>0</th>\n",
       "      <td>1</td>\n",
       "      <td>1987</td>\n",
       "      <td>Self-Organization of Associative Database and ...</td>\n",
       "      <td>NaN</td>\n",
       "      <td>1-self-organization-of-associative-database-an...</td>\n",
       "      <td>Abstract Missing</td>\n",
       "      <td>767\\n\\nSELF-ORGANIZATION OF ASSOCIATIVE DATABA...</td>\n",
       "    </tr>\n",
       "    <tr>\n",
       "      <th>1</th>\n",
       "      <td>10</td>\n",
       "      <td>1987</td>\n",
       "      <td>A Mean Field Theory of Layer IV of Visual Cort...</td>\n",
       "      <td>NaN</td>\n",
       "      <td>10-a-mean-field-theory-of-layer-iv-of-visual-c...</td>\n",
       "      <td>Abstract Missing</td>\n",
       "      <td>683\\n\\nA MEAN FIELD THEORY OF LAYER IV OF VISU...</td>\n",
       "    </tr>\n",
       "    <tr>\n",
       "      <th>2</th>\n",
       "      <td>100</td>\n",
       "      <td>1988</td>\n",
       "      <td>Storing Covariance by the Associative Long-Ter...</td>\n",
       "      <td>NaN</td>\n",
       "      <td>100-storing-covariance-by-the-associative-long...</td>\n",
       "      <td>Abstract Missing</td>\n",
       "      <td>394\\n\\nSTORING COVARIANCE BY THE ASSOCIATIVE\\n...</td>\n",
       "    </tr>\n",
       "    <tr>\n",
       "      <th>3</th>\n",
       "      <td>1000</td>\n",
       "      <td>1994</td>\n",
       "      <td>Bayesian Query Construction for Neural Network...</td>\n",
       "      <td>NaN</td>\n",
       "      <td>1000-bayesian-query-construction-for-neural-ne...</td>\n",
       "      <td>Abstract Missing</td>\n",
       "      <td>Bayesian Query Construction for Neural\\nNetwor...</td>\n",
       "    </tr>\n",
       "    <tr>\n",
       "      <th>4</th>\n",
       "      <td>1001</td>\n",
       "      <td>1994</td>\n",
       "      <td>Neural Network Ensembles, Cross Validation, an...</td>\n",
       "      <td>NaN</td>\n",
       "      <td>1001-neural-network-ensembles-cross-validation...</td>\n",
       "      <td>Abstract Missing</td>\n",
       "      <td>Neural Network Ensembles, Cross\\nValidation, a...</td>\n",
       "    </tr>\n",
       "  </tbody>\n",
       "</table>\n",
       "</div>"
      ],
      "text/plain": [
       "     id  year                                              title event_type  \\\n",
       "0     1  1987  Self-Organization of Associative Database and ...        NaN   \n",
       "1    10  1987  A Mean Field Theory of Layer IV of Visual Cort...        NaN   \n",
       "2   100  1988  Storing Covariance by the Associative Long-Ter...        NaN   \n",
       "3  1000  1994  Bayesian Query Construction for Neural Network...        NaN   \n",
       "4  1001  1994  Neural Network Ensembles, Cross Validation, an...        NaN   \n",
       "\n",
       "                                            pdf_name          abstract  \\\n",
       "0  1-self-organization-of-associative-database-an...  Abstract Missing   \n",
       "1  10-a-mean-field-theory-of-layer-iv-of-visual-c...  Abstract Missing   \n",
       "2  100-storing-covariance-by-the-associative-long...  Abstract Missing   \n",
       "3  1000-bayesian-query-construction-for-neural-ne...  Abstract Missing   \n",
       "4  1001-neural-network-ensembles-cross-validation...  Abstract Missing   \n",
       "\n",
       "                                          paper_text  \n",
       "0  767\\n\\nSELF-ORGANIZATION OF ASSOCIATIVE DATABA...  \n",
       "1  683\\n\\nA MEAN FIELD THEORY OF LAYER IV OF VISU...  \n",
       "2  394\\n\\nSTORING COVARIANCE BY THE ASSOCIATIVE\\n...  \n",
       "3  Bayesian Query Construction for Neural\\nNetwor...  \n",
       "4  Neural Network Ensembles, Cross\\nValidation, a...  "
      ]
     },
     "execution_count": 9,
     "metadata": {},
     "output_type": "execute_result"
    }
   ],
   "source": [
    "# Read Excel file or .csv file\n",
    "papers = pd.read_csv('papers.csv')\n",
    "\n",
    "# Display first five rows\n",
    "papers.head(5)"
   ]
  },
  {
   "cell_type": "markdown",
   "metadata": {},
   "source": [
    "# Processering\n",
    "Inom datahantering i allmänhet och textanalys i synnerhet, följer man ett tämligen fast flöde av processering av datan. \n",
    "\n",
    "1. *Punktuering*: Ta bort all punktuering\n",
    "2. *Tokenisering*: Gör om en text till en lista med ord\n",
    "3. *Stopp-ord*: Ta bort vanligt förekommande ord\n",
    "\n",
    "I vårt fall skall vi också göra\n",
    "\n",
    "- *Lemmatisering*: Gör om ord till sin oböjda grundform\n",
    "- *Sammansättningar*: Ser till att kända sammansättningar räknas som ett ord"
   ]
  },
  {
   "cell_type": "markdown",
   "metadata": {},
   "source": [
    "## Punktuering\n",
    "Det är heller inte intressant med punktuering, och dessa har också relativt hög frekvens, och bör tas bort. I vårt fall använder vi ett såkallat regelbundet uttryck (regular expression)"
   ]
  },
  {
   "cell_type": "code",
   "execution_count": 11,
   "metadata": {},
   "outputs": [],
   "source": [
    "import re\n",
    "\n",
    "regex = '[:,\\.!?+]' # Innehåller de punktuationer vi vill ta bort\n",
    "\n",
    "# Ta bort punktuering\n",
    "papers['filtered title'] = papers['title'].map(lambda row: re.sub(regex, '', row))\n",
    "\n",
    "# Byt ut snedstrek mot mellanslag\n",
    "papers['filtered title'] = papers['filtered title'].map(lambda row: re.sub('[/]', ' ', row))\n",
    "papers['filtered title'] = papers['filtered title'].map(lambda row: re.sub('[-]', '_', row))"
   ]
  },
  {
   "cell_type": "code",
   "execution_count": 16,
   "metadata": {},
   "outputs": [
    {
     "data": {
      "text/plain": [
       "'Self_Organization of Associative Database and Its Applications'"
      ]
     },
     "execution_count": 16,
     "metadata": {},
     "output_type": "execute_result"
    }
   ],
   "source": [
    "papers['filtered title'][0]"
   ]
  },
  {
   "cell_type": "markdown",
   "metadata": {},
   "source": [
    "## Tokenisering\n",
    "Tokenisering avser att man delar upp strängar av text i ord eller andra betydelsebärande enheter. Exempelvis blir ``The quick brown fox jumps over the lazy dog`` tokeniserat som\n",
    "\n",
    "``\n",
    " (sentence\n",
    "   (word The)\n",
    "   (word quick)\n",
    "   (word brown)\n",
    "   (word fox)\n",
    "   (word jumps)\n",
    "   (word over)\n",
    "   (word the)\n",
    "   (word lazy)\n",
    "   (word dog))\n",
    "``\n",
    "\n",
    "Vi passar också på att göra om alla ord till gemener."
   ]
  },
  {
   "cell_type": "code",
   "execution_count": 17,
   "metadata": {},
   "outputs": [],
   "source": [
    "from nltk import word_tokenize\n",
    "\n",
    "# Dela upp i ord\n",
    "papers['filtered title'] = papers['filtered title'].map(lambda row: word_tokenize(row))\n",
    "\n",
    "# Gör om till gemener\n",
    "papers['filtered title'] = papers['filtered title'].map(lambda row: [word.lower() for word in row])"
   ]
  },
  {
   "cell_type": "code",
   "execution_count": 18,
   "metadata": {},
   "outputs": [
    {
     "data": {
      "text/plain": [
       "['self_organization',\n",
       " 'of',\n",
       " 'associative',\n",
       " 'database',\n",
       " 'and',\n",
       " 'its',\n",
       " 'applications']"
      ]
     },
     "execution_count": 18,
     "metadata": {},
     "output_type": "execute_result"
    }
   ],
   "source": [
    "papers['filtered title'][0]"
   ]
  },
  {
   "cell_type": "markdown",
   "metadata": {},
   "source": [
    "## Lemmatisering\n",
    "I lemmatisering så skrivs ord om till sin mest grundläggande, oböjda form. Exempelvis försvinner pluralis-former och verbböjningar blir infinitiv. Detta för att vi inte ska göra skillnad på om man talar om \"network\" eller \"networks\"."
   ]
  },
  {
   "cell_type": "code",
   "execution_count": 19,
   "metadata": {},
   "outputs": [],
   "source": [
    "from nltk.stem import WordNetLemmatizer\n",
    "\n",
    "lemmatizer = WordNetLemmatizer()\n",
    "\n",
    "# Gör om till oböjd form\n",
    "papers['filtered title'] = papers['filtered title'].map(lambda row: [lemmatizer.lemmatize(word) for word in row])"
   ]
  },
  {
   "cell_type": "code",
   "execution_count": 20,
   "metadata": {},
   "outputs": [
    {
     "data": {
      "text/plain": [
       "['self_organization',\n",
       " 'of',\n",
       " 'associative',\n",
       " 'database',\n",
       " 'and',\n",
       " 'it',\n",
       " 'application']"
      ]
     },
     "execution_count": 20,
     "metadata": {},
     "output_type": "execute_result"
    }
   ],
   "source": [
    "papers['filtered title'][0]"
   ]
  },
  {
   "cell_type": "markdown",
   "metadata": {},
   "source": [
    "## Stopp-ord\n",
    "Stopp-ord är vanligt förekommande ord i ett språk som oftast inte tillför mycket abstrakt mening till en text, speciellt inte i termer av fjärrläsning. Dessa brukar sorteras bort, eftersom de ofta är överväldigande många fler än ämnesorden."
   ]
  },
  {
   "cell_type": "code",
   "execution_count": 27,
   "metadata": {
    "scrolled": true
   },
   "outputs": [
    {
     "name": "stdout",
     "output_type": "stream",
     "text": [
      "['i', 'me', 'my', 'myself', 'we', 'our', 'ours', 'ourselves', 'you', \"you're\", \"you've\", \"you'll\", \"you'd\", 'your', 'yours', 'yourself', 'yourselves', 'he', 'him', 'his', 'himself', 'she', \"she's\", 'her', 'hers', 'herself', 'it', \"it's\", 'its', 'itself', 'they', 'them', 'their', 'theirs', 'themselves', 'what', 'which', 'who', 'whom', 'this', 'that', \"that'll\", 'these', 'those', 'am', 'is', 'are', 'was', 'were', 'be', 'been', 'being', 'have', 'has', 'had', 'having', 'do', 'does', 'did', 'doing', 'a', 'an', 'the', 'and', 'but', 'if', 'or', 'because', 'as', 'until', 'while', 'of', 'at', 'by', 'for', 'with', 'about', 'against', 'between', 'into', 'through', 'during', 'before', 'after', 'above', 'below', 'to', 'from', 'up', 'down', 'in', 'out', 'on', 'off', 'over', 'under', 'again', 'further', 'then', 'once', 'here', 'there', 'when', 'where', 'why', 'how', 'all', 'any', 'both', 'each', 'few', 'more', 'most', 'other', 'some', 'such', 'no', 'nor', 'not', 'only', 'own', 'same', 'so', 'than', 'too', 'very', 's', 't', 'can', 'will', 'just', 'don', \"don't\", 'should', \"should've\", 'now', 'd', 'll', 'm', 'o', 're', 've', 'y', 'ain', 'aren', \"aren't\", 'couldn', \"couldn't\", 'didn', \"didn't\", 'doesn', \"doesn't\", 'hadn', \"hadn't\", 'hasn', \"hasn't\", 'haven', \"haven't\", 'isn', \"isn't\", 'ma', 'mightn', \"mightn't\", 'mustn', \"mustn't\", 'needn', \"needn't\", 'shan', \"shan't\", 'shouldn', \"shouldn't\", 'wasn', \"wasn't\", 'weren', \"weren't\", 'won', \"won't\", 'wouldn', \"wouldn't\", 'based', 'using', 'via', 'ii', 'iii', 'iv', 'v', 'vi', 'vii', 'viii', 'ix']\n"
     ]
    }
   ],
   "source": [
    "# Vi importerar stopp-orden från nltk\n",
    "stopwords = nltk.corpus.stopwords.words('english')\n",
    "\n",
    "# Lägg till några stopp-ord vi vet är vanliga\n",
    "stopwords.extend([\"based\", \"using\", \"via\", 'ii', 'iii', 'iv', 'v', 'vi', 'vii', 'viii', 'ix'])\n",
    "\n",
    "# Detta tar bort vanliga datorkaraktärer som inte människor kan läsa (exempelvis \"ny rad\")\n",
    "escapes = ''.join([chr(char) for char in range(1, 32)])\n",
    "\n",
    "print(stopwords)\n",
    "\n",
    "papers['filtered title'] = papers['filtered title'].map(lambda row: [word for word in row if word not in stopwords])"
   ]
  },
  {
   "cell_type": "code",
   "execution_count": 28,
   "metadata": {},
   "outputs": [
    {
     "data": {
      "text/plain": [
       "['self_organization', 'associative', 'database', 'application']"
      ]
     },
     "execution_count": 28,
     "metadata": {},
     "output_type": "execute_result"
    }
   ],
   "source": [
    "papers['filtered title'][0]"
   ]
  },
  {
   "cell_type": "markdown",
   "metadata": {},
   "source": [
    "## Sammansättningar\n",
    "I vissa språk, som engelska, måste man vara noggrann med att vissa ord existerar tillsammans med andra som sammansättningar, även om det är ett mellanslag emellan. Detta problem finns sällan på svenska, där vi skriver ihop.\n",
    "\n"
   ]
  },
  {
   "cell_type": "code",
   "execution_count": 29,
   "metadata": {},
   "outputs": [],
   "source": [
    "from nltk.tokenize import MWETokenizer\n",
    "\n",
    "# Vi lägger manuellt till några kända sammansättningar i texterna\n",
    "compounds = [(\"artificial\", \"intelligence\"), \n",
    "            (\"data\", \"science\"), \n",
    "            (\"neural\", \"network\"), \n",
    "            (\"gradient\", \"descent\"), \n",
    "            (\"mean\", \"field\"), \n",
    "            (\"cross\", \"validation\"),\n",
    "            (\"neural\", \"net\"),\n",
    "            (\"reinforcement\", \"learning\"),\n",
    "            (\"machine\", \"learning\"),\n",
    "            (\"bayesian\", \"inference\"),\n",
    "            (\"bayesian\", \"analysis\"),\n",
    "            (\"random\", \"process\"),\n",
    "            (\"gaussian\", \"process\")]\n",
    "\n",
    "compounder = MWETokenizer(compounds)\n",
    "papers['filtered title'] = papers['filtered title'].map(lambda row: compounder.tokenize(row))"
   ]
  },
  {
   "cell_type": "code",
   "execution_count": 30,
   "metadata": {},
   "outputs": [],
   "source": [
    "# Sammantaget\n",
    "\n",
    "# papers['filtered title'] = (papers['title'].map(lambda row: re.sub(regex, '', row))\n",
    "#                                            .map(lambda row: word_tokenize(row))\n",
    "#                                            .map(lambda row: [word.lower() for word in row])\n",
    "#                                            .map(lambda row: [lemmatizer.lemmatize(word) for word in row] )\n",
    "#                                            .map(lambda row: compounder.tokenize(row))\n",
    "#                                            .map(lambda row: [word for word in row if word not in stopwords])\n",
    "#                            )"
   ]
  },
  {
   "cell_type": "code",
   "execution_count": 31,
   "metadata": {},
   "outputs": [
    {
     "data": {
      "text/plain": [
       "['mean_field',\n",
       " 'theory',\n",
       " 'layer',\n",
       " 'visual',\n",
       " 'cortex',\n",
       " 'application',\n",
       " 'artificial',\n",
       " 'neural_network']"
      ]
     },
     "execution_count": 31,
     "metadata": {},
     "output_type": "execute_result"
    }
   ],
   "source": [
    "papers['filtered title'][1]"
   ]
  },
  {
   "cell_type": "markdown",
   "metadata": {},
   "source": [
    "# Instansfördelningar\n",
    "Vi kan nu börja göra faktisk analys av datan! Ett enkelt men viktigt verktyg är instansfördelningar. Vi gör om hela vår databas till en lång lista med ord och beräkna hur många av varje som finns."
   ]
  },
  {
   "cell_type": "code",
   "execution_count": 115,
   "metadata": {},
   "outputs": [],
   "source": [
    "word_counts = papers['filtered title'].explode().value_counts()"
   ]
  },
  {
   "cell_type": "code",
   "execution_count": 116,
   "metadata": {
    "scrolled": false
   },
   "outputs": [
    {
     "data": {
      "image/png": "[encoded data removed]",
      "text/plain": [
       "<Figure size 432x288 with 1 Axes>"
      ]
     },
     "metadata": {
      "needs_background": "light"
     },
     "output_type": "display_data"
    }
   ],
   "source": [
    "import matplotlib.pyplot as plt\n",
    "\n",
    "plt.bar(word_counts.index[0:20], word_counts[0:20])\n",
    "plt.xticks(rotation=45, ha='right')\n",
    "plt.show()"
   ]
  },
  {
   "cell_type": "code",
   "execution_count": 122,
   "metadata": {},
   "outputs": [],
   "source": [
    "from nltk import ngrams\n",
    "grams = papers['filtered title'].map(lambda row: [\", \".join(gram) for gram in ngrams(row, 3)]).explode().value_counts()"
   ]
  },
  {
   "cell_type": "code",
   "execution_count": 199,
   "metadata": {
    "scrolled": false
   },
   "outputs": [
    {
     "data": {
      "image/png": "[encoded data removed]",
      "text/plain": [
       "<Figure size 432x288 with 1 Axes>"
      ]
     },
     "metadata": {
      "needs_background": "light"
     },
     "output_type": "display_data"
    }
   ],
   "source": [
    "plt.bar(grams.index[0:10], grams[0:10])\n",
    "plt.xticks(rotation=45, ha='right')\n",
    "plt.show()"
   ]
  },
  {
   "cell_type": "markdown",
   "metadata": {},
   "source": [
    "# Topic modelling\n",
    "Slutligen tittar vi kort på topic modelling som teknik för utforskning av material. Då behövs att vi lägger till ytterligare ett processeringssteg: Vektorisering.\n",
    "\n",
    "- *Vektorisering*: Ord representeras som siffror för att tillåta numeriska veräkningar"
   ]
  },
  {
   "cell_type": "code",
   "execution_count": 32,
   "metadata": {},
   "outputs": [],
   "source": [
    "from sklearn.feature_extraction.text import TfidfVectorizer, CountVectorizer\n",
    "\n",
    "vectorizer = CountVectorizer()\n",
    "\n",
    "# The data is now called \"X\"\n",
    "X = vectorizer.fit_transform(papers[\"filtered title\"].map(lambda x: \" \".join(x)))"
   ]
  },
  {
   "cell_type": "markdown",
   "metadata": {},
   "source": [
    "- *Topic model* - Vi antar att alla ord i en text har genererats av en grupp ämnen, \"topics\". Dessa ämnen innehåller liknande ord som på något vis hör ihop."
   ]
  },
  {
   "cell_type": "code",
   "execution_count": 39,
   "metadata": {},
   "outputs": [],
   "source": [
    "from sklearn.decomposition import LatentDirichletAllocation as LDA\n",
    "\n",
    "n_topics = 5\n",
    "lda = LDA(n_components=n_topics).fit(X)\n"
   ]
  },
  {
   "cell_type": "code",
   "execution_count": 40,
   "metadata": {},
   "outputs": [
    {
     "data": {
      "text/html": [
       "\n",
       "<link rel=\"stylesheet\" type=\"text/css\" href=\"https://cdn.rawgit.com/bmabey/pyLDAvis/files/ldavis.v1.0.0.css\">\n",
       "\n",
       "\n",
       "<div id=\"ldavis_el5481403005355444004903816498\"></div>\n",
       "<script type=\"text/javascript\">\n",
       "\n",
       "var ldavis_el5481403005355444004903816498_data = {\"mdsDat\": {\"x\": [0.09981453052025761, -0.11606818524261373, 0.09131761588398246, 0.07671310313021762, -0.15177706429184395], \"y\": [0.09763888640089101, -0.14794269588050732, -0.04441581190893777, -0.03713511096272907, 0.13185473235128312], \"topics\": [1, 2, 3, 4, 5], \"cluster\": [1, 1, 1, 1, 1], \"Freq\": [24.949247088584514, 22.189399483688284, 21.49014105267441, 17.628162904915463, 13.743049470137336]}, \"tinfo\": {\"Term\": [\"neural_network\", \"learning\", \"model\", \"inference\", \"data\", \"image\", \"machine\", \"vector\", \"optimization\", \"network\", \"kernel\", \"reinforcement_learning\", \"variational\", \"control\", \"stochastic\", \"support\", \"large\", \"random\", \"deep\", \"probabilistic\", \"structure\", \"graphical\", \"gaussian_process\", \"speech\", \"matrix\", \"field\", \"neuron\", \"complexity\", \"recognition\", \"analysis\", \"inference\", \"graphical\", \"component\", \"population\", \"causal\", \"variational\", \"infinite\", \"topic\", \"likelihood\", \"order\", \"neighbor\", \"missing\", \"nearest\", \"hashing\", \"second\", \"additive\", \"bottleneck\", \"time_varying\", \"gene\", \"switching\", \"principal\", \"skill\", \"lifted\", \"ising\", \"abstraction\", \"owl\", \"law\", \"loopy\", \"barn\", \"tree_structured\", \"latent\", \"density\", \"variable\", \"data\", \"probabilistic\", \"mutual\", \"factor\", \"model\", \"independent\", \"hidden\", \"estimation\", \"discovery\", \"propagation\", \"analysis\", \"maximum\", \"spectral\", \"prior\", \"approximate\", \"information\", \"markov\", \"clustering\", \"neural\", \"approach\", \"bayesian\", \"network\", \"learning\", \"process\", \"kernel\", \"mixture\", \"algorithm\", \"function\", \"complexity\", \"completion\", \"finite\", \"low_rank\", \"coordinate\", \"descent\", \"technique\", \"accelerated\", \"estimate\", \"use\", \"proximal\", \"early\", \"robustness\", \"chip\", \"limited\", \"fixed\", \"associative\", \"feedforward\", \"winner_take_all\", \"storage\", \"committee\", \"cmos\", \"short_term\", \"determinantal\", \"riemannian\", \"nonsmooth\", \"bregman\", \"lower\", \"memory\", \"rademacher\", \"correspondence\", \"neural_network\", \"gradient_descent\", \"artificial\", \"dual\", \"analog\", \"convergence\", \"matrix\", \"vlsi\", \"stochastic\", \"recurrent\", \"optimization\", \"neuron\", \"property\", \"gradient\", \"processing\", \"error\", \"spiking\", \"convex\", \"programming\", \"problem\", \"bound\", \"rate\", \"generalization\", \"network\", \"decision\", \"algorithm\", \"learning\", \"classifier\", \"optimal\", \"method\", \"active\", \"dynamic\", \"clustering\", \"online\", \"application\", \"large\", \"speech\", \"field\", \"semi_supervised\", \"ranking\", \"scale\", \"separation\", \"blind\", \"receptive\", \"collaborative\", \"non_parametric\", \"transformation\", \"preference\", \"margin\", \"dictionary\", \"phoneme\", \"cycle\", \"string\", \"surrogate\", \"scheme\", \"label\", \"random\", \"potential\", \"maximal\", \"calibrated\", \"inductive\", \"reflex\", \"vestibulo_ocular\", \"dueling\", \"isotonic\", \"message\", \"loss\", \"multiple\", \"perceptrons\", \"deep\", \"multi_armed\", \"generative\", \"multi_task\", \"adversarial\", \"gaussian_process\", \"kernel\", \"metric\", \"learning\", \"space\", \"recognition\", \"regression\", \"graph\", \"system\", \"classification\", \"matching\", \"efficient\", \"sparse\", \"structured\", \"detection\", \"feature\", \"model\", \"application\", \"representation\", \"mixture\", \"bayesian\", \"neural_network\", \"algorithm\", \"domain\", \"phase\", \"computer\", \"empirical\", \"video\", \"alternating\", \"invariance\", \"private\", \"higher_order\", \"lateral\", \"interface\", \"quantization\", \"annealing\", \"extended\", \"deterministic\", \"target\", \"exploiting\", \"cover\", \"evaluating\", \"direction\", \"multidimensional\", \"answering\", \"super_resolution\", \"constructive\", \"mri\", \"embeddings\", \"summarization\", \"singularity\", \"sketching\", \"counterfactual\", \"submodular\", \"image\", \"intrinsic\", \"minimization\", \"adaptation\", \"retrieval\", \"manifold\", \"understanding\", \"structure\", \"similarity\", \"movement\", \"tensor\", \"selection\", \"grammar\", \"risk\", \"natural\", \"segmentation\", \"basis\", \"network\", \"sparse\", \"visual\", \"hierarchical\", \"learning\", \"prediction\", \"feature\", \"bayesian\", \"object\", \"model\", \"optimization\", \"algorithm\", \"representation\", \"method\", \"classification\", \"dynamic\", \"fast\", \"recognition\", \"distributed\", \"unsupervised\", \"online\", \"data\", \"vector\", \"support\", \"reduction\", \"family\", \"monte\", \"carlo\", \"boltzmann\", \"dimensionality\", \"bias\", \"value\", \"unknown\", \"allocation\", \"em\", \"k_means\", \"compression\", \"dependent\", \"safe\", \"equilibrium\", \"work\", \"q_learning\", \"machine\", \"forward\", \"autoencoders\", \"logarithmic\", \"thompson\", \"user\", \"pac_bayesian\", \"shift\", \"beta\", \"form\", \"regret\", \"control\", \"pca\", \"lasso\", \"reinforcement_learning\", \"restricted\", \"variance\", \"exponential\", \"transfer\", \"dimension\", \"policy\", \"approximation\", \"function\", \"system\", \"fast\", \"optimal\", \"algorithm\", \"bound\", \"model\", \"adaptive\", \"local\", \"linear\", \"sampling\", \"online\", \"clustering\", \"method\"], \"Freq\": [365.0, 1199.0, 764.0, 205.0, 234.0, 182.0, 112.0, 85.0, 189.0, 391.0, 208.0, 135.0, 106.0, 89.0, 165.0, 62.0, 78.0, 97.0, 162.0, 114.0, 100.0, 78.0, 115.0, 68.0, 102.0, 67.0, 102.0, 63.0, 150.0, 216.0, 205.22664909904077, 77.83303784710405, 56.75262170546045, 42.92318595727688, 33.33080336876203, 104.04700657991846, 28.08932514687111, 28.05048199021242, 26.3484741360067, 26.347795816955113, 24.600297698366067, 20.938409450217733, 16.749235376494802, 14.134676680661034, 12.386720587084275, 13.110961808966524, 10.644400852239771, 9.768416555945581, 8.895637769667154, 8.894105087367896, 21.682873860753357, 8.025715640734838, 8.025595142477016, 8.025173500890707, 8.024817573119877, 8.023095053324703, 8.022672542655515, 7.98987567599812, 7.152193685550807, 6.282375329743467, 71.86770227096873, 49.386215639961826, 56.31399705954621, 201.82419931714247, 99.64135138529831, 13.968517828133953, 27.42932807726925, 496.68156057320056, 28.806911857532512, 46.13703620970877, 123.8637881858508, 24.116041056921258, 45.91869622845702, 141.7045297202497, 39.21506341391468, 47.901100927493424, 42.04843104596547, 45.25106985327488, 71.62119549344573, 63.93410139477748, 74.60018113044256, 74.76833158963841, 61.007528106460846, 80.49147110316575, 106.63496371843448, 177.20833525358296, 49.464649131953585, 59.369777659800704, 45.097114351222956, 48.30957828682236, 43.74800353729389, 62.936585921198635, 30.611494844338733, 26.321378062884754, 25.447297505856348, 22.837931837537337, 22.837003981932703, 21.089918520221314, 16.735313038574045, 16.729357238930362, 14.988610586852635, 13.24692935641104, 13.210188008472667, 13.188230825642858, 18.843969985167657, 10.631405362044754, 10.631280849802732, 29.371866846996863, 8.890603502222694, 8.89050317872622, 8.888206176424621, 8.018377448591643, 8.018241515442712, 8.018121774154645, 8.01640155061014, 7.147137011812182, 7.146071112829038, 7.144213210530862, 16.62414571482912, 59.75099984811518, 6.2741105735954585, 14.05286649733587, 310.62846613004905, 30.058839738591516, 16.332576560333987, 21.523947674045868, 49.03928113378863, 58.49375909631709, 82.27591429118162, 43.78346721912939, 123.09737361332743, 74.7877944114886, 135.4372687857737, 77.09013759154524, 27.56511500275276, 63.97242636936195, 34.61869412838966, 37.32179034622751, 39.195546024041164, 52.63551066468926, 39.24635045726284, 62.53953235909253, 66.51845141618989, 42.41808865623302, 42.717493229472275, 151.86870294528532, 44.591162685813266, 107.02662906051103, 245.68402037032646, 41.13880212974289, 58.99289979953602, 67.76359812704919, 41.73467531311426, 56.70506895512793, 48.288344674232384, 46.11179453074707, 42.04796743495764, 77.71967349557538, 68.15367400886481, 66.40778160984705, 48.871738784592694, 40.264581826649696, 32.41939668848549, 31.54894170088829, 23.706974504238428, 18.47491915322665, 17.601421147744258, 16.730759864361392, 18.195199628031155, 15.499509158687443, 39.04542355432844, 8.888418372525663, 6.274598720429148, 6.274123168873535, 6.273532692092615, 6.273111418354291, 6.272052377721346, 26.62343337166755, 87.28300648664039, 13.910953393010965, 5.40328066027316, 5.403164075770975, 5.402588282596037, 5.400894015791206, 5.4000647963590245, 5.397535322155384, 4.532425045933861, 14.150759732505357, 34.20786035357579, 60.48088164607593, 10.38454647833238, 116.22518551126443, 11.045440084066792, 43.61163915886053, 24.82526958093667, 28.85103434908198, 79.95360408147408, 134.88763231988818, 38.138717009305296, 567.6145078639138, 46.20621798379187, 91.18783299649625, 82.6854714159507, 68.86601617598815, 71.31541532838101, 91.33477319403532, 35.659318107255025, 62.330520323313245, 73.038786823141, 45.41784066606246, 47.17403742508554, 61.61114370674447, 117.9547722528608, 49.07652961805713, 43.472280737042205, 41.38041906508828, 46.35027086457296, 47.230135322252444, 40.175733611379236, 35.283996351466506, 22.165261252528744, 24.67240896482308, 20.406926788238874, 20.403186102168586, 14.246901527404484, 13.369208074135672, 12.491405192077387, 11.611159220052798, 9.851804991861615, 9.848584182982247, 9.80235520522385, 8.972071124749327, 8.967980795116738, 8.9653854497504, 8.087470473282249, 13.708744504962208, 7.212284480750208, 7.2099498717658745, 12.010877472158924, 11.942538135261442, 6.334362863460061, 6.334194403639895, 6.332661807622716, 6.3325211378786985, 24.496170133033146, 5.452265556107291, 5.452149016956056, 5.451480614365137, 5.431534976932682, 38.69831554038599, 146.75716104129052, 11.374242691521525, 49.702722186062346, 32.24422346572231, 17.943091106267076, 31.041606533841485, 17.725161006661867, 66.74750810219854, 21.304516354306134, 21.00062601254025, 26.960467216425055, 53.353842125148205, 13.832027764554024, 26.338222625487138, 37.46852908293242, 26.489091760077105, 18.83928269441249, 122.28136550001524, 69.89068340304979, 53.76410541836409, 41.88105567568062, 205.48492776001947, 46.782176773005155, 55.96228889993499, 63.08370922355884, 38.24120321906662, 102.2772725646947, 49.73083787369881, 53.47573338192731, 36.95879324473595, 42.080248497093514, 39.27817433956195, 38.720360693779014, 31.983495038908874, 32.786096859816794, 29.000735309400515, 28.38160660181392, 30.173072492538022, 30.426526345453233, 85.09878765351797, 61.46340887167918, 41.323715761215716, 29.060627251137586, 38.389499599211995, 38.3894995991894, 24.688118037549003, 22.9373376807875, 18.556214962773325, 38.79948836229175, 17.681326340692287, 17.680359426874677, 21.885887910635255, 13.304282342235044, 13.303998372831085, 19.727789424319703, 10.679363691248389, 12.223508717276536, 8.92918316496907, 8.928700039934638, 104.50112772592522, 8.052709436847653, 8.04949266469707, 6.3030340611304165, 6.302314509394998, 6.300199603615072, 6.298815817141619, 5.425668050883752, 5.425186539428719, 5.424627770888995, 24.47187325420877, 65.58228029605691, 31.308820486031177, 16.279901051972637, 80.14041825506104, 12.390928499904032, 17.229110348548453, 20.121133834300544, 18.33346939483745, 20.27079657865577, 29.633223722307044, 31.296750933597995, 40.04532446952201, 34.18582789572498, 31.405921071732347, 31.35354757878237, 42.02174622634511, 28.01061608722848, 47.310403242883595, 28.615762215586766, 24.63205414430462, 27.820878488745844, 24.234063170108364, 23.18187362390346, 23.21220839189622, 23.112390322532757], \"Total\": [365.0, 1199.0, 764.0, 205.0, 234.0, 182.0, 112.0, 85.0, 189.0, 391.0, 208.0, 135.0, 106.0, 89.0, 165.0, 62.0, 78.0, 97.0, 162.0, 114.0, 100.0, 78.0, 115.0, 68.0, 102.0, 67.0, 102.0, 63.0, 150.0, 216.0, 205.9377232411315, 78.53661600797008, 57.594520685991114, 43.63220151259829, 34.033482539257406, 106.45821783535847, 28.797815210804362, 28.79783969540015, 27.05259886763925, 27.052602616994673, 25.307373006309284, 21.817520621671704, 17.453883876972807, 14.836045394182513, 13.090838067869598, 13.963299538163035, 11.345603674006265, 10.472994021841807, 9.600377723960321, 9.60040258042811, 23.56614031066475, 8.727777847424754, 8.727770695996101, 8.727784736648326, 8.727785790638732, 8.727784684089727, 8.727776678351626, 8.728071591199322, 7.85517868493257, 6.982550489083511, 80.30793588126473, 54.99266227632438, 62.877739746952834, 234.98024002011164, 114.42076997578576, 15.707653447562741, 32.28844313623637, 764.400536402493, 34.89999761340714, 58.4534290513295, 176.52367655394772, 28.83040204100625, 60.20050850383621, 216.64050609428202, 50.60718747072826, 66.30023021700072, 56.78295689658256, 65.45799944769671, 128.4234152784192, 116.90156869876283, 154.47512670044145, 176.46524656849368, 133.4569362957235, 225.57357479304736, 391.8176565255938, 1199.7833085633677, 116.99240784257978, 208.44920505655563, 103.83585329988256, 291.00942056698506, 168.67826233906243, 63.64030998654354, 31.385544012118853, 27.026800724132134, 26.155061809961015, 23.539786968344334, 23.539794438563394, 21.796301238181236, 17.437537469048, 17.43756852774009, 15.69404897392742, 13.950543788088156, 13.950605542822212, 13.950532914453078, 20.05386902579519, 11.335297921279235, 11.335290715768082, 31.386840007115865, 9.591782214926608, 9.591787106632497, 9.591793728484891, 8.720037636234396, 8.720037096444248, 8.720035911638611, 8.720033498735686, 7.848282260263762, 7.848289258736887, 7.848302486346124, 18.318409500013086, 66.30138269473991, 6.976530051576622, 15.698132249405765, 365.28647688274714, 34.01389481763858, 18.30911218681666, 24.431520385871984, 58.42770438488932, 71.53991206404223, 102.86698227661131, 53.210465310254925, 165.75069435694408, 96.91321425881996, 189.63190453311248, 102.021212945908, 33.1740468549316, 86.39518190567259, 43.62613785260504, 48.83120796873125, 52.319803246394365, 75.04924787254967, 53.18559388039752, 96.92189565151733, 109.10643251727396, 62.859141417383235, 63.6883826867049, 391.8176565255938, 69.76431115215024, 291.00942056698506, 1199.7833085633677, 64.6014771313277, 129.34443929087558, 180.9552935480022, 76.82258746749945, 180.06202760493977, 154.47512670044145, 135.49470854432013, 141.31157891332742, 78.44893174539277, 68.86096442437953, 67.11772417216055, 49.68577965706957, 40.9689944534966, 33.1243833398983, 32.252751075270645, 24.40812852239476, 19.178396238208546, 18.30676977080783, 17.435153263294254, 19.17964353055931, 16.563895783619387, 41.84092300582736, 9.590529712144274, 6.975646063101945, 6.975646832624853, 6.975653687915287, 6.975654867351195, 6.975651707868235, 29.648336690354277, 97.62814567508447, 15.702033359913953, 6.10402800189444, 6.104024268565445, 6.104023007560414, 6.104028954826336, 6.10402708196032, 6.104043398625407, 5.232397877144452, 16.563768805854696, 40.969887465916614, 77.6411897451555, 12.215941296214428, 162.1830544210608, 13.08303399239498, 57.54480723886998, 31.436305374220712, 37.483661100511135, 115.96856931729364, 208.44920505655563, 51.517565128061854, 1199.7833085633677, 67.13952192721351, 150.2602645046546, 141.39330567207637, 119.58332344996404, 127.43664326973237, 186.97187966622513, 55.08914099467052, 144.91103687138244, 190.71334350518146, 86.4046246056906, 95.26268204875751, 163.58395420383087, 764.400536402493, 141.31157891332742, 124.1860903536851, 103.83585329988256, 225.57357479304736, 365.28647688274714, 291.00942056698506, 36.06720166257873, 22.870239557219474, 25.50854238465807, 21.110572533096434, 21.110538732132916, 14.951673739215462, 14.071851438619001, 13.192031179017663, 12.312186996764598, 10.55250365995877, 10.552486089226875, 10.552066240991081, 9.672669154210478, 9.672629846224119, 9.672624635714026, 8.792779325819618, 14.947251974110397, 7.912981653680018, 7.912965453819148, 13.187546931835165, 13.187513179264776, 7.033158419021647, 7.033157044132404, 7.033144179406632, 7.033144626397012, 27.25939786882715, 6.153297958308056, 6.153301911152943, 6.153289666911284, 6.15320317758794, 44.82136638633289, 182.76318734499077, 13.18284945937931, 62.352738436954866, 41.29136926542802, 21.962935423409782, 40.38686446932933, 21.95715403306656, 100.89899601878649, 27.22626242703921, 27.23793949502558, 36.86099996134268, 92.07947565449149, 16.693485795754487, 38.636051872351075, 63.97950361367053, 41.24449515874858, 26.326655006967357, 391.8176565255938, 190.71334350518146, 132.13322886653935, 91.0880081693399, 1199.7833085633677, 113.86604181959301, 163.58395420383087, 225.57357479304736, 97.15627962422742, 764.400536402493, 189.63190453311248, 291.00942056698506, 124.1860903536851, 180.9552935480022, 186.97187966622513, 180.06202760493977, 127.73331307703108, 150.2602645046546, 72.65757227502105, 74.39839545468062, 135.49470854432013, 234.98024002011164, 85.80403956444196, 62.16378584815783, 42.02579758611481, 29.76791629825736, 39.39772118403678, 39.39772118403669, 25.390070552560136, 23.638947895979314, 19.2611206928402, 40.2760781846952, 18.385555760907, 18.3855495652752, 22.762795133621324, 14.007736659093135, 14.007736093711374, 21.01027450310202, 11.38104298500279, 13.13226349888843, 9.629915807969201, 9.62991664469583, 112.91167735471683, 8.754347675944189, 8.75434693507307, 7.0032247854064495, 7.003223697691606, 7.0032240208337395, 7.003209966084081, 6.127662883437834, 6.1276642935392935, 6.127650599258455, 30.619770154914118, 89.23179534467103, 40.31045199090228, 20.125780969449316, 135.50694273612237, 15.746864460567101, 23.636510211337367, 30.604160055673496, 27.105907372687756, 35.03875605059333, 66.38388441820474, 82.97056551628495, 168.67826233906243, 127.43664326973237, 127.73331307703108, 129.34443929087558, 291.00942056698506, 109.10643251727396, 764.400536402493, 135.32245891879555, 79.53614445444205, 139.7205622846797, 85.56817608332176, 135.49470854432013, 154.47512670044145, 180.9552935480022], \"Category\": [\"Default\", \"Default\", \"Default\", \"Default\", \"Default\", \"Default\", \"Default\", \"Default\", \"Default\", \"Default\", \"Default\", \"Default\", \"Default\", \"Default\", \"Default\", \"Default\", \"Default\", \"Default\", \"Default\", \"Default\", \"Default\", \"Default\", \"Default\", \"Default\", \"Default\", \"Default\", \"Default\", \"Default\", \"Default\", \"Default\", \"Topic1\", \"Topic1\", \"Topic1\", \"Topic1\", \"Topic1\", \"Topic1\", \"Topic1\", \"Topic1\", \"Topic1\", \"Topic1\", \"Topic1\", \"Topic1\", \"Topic1\", \"Topic1\", \"Topic1\", \"Topic1\", \"Topic1\", \"Topic1\", \"Topic1\", \"Topic1\", \"Topic1\", \"Topic1\", \"Topic1\", \"Topic1\", \"Topic1\", \"Topic1\", \"Topic1\", \"Topic1\", \"Topic1\", \"Topic1\", \"Topic1\", \"Topic1\", \"Topic1\", \"Topic1\", \"Topic1\", \"Topic1\", \"Topic1\", \"Topic1\", \"Topic1\", \"Topic1\", \"Topic1\", \"Topic1\", \"Topic1\", \"Topic1\", \"Topic1\", \"Topic1\", \"Topic1\", \"Topic1\", \"Topic1\", \"Topic1\", \"Topic1\", \"Topic1\", \"Topic1\", \"Topic1\", \"Topic1\", \"Topic1\", \"Topic1\", \"Topic1\", \"Topic1\", \"Topic1\", \"Topic1\", \"Topic2\", \"Topic2\", \"Topic2\", \"Topic2\", \"Topic2\", \"Topic2\", \"Topic2\", \"Topic2\", \"Topic2\", \"Topic2\", \"Topic2\", \"Topic2\", \"Topic2\", \"Topic2\", \"Topic2\", \"Topic2\", \"Topic2\", \"Topic2\", \"Topic2\", \"Topic2\", \"Topic2\", \"Topic2\", \"Topic2\", \"Topic2\", \"Topic2\", \"Topic2\", \"Topic2\", \"Topic2\", \"Topic2\", \"Topic2\", \"Topic2\", \"Topic2\", \"Topic2\", \"Topic2\", \"Topic2\", \"Topic2\", \"Topic2\", \"Topic2\", \"Topic2\", \"Topic2\", \"Topic2\", \"Topic2\", \"Topic2\", \"Topic2\", \"Topic2\", \"Topic2\", \"Topic2\", \"Topic2\", \"Topic2\", \"Topic2\", \"Topic2\", \"Topic2\", \"Topic2\", \"Topic2\", \"Topic2\", \"Topic2\", \"Topic2\", \"Topic2\", \"Topic2\", \"Topic2\", \"Topic2\", \"Topic2\", \"Topic2\", \"Topic2\", \"Topic2\", \"Topic2\", \"Topic3\", \"Topic3\", \"Topic3\", \"Topic3\", \"Topic3\", \"Topic3\", \"Topic3\", \"Topic3\", \"Topic3\", \"Topic3\", \"Topic3\", \"Topic3\", \"Topic3\", \"Topic3\", \"Topic3\", \"Topic3\", \"Topic3\", \"Topic3\", \"Topic3\", \"Topic3\", \"Topic3\", \"Topic3\", \"Topic3\", \"Topic3\", \"Topic3\", \"Topic3\", \"Topic3\", \"Topic3\", \"Topic3\", \"Topic3\", \"Topic3\", \"Topic3\", \"Topic3\", \"Topic3\", \"Topic3\", \"Topic3\", \"Topic3\", \"Topic3\", \"Topic3\", \"Topic3\", \"Topic3\", \"Topic3\", \"Topic3\", \"Topic3\", \"Topic3\", \"Topic3\", \"Topic3\", \"Topic3\", \"Topic3\", \"Topic3\", \"Topic3\", \"Topic3\", \"Topic3\", \"Topic3\", \"Topic3\", \"Topic3\", \"Topic3\", \"Topic3\", \"Topic3\", \"Topic3\", \"Topic3\", \"Topic3\", \"Topic4\", \"Topic4\", \"Topic4\", \"Topic4\", \"Topic4\", \"Topic4\", \"Topic4\", \"Topic4\", \"Topic4\", \"Topic4\", \"Topic4\", \"Topic4\", \"Topic4\", \"Topic4\", \"Topic4\", \"Topic4\", \"Topic4\", \"Topic4\", \"Topic4\", \"Topic4\", \"Topic4\", \"Topic4\", \"Topic4\", \"Topic4\", \"Topic4\", \"Topic4\", \"Topic4\", \"Topic4\", \"Topic4\", \"Topic4\", \"Topic4\", \"Topic4\", \"Topic4\", \"Topic4\", \"Topic4\", \"Topic4\", \"Topic4\", \"Topic4\", \"Topic4\", \"Topic4\", \"Topic4\", \"Topic4\", \"Topic4\", \"Topic4\", \"Topic4\", \"Topic4\", \"Topic4\", \"Topic4\", \"Topic4\", \"Topic4\", \"Topic4\", \"Topic4\", \"Topic4\", \"Topic4\", \"Topic4\", \"Topic4\", \"Topic4\", \"Topic4\", \"Topic4\", \"Topic4\", \"Topic4\", \"Topic4\", \"Topic4\", \"Topic4\", \"Topic4\", \"Topic4\", \"Topic4\", \"Topic4\", \"Topic4\", \"Topic4\", \"Topic5\", \"Topic5\", \"Topic5\", \"Topic5\", \"Topic5\", \"Topic5\", \"Topic5\", \"Topic5\", \"Topic5\", \"Topic5\", \"Topic5\", \"Topic5\", \"Topic5\", \"Topic5\", \"Topic5\", \"Topic5\", \"Topic5\", \"Topic5\", \"Topic5\", \"Topic5\", \"Topic5\", \"Topic5\", \"Topic5\", \"Topic5\", \"Topic5\", \"Topic5\", \"Topic5\", \"Topic5\", \"Topic5\", \"Topic5\", \"Topic5\", \"Topic5\", \"Topic5\", \"Topic5\", \"Topic5\", \"Topic5\", \"Topic5\", \"Topic5\", \"Topic5\", \"Topic5\", \"Topic5\", \"Topic5\", \"Topic5\", \"Topic5\", \"Topic5\", \"Topic5\", \"Topic5\", \"Topic5\", \"Topic5\", \"Topic5\", \"Topic5\", \"Topic5\", \"Topic5\", \"Topic5\", \"Topic5\", \"Topic5\"], \"logprob\": [30.0, 29.0, 28.0, 27.0, 26.0, 25.0, 24.0, 23.0, 22.0, 21.0, 20.0, 19.0, 18.0, 17.0, 16.0, 15.0, 14.0, 13.0, 12.0, 11.0, 10.0, 9.0, 8.0, 7.0, 6.0, 5.0, 4.0, 3.0, 2.0, 1.0, -3.9224, -4.892, -5.2078, -5.4871, -5.7401, -4.6017, -5.9112, -5.9125, -5.9751, -5.9752, -6.0438, -6.205, -6.4282, -6.5979, -6.7299, -6.6731, -6.8815, -6.9674, -7.061, -7.0612, -6.17, -7.1639, -7.1639, -7.164, -7.164, -7.1642, -7.1643, -7.1684, -7.2791, -7.4088, -4.9717, -5.3469, -5.2156, -3.9391, -4.645, -6.6097, -5.9349, -3.0386, -5.8859, -5.4149, -4.4274, -6.0637, -5.4197, -4.2928, -5.5775, -5.3774, -5.5077, -5.4343, -4.9752, -5.0887, -4.9344, -4.9321, -5.1355, -4.8584, -4.5771, -4.0692, -5.3453, -5.1628, -5.4377, -5.3689, -5.4681, -4.9872, -5.7079, -5.8589, -5.8927, -6.0009, -6.0009, -6.0805, -6.3118, -6.3121, -6.422, -6.5455, -6.5483, -6.55, -6.1931, -6.7655, -6.7655, -5.7493, -6.9443, -6.9443, -6.9446, -7.0476, -7.0476, -7.0476, -7.0478, -7.1626, -7.1628, -7.163, -6.3185, -5.0391, -7.2929, -6.4865, -3.3907, -5.7262, -6.3362, -6.0601, -5.2367, -5.0604, -4.7192, -5.3501, -4.3163, -4.8147, -4.2208, -4.7843, -5.8128, -4.9709, -5.5849, -5.5097, -5.4608, -5.1659, -5.4595, -4.9935, -4.9318, -5.3817, -5.3747, -4.1063, -5.3318, -4.4562, -3.6253, -5.4124, -5.0519, -4.9133, -5.398, -5.0915, -5.2521, -5.2982, -5.3905, -4.7442, -4.8755, -4.9015, -5.2081, -5.4018, -5.6185, -5.6458, -5.9315, -6.1809, -6.2293, -6.28, -6.1961, -6.3565, -5.4326, -6.9125, -7.2608, -7.2609, -7.261, -7.261, -7.2612, -5.8155, -4.6281, -6.4646, -7.4103, -7.4103, -7.4104, -7.4107, -7.4109, -7.4114, -7.586, -6.4475, -5.5648, -4.995, -6.757, -4.3418, -6.6953, -5.322, -5.8854, -5.7351, -4.7158, -4.1929, -5.4561, -2.7559, -5.2642, -4.5844, -4.6822, -4.8651, -4.8302, -4.5828, -5.5233, -4.9648, -4.8063, -5.2814, -5.2434, -4.9765, -4.327, -5.2039, -5.3252, -5.3745, -5.2611, -5.2423, -5.404, -5.3358, -5.8007, -5.6935, -5.8833, -5.8835, -6.2427, -6.3062, -6.3742, -6.4472, -6.6115, -6.6119, -6.6166, -6.7051, -6.7055, -6.7058, -6.8089, -6.2812, -6.9234, -6.9237, -6.4134, -6.4191, -7.0532, -7.0532, -7.0535, -7.0535, -5.7007, -7.2032, -7.2032, -7.2033, -7.207, -5.2434, -3.9104, -6.4678, -4.9931, -5.4259, -6.012, -5.4639, -6.0242, -4.6983, -5.8403, -5.8546, -5.6048, -4.9223, -6.2722, -5.6282, -5.2757, -5.6225, -5.9633, -4.0929, -4.6523, -4.9146, -5.1644, -3.5738, -5.0537, -4.8745, -4.7547, -5.2553, -4.2715, -4.9926, -4.92, -5.2894, -5.1596, -5.2285, -5.2428, -5.434, -5.4092, -5.5319, -5.5535, -5.4922, -5.4839, -4.2064, -4.5318, -4.9288, -5.2808, -5.0024, -5.0024, -5.4439, -5.5175, -5.7294, -4.9918, -5.7777, -5.7778, -5.5644, -6.0621, -6.0622, -5.6682, -6.2819, -6.1469, -6.4609, -6.461, -4.001, -6.5642, -6.5646, -6.8092, -6.8093, -6.8097, -6.8099, -6.9591, -6.9592, -6.9593, -5.4527, -4.4669, -5.2063, -5.8603, -4.2665, -6.1333, -5.8036, -5.6485, -5.7415, -5.6411, -5.2613, -5.2067, -4.9602, -5.1184, -5.2032, -5.2049, -4.912, -5.3176, -4.7935, -5.2963, -5.4462, -5.3244, -5.4625, -5.5069, -5.5056, -5.5099], \"loglift\": [30.0, 29.0, 28.0, 27.0, 26.0, 25.0, 24.0, 23.0, 22.0, 21.0, 20.0, 19.0, 18.0, 17.0, 16.0, 15.0, 14.0, 13.0, 12.0, 11.0, 10.0, 9.0, 8.0, 7.0, 6.0, 5.0, 4.0, 3.0, 2.0, 1.0, 1.3849, 1.3793, 1.3736, 1.3719, 1.3675, 1.3654, 1.3634, 1.362, 1.362, 1.3619, 1.36, 1.3472, 1.3471, 1.3399, 1.333, 1.3253, 1.3245, 1.3187, 1.3121, 1.3119, 1.305, 1.3045, 1.3045, 1.3044, 1.3044, 1.3041, 1.3041, 1.3, 1.2946, 1.2827, 1.2773, 1.2808, 1.2781, 1.2362, 1.25, 1.271, 1.2252, 0.9572, 1.1965, 1.1517, 1.0341, 1.2098, 1.1175, 0.9638, 1.1333, 1.0633, 1.0879, 1.0191, 0.8044, 0.7848, 0.6604, 0.5296, 0.6055, 0.3578, 0.0869, -0.5242, 0.5275, 0.1324, 0.5543, -0.4074, 0.0388, 1.4944, 1.4806, 1.4791, 1.4781, 1.4753, 1.4752, 1.4726, 1.4645, 1.4641, 1.4596, 1.4538, 1.451, 1.4494, 1.4433, 1.4414, 1.4414, 1.4392, 1.4296, 1.4296, 1.4294, 1.4217, 1.4217, 1.4216, 1.4214, 1.412, 1.4118, 1.4116, 1.4085, 1.4015, 1.3994, 1.3948, 1.3435, 1.3819, 1.3913, 1.3788, 1.3304, 1.3042, 1.2822, 1.3106, 1.208, 1.2464, 1.169, 1.2254, 1.3203, 1.2051, 1.2743, 1.2368, 1.2167, 1.1508, 1.2016, 1.0674, 1.0107, 1.1122, 1.1062, 0.5578, 1.058, 0.5053, -0.0803, 1.0543, 0.7205, 0.5233, 0.8954, 0.3501, 0.3427, 0.4277, 0.2934, 1.5282, 1.5273, 1.5269, 1.5211, 1.5202, 1.5161, 1.5155, 1.5084, 1.5002, 1.4983, 1.4963, 1.4849, 1.4712, 1.4684, 1.4615, 1.4317, 1.4316, 1.4315, 1.4314, 1.4313, 1.43, 1.4256, 1.4165, 1.4156, 1.4156, 1.4155, 1.4152, 1.415, 1.4146, 1.394, 1.3801, 1.3572, 1.2878, 1.3752, 1.2044, 1.3683, 1.2603, 1.3015, 1.2758, 1.1657, 1.1023, 1.2369, 0.7891, 1.1639, 1.0381, 1.0011, 0.9857, 0.9571, 0.8211, 1.1026, 0.6939, 0.5778, 0.8944, 0.8348, 0.5611, -0.3312, 0.48, 0.4879, 0.6176, -0.0448, -0.5081, -0.4425, 1.7137, 1.7044, 1.7023, 1.7018, 1.7016, 1.6874, 1.6845, 1.6811, 1.677, 1.667, 1.6666, 1.662, 1.6605, 1.66, 1.6597, 1.6521, 1.6492, 1.643, 1.6426, 1.6422, 1.6365, 1.631, 1.631, 1.6308, 1.6307, 1.6288, 1.6147, 1.6147, 1.6146, 1.6109, 1.5888, 1.5163, 1.5881, 1.5089, 1.4884, 1.5335, 1.4725, 1.5216, 1.3225, 1.4904, 1.4756, 1.4229, 1.19, 1.5476, 1.3525, 1.2006, 1.2929, 1.401, 0.5712, 0.7318, 0.8365, 0.9587, -0.0289, 0.8462, 0.663, 0.4615, 0.8033, -0.2757, 0.3972, 0.0415, 0.5237, 0.277, 0.1754, 0.1987, 0.3509, 0.2133, 0.8172, 0.772, 0.2337, -0.3085, 1.9764, 1.9733, 1.9678, 1.9606, 1.9587, 1.9587, 1.9566, 1.9545, 1.9474, 1.9473, 1.9456, 1.9455, 1.9454, 1.9331, 1.9331, 1.9217, 1.921, 1.9129, 1.9091, 1.909, 1.9072, 1.9011, 1.9007, 1.8793, 1.8792, 1.8788, 1.8786, 1.863, 1.8629, 1.8628, 1.7605, 1.6767, 1.7319, 1.7726, 1.4594, 1.745, 1.6684, 1.5653, 1.5936, 1.4374, 1.1781, 1.0097, 0.5467, 0.6688, 0.5817, 0.5675, 0.0495, 0.6249, -0.7977, 0.4309, 0.8125, 0.3708, 0.7231, 0.2191, 0.0893, -0.0732]}, \"token.table\": {\"Topic\": [1, 2, 2, 3, 4, 1, 3, 4, 5, 1, 2, 3, 4, 5, 1, 2, 3, 1, 2, 3, 4, 5, 5, 4, 2, 3, 5, 1, 2, 4, 5, 4, 4, 1, 2, 3, 5, 1, 2, 3, 4, 1, 2, 4, 5, 1, 2, 3, 5, 2, 3, 1, 2, 5, 1, 2, 4, 1, 2, 3, 4, 5, 5, 5, 3, 5, 1, 1, 2, 5, 2, 3, 5, 1, 2, 1, 2, 3, 4, 5, 1, 2, 3, 4, 5, 1, 2, 3, 5, 2, 3, 2, 2, 2, 1, 5, 4, 4, 1, 4, 5, 2, 5, 1, 2, 3, 4, 2, 2, 5, 4, 4, 3, 1, 3, 4, 1, 2, 3, 1, 2, 3, 4, 1, 5, 1, 5, 2, 1, 2, 3, 4, 5, 2, 4, 3, 2, 4, 5, 5, 3, 4, 1, 4, 1, 2, 3, 4, 5, 4, 2, 4, 3, 1, 2, 3, 4, 5, 2, 1, 2, 3, 4, 5, 5, 4, 5, 4, 5, 1, 2, 2, 1, 2, 3, 4, 5, 4, 1, 4, 1, 2, 3, 5, 4, 1, 3, 4, 5, 1, 2, 3, 4, 5, 1, 2, 3, 4, 5, 2, 3, 2, 2, 5, 5, 1, 2, 3, 4, 5, 1, 3, 1, 1, 2, 3, 5, 1, 3, 1, 2, 5, 2, 5, 1, 4, 1, 3, 4, 1, 1, 1, 3, 1, 3, 4, 5, 4, 1, 3, 4, 5, 1, 3, 3, 1, 1, 1, 2, 3, 4, 5, 4, 1, 4, 4, 1, 3, 5, 1, 3, 5, 3, 5, 3, 1, 5, 1, 5, 4, 1, 1, 2, 3, 4, 5, 1, 1, 2, 1, 2, 3, 4, 5, 1, 2, 3, 4, 5, 5, 1, 2, 3, 2, 2, 4, 3, 5, 2, 4, 2, 3, 1, 2, 3, 5, 3, 4, 2, 3, 3, 1, 3, 5, 1, 2, 4, 2, 3, 1, 2, 3, 4, 5, 1, 3, 4, 5, 2, 4, 1, 1, 2, 3, 5, 1, 3, 4, 5, 5, 2, 4, 5, 4, 3, 5, 3, 4, 1, 4, 2, 3, 5, 1, 2, 3, 4, 1, 1, 1, 2, 3, 4, 5, 1, 2, 3, 4, 5, 1, 2, 3, 5, 1, 2, 3, 2, 1, 3, 4, 5, 2, 3, 4, 5, 1, 2, 4, 5, 1, 2, 4, 1, 1, 5, 3, 4, 5, 3, 4, 4, 3, 2, 5, 1, 3, 4, 1, 2, 3, 4, 5, 3, 1, 5, 1, 3, 4, 4, 1, 2, 4, 2, 3, 4, 5, 1, 2, 3, 4, 5, 2, 3, 4, 1, 2, 3, 1, 3, 4, 2, 4, 2, 5, 4, 2, 1, 2, 3, 3, 1, 2, 3, 4, 5, 3, 1, 3, 4, 5, 2, 3, 4, 5, 5, 3, 1, 3, 4, 5, 2, 5, 1, 3, 5, 1, 2, 3, 4, 5, 3, 5, 1, 4, 2, 2, 4, 5, 2, 5, 1, 2, 5, 3, 3, 1, 1, 3, 4, 5, 1, 3, 4, 5, 3, 3, 5, 2, 1, 4, 4, 4, 1, 1, 2, 3, 1, 2, 3, 4, 1, 2, 3, 3, 1, 2, 1, 2, 4, 5, 2, 3, 1, 4, 1, 3, 4, 5, 1, 4, 4, 4, 5, 3, 1, 2, 3, 4, 5, 4, 2, 3, 4, 5, 1, 1, 2, 5, 3, 1, 3, 4, 5, 1, 2, 3, 4, 5, 2, 5, 4, 5, 1, 4, 2, 4, 5, 1, 3, 5, 3, 4, 1, 2, 3, 4, 2, 3, 5, 2, 5], \"Freq\": [0.9166127803664312, 0.9749082994187317, 0.5467142071694541, 0.29939111344993913, 0.1562040591912726, 0.0726544082545552, 0.02421813608485173, 0.7749803547152554, 0.09687254433940692, 0.2586414722260023, 0.2882004976232597, 0.20691317778080187, 0.03694878174657176, 0.21430293413011622, 0.9310120408482074, 0.21342632403351097, 0.7736704246214773, 0.16494311389122635, 0.3676856913825254, 0.13745259490935527, 0.18212468825489575, 0.14432522465482303, 0.9790297502989311, 0.9363500196824521, 0.8386432517905406, 0.0855758420194429, 0.06846067361555433, 0.6554637568017938, 0.15694202627648585, 0.12463043263132699, 0.0646231872903177, 0.9304567184624869, 0.8531017847931022, 0.26183275485651264, 0.2972155595668522, 0.34675148616132756, 0.09199529224688283, 0.45707628013302964, 0.25476382827086896, 0.2697499358162142, 0.02247916131801785, 0.6874637229931938, 0.2138776027089936, 0.030553943244141946, 0.06110788648828389, 0.2048919384147544, 0.4097838768295088, 0.012052466965573787, 0.3736264759327874, 0.8738818046852475, 0.054617612792827966, 0.03186048674454915, 0.9239541155919254, 0.9138317294633499, 0.8911318610010829, 0.26589021651810485, 0.7217020162634274, 0.354651470472089, 0.15072687495063783, 0.2039245955214512, 0.27928803299677013, 0.008866286761802226, 0.815971593821116, 0.9864431204702816, 0.983278991585926, 0.9846368858348523, 0.9695385381036998, 0.12831507434525907, 0.614079284366597, 0.25663014869051815, 0.8919126157762223, 0.8191317367050851, 0.9645227911150601, 0.9696333592054445, 0.9474480947073304, 0.0909227635211655, 0.14440674206302756, 0.4867042047309447, 0.20858751631326203, 0.06418077425023447, 0.01547952220917658, 0.6346604105762398, 0.1393156998825892, 0.10835665546423606, 0.09287713325505947, 0.4855150573557398, 0.31072963670767345, 0.051788272784612246, 0.1488912842557602, 0.917427289760286, 0.9832428235757349, 0.9174272329694516, 0.9877158728881684, 0.9899386098735388, 0.9896774783623519, 0.9280586036908715, 0.9800638399094128, 0.8531035120207368, 0.257755656614989, 0.011206767678912566, 0.7396466668082293, 0.8107362495508611, 0.16773853438983333, 0.013324583901203415, 0.706202946763781, 0.17321959071564438, 0.11992125511083074, 0.9770691651088336, 0.8918258412894919, 0.06370184580639228, 0.8125849018299447, 0.8846222961662717, 0.86013528837759, 0.8596467515000883, 0.008511353975248399, 0.12767030962872597, 0.3296814606230238, 0.6450289446972205, 0.028667953097654242, 0.135649190222324, 0.12331744565665817, 0.7152411848086174, 0.018497616848498724, 0.8910279657636367, 0.09092122099628946, 0.047595760819419894, 0.9519152163883979, 0.9770688550415253, 0.1994485100710831, 0.010497290003741215, 0.49337263017583716, 0.23094038008230675, 0.07348103002618851, 0.9174276682721364, 0.9304610009127711, 0.938425746036061, 0.17123895583897017, 0.25685843375845524, 0.570796519463234, 0.9729705442564137, 0.07582911402468398, 0.9099493682962077, 0.8324545722901873, 0.13874242871503123, 0.24773742689704786, 0.20644785574753988, 0.08257914229901596, 0.39913252111191044, 0.055052761532677304, 0.9704107440171607, 0.9004760920536874, 0.08186146291397157, 0.8191291695478392, 0.21659202952866274, 0.31655758161881475, 0.1388410445696556, 0.21659202952866274, 0.1166264774385107, 0.9318591913516391, 0.23462671121577244, 0.12421414123187953, 0.42784870868758507, 0.062107070615939765, 0.15181728372785275, 0.9664893907297591, 0.8804303057422087, 0.07336919214518406, 0.9473925905441306, 0.9137800197974806, 0.2252657768991457, 0.7577121586607629, 0.974906562973846, 0.7024553443520882, 0.0226598498178093, 0.028324812272261624, 0.14162406136130812, 0.10196932418014185, 0.8846241072140014, 0.06690192964780846, 0.9366270150693186, 0.13070118548339207, 0.13070118548339207, 0.06535059274169604, 0.6535059274169603, 0.9304604996864744, 0.8362125075550235, 0.12388333445259607, 0.030970833613149017, 0.9742032230081782, 0.2348643378717355, 0.12526098019825893, 0.1409186027230413, 0.25052196039651786, 0.24269314913412668, 0.09780910406447008, 0.1222613800805876, 0.37901027824982153, 0.34233186422564527, 0.0611306900402938, 0.9383032056330799, 0.983346810608573, 0.9620080550926878, 0.9704206337379886, 0.8159734173820355, 0.913831652126744, 0.2608516319165952, 0.21342406247721427, 0.14821115449806546, 0.14228270831814285, 0.23713784719690476, 0.3018059134991905, 0.6898420879981496, 0.937463114345812, 0.1413130561702703, 0.6751623794801803, 0.04710435205675677, 0.1413130561702703, 0.2259109140123915, 0.7646215551188635, 0.02314943907617009, 0.7407820504374428, 0.2314943907617009, 0.881992496326616, 0.08819924963266161, 0.11980721249414805, 0.8386504874590364, 0.30940769107727223, 0.5770035320089671, 0.11707318040761652, 0.993167314365625, 0.9436476923621209, 0.7869512661029037, 0.2052916346355401, 0.2854382319093411, 0.19761108362954385, 0.4610925284689356, 0.04391357413989863, 0.9746440663347109, 0.0054715613933366235, 0.07660185950671272, 0.8043195248204836, 0.11490278926006908, 0.830945615562432, 0.17191978253015833, 0.8191319059261447, 0.9954465688637651, 0.9722959813109351, 0.5606454231411425, 0.21802877566599985, 0.04672045192842854, 0.17130832373757132, 0.007786741988071423, 0.9476439879138138, 0.07585613437226363, 0.8344174780949, 0.9238301055625562, 0.9166128910590189, 0.9555848231344208, 0.9280585662324711, 0.2830425761709782, 0.6476397929335942, 0.06716264519311348, 0.9106750332063018, 0.06745740986713347, 0.994277401420203, 0.14906253847013254, 0.7950002051740402, 0.896549004900985, 0.09961655610010944, 0.9476424100135371, 0.9166137373614517, 0.14752663979959976, 0.2050370248062234, 0.4734188215038004, 0.1708641873385195, 0.0033339353627028197, 0.9166143656443714, 0.9610906562881696, 0.9704200168705054, 0.20039999511990364, 0.27197142194844065, 0.25049999389987954, 0.07157142682853701, 0.20039999511990364, 0.08801030082630631, 0.1885935017706564, 0.28917670271500645, 0.1257290011804376, 0.314322502951094, 0.8567481672875898, 0.9165827658960256, 0.14644902320006317, 0.8298777981336913, 0.9558379246681377, 0.9280281675102774, 0.054589892206486905, 0.07085183913146255, 0.929930388600446, 0.2228447322726625, 0.7675763000502819, 0.04780009273986264, 0.9321018084273215, 0.5474691290492265, 0.26518035938321904, 0.13686728226230663, 0.05132523084836498, 0.6534863196266346, 0.3448955575807238, 0.7971459664239047, 0.19442584546924505, 0.8191312357099616, 0.7706415224627533, 0.17784035133755843, 0.03952007807501299, 0.015082641709059501, 0.90495850254357, 0.0754132085452975, 0.12074546701551835, 0.8452182691086284, 0.11052453679502103, 0.3757834251030715, 0.15473435151302944, 0.23210152726954414, 0.12710321731427418, 0.038821710518119786, 0.7376124998442759, 0.15528684207247914, 0.05823256577717968, 0.19245345594778093, 0.8018893997824206, 0.9625291692925159, 0.4333763201236282, 0.03852233956654473, 0.3948539805570835, 0.12519760359127038, 0.6501826939303794, 0.15436933175811826, 0.13343789694345817, 0.06148608976806406, 0.9645227911150579, 0.036713496635185215, 0.7709834293388895, 0.18356748317592606, 0.8531034578018797, 0.8407835679701036, 0.1528697396309279, 0.7952588480865569, 0.19086212354077364, 0.0758293081043011, 0.9099516972516132, 0.038639284249082334, 0.7727856849816468, 0.1803166598290509, 0.8912852608275676, 0.06366323291625484, 0.406380145694731, 0.5783102073348095, 0.9739952505601562, 0.987854408822573, 0.273086212981856, 0.38793555489011317, 0.0025522075979612707, 0.31136932695127506, 0.02552207597961271, 0.42501286490362455, 0.1983393369550248, 0.13033727857044486, 0.13033727857044486, 0.11333676397429988, 0.002737577390035681, 0.8513865683010967, 0.128666137331677, 0.016425464340214087, 0.23524519369050123, 0.7547449964236914, 0.9750416152515063, 0.8919141190173957, 0.2573173869634862, 0.298488168877644, 0.39112242818449905, 0.041170781914157795, 0.3394966526309289, 0.2656930324937704, 0.22141086041147534, 0.16974832631546444, 0.15462589740733346, 0.4561463973516337, 0.13916330766660012, 0.23967014098136688, 0.021093496950570056, 0.7119055220817394, 0.2636687118821257, 0.9610905230858114, 0.9166128965788491, 0.8567499802315599, 0.024807461851970584, 0.19845969481576467, 0.7690313174110881, 0.8186024930472512, 0.08186024930472512, 0.9619488219595511, 0.8601353832639707, 0.5423002934448283, 0.4519169112040236, 0.9855106666479858, 0.8916042705488635, 0.06368601932491882, 0.15808049276463676, 0.008782249598035375, 0.22833848954891978, 0.4127657311076627, 0.19320949115677827, 0.9055840604137356, 0.9335427740809978, 0.04243376245822718, 0.7396585576988108, 0.10566550824268726, 0.14088734432358302, 0.9096400574830641, 0.8739672003707234, 0.008739672003707233, 0.11361573604819404, 0.6500079221161387, 0.16508137704536857, 0.1753989631107041, 0.010317586065335536, 0.41883059681900386, 0.28206958561279855, 0.09402319520426618, 0.05128537920232701, 0.14530857440659317, 0.8022713383029859, 0.09168815294891268, 0.09168815294891268, 0.1316145875091934, 0.7332812732655061, 0.11281250357930862, 0.7641131469357721, 0.21594501978619648, 0.01661115536816896, 0.8440332927255622, 0.1507202308438504, 0.9318633164034946, 0.9345875288502327, 0.9476816930084747, 0.8600263964524977, 0.02048589560080538, 0.08194358240322153, 0.8911364586350342, 0.9763481025975267, 0.07954292545614196, 0.6681605738315924, 0.07954292545614196, 0.14317726582105553, 0.015908585091228392, 0.9385560594550204, 0.16637798477471452, 0.6056158645799609, 0.21961893990262316, 0.013310238781977162, 0.7738882728592849, 0.030955530914371393, 0.14445914426706652, 0.051592551523952326, 0.9755912404990564, 0.8191311078310987, 0.22631905978784717, 0.5870150613247286, 0.049507294328591564, 0.13437694174903425, 0.19595183012949788, 0.7838073205179915, 0.2804284358624989, 0.1254548265700653, 0.5903756544473661, 0.22546808519581618, 0.06441945291309034, 0.3462545594078606, 0.2979399697230428, 0.06441945291309034, 0.19051411838290244, 0.7620564735316098, 0.13659376318169064, 0.8195625790901437, 0.8919149143553798, 0.1035302471695484, 0.6729466066020646, 0.2070604943390968, 0.9318640427371557, 0.966519502166462, 0.3505976330591362, 0.3622842208277741, 0.280478106447309, 0.9660557200911275, 0.8601346872339194, 0.916671639950465, 0.12122829921314784, 0.09698263937051826, 0.6303871559083688, 0.12122829921314784, 0.24978421995258285, 0.07602128433339478, 0.5755897242385605, 0.08688146780959403, 0.9861976673848573, 0.9921634258522387, 0.8159717815929888, 0.9174274144126424, 0.1836462134087987, 0.7713140963169545, 0.8125718633986465, 0.8125734803103798, 0.9166136145823768, 0.28299278062477196, 0.014894356874987998, 0.685140416249448, 0.20449539231606212, 0.04194777278278197, 0.3827734266428855, 0.3670430118493423, 0.7239793865405286, 0.015082903886261014, 0.2564093660664372, 0.9874970611931378, 0.2484718824109091, 0.7454156472327272, 0.1930610313528341, 0.742078339262456, 0.054298415067984586, 0.01206631445955213, 0.9383020793360649, 0.8601344430837325, 0.336970647296327, 0.6640303932015854, 0.3703505471614824, 0.5208054569458347, 0.0925876367903706, 0.011573454598796325, 0.13386472755613144, 0.8701207291148544, 0.8125723853903585, 0.8531019515632255, 0.9812787166630985, 0.8601342976531647, 0.9374606871536697, 0.14909369481574153, 0.5571395964167184, 0.015694073138499107, 0.26679924335448485, 0.9098374590737589, 0.9634662216547856, 0.2441604950879952, 0.7324814852639856, 0.8567483003545514, 0.9548367906202028, 0.972295154642187, 0.2951386164648706, 0.6640618870459588, 0.9384950231906155, 0.8592848715351752, 0.1821729716873219, 0.8197783725929485, 0.9790294203819064, 0.18817610130487322, 0.12097035083884707, 0.2284995515844889, 0.37635220260974644, 0.08064690055923138, 0.9557762961565593, 0.8567482608225483, 0.024828633895640745, 0.968316721929989, 0.8906172554129358, 0.0954232773656717, 0.12692228984636808, 0.12692228984636808, 0.7192263091294191, 0.9769090833442262, 0.01878671314123512, 0.9906293506864778, 0.81913135916072, 0.9473941074538976, 0.06811307100570754, 0.25731604602156183, 0.27245228402283017, 0.4086784260342452, 0.8269050034321003, 0.037586591065095466, 0.13155306872783412, 0.9383027271087689, 0.9345876100549169], \"Term\": [\"abstraction\", \"accelerated\", \"active\", \"active\", \"active\", \"adaptation\", \"adaptation\", \"adaptation\", \"adaptation\", \"adaptive\", \"adaptive\", \"adaptive\", \"adaptive\", \"adaptive\", \"additive\", \"adversarial\", \"adversarial\", \"algorithm\", \"algorithm\", \"algorithm\", \"algorithm\", \"algorithm\", \"allocation\", \"alternating\", \"analog\", \"analog\", \"analog\", \"analysis\", \"analysis\", \"analysis\", \"analysis\", \"annealing\", \"answering\", \"application\", \"application\", \"application\", \"application\", \"approach\", \"approach\", \"approach\", \"approach\", \"approximate\", \"approximate\", \"approximate\", \"approximate\", \"approximation\", \"approximation\", \"approximation\", \"approximation\", \"artificial\", \"artificial\", \"associative\", \"associative\", \"autoencoders\", \"barn\", \"basis\", \"basis\", \"bayesian\", \"bayesian\", \"bayesian\", \"bayesian\", \"bayesian\", \"beta\", \"bias\", \"blind\", \"boltzmann\", \"bottleneck\", \"bound\", \"bound\", \"bound\", \"bregman\", \"calibrated\", \"carlo\", \"causal\", \"chip\", \"classification\", \"classification\", \"classification\", \"classification\", \"classification\", \"classifier\", \"classifier\", \"classifier\", \"classifier\", \"classifier\", \"clustering\", \"clustering\", \"clustering\", \"clustering\", \"cmos\", \"collaborative\", \"committee\", \"completion\", \"complexity\", \"component\", \"compression\", \"computer\", \"constructive\", \"control\", \"control\", \"control\", \"convergence\", \"convergence\", \"convex\", \"convex\", \"convex\", \"convex\", \"coordinate\", \"correspondence\", \"correspondence\", \"counterfactual\", \"cover\", \"cycle\", \"data\", \"data\", \"data\", \"decision\", \"decision\", \"decision\", \"deep\", \"deep\", \"deep\", \"deep\", \"density\", \"density\", \"dependent\", \"dependent\", \"descent\", \"detection\", \"detection\", \"detection\", \"detection\", \"detection\", \"determinantal\", \"deterministic\", \"dictionary\", \"dimension\", \"dimension\", \"dimension\", \"dimensionality\", \"direction\", \"direction\", \"discovery\", \"discovery\", \"distributed\", \"distributed\", \"distributed\", \"distributed\", \"distributed\", \"domain\", \"dual\", \"dual\", \"dueling\", \"dynamic\", \"dynamic\", \"dynamic\", \"dynamic\", \"dynamic\", \"early\", \"efficient\", \"efficient\", \"efficient\", \"efficient\", \"efficient\", \"em\", \"embeddings\", \"embeddings\", \"empirical\", \"equilibrium\", \"error\", \"error\", \"estimate\", \"estimation\", \"estimation\", \"estimation\", \"estimation\", \"estimation\", \"evaluating\", \"exploiting\", \"exploiting\", \"exponential\", \"exponential\", \"exponential\", \"exponential\", \"extended\", \"factor\", \"factor\", \"factor\", \"family\", \"fast\", \"fast\", \"fast\", \"fast\", \"fast\", \"feature\", \"feature\", \"feature\", \"feature\", \"feature\", \"feedforward\", \"field\", \"finite\", \"fixed\", \"form\", \"forward\", \"function\", \"function\", \"function\", \"function\", \"function\", \"gaussian_process\", \"gaussian_process\", \"gene\", \"generalization\", \"generalization\", \"generalization\", \"generalization\", \"generative\", \"generative\", \"gradient\", \"gradient\", \"gradient\", \"gradient_descent\", \"gradient_descent\", \"grammar\", \"grammar\", \"graph\", \"graph\", \"graph\", \"graphical\", \"hashing\", \"hidden\", \"hidden\", \"hierarchical\", \"hierarchical\", \"hierarchical\", \"hierarchical\", \"higher_order\", \"image\", \"image\", \"image\", \"image\", \"independent\", \"independent\", \"inductive\", \"inference\", \"infinite\", \"information\", \"information\", \"information\", \"information\", \"information\", \"interface\", \"intrinsic\", \"intrinsic\", \"invariance\", \"ising\", \"isotonic\", \"k_means\", \"kernel\", \"kernel\", \"kernel\", \"label\", \"label\", \"large\", \"lasso\", \"lasso\", \"latent\", \"latent\", \"lateral\", \"law\", \"learning\", \"learning\", \"learning\", \"learning\", \"learning\", \"lifted\", \"likelihood\", \"limited\", \"linear\", \"linear\", \"linear\", \"linear\", \"linear\", \"local\", \"local\", \"local\", \"local\", \"local\", \"logarithmic\", \"loopy\", \"loss\", \"loss\", \"low_rank\", \"lower\", \"lower\", \"machine\", \"machine\", \"manifold\", \"manifold\", \"margin\", \"margin\", \"markov\", \"markov\", \"markov\", \"markov\", \"matching\", \"matching\", \"matrix\", \"matrix\", \"maximal\", \"maximum\", \"maximum\", \"maximum\", \"memory\", \"memory\", \"memory\", \"message\", \"message\", \"method\", \"method\", \"method\", \"method\", \"method\", \"metric\", \"metric\", \"metric\", \"metric\", \"minimization\", \"minimization\", \"missing\", \"mixture\", \"mixture\", \"mixture\", \"mixture\", \"model\", \"model\", \"model\", \"model\", \"monte\", \"movement\", \"movement\", \"movement\", \"mri\", \"multi_armed\", \"multi_armed\", \"multi_task\", \"multi_task\", \"multidimensional\", \"multidimensional\", \"multiple\", \"multiple\", \"multiple\", \"mutual\", \"mutual\", \"natural\", \"natural\", \"nearest\", \"neighbor\", \"network\", \"network\", \"network\", \"network\", \"network\", \"neural\", \"neural\", \"neural\", \"neural\", \"neural\", \"neural_network\", \"neural_network\", \"neural_network\", \"neural_network\", \"neuron\", \"neuron\", \"non_parametric\", \"nonsmooth\", \"object\", \"object\", \"object\", \"object\", \"online\", \"online\", \"online\", \"online\", \"optimal\", \"optimal\", \"optimal\", \"optimal\", \"optimization\", \"optimization\", \"optimization\", \"order\", \"owl\", \"pac_bayesian\", \"pca\", \"pca\", \"pca\", \"perceptrons\", \"perceptrons\", \"phase\", \"phoneme\", \"policy\", \"policy\", \"population\", \"potential\", \"potential\", \"prediction\", \"prediction\", \"prediction\", \"prediction\", \"prediction\", \"preference\", \"principal\", \"principal\", \"prior\", \"prior\", \"prior\", \"private\", \"probabilistic\", \"probabilistic\", \"probabilistic\", \"problem\", \"problem\", \"problem\", \"problem\", \"process\", \"process\", \"process\", \"process\", \"process\", \"processing\", \"processing\", \"processing\", \"programming\", \"programming\", \"programming\", \"propagation\", \"propagation\", \"propagation\", \"property\", \"property\", \"proximal\", \"q_learning\", \"quantization\", \"rademacher\", \"random\", \"random\", \"random\", \"ranking\", \"rate\", \"rate\", \"rate\", \"rate\", \"rate\", \"receptive\", \"recognition\", \"recognition\", \"recognition\", \"recognition\", \"recurrent\", \"recurrent\", \"recurrent\", \"recurrent\", \"reduction\", \"reflex\", \"regression\", \"regression\", \"regression\", \"regression\", \"regret\", \"regret\", \"reinforcement_learning\", \"reinforcement_learning\", \"reinforcement_learning\", \"representation\", \"representation\", \"representation\", \"representation\", \"representation\", \"restricted\", \"restricted\", \"retrieval\", \"retrieval\", \"riemannian\", \"risk\", \"risk\", \"risk\", \"robustness\", \"safe\", \"sampling\", \"sampling\", \"sampling\", \"scale\", \"scheme\", \"second\", \"segmentation\", \"segmentation\", \"segmentation\", \"segmentation\", \"selection\", \"selection\", \"selection\", \"selection\", \"semi_supervised\", \"separation\", \"shift\", \"short_term\", \"similarity\", \"similarity\", \"singularity\", \"sketching\", \"skill\", \"space\", \"space\", \"space\", \"sparse\", \"sparse\", \"sparse\", \"sparse\", \"spectral\", \"spectral\", \"spectral\", \"speech\", \"spiking\", \"spiking\", \"stochastic\", \"stochastic\", \"stochastic\", \"stochastic\", \"storage\", \"string\", \"structure\", \"structure\", \"structured\", \"structured\", \"structured\", \"structured\", \"submodular\", \"submodular\", \"summarization\", \"super_resolution\", \"support\", \"surrogate\", \"switching\", \"system\", \"system\", \"system\", \"system\", \"target\", \"technique\", \"tensor\", \"tensor\", \"thompson\", \"time_varying\", \"topic\", \"transfer\", \"transfer\", \"transformation\", \"tree_structured\", \"understanding\", \"understanding\", \"unknown\", \"unsupervised\", \"unsupervised\", \"unsupervised\", \"unsupervised\", \"unsupervised\", \"use\", \"user\", \"value\", \"value\", \"variable\", \"variable\", \"variance\", \"variance\", \"variance\", \"variational\", \"variational\", \"vector\", \"vestibulo_ocular\", \"video\", \"visual\", \"visual\", \"visual\", \"visual\", \"vlsi\", \"vlsi\", \"vlsi\", \"winner_take_all\", \"work\"]}, \"R\": 30, \"lambda.step\": 0.01, \"plot.opts\": {\"xlab\": \"PC1\", \"ylab\": \"PC2\"}, \"topic.order\": [2, 5, 1, 3, 4]};\n",
       "\n",
       "function LDAvis_load_lib(url, callback){\n",
       "  var s = document.createElement('script');\n",
       "  s.src = url;\n",
       "  s.async = true;\n",
       "  s.onreadystatechange = s.onload = callback;\n",
       "  s.onerror = function(){console.warn(\"failed to load library \" + url);};\n",
       "  document.getElementsByTagName(\"head\")[0].appendChild(s);\n",
       "}\n",
       "\n",
       "if(typeof(LDAvis) !== \"undefined\"){\n",
       "   // already loaded: just create the visualization\n",
       "   !function(LDAvis){\n",
       "       new LDAvis(\"#\" + \"ldavis_el5481403005355444004903816498\", ldavis_el5481403005355444004903816498_data);\n",
       "   }(LDAvis);\n",
       "}else if(typeof define === \"function\" && define.amd){\n",
       "   // require.js is available: use it to load d3/LDAvis\n",
       "   require.config({paths: {d3: \"https://cdnjs.cloudflare.com/ajax/libs/d3/3.5.5/d3.min\"}});\n",
       "   require([\"d3\"], function(d3){\n",
       "      window.d3 = d3;\n",
       "      LDAvis_load_lib(\"https://cdn.rawgit.com/bmabey/pyLDAvis/files/ldavis.v1.0.0.js\", function(){\n",
       "        new LDAvis(\"#\" + \"ldavis_el5481403005355444004903816498\", ldavis_el5481403005355444004903816498_data);\n",
       "      });\n",
       "    });\n",
       "}else{\n",
       "    // require.js not available: dynamically load d3 & LDAvis\n",
       "    LDAvis_load_lib(\"https://cdnjs.cloudflare.com/ajax/libs/d3/3.5.5/d3.min.js\", function(){\n",
       "         LDAvis_load_lib(\"https://cdn.rawgit.com/bmabey/pyLDAvis/files/ldavis.v1.0.0.js\", function(){\n",
       "                 new LDAvis(\"#\" + \"ldavis_el5481403005355444004903816498\", ldavis_el5481403005355444004903816498_data);\n",
       "            })\n",
       "         });\n",
       "}\n",
       "</script>"
      ],
      "text/plain": [
       "PreparedData(topic_coordinates=              x         y  topics  cluster       Freq\n",
       "topic                                                \n",
       "1      0.099815  0.097639       1        1  24.949247\n",
       "4     -0.116068 -0.147943       2        1  22.189399\n",
       "0      0.091318 -0.044416       3        1  21.490141\n",
       "2      0.076713 -0.037135       4        1  17.628163\n",
       "3     -0.151777  0.131855       5        1  13.743049, topic_info=                Term         Freq        Total Category  logprob  loglift\n",
       "3546  neural_network   365.000000   365.000000  Default  30.0000  30.0000\n",
       "2816        learning  1199.000000  1199.000000  Default  29.0000  29.0000\n",
       "3276           model   764.000000   764.000000  Default  28.0000  28.0000\n",
       "2492       inference   205.000000   205.000000  Default  27.0000  27.0000\n",
       "1236            data   234.000000   234.000000  Default  26.0000  26.0000\n",
       "...              ...          ...          ...      ...      ...      ...\n",
       "2876          linear    27.820878   139.720562   Topic5  -5.3244   0.3708\n",
       "4766        sampling    24.234063    85.568176   Topic5  -5.4625   0.7231\n",
       "3774          online    23.181874   135.494709   Topic5  -5.5069   0.2191\n",
       "822       clustering    23.212208   154.475127   Topic5  -5.5056   0.0893\n",
       "3186          method    23.112390   180.955294   Topic5  -5.5099  -0.0732\n",
       "\n",
       "[345 rows x 6 columns], token_table=      Topic      Freq             Term\n",
       "term                                  \n",
       "52        1  0.916613      abstraction\n",
       "54        2  0.974908      accelerated\n",
       "83        2  0.546714           active\n",
       "83        3  0.299391           active\n",
       "83        4  0.156204           active\n",
       "...     ...       ...              ...\n",
       "5880      2  0.826905             vlsi\n",
       "5880      3  0.037587             vlsi\n",
       "5880      5  0.131553             vlsi\n",
       "5950      2  0.938303  winner_take_all\n",
       "5967      5  0.934588             work\n",
       "\n",
       "[591 rows x 3 columns], R=30, lambda_step=0.01, plot_opts={'xlab': 'PC1', 'ylab': 'PC2'}, topic_order=[2, 5, 1, 3, 4])"
      ]
     },
     "execution_count": 40,
     "metadata": {},
     "output_type": "execute_result"
    }
   ],
   "source": [
    "import pyLDAvis\n",
    "import pyLDAvis.sklearn\n",
    "pyLDAvis.enable_notebook()\n",
    "\n",
    "pyLDAvis.sklearn.prepare(lda, X, vectorizer)"
   ]
  },
  {
   "cell_type": "code",
   "execution_count": 11,
   "metadata": {},
   "outputs": [],
   "source": [
    "papers.drop(['paper_text', 'abstract', 'pdf_name', 'event_type'], axis=1).to_csv('paper_titles_and_year.csv')\n"
   ]
  },
  {
   "cell_type": "code",
   "execution_count": null,
   "metadata": {},
   "outputs": [],
   "source": []
  }
 ],
 "metadata": {
  "kernelspec": {
   "display_name": "Python 3",
   "language": "python",
   "name": "python3"
  },
  "language_info": {
   "codemirror_mode": {
    "name": "ipython",
    "version": 3
   },
   "file_extension": ".py",
   "mimetype": "text/x-python",
   "name": "python",
   "nbconvert_exporter": "python",
   "pygments_lexer": "ipython3",
   "version": "3.7.6"
  }
 },
 "nbformat": 4,
 "nbformat_minor": 4
}
