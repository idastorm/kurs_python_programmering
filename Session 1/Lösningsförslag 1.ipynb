{
 "cells": [
  {
   "cell_type": "markdown",
   "metadata": {},
   "source": [
    "**Utmaning!**\n",
    "\n",
    "1. Spara din ålder som siffra i en variabel med samma namn som ditt förnamn.\n",
    "2. Spara din värdet av din åldersvariabel - 15 i en variabel vid namn *min_önskeålder*."
   ]
  },
  {
   "cell_type": "code",
   "execution_count": 1,
   "metadata": {},
   "outputs": [
    {
     "name": "stdout",
     "output_type": "stream",
     "text": [
      "10\n"
     ]
    }
   ],
   "source": [
    "victor = 25\n",
    "min_önskeålder = victor-15\n",
    "\n",
    "print(min_önskeålder)"
   ]
  },
  {
   "cell_type": "markdown",
   "metadata": {},
   "source": [
    "**Utmaning!**\n",
    "\n",
    "1. Beräkna logaritmen av 100 med hjälp av *math*-paketet.\n",
    "2. Beräkna logaritmen av 100 med hjälp av *numpy*-paketet"
   ]
  },
  {
   "cell_type": "markdown",
   "metadata": {},
   "source": [
    "**Lösning**\n",
    "\n",
    "\n",
    "Utnyttja de länkarna till paketen <a href=\"https://docs.python.org/3/library/math.html\">math</a> och <a href=\"https://numpy.org/doc/stable/\">numpy</a> vi visade under övningen eller googla efter \"python numpy logarithm\" eller \"python math logarithm\".\n",
    "\n",
    "Namnen på matematiska funktioner är ofta de samma som i skolan, i det har fallet *log*. Den skarpsinte vet att det finns olika logaritmer, men i det här fallet spelar det ingen roll."
   ]
  },
  {
   "cell_type": "code",
   "execution_count": 2,
   "metadata": {},
   "outputs": [
    {
     "name": "stdout",
     "output_type": "stream",
     "text": [
      "4.605170185988092\n",
      "4.605170185988092\n"
     ]
    }
   ],
   "source": [
    "# Importera paketen\n",
    "import numpy\n",
    "import math\n",
    "\n",
    "print(numpy.log(100))\n",
    "print(math.log(100))"
   ]
  },
  {
   "cell_type": "markdown",
   "metadata": {},
   "source": [
    "**Utmaning!**\n",
    "\n",
    "Skriv en funktion vid namn <code>hälsningsfunktion</code> som tar följande argument\n",
    "- <code>first_name</code> (ens förnamn som sträng)\n",
    "- <code>last_name</code> (ens efternamn som sträng)\n",
    "\n",
    "och skriver ut följande:\n",
    "\n",
    "``\n",
    "Mitt förnamn är \n",
    "<first_name>\n",
    "och mitt efternamn är \n",
    "<last_name>\n",
    "``"
   ]
  },
  {
   "cell_type": "markdown",
   "metadata": {},
   "source": [
    "**Lösning**\n",
    "\n",
    "I likhet med exemplet *vaddera text med hej* så ska vi skriva ut flera saker samtidigt. En funktion definierades\n",
    "\n",
    "```\n",
    "def vaddera_text_med_hej(x):\n",
    "    print(\"Hej\")\n",
    "    print(x)\n",
    "    print(\"Hej\")\n",
    "    \n",
    "vaddera_text_med_hej(\"Hallå\")\n",
    "```\n",
    "\n",
    "där ``def`` används före *funktionsnamnet*, ``(...)`` används för att beteckna argumenten, och ``:`` visar att funktionsdefinitionen börjar. Indenteringen är obligatorisk.\n",
    "\n",
    "Vi behöver inget ``return`` eftersom funktionen inte ska ge tillbaka ett värde som variabel, utan skriva något till skärmen."
   ]
  },
  {
   "cell_type": "code",
   "execution_count": 3,
   "metadata": {},
   "outputs": [],
   "source": [
    "def hälsningsfunktion(first_name, last_name):\n",
    "    print(\"Mitt förnamn är\")\n",
    "    print(first_name)\n",
    "    print(\"och mitt efternamn är\")\n",
    "    print(last_name)"
   ]
  },
  {
   "cell_type": "code",
   "execution_count": 4,
   "metadata": {},
   "outputs": [
    {
     "name": "stdout",
     "output_type": "stream",
     "text": [
      "Mitt förnamn är\n",
      "Victor\n",
      "och mitt efternamn är\n",
      "Wåhlstrand Skärström\n"
     ]
    }
   ],
   "source": [
    "hälsningsfunktion(\"Victor\", \"Wåhlstrand Skärström\")"
   ]
  },
  {
   "cell_type": "markdown",
   "metadata": {},
   "source": [
    "Observera följande saker: \n",
    "\n",
    "- Flera argument separeras med komma-tecken. \n",
    "- När vi matar in förnamn och efternamn till *hälsningfunktion* blir de *lokala variabler* i funktionen. Dessa kan vi modifiera eller skicka till *print* direkt.\n",
    "- Text skrivs med citationstecken."
   ]
  },
  {
   "cell_type": "code",
   "execution_count": null,
   "metadata": {},
   "outputs": [],
   "source": []
  }
 ],
 "metadata": {
  "kernelspec": {
   "display_name": "Python 3",
   "language": "python",
   "name": "python3"
  },
  "language_info": {
   "codemirror_mode": {
    "name": "ipython",
    "version": 3
   },
   "file_extension": ".py",
   "mimetype": "text/x-python",
   "name": "python",
   "nbconvert_exporter": "python",
   "pygments_lexer": "ipython3",
   "version": "3.7.6"
  }
 },
 "nbformat": 4,
 "nbformat_minor": 4
}
