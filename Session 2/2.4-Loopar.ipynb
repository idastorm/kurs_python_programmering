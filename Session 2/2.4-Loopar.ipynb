{
 "cells": [
  {
   "cell_type": "markdown",
   "metadata": {},
   "source": [
    "# Loopar\n",
    "Att upprepa kod kallas för att iterera. En upprepning kallas för en iteration eller en loop.\n",
    "Det finns olika strukturer i Python för iteration, for-satser och while-satser som använder nyckelorden ``for`` respektive ``while``.\n",
    "\n",
    "for-satser lämpar sig om du vet hur många gånger du vill iterera, till exempel om du vill gå igenom\n",
    "alla element i till exempel en lista. I while-satser itererar man tills ett villkor är uppfyllt, formulerat med hjälp av ett booleanskt uttryck: Ex.-vis ``while x<100...`` (forstätt iterera medan x är mindre än 100)."
   ]
  },
  {
   "cell_type": "markdown",
   "metadata": {},
   "source": [
    "## *for*-loopar\n",
    "\n",
    "Det lättaste sättet att förstå hur loopar fungerar är att se olika exempel. Nedan följer ett första exempel på en \n",
    "lista med namn på frukter. \n",
    "    \n",
    "<code>lista_med_frukt=['äpple', 'päron', 'apelsin']\n",
    "for frukt in lista_med_frukt:\n",
    "    print(frukt)</code>\n",
    "    \n",
    "Fundera på vad som kommer att hända när du själv provar att köra den här loopen i nästa cell. "
   ]
  },
  {
   "cell_type": "code",
   "execution_count": null,
   "metadata": {},
   "outputs": [],
   "source": []
  },
  {
   "cell_type": "markdown",
   "metadata": {},
   "source": [
    "Läser vi ut vad det är som händer i loopen är det \"för varje frukt i listan med frukt, skriv frukt\". \n",
    "Notera att följande kommer att ge precis samma resultat:\n",
    "    \n",
    "``\n",
    "for x in lista_med_frukt:\n",
    "    print(x)\n",
    "``\n",
    "    \n",
    "Det går också att loopa över en sträng. Fundera på vad följande loop kommer att göra, och prova genom att skriva loopen \n",
    "i nästa cell.\n",
    "\n",
    "\n",
    "``\n",
    "min_sträng='Det är soligt i malmö idag'\n",
    "for x in min_sträng:\n",
    "    print(x)\n",
    "``\n",
    "    \n",
    "    \n",
    "    "
   ]
  },
  {
   "cell_type": "code",
   "execution_count": null,
   "metadata": {},
   "outputs": [],
   "source": []
  },
  {
   "cell_type": "markdown",
   "metadata": {},
   "source": [
    "Notera att även mellanrummen skrivs ut. Vad som sker är:\n",
    "    \n",
    "<code>print('D')\n",
    "print('e')\n",
    "print('t')\n",
    "print(' ')\n",
    "print('ä')\n",
    "print('r')</code>\n",
    "\n",
    "och så vidare...\n",
    "\n",
    "Vi kan göra något med varje element i listan vi itererar igenom. I följande exemepl så skrivs det ut ett utropstecken\n",
    "efter varje karaktär. \n",
    "\n",
    "<code>for x in min_sträng:\n",
    "    print(x +'!')</code>\n",
    "\n",
    "Betyder det att min_sträng ('Det är soligt i Malmö idag') numera har utropstecken efter varje karaktär? \n",
    "Om du känner dig osäker kan du undersöka det i nästa cell. "
   ]
  },
  {
   "cell_type": "code",
   "execution_count": null,
   "metadata": {},
   "outputs": [],
   "source": []
  },
  {
   "cell_type": "markdown",
   "metadata": {},
   "source": [
    "För att börja fundera på mer användbara exempel på att använda loopar så kan vi tänka oss en lista med\n",
    "nummer, och att vi vill skapa en ny lista där varje nummer i listan har blivit uppdaterad på samma sätt:\n",
    "    \n",
    "<code>lista_med_nummer=[1,2,3,4]\n",
    "ny_lista_med_uppdaterade_nummer=[]\n",
    "for nummer in lista_med_nummer:\n",
    "    nytt_nummer=nummer*nummer\n",
    "    ny_lista_med_uppdaterade_nummer.append(nytt_nummer)</code>\n",
    "    \n",
    "Fundera på vad som händer i varje steg av loopen. Kör loopen i nästa cell och avsluta med att undersöka hur den \n",
    "nya listan ser ut (<code>print(ny_lista_med_uppdaterade_nummer)</code> efter loopen)\n",
    "\n",
    "    "
   ]
  },
  {
   "cell_type": "code",
   "execution_count": null,
   "metadata": {},
   "outputs": [],
   "source": []
  },
  {
   "cell_type": "markdown",
   "metadata": {},
   "source": [
    "Vad händer om du skriver <code>print(ny_lista_med_uppdaterade_nummer)</code> i loopen efter \n",
    "<code>ny_lista_med_uppdaterade_nummer.append(nytt_nummer)</code>? \n",
    "Testa i nästa cell och fundera på varför!"
   ]
  },
  {
   "cell_type": "code",
   "execution_count": null,
   "metadata": {},
   "outputs": [],
   "source": []
  },
  {
   "cell_type": "markdown",
   "metadata": {},
   "source": [
    "**Utmaning!**\n",
    "\n",
    "Du har blivit ombedd att räkna på hur mycket det skulle kosta Göteborgs Universitet att ge alla anställda \n",
    "anställda på LIR en bonus på 5% av sin månadslön. Du har fått en lista på alla löner (se nedan). \n",
    "Beräkna den totala månatliga kostnaden för denna ökning. \n",
    "\n",
    "Kör nästa cell för att skapa variablet \"löner\" som är en lista på alla löner som hämtas från en fil \n",
    "(se detaljer i kommentarerna). \n",
    "\n",
    "Är det svårt att lösa uppgiften kan du visa förslagsvis\n",
    "en ledtråd i taget genom att ta bort \"#\" framför till exempel \"Utmaning_löner.ledtråd1()\". För den som är snabb\n",
    "finns det även bonusfrågor i cellen med ledtrådarna. \n",
    "\n",
    "Känns det för svårt kan du gå tillbaka till de tidigare övningarna och försöka skriva fler egna varianter. "
   ]
  },
  {
   "cell_type": "code",
   "execution_count": 2,
   "metadata": {},
   "outputs": [
    {
     "name": "stdout",
     "output_type": "stream",
     "text": [
      "[44000, 25000, 51000, 33000, 47000, 25100, 57000, 31000, 41100, 42500, 27300, 29000, 31000, 45000, 50100]\n"
     ]
    }
   ],
   "source": [
    "from samples import löner\n",
    "print(löner)"
   ]
  },
  {
   "cell_type": "code",
   "execution_count": 3,
   "metadata": {},
   "outputs": [],
   "source": [
    "# \"ledtrådar\" är ytterligare en python fil som är uppladdad till JupyterHubben. \n",
    "# där finns det en \"class\" som heter Utmaning_löner som i sin tur har fuktionerna ledtråd1, ledtråd2, ledtråd3 och lösning\n",
    "from ledtrådar import Utmaning_löner\n",
    "\n",
    "# Ta bort \"#\" en i taget om det behövs.\n",
    "#Utmaning_löner.ledtråd1()\n",
    "#Utmaning_löner.ledtråd2()\n",
    "#Utmaning_löner.ledtråd3()\n",
    "\n",
    "# För lösning, ta bort den här kommentaren också (du måste fortfarande skriva av lösningen själv):\n",
    "# Utmaning_löner.lösning()\n",
    "\n",
    "\n",
    "# Bonusfrågor:\n",
    "# Vad är medellönen?\n",
    "\n",
    "\n",
    "# Vad är medianlönen?\n",
    "\n",
    "\n",
    "# Vad är lägsta lönen?\n",
    "\n",
    "\n",
    "# Vad är högsta lönen?\n",
    "\n",
    "# Vad är den totala kostnaden om endast de som tjänar över 40000 får 5% bonus?\n",
    "# Utmaning_löner.ledtråd4()"
   ]
  },
  {
   "cell_type": "markdown",
   "metadata": {},
   "source": [
    "## *while*-loopar\n",
    "\n",
    "I en while-loop håller alltså iterationen på så länge det boleanska uttrycket är sant (True).\n",
    "Här är ett exempel på en loop som håller på så länge x<10 (x är mindre än 10).\n",
    "\n",
    "<code>x=1\n",
    "while x&lt;10:\n",
    "    print(x)\n",
    "    x=x+1</code>\n",
    "    \n",
    "Notera att variablet i det boleakska uttrycket (x) måste ändras så att uttrycket efter ett antal iterationer blir falskt. \n",
    "I det här fallet läggs 1 till variablet (x=x+1) i varje loop. x har definierats innan loopen startar som x=1.\n",
    "\n",
    "Fundera på vad du kommer att hända när du kör loopen och vad variablet x kommer vara när loopen är färdig. Se om \n",
    "du hade rätt genom att testa i nästa cell."
   ]
  },
  {
   "cell_type": "code",
   "execution_count": null,
   "metadata": {},
   "outputs": [],
   "source": []
  },
  {
   "cell_type": "markdown",
   "metadata": {},
   "source": [
    "Varför är inte x==9?\n",
    "Iterationen kommer att köra nio gånger, sista gången när x==9. Det som sker när x==9 är:\n",
    "\n",
    "print(9)\n",
    "x=9+1\n",
    "\n",
    "Vad händer om du ändrar så att du lägger till 2 i varje iteration (x=x+2)? Prova i nästa cell! \n"
   ]
  },
  {
   "cell_type": "code",
   "execution_count": null,
   "metadata": {},
   "outputs": [],
   "source": []
  },
  {
   "cell_type": "markdown",
   "metadata": {},
   "source": [
    "Fundera på när du skulle kunna använda en while-loop. Om du har tid, experimentera i nästa cell! "
   ]
  },
  {
   "cell_type": "code",
   "execution_count": null,
   "metadata": {},
   "outputs": [],
   "source": []
  },
  {
   "cell_type": "markdown",
   "metadata": {},
   "source": [
    "## Att använda *if*-satser i loopar\n",
    "\n",
    "*if*-satser innebär att den delen av koden som kommer efter bara utförs om (*if*) det boleanska uttrycket stämmer \n",
    "är sant (True). \n",
    "\n",
    "När man till exempel itererar över en lista och man har en if-sats så kan det se ut såhär:\n",
    "\n",
    "<code>lista_med_namn=['Jens', 'Eva', 'Gustav', 'Vilma', 'Sonja', 'Karl']\n",
    "for namn in lista_med_namn:\n",
    "    if namn=='Gustav':\n",
    "        print('Gustav finns i listan!')</code>\n",
    "        \n",
    "Fundera på vad som kommer hända när man kör koden. Fundera också på vad som kommer hända om du bytt ut \n",
    "<code>if namn=='Gustav':</code> mot <code>if namn=='Julia':</code>\n",
    "        \n",
    "Testa i nästa cell och se om du har rätt!"
   ]
  },
  {
   "cell_type": "markdown",
   "metadata": {},
   "source": [
    "Vi kan också använda inbyggda funktioner i våra if-satser. Fundera på vad följande kod gör innan du provar i nästa cell:\n",
    "\n",
    "<code>for namn in lista_med_namn:\n",
    "    if len(namn)&gt;4:\n",
    "        print(namn)</code>"
   ]
  },
  {
   "cell_type": "code",
   "execution_count": null,
   "metadata": {},
   "outputs": [],
   "source": []
  },
  {
   "cell_type": "markdown",
   "metadata": {},
   "source": [
    "**Utmaning!**\n",
    "\n",
    "Barnnamn.net har rankat de 99 mest populära namnen på barn för killar respektiver tjejer för 2014.\n",
    "Vi är intresserade av följande:\n",
    "\n",
    "- Är något av killnamnen dubbelnamn? \n",
    "- I så fall, hur många? \n",
    "- Svara på samma gällande tjejnamnen. \n",
    "\n",
    "Det finns ledtrådar som du kan öppna en och en cellen två celler ner. \n",
    "\n",
    "Data importeras från samples i nästa cell. \n",
    "\n",
    "Bonusfrågor:\n",
    "    \n",
    "- Är de mest populära namnen på tjejerna längre än de mest populära namnen för killarna?\n",
    "\n",
    "Namnen är i ordningen mest populära till 99e mest populära.\n",
    "\n",
    "- Vilket var det mest populära kill-respektive tjejnamnet?\n",
    "\n"
   ]
  },
  {
   "cell_type": "code",
   "execution_count": 7,
   "metadata": {},
   "outputs": [],
   "source": [
    "from samples import mest_populära_killnamn_2014, mest_populära_tjejnamn_2014"
   ]
  },
  {
   "cell_type": "code",
   "execution_count": 8,
   "metadata": {},
   "outputs": [],
   "source": [
    "from ledtrådar import Utmaning_namn\n",
    "\n",
    "#Utmaning_namn.ledtråd1()\n",
    "#Utmaning_namn.ledtråd2()\n",
    "#Utmaning_namn.lösning()"
   ]
  }
 ],
 "metadata": {
  "kernelspec": {
   "display_name": "Python 3",
   "language": "python",
   "name": "python3"
  },
  "language_info": {
   "codemirror_mode": {
    "name": "ipython",
    "version": 3
   },
   "file_extension": ".py",
   "mimetype": "text/x-python",
   "name": "python",
   "nbconvert_exporter": "python",
   "pygments_lexer": "ipython3",
   "version": "3.7.6"
  }
 },
 "nbformat": 4,
 "nbformat_minor": 4
}
