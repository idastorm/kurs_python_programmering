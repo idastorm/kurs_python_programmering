{
 "cells": [
  {
   "cell_type": "markdown",
   "metadata": {},
   "source": [
    "<h1>Hej och välkomna till CDH:s kurs i Python-programmering i Jupyter Notebooks!</h1><br>\n",
    "Python är ett programmeringsspråk som kan användas för olika applikationer såsom analys och visualisering av data. Data kan betyda text(er) eller numerisk data av olika slag. <a href=https://jupyter.org/>Jupyter Notebooks</a> är ett alternativ för att läsa och utföra koden som vi har valt att använda eftersom går att blanda instruktioner (i ”markdown language”) med ”celler” med kod. Endast den kod du har i just cellen du ”kör” kommer att utföras. <br><br>\n",
    "Vi kommer börja på en nivå som inte kräver förkunskaper, men också visa på några av de möjligheter som finns efter man har lärt sig grunderna. Det finns mycket resurser online, och vi har samlat lite nyttiga länkar som ni kan följa beroende på intresse.  \n",
    "<br>\n",
    "<br>\n",
    "<a id='section0'></a>\n",
    "<h3>Innehåll</h3>\n",
    "    <ol>\n",
    "        <li>Introduktion</li>\n",
    "            <ol>\n",
    "                <li><a href='#section1'>Min första python kod och att hantera Jupyter</a></li><br>\n",
    "                <li><a href='#section2'>Lite enkel matte</a></li><br>\n",
    "                <li><a href='#section3'>Spara data i variabel</a></li><br>\n",
    "                <li><a href='#section4'>Inbygda funktioner och att importera bibliotek med fler funktioner</a></li><br>\n",
    "            </ol>\n",
    "        <li>Listor</li>\n",
    "            <ol>\n",
    "                <li><a href='#section5'>Att skapa listor med data</a></li><br>\n",
    "                <li><a href='#section6'>Att avända \"loops\"</a></li><br>\n",
    "                <li><a href='#section7'>Att använda \"if-statements\" i loops</a></li>\n",
    "            </ol><br>\n",
    "        <li>Data från filer</li>\n",
    "            <ol>\n",
    "                <li><a href='#section8'>Att använda data från Excel</a></li><br>\n",
    "                <li><a href='#section9'>Bar graph with average sensitivity to population, option to show an influence map for each station</a></li>\n",
    "            </ol><br>\n",
    "        <li>Point source emissions</li>\n",
    "             <ol>\n",
    "                 <li><a href='#section9'>Import point source emission data from NetCDF</a></li><br>\n",
    "                 <li><a href='#section10'>Bar graph with average shift in concentration due to these emissions, option to show an influence map for each station</a></li><br>\n",
    "                 <li><a href='#section11'>Line graph with contribution from individual facilities</a></li><br>\n",
    "       \n",
    "  "
   ]
  },
  {
   "cell_type": "code",
   "execution_count": 22,
   "metadata": {},
   "outputs": [],
   "source": [
    "# Det finns olika typer av data:\n",
    "#      Integer\n",
    "#      Float\n",
    "#      String (text)\n",
    "#      Boolean\n",
    "#      Built-in function\n",
    "#      Iterables and iterators\n",
    "#      Composite (sammansatta) data types (list, dictionary)\n",
    "\n",
    "\n",
    "# vad finns det för datatyper\n",
    "# heltal, float\n",
    "# strings\n",
    "# listor\n",
    "# skillnad mellan olika typer\n",
    "# varför det finns olika typer av variabel. \n",
    "# heltal - räknar saker med heltal. histogram - heltal. error. \n",
    "\n",
    "# spara på olika ställen\n",
    "# innan in i loopar\n",
    "# datatyper, variabel, funktioner, uttryck (ex loop) \n",
    "\n",
    "# läsa filer. skriva filer. open() close() with open... \n",
    "# exempel + text\n",
    "\n",
    "# hur fattar datorn vad den ska göra? --> andra tillfället"
   ]
  },
  {
   "cell_type": "markdown",
   "metadata": {},
   "source": [
    "\n",
    "<h3>Introduktion</h3>\n",
    "\n",
    "Syftet med den här kursen är inte att kursdeltagarna skall bli programmerare. Snarare är tanken att väcka intresse för programmering som ett verktyg (liksom Word, Excel och andra mjukvaror), samt skapa förståelse för vad utveckling av program innebär i praktiken.\n",
    "\n",
    "<h4>Vad är kod?</h4>\n",
    "Kod har många betydelser, och vanligtvis kallas inte programmering numer att <i>koda</i>. Koden i sig är språket som används för att representera skrift, bilder eller instruktion i kommunikation med datorer. \n",
    "\n",
    "<h4>Vad är programmering?</h4>\n",
    "Programmering är ett verktyg för att skriva instruktioner till datorer i kod. Programmeringen utgår från ett av flera <i> <a href='https://en.wikipedia.org/wiki/Programming_paradigm'>paradigm</a></i>; samt ett programmeringsspråk. I vårt fall skall vi använda programmeringsspråket Python som använder ett imperativt paradigm - det innebär i huvudsak att\n",
    "\n",
    "- Vi definierar ordningen på våra instruktioner\n",
    "- Endast en instruktion i taget tolkas av datorn.\n",
    "\n",
    "<h4>Hur programmerar man?</h4>\n",
    "När programmeraren skrivit sina instruktioner skickas det till program som tolkar det valda programspråket och omvandlar det till 1:or och 0:or (såkallad binärkod) för datorn att genomföra. Ett exempel på ett sådant program är <b>Jupyter Notebook</b>, en interaktiv IDE (<i>Interactive Development Environment</i>) för programmeringsspråket Python. I Jupyter skrivs instruktionerna i celler för att organisera koden.\n"
   ]
  },
  {
   "cell_type": "markdown",
   "metadata": {},
   "source": [
    "<a href='#section0' align='left'>Tillbaka till början</a>\n",
    "<a id='section1'></a>\n",
    "<h3>1 A. Min första kod och att hantera Jupyter</h3>\n",
    "\n",
    "Vi testar nu att skriva meddelanden till skärmen med den inbyggda instruktionen <code>print</code>. När instruktionen genomförts av datorn kommer ''Hello World!'' skrivas ut nedanför cellen.\n",
    "\n",
    "Markera cellen du vill köra genom att <b>klicka i den</b><br>\n",
    "Klicka sen på <b>run cell</b> i raden högst upp på sidan, alternativt tryck <b>Shift+Enter</b>.\n",
    "<img src=\"kör_cell.PNG\" width=\"500\" align=\"left\"/>\n",
    "\n"
   ]
  },
  {
   "cell_type": "code",
   "execution_count": 3,
   "metadata": {},
   "outputs": [
    {
     "name": "stdout",
     "output_type": "stream",
     "text": [
      "Hello World!\n"
     ]
    }
   ],
   "source": [
    "print(\"Hello World!\")"
   ]
  },
  {
   "cell_type": "markdown",
   "metadata": {},
   "source": [
    "Instruktionen <code>print</code> är en <i>funktion</i>, en samling underliggande instruktioner som förpackats till en ny instruktion med ett mer avancerat syfte. <code>print</code> tar ett <i>argument</i>; det vi önskar skriva ut på skärmen.\n",
    "\n",
    "<code>print</code> ställer vissa krav på argumentet. Det måste vara en så kallad sträng (eng. <i>string</i>), vilken används för att representera mänsklig text i kod. I Python betecknas strängar med citationstecken (ex.vis. \"sträng\") eller apostrofer (ex.vis. 'sträng')."
   ]
  },
  {
   "cell_type": "code",
   "execution_count": 8,
   "metadata": {},
   "outputs": [
    {
     "name": "stdout",
     "output_type": "stream",
     "text": [
      "Prova att köra den här cellen!\n"
     ]
    }
   ],
   "source": [
    "print('Prova att köra den här cellen!')\n",
    "\n",
    "# Det här är en kommentar och kommer inte att påverka resten av koden.\n",
    "# Du kan exekvera flera instruktioner i sekvens genom att skriva dem på en ny rad.\n",
    "# - Prova att använda print själv (ta bort # och skriv valfri text)\n",
    "\n",
    "#print('Skriv din text här')"
   ]
  },
  {
   "cell_type": "markdown",
   "metadata": {},
   "source": [
    "<p>Prova att skapa en helt ny cell efter den här cellen, skriv lite kod, och kör cellen.<br>\n",
    "<ol>\n",
    "    <li>Markera den här cellen genom att klicka i den</li>\n",
    "    <li>Klicka på <b>insert cell below (se bild nedan)</b></li>\n",
    "    <li>Skriv kod i den nya cellen</li>\n",
    "    <li>Se till att den nya cellen är markerad och klicka på <b>run cell</b></li>\n",
    "</ol>\n",
    "\n",
    "<img src=\"insert_cell.PNG\" width=\"500\" align=\"left\"/>"
   ]
  },
  {
   "cell_type": "markdown",
   "metadata": {},
   "source": [
    "Jupyter skrivet automatiskt ut resultatet från den sista raden i en cell. Resultatet från <code>print</code> skrivs alltid ut."
   ]
  },
  {
   "cell_type": "code",
   "execution_count": 11,
   "metadata": {},
   "outputs": [
    {
     "name": "stdout",
     "output_type": "stream",
     "text": [
      "Hello World!\n"
     ]
    },
    {
     "data": {
      "text/plain": [
       "'Tredje raden skrivs ut'"
      ]
     },
     "execution_count": 11,
     "metadata": {},
     "output_type": "execute_result"
    }
   ],
   "source": [
    "print(\"Hello World!\")\n",
    "\"Andra raden skrivs inte ut\"\n",
    "\"Tredje raden skrivs ut\""
   ]
  },
  {
   "cell_type": "markdown",
   "metadata": {},
   "source": [
    "<a href='#section0'>Tillbaka till början</a>\n",
    "<a id='section2'></a>\n",
    "<h3>1B. Lite enkel matte</h3>\n",
    "\n",
    "Vad många inte känner till är att programmering uppfanns för att automatisera tidskrävande matematiska beräkningar. Därför finns så kallade matematiska ''operatorer'' (räknesätt) inbyggda i de flesta programmeringsspråk. \n",
    "\n",
    "Observera att alla heltal skrivs utan landsformattering, exempelvis avskiljare för tusental. Man skriver alltså <code>10000</code> inte <code>10'000, 10 000, 10.000</code>.\n",
    "\n",
    "Decimaltal skrivs med decimalpunkt (ex.vis. <code>18.97</code> inte <code>18,97</code>), vilket är ISO-standard.\n",
    "\n",
    "Du kan genomföra enkla beräkningar direkt i en cell, då Jupyter alltid skriver sista radens resultat till skärmen. Vill du skriva ut fler beräkningar används lämpligtvis <code>print</code>."
   ]
  },
  {
   "cell_type": "code",
   "execution_count": 12,
   "metadata": {},
   "outputs": [
    {
     "data": {
      "text/plain": [
       "10018.97"
      ]
     },
     "execution_count": 12,
     "metadata": {},
     "output_type": "execute_result"
    }
   ],
   "source": [
    "18.97+10000"
   ]
  },
  {
   "cell_type": "code",
   "execution_count": 19,
   "metadata": {},
   "outputs": [
    {
     "name": "stdout",
     "output_type": "stream",
     "text": [
      "2\n",
      "-1\n",
      "2.5\n",
      "2\n",
      "10074\n",
      "1\n"
     ]
    }
   ],
   "source": [
    "print(1+1)\n",
    "\n",
    "print(1-2)\n",
    "\n",
    "print(5/2) # Division\n",
    "\n",
    "print(5//2) # Betecknar heltalsdivision\n",
    "\n",
    "print(146*69) # Multiplikation\n",
    "\n",
    "print(5 % 2) # Betecknar rest från division (så kallad modulus)\n",
    "\n",
    "#prova själv!"
   ]
  },
  {
   "cell_type": "markdown",
   "metadata": {},
   "source": [
    "<a href='#section0'>Tillbaka till början</a>\n",
    "<a id='section3'></a>\n",
    "<h3>1C. Spara data i variabel</h3>\n",
    "Det är ofta smidigt att kunna spara sina textsträngar eller beräkningar för senare användning. För detta syfte används <i>variabler</i>. Variabler tilldelas ett värde med hjälp av operatorn <code>=</code>, som skall läsas 'tilldelas värdet', absolut inte 'är lika med'.\n",
    "\n",
    "Variabelnamn skrivs med vanliga tecken, utan citationstecken, specialkaraktärer och mellanslag. Exempelvis kan vi sätta värdet på variabeln <code>a</code> genom att skriva <code>a=10</code>. Det är en förvirrande notation, men om vi vill testa om <code>a</code>:s värde är 10, skrivs <code>a==10</code>, vilket returnerar \"sant\".\n",
    "\n",
    "Variabler som tilldelats ett värde <b>behåller sitt värde mellan celler</b> tills de omdefinieras eller Jupyter startas om."
   ]
  },
  {
   "cell_type": "code",
   "execution_count": 23,
   "metadata": {},
   "outputs": [
    {
     "name": "stdout",
     "output_type": "stream",
     "text": [
      "Min första variabel: 2\n",
      "Min andra variabel: 12\n",
      "Min första variabel + min andra variabel: 14\n"
     ]
    }
   ],
   "source": [
    "# Tilldela ett värde till en variabel\n",
    "min_första_variabel = 2\n",
    "\n",
    "print('Min första variabel:', min_första_variabel)\n",
    "\n",
    "# Tilldela ett värde hämtat från en tidigare definierad variabel\n",
    "min_andra_variabel = min_första_variabel+10\n",
    "\n",
    "print('Min andra variabel:', min_andra_variabel)\n",
    "\n",
    "# Genomför beräkningar med variabler som om de vore tal.\n",
    "print('Min första variabel + min andra variabel:', (min_första_variabel + min_andra_variabel))\n"
   ]
  },
  {
   "cell_type": "code",
   "execution_count": 24,
   "metadata": {},
   "outputs": [
    {
     "name": "stdout",
     "output_type": "stream",
     "text": [
      "Fortfarande samma värde på min första variabel: 2\n"
     ]
    }
   ],
   "source": [
    "# De finns fortfarande kvar \"separat\":\n",
    "\n",
    "print('Fortfarande samma värde på min första variabel:', min_första_variabel)"
   ]
  },
  {
   "cell_type": "markdown",
   "metadata": {},
   "source": [
    "<p><b>KANSKE SKIPPA DEN TILL TILLFÄLLET MED DATATYPER? Mer om variabler</b><br>\n",
    "Ett variabel finns kvar tills du tar bort det, eller ersätter det med ett annat värde<br>\n",
    "Variabler av olika typ kan inte sättas ihop<br>\n",
    "<a href=\"https://www.guru99.com/variables-in-python.html\">Mer om variabel i Python</a></p>"
   ]
  },
  {
   "cell_type": "code",
   "execution_count": 4,
   "metadata": {},
   "outputs": [
    {
     "name": "stdout",
     "output_type": "stream",
     "text": [
      "Mina variabel från förra cellen finns kvar! Här är mitt första variabel: 2\n",
      "Mitt första variabel ersatt: Hej!\n",
      "Typ första variablet: <class 'str'>\n",
      "Typ andra variablet: <class 'int'>\n",
      "Hej!Jag kommer från Malmö.\n",
      "Mitt fjärde variabel: Hej! Jag kommer från Malmö.\n",
      "Första variablet finns fortfarande kvar: Hej!\n",
      "Tredej variablet finns fortfarande kvar: Jag kommer från Malmö.\n"
     ]
    }
   ],
   "source": [
    "print('Mina variabel från förra cellen finns kvar! Här är mitt första variabel:', mitt_första_variabel)\n",
    "\n",
    "\n",
    "#använder vi samma namn på variabel igen och sätter det lika med något annat är det tidigare värdet ersatt:\n",
    "mitt_första_variabel='Hej!'\n",
    "\n",
    "\n",
    "print('Mitt första variabel ersatt:', mitt_första_variabel)\n",
    "\n",
    "#nu är det första variablet fortfarande ett nummer, medan Hej! är text\n",
    "#att köra den här koden ger ett \"error\" (\"can only concatenate str (not \"int\") to str\")\n",
    "#kommentera (#) nästa rad för att kunna köra kode utan \"error\"\n",
    "#print('Mitt första variabel + mitt andra variabel:', (mitt_första_variabel + mitt_andra_variabel))\n",
    "\n",
    "print('Typ första variablet:', type(mitt_första_variabel))\n",
    "\n",
    "print('Typ andra variablet:', type(mitt_andra_variabel))\n",
    "\n",
    "mitt_tredje_variabel = 'Jag kommer från Malmö.'\n",
    "\n",
    "#första och tredje variablet är text och kan sättas ihop. \n",
    "#notera att de fortfarande är två separata variabel\n",
    "print(mitt_första_variabel + mitt_tredje_variabel)\n",
    "\n",
    "#men de kan sättas samman till ett variabel (jag har laggt till ett mellanrum också)!\n",
    "mitt_fjärde_variabel = mitt_första_variabel + ' ' + mitt_tredje_variabel\n",
    "\n",
    "print('Mitt fjärde variabel:', mitt_fjärde_variabel)\n",
    "\n",
    "#första och andra variablet finns fortfarande kvar:\n",
    "print('Första variablet finns fortfarande kvar:', mitt_första_variabel)\n",
    "\n",
    "print('Tredej variablet finns fortfarande kvar:', mitt_tredje_variabel)"
   ]
  },
  {
   "cell_type": "markdown",
   "metadata": {},
   "source": [
    "<a href='#section0'>Tillbaka till början</a>\n",
    "<a id='section4'></a>\n",
    "<h3>1D. Inbyggda funktioner och att importera bibliotek med fler funktioner</h3>\n",
    "\n",
    "Hittills har vi använt väldigt begränsad funktionalitet hos programmeringsspråket. Nyckeln till programmeringens framgång är att den är utbyggbar. Det finns så kallade bibliotek eller paket med utökad funktionalitet för språket. Python har ett standardbibliotek vars funktioner alltid är tillgängliga. Ett exempel på en funktion därifrån är <code>print</code> som vi redan använt.\n",
    "\n",
    "<a href=\"https://docs.python.org/3/library/functions.html\">Här</a> finns en lista med fler inbyggda funktioner. Många är mer avancerade och används på till exempel listor som vi kommer till senare. \n",
    "\n",
    "Den inbyggda funktionen <code>round</code> tar ett decimaltal som argument och avrundar det till närmsta heltal. <code>round</code> tar också ett valfritt, namngivet argument; <code>ndigits</code> som istället styr hur många decimaler vi vill avrunda till. Man kallar då på funktionen genom att skriva <code>round(14.71, ndigits=1)</code> vilket returnerar talet avrundat med en decimal, nämligen 14.7.\n",
    "\n",
    "<!--<p>Utan att göra något så finns det flera funktioner som du kan använda när du skriver din kod. Vi har redan använt \"type()\", \"print\" och enkla matematiska funktioner<br>-->\n"
   ]
  },
  {
   "cell_type": "code",
   "execution_count": 26,
   "metadata": {},
   "outputs": [
    {
     "name": "stdout",
     "output_type": "stream",
     "text": [
      "13\n",
      "Avrundning med två decimaler: 12.9\n",
      "Avrundning med två decimaler, utan namngivning i rätt ordning: 12.9\n"
     ]
    },
    {
     "ename": "TypeError",
     "evalue": "'float' object cannot be interpreted as an integer",
     "output_type": "error",
     "traceback": [
      "\u001b[0;31m---------------------------------------------------------------------------\u001b[0m",
      "\u001b[0;31mTypeError\u001b[0m                                 Traceback (most recent call last)",
      "\u001b[0;32m<ipython-input-26-e9c1d1091ce4>\u001b[0m in \u001b[0;36m<module>\u001b[0;34m\u001b[0m\n\u001b[1;32m     15\u001b[0m \u001b[0;34m\u001b[0m\u001b[0m\n\u001b[1;32m     16\u001b[0m \u001b[0;31m# Man kan dock INTE ändra ordningen utan att namnge dem. Programmeringsspråket kan inte läsa tankar.\u001b[0m\u001b[0;34m\u001b[0m\u001b[0;34m\u001b[0m\u001b[0;34m\u001b[0m\u001b[0m\n\u001b[0;32m---> 17\u001b[0;31m \u001b[0mprint\u001b[0m\u001b[0;34m(\u001b[0m\u001b[0;34m'Avrundning med två decimaler, utan namngivning i fel ordning:'\u001b[0m\u001b[0;34m,\u001b[0m \u001b[0mround\u001b[0m\u001b[0;34m(\u001b[0m\u001b[0;36m2\u001b[0m\u001b[0;34m,\u001b[0m \u001b[0ma\u001b[0m\u001b[0;34m)\u001b[0m\u001b[0;34m)\u001b[0m\u001b[0;34m\u001b[0m\u001b[0;34m\u001b[0m\u001b[0m\n\u001b[0m\u001b[1;32m     18\u001b[0m \u001b[0;34m\u001b[0m\u001b[0m\n\u001b[1;32m     19\u001b[0m \u001b[0;34m\u001b[0m\u001b[0m\n",
      "\u001b[0;31mTypeError\u001b[0m: 'float' object cannot be interpreted as an integer"
     ]
    }
   ],
   "source": [
    "# Tilldela variabeln a värdet 12.896\n",
    "a = 12.896\n",
    "\n",
    "# Avrunda talet\n",
    "b = round(a)\n",
    "\n",
    "# Skriv ut resultatet\n",
    "print(b)\n",
    "\n",
    "# Funktionen tar också ett valfritt argument (ndigits) - se dokumentationen\n",
    "print('Avrundning med två decimaler:', round(a, ndigits=2))\n",
    "\n",
    "# Man kan även skriva argumenten utan att namnge dem, givet att de skrivs i rätt ordning\n",
    "print('Avrundning med två decimaler, utan namngivning i rätt ordning:', round(a, 2))\n",
    "\n",
    "# Man kan dock INTE ändra ordningen utan att namnge dem. Programmeringsspråket kan inte läsa tankar.\n",
    "print('Avrundning med två decimaler, utan namngivning i fel ordning:', round(2, a))\n",
    "\n",
    "\n",
    "#vad händer om du avrundar till fyra decimaler?"
   ]
  },
  {
   "cell_type": "markdown",
   "metadata": {},
   "source": [
    "Det sista fallet returnerar ett fel (\"TypeError\"). I detta fallet måste andra argumentet (<code>ndigits</code>) vara ett heltal, vilket Python detekterar att det inte är."
   ]
  },
  {
   "cell_type": "markdown",
   "metadata": {},
   "source": [
    "<h4>Importera funktioner</h4>\n",
    "De flesta funktioner finns inte i standardbiblioteket hos Python. Istället får man importera externa bibliotek, eller moduler.\n",
    "\n",
    "Exempel: Modulerna <b>math</b> och <b>numpy</b> med flera matematiska funktioner.\n",
    "\n",
    "Läs mer om de olika funktionerna man kan använda när man har importerat math <a href=\"https://docs.python.org/3/library/math.html\">här</a>.\n",
    "\n",
    "Läs mer om de olika funktionerna man kan använda när man har importerat numpy <a href=\"https://numpy.org/doc/stable/\">här</a>.\n",
    "\n",
    "Vi kommer importera och använda fler moduler vid ett senare tillfälle. För mer förståelse om vad en modul är läs <a href=\"https://docs.python.org/3/tutorial/modules.html\">här</a>.\n",
    "\n"
   ]
  },
  {
   "cell_type": "code",
   "execution_count": 28,
   "metadata": {},
   "outputs": [
    {
     "name": "stdout",
     "output_type": "stream",
     "text": [
      "2.0\n",
      "2.0\n",
      "2.0\n",
      "2.0\n"
     ]
    }
   ],
   "source": [
    "# \"math\" är en modul med många olika fuktioner - \"math.sqrt()\" räknar ut kvadratroten av ett tal\n",
    "# print(math.sqrt(4))\n",
    "\n",
    "# Men modulen måste importeras först (error \"name 'math' is not defined\" annars).\n",
    "# Kommentera \"print(math.sqrt(4)\" och prova igen)\n",
    "import math\n",
    "\n",
    "print(math.sqrt(4))\n",
    "\n",
    "#är det långa namn så kan man importera modulen \"math\" och kalla den \"m\" istället: \n",
    "import math as m\n",
    "\n",
    "print(m.sqrt(4))\n",
    "\n",
    "# Detta är även smidigt om det finns flera moduler med samma namn på flera funktioner.\n",
    "# Ett vanligt paket för beräkningar är numpy\n",
    "import numpy as np\n",
    "\n",
    "print(np.sqrt(4))\n",
    "\n",
    "# Vi har även importerat \"math\" som det är - så det fungerar fortfarande att skriva math.sqrt\n",
    "print(math.sqrt(4))\n"
   ]
  },
  {
   "cell_type": "markdown",
   "metadata": {},
   "source": [
    "<a href='#section0'>Tillbaka till början</a>\n",
    "<a id='section5'></a>\n",
    "<h3>2A. Att skapa listor med data</h3>"
   ]
  },
  {
   "cell_type": "markdown",
   "metadata": {},
   "source": [
    "I <a href=\"https://docs.python.org/3/library/functions.html\">dokumentationen över inbyggda funktioner</a> finns flera funktioner som inte har så spännade effekt på variabler med endast ett värde. Dessa inkluderar\n",
    "    \n",
    "- <code>sum(x: list)</code>: Beräknar summan av flera numeriska värden\n",
    "- <code>min(x: list)</code>: Beräknar minsta värdet av flera numeriska värden\n",
    "\n",
    "Dessa tar ett argument <code>x</code> som är av typen ''list'' eller ''lista''. I Python är en lista samling helt godtyckliga värden som skrivs inom hakparenteser, <code>[]</code>.\n",
    "\n",
    "Exempelvis\n",
    "\n",
    "``\n",
    "x = 65\n",
    "[1, 2, \"ost\", 47.18, x]\n",
    "``\n",
    "\n",
    "Vi kan beräkna längden (antalet element) av listan med den inbyggda funktionen <code>len</code>."
   ]
  },
  {
   "cell_type": "code",
   "execution_count": 33,
   "metadata": {},
   "outputs": [
    {
     "name": "stdout",
     "output_type": "stream",
     "text": [
      "5\n"
     ]
    }
   ],
   "source": [
    "x = 65\n",
    "lista = [1, \"ost\", 2, 47.18, x]\n",
    "\n",
    "print(len(lista))"
   ]
  },
  {
   "cell_type": "markdown",
   "metadata": {},
   "source": [
    "Listor kan till och med innehålla andra listor. Dessa räknas dock som endast ett element."
   ]
  },
  {
   "cell_type": "code",
   "execution_count": 38,
   "metadata": {},
   "outputs": [
    {
     "name": "stdout",
     "output_type": "stream",
     "text": [
      "6\n"
     ]
    }
   ],
   "source": [
    "x = 65\n",
    "lista = [1, \"ost\", 2, 47.18, x, [\"värde i inre listan\", 780, x]]\n",
    "\n",
    "print(len(lista))"
   ]
  },
  {
   "cell_type": "markdown",
   "metadata": {},
   "source": [
    "Vissa funktioner ställer krav på att listor endast innehåller värden av en viss typ. <code>sum</code> och <code>min</code> vill exempelvis helst ha listor med endast siffror, av naturliga skäl"
   ]
  },
  {
   "cell_type": "code",
   "execution_count": 31,
   "metadata": {},
   "outputs": [
    {
     "name": "stdout",
     "output_type": "stream",
     "text": [
      "Summa:  15\n",
      "Minimum:  1\n"
     ]
    }
   ],
   "source": [
    "numerisk_lista = [1, 2, 3, 4, 5]\n",
    "\n",
    "summan_av_listan = sum(numerisk_lista)\n",
    "minsta_värdet_i_listan = min(numerisk_lista)\n",
    "\n",
    "print(\"Summa: \", summan_av_listan)\n",
    "print(\"Minimum: \", minsta_värdet_i_listan)"
   ]
  },
  {
   "cell_type": "markdown",
   "metadata": {},
   "source": [
    "<h4>Manipulera listor</h4>\n",
    "\n",
    "Listor tillhör en mer komplicerad typ av objekt och har egna inbyggda funktioner. Exempelvis vill man kunna hämta värden på en viss plats i en lista. Detta kallas indexering, och givet en lista\n",
    "\n",
    "``\n",
    "lista = [1, \"ost\", 2, 47.18, x, [\"värde i inre listan\", 780, x]]\n",
    "``\n",
    "\n",
    "så hämtas första elementet med <code>lista[0]</code>, vilket returnerar värdet 1. Andra elementet <code>lista[1]</code> ger \"ost\" och så vidare. Pröva själv nedan! "
   ]
  },
  {
   "cell_type": "code",
   "execution_count": 39,
   "metadata": {},
   "outputs": [
    {
     "data": {
      "text/plain": [
       "['värde i inre listan', 780, 65]"
      ]
     },
     "execution_count": 39,
     "metadata": {},
     "output_type": "execute_result"
    }
   ],
   "source": [
    "lista[5]"
   ]
  },
  {
   "cell_type": "markdown",
   "metadata": {},
   "source": [
    "Observera att indexering sker med en offset. Första elemtentet är inte <code>lista[1]</code> utan <code>lista[0]</code>. Detta är konvention, och något man får vänja sig vid. Index för sista elementet är alltså <code>sista_index = 1-len(list)</code>. Om du väljer ett index utanför <code>[0, 1, 2, 3, 4, 5]</code> i vårt fall, får du ett \"IndexError\".\n",
    "\n",
    "En smidig notation hos python är att sista elementet också kan erhålla sista elementet med negativa index:"
   ]
  },
  {
   "cell_type": "code",
   "execution_count": 42,
   "metadata": {},
   "outputs": [
    {
     "data": {
      "text/plain": [
       "['värde i inre listan', 780, 65]"
      ]
     },
     "execution_count": 42,
     "metadata": {},
     "output_type": "execute_result"
    }
   ],
   "source": [
    "lista[-1]"
   ]
  },
  {
   "cell_type": "code",
   "execution_count": 45,
   "metadata": {},
   "outputs": [
    {
     "name": "stdout",
     "output_type": "stream",
     "text": [
      "[1, 2, 3, 4, 5]\n",
      "['Ida', 'Jonas', 'Johan', 'Jonathan', 'Kalle', 'Åsa', 'Stina']\n",
      "exempel index 0:  Ida\n",
      "exempel index 1:  Jonas\n",
      "exempel index -1:  Stina\n",
      "exempel index -2:  Åsa\n",
      "Den uppdaterade listan med Ida ersatt med Vilma:  ['Vilma', 'Jonas', 'Johan', 'Jonathan', 'Kalle', 'Åsa', 'Stina']\n"
     ]
    }
   ],
   "source": [
    "en_lista=[1,2,3,4,5]\n",
    "\n",
    "print(en_lista)\n",
    "\n",
    "en_lista_med_text=['Ida', 'Jonas', 'Johan', 'Jonathan', 'Kalle', 'Åsa', 'Stina']\n",
    "\n",
    "print(en_lista_med_text)\n",
    "\n",
    "#man använder \"index\" för att komma åt den data man vill ha\n",
    "#det första objektet är på index 0\n",
    "print('exempel index 0: ', en_lista_med_text[0])\n",
    "print('exempel index 1: ', en_lista_med_text[1])\n",
    "\n",
    "#vill man ha det sista objektet kan man använda -1 som index\n",
    "print('exempel index -1: ', en_lista_med_text[-1])\n",
    "print('exempel index -2: ', en_lista_med_text[-2])\n",
    "\n",
    "#man kan också använda index för att ersätta det befintliga objektet med annan data.\n",
    "#i exemplet nedan vill jag ersätta Ida med Vilma:\n",
    "\n",
    "en_lista_med_text[0]='Vilma'\n",
    "\n",
    "print('Den uppdaterade listan med Ida ersatt med Vilma: ', en_lista_med_text)\n"
   ]
  },
  {
   "cell_type": "markdown",
   "metadata": {},
   "source": [
    "<h4>Inbyggda funktioner hos listor</h4>\n",
    "Vissa objekt har inbyggda funktioner. Listor har exempelvis <a href=\"https://docs.python.org/2/tutorial/datastructures.html\">följande funktionalitet</a>:\n",
    "\n",
    "- <code>append(x)</code>: Lägg till ett element <code>x</code> sist i listan\n",
    "- <code>insert(i, x)</code>: Lägg till ett element <code>x</code> vid index <code>i</code> i listan. Observera att detta ändrar index ordningen på påföljande element\n",
    "- <code>pop()</code>: Ta bort sista elementet i listan\n",
    "\n",
    "Man kallar på funktionerna genom punktnotation, exempelvis\n",
    "``\n",
    "lista.append(\"konst\")\n",
    "``\n",
    "lägger till en sträng \"konst\" sist i listan \"lista\"."
   ]
  },
  {
   "cell_type": "code",
   "execution_count": 46,
   "metadata": {},
   "outputs": [
    {
     "name": "stdout",
     "output_type": "stream",
     "text": [
      "Den uppdaterade listan med Axel tillagt först i listan (index 0):  ['Axel', 'Vilma', 'Jonas', 'Johan', 'Jonathan', 'Kalle', 'Åsa', 'Stina']\n",
      "Den uppdaterade lista med Sture tillagd:  ['Axel', 'Vilma', 'Jonas', 'Johan', 'Jonathan', 'Kalle', 'Åsa', 'Stina', 'Sture']\n",
      "Den uppdaterade lista med Sture borttagen igen:  ['Axel', 'Vilma', 'Jonas', 'Johan', 'Jonathan', 'Kalle', 'Åsa', 'Stina']\n"
     ]
    }
   ],
   "source": [
    "#man kan också använda index tillsammans med \"insert\" för att lägga till ett objekt på en specifik plats i listan:\n",
    "en_lista_med_text.insert(0, 'Axel')\n",
    "\n",
    "print('Den uppdaterade listan med Axel tillagt först i listan (index 0): ', en_lista_med_text)\n",
    "\n",
    "#för att lägga till ett namn, använd den inbyggda funktionen \"append()\":\n",
    "en_lista_med_text.append('Sture')\n",
    "\n",
    "print('Den uppdaterade lista med Sture tillagd: ', en_lista_med_text)\n",
    "\n",
    "# Vi kan ta bort Sture igen, som lades till sist\n",
    "en_lista_med_text.pop()\n",
    "\n",
    "print('Den uppdaterade lista med Sture borttagen igen: ', en_lista_med_text)\n"
   ]
  },
  {
   "cell_type": "markdown",
   "metadata": {},
   "source": [
    "<p>Listorna som skapades i förra cellen (den sista versionen av dem) finns kvar för användning i andra celler<br>\n",
    "Gör övningarna i nästa cell för att öva på listorna! </p>"
   ]
  },
  {
   "cell_type": "markdown",
   "metadata": {},
   "source": [
    "#### Utmaning!\n",
    "\n",
    "Gör följande övningar på listan *en_lista_med_text*:\n",
    "\n",
    "1. Prova att ersätta Johan med valfritt namn (kom ihåg att använda det index Johan är på i den senast uppdaterade listan):\n",
    "2. Skapa en egen lista där du provar att mixa text och nummer. \n",
    "3. Hur tar man bort ett objekt i din nya lista? Prova att göra en sökning för att hitta svaret! "
   ]
  },
  {
   "cell_type": "code",
   "execution_count": 6,
   "metadata": {},
   "outputs": [],
   "source": [
    "# 1. Ta bort Johan från listan\n",
    "\n",
    "# 2. Skapa ny lista med både text och nummer\n",
    "\n",
    "# 3. Ta bort ett objekt i din lista"
   ]
  },
  {
   "cell_type": "markdown",
   "metadata": {},
   "source": [
    "<a href='#section0'>Tillbaka till början</a>\n",
    "<a id='section6'></a>\n",
    "<h3>2B. Att använda loopar</h3>\n",
    "\n",
    "Om vi vill tillämpa samma instruktion flera gånger är det ofta repititivt eller omöjligt att skriva ut det själv varje gång. Om man ska något göra en gång för varje objekt i en lista så är det en god idé att använda en loop. (eller ibland på svenska, \"snurra\").\n",
    "\n",
    "\n",
    "Det finns olika typer av loopar och här fokuserar vi på något som kallas \"for-loop\"\n",
    "Läs mer om denna typ av loop <a href=\"https://www.w3schools.com/python/python_for_loops.asp\">här</a>.\n",
    "\n",
    "En loop i Python går igenom alla element i en lista enskilt tills dess att listan är slut. För att printa alla element i listan brukar man skriva\n",
    "\n",
    "``\n",
    "for x in lista:\n",
    "    print(x)\n",
    "``\n",
    "\n",
    "Detta är ekvivalent med att skriva\n",
    "\n",
    "\n",
    "``\n",
    "x = lista[0]\n",
    "print(x)\n",
    "x = lista[1]\n",
    "print(x)\n",
    ".\n",
    ".\n",
    ".\n",
    "``\n",
    "\n",
    "Där <code>x</code> är en temporär variabel som bara existerar inuti loopen. Observera att indenteringen (tryck <b>Tab</b>) är obligatorisk. Om du missar den kommer du få ett \"IndentationError\"."
   ]
  },
  {
   "cell_type": "code",
   "execution_count": 49,
   "metadata": {},
   "outputs": [
    {
     "name": "stdout",
     "output_type": "stream",
     "text": [
      "Axel\n",
      "Vilma\n",
      "Jonas\n",
      "Johan\n",
      "Jonathan\n",
      "Kalle\n",
      "Åsa\n",
      "Stina\n",
      "Det här ger samma resultat:\n",
      "Axel\n",
      "Vilma\n",
      "Jonas\n",
      "Johan\n",
      "Jonathan\n",
      "Kalle\n",
      "Åsa\n",
      "Stina\n"
     ]
    }
   ],
   "source": [
    "# För varje namn (name - skulle kunna kalla det vad som helst) i en_lista_med_text:\n",
    "# print(name)\n",
    "for name in en_lista_med_text:\n",
    "    print(name)\n",
    "    \n",
    "print('Det här ger samma resultat:')\n",
    "\n",
    "for vad_som_helst in en_lista_med_text:\n",
    "    print(vad_som_helst)\n"
   ]
  },
  {
   "cell_type": "code",
   "execution_count": 51,
   "metadata": {},
   "outputs": [
    {
     "name": "stdout",
     "output_type": "stream",
     "text": [
      "en_lista:  [1, 2, 3, 4, 5]\n",
      "loop_lista:  [1, 4, 9, 16, 25]\n"
     ]
    }
   ],
   "source": [
    "#skapa en tom lista\n",
    "kvadrat_lista=[]\n",
    "\n",
    "# För varje tal i \"en_lista\" som definierades tidigare som (1, 2, 3, 4, 5)\n",
    "# skapa en ny variabel (ny_variabel = tal*tal)\n",
    "# lägg till ny_variabel till den tomma listan\n",
    "for tal in en_lista:\n",
    "    \n",
    "    ny_variabel = tal*tal\n",
    "    \n",
    "    kvadrat_lista.append(ny_variabel)\n",
    "    \n",
    "print('en_lista: ', en_lista)\n",
    "\n",
    "print('loop_lista: ', kvadrat_lista)"
   ]
  },
  {
   "cell_type": "code",
   "execution_count": null,
   "metadata": {},
   "outputs": [],
   "source": [
    "#skapa en egen lista och skriv en for-loop som skriver namnen (precis som i förra cellen)\n",
    "#för ökada svårighet: skriv både namnet och antalet karaktärer i namnet\n",
    "\n",
    " \n",
    "\n"
   ]
  },
  {
   "cell_type": "markdown",
   "metadata": {},
   "source": [
    "#### Utmaning!\n",
    "Genom indexering av listan *boye*, besvara följande:\n",
    "\n",
    "1. Vilket är det första ordet?\n",
    "2. Vilket är det andra ordet?\n",
    "3. Vilket är det sista ordet?\n",
    "4. Vilket är det näst sista ordet?"
   ]
  },
  {
   "cell_type": "code",
   "execution_count": 5,
   "metadata": {},
   "outputs": [],
   "source": [
    "from samples import boye\n",
    "\n",
    "print(boye)\n",
    "\n",
    "# Vad är det första ordet?\n",
    "\n",
    "\n",
    "# Vad är det andra ordet?\n",
    "\n",
    "\n",
    "# Vad är det sista ordet?\n",
    "\n",
    "\n",
    "# Vad är det näst sista ordet?"
   ]
  },
  {
   "cell_type": "markdown",
   "metadata": {},
   "source": [
    "#### Utmaning\n",
    "Du har blivit ombedd att räkna på hur mycket det skulle kosta Göteborgs Universitet att ge alla anställda anställda på LIR en bonus på 5% av sin månadslön. Du har fått en lista på alla löner (se nedan).<br>\n",
    "Ta bort kommentarerna och kör koden igen om ledtrådar skulle behövas. I ordning och en i taget rekommenderas. <br><br>\n",
    "Ledtrådarna finns i en modul med funktioner som jag har skapat som måste importeras först (import ledtrådar_upd)\n"
   ]
  },
  {
   "cell_type": "code",
   "execution_count": 4,
   "metadata": {},
   "outputs": [
    {
     "name": "stdout",
     "output_type": "stream",
     "text": [
      "[44000, 25000, 51000, 33000, 47000, 25100, 57000, 31000, 41100, 42500, 27300, 29000, 31000, 45000, 50100]\n"
     ]
    }
   ],
   "source": [
    "from samples import löner\n",
    "import ledtrådar_upd\n",
    "#ledtrådar_upd.ledtråd1()\n",
    "#ledtrådar_upd.ledtråd2()\n",
    "#ledtrådar_upd.ledtråd3()\n",
    "\n",
    "#för lösning, ta bort den här kommentaren också (du måste fortfarande skriva av lösningen själv):\n",
    "#ledtrådar_upd.lösning1()\n",
    "\n",
    "\n",
    "print(löner)\n",
    "\n",
    "#bonusfrågor:\n",
    "#vad är medellönen?\n",
    "\n",
    "\n",
    "#vad är medianlönen?\n",
    "\n",
    "\n",
    "#vad är lägsta lönen?\n",
    "\n",
    "\n",
    "#vad är högsta lönen?\n",
    "\n",
    "\n",
    "#vad är den totala kostnaden om endast de som tjänar över 40000 får 5% bonus?\n",
    "#ledtrådar_upd.ledtråd4()"
   ]
  },
  {
   "cell_type": "markdown",
   "metadata": {},
   "source": [
    "<a href='#section0'>Tillbaka till början</a>\n",
    "<a id='section9'></a>\n",
    "<h3>Exempel topic modelling</h3>"
   ]
  },
  {
   "cell_type": "code",
   "execution_count": 3,
   "metadata": {},
   "outputs": [
    {
     "data": {
      "text/html": [
       "<div>\n",
       "<style scoped>\n",
       "    .dataframe tbody tr th:only-of-type {\n",
       "        vertical-align: middle;\n",
       "    }\n",
       "\n",
       "    .dataframe tbody tr th {\n",
       "        vertical-align: top;\n",
       "    }\n",
       "\n",
       "    .dataframe thead th {\n",
       "        text-align: right;\n",
       "    }\n",
       "</style>\n",
       "<table border=\"1\" class=\"dataframe\">\n",
       "  <thead>\n",
       "    <tr style=\"text-align: right;\">\n",
       "      <th></th>\n",
       "      <th>id</th>\n",
       "      <th>year</th>\n",
       "      <th>title</th>\n",
       "      <th>event_type</th>\n",
       "      <th>pdf_name</th>\n",
       "      <th>abstract</th>\n",
       "      <th>paper_text</th>\n",
       "    </tr>\n",
       "  </thead>\n",
       "  <tbody>\n",
       "    <tr>\n",
       "      <th>0</th>\n",
       "      <td>1</td>\n",
       "      <td>1987</td>\n",
       "      <td>Self-Organization of Associative Database and ...</td>\n",
       "      <td>NaN</td>\n",
       "      <td>1-self-organization-of-associative-database-an...</td>\n",
       "      <td>Abstract Missing</td>\n",
       "      <td>767\\n\\nSELF-ORGANIZATION OF ASSOCIATIVE DATABA...</td>\n",
       "    </tr>\n",
       "    <tr>\n",
       "      <th>1</th>\n",
       "      <td>10</td>\n",
       "      <td>1987</td>\n",
       "      <td>A Mean Field Theory of Layer IV of Visual Cort...</td>\n",
       "      <td>NaN</td>\n",
       "      <td>10-a-mean-field-theory-of-layer-iv-of-visual-c...</td>\n",
       "      <td>Abstract Missing</td>\n",
       "      <td>683\\n\\nA MEAN FIELD THEORY OF LAYER IV OF VISU...</td>\n",
       "    </tr>\n",
       "    <tr>\n",
       "      <th>2</th>\n",
       "      <td>100</td>\n",
       "      <td>1988</td>\n",
       "      <td>Storing Covariance by the Associative Long-Ter...</td>\n",
       "      <td>NaN</td>\n",
       "      <td>100-storing-covariance-by-the-associative-long...</td>\n",
       "      <td>Abstract Missing</td>\n",
       "      <td>394\\n\\nSTORING COVARIANCE BY THE ASSOCIATIVE\\n...</td>\n",
       "    </tr>\n",
       "    <tr>\n",
       "      <th>3</th>\n",
       "      <td>1000</td>\n",
       "      <td>1994</td>\n",
       "      <td>Bayesian Query Construction for Neural Network...</td>\n",
       "      <td>NaN</td>\n",
       "      <td>1000-bayesian-query-construction-for-neural-ne...</td>\n",
       "      <td>Abstract Missing</td>\n",
       "      <td>Bayesian Query Construction for Neural\\nNetwor...</td>\n",
       "    </tr>\n",
       "    <tr>\n",
       "      <th>4</th>\n",
       "      <td>1001</td>\n",
       "      <td>1994</td>\n",
       "      <td>Neural Network Ensembles, Cross Validation, an...</td>\n",
       "      <td>NaN</td>\n",
       "      <td>1001-neural-network-ensembles-cross-validation...</td>\n",
       "      <td>Abstract Missing</td>\n",
       "      <td>Neural Network Ensembles, Cross\\nValidation, a...</td>\n",
       "    </tr>\n",
       "  </tbody>\n",
       "</table>\n",
       "</div>"
      ],
      "text/plain": [
       "     id  year                                              title event_type  \\\n",
       "0     1  1987  Self-Organization of Associative Database and ...        NaN   \n",
       "1    10  1987  A Mean Field Theory of Layer IV of Visual Cort...        NaN   \n",
       "2   100  1988  Storing Covariance by the Associative Long-Ter...        NaN   \n",
       "3  1000  1994  Bayesian Query Construction for Neural Network...        NaN   \n",
       "4  1001  1994  Neural Network Ensembles, Cross Validation, an...        NaN   \n",
       "\n",
       "                                            pdf_name          abstract  \\\n",
       "0  1-self-organization-of-associative-database-an...  Abstract Missing   \n",
       "1  10-a-mean-field-theory-of-layer-iv-of-visual-c...  Abstract Missing   \n",
       "2  100-storing-covariance-by-the-associative-long...  Abstract Missing   \n",
       "3  1000-bayesian-query-construction-for-neural-ne...  Abstract Missing   \n",
       "4  1001-neural-network-ensembles-cross-validation...  Abstract Missing   \n",
       "\n",
       "                                          paper_text  \n",
       "0  767\\n\\nSELF-ORGANIZATION OF ASSOCIATIVE DATABA...  \n",
       "1  683\\n\\nA MEAN FIELD THEORY OF LAYER IV OF VISU...  \n",
       "2  394\\n\\nSTORING COVARIANCE BY THE ASSOCIATIVE\\n...  \n",
       "3  Bayesian Query Construction for Neural\\nNetwor...  \n",
       "4  Neural Network Ensembles, Cross\\nValidation, a...  "
      ]
     },
     "execution_count": 3,
     "metadata": {},
     "output_type": "execute_result"
    }
   ],
   "source": [
    "papers = pd.read_csv('papers.csv')\n",
    "\n",
    "# Print head\n",
    "papers.head()"
   ]
  },
  {
   "cell_type": "code",
   "execution_count": 4,
   "metadata": {},
   "outputs": [
    {
     "data": {
      "text/html": [
       "<div>\n",
       "<style scoped>\n",
       "    .dataframe tbody tr th:only-of-type {\n",
       "        vertical-align: middle;\n",
       "    }\n",
       "\n",
       "    .dataframe tbody tr th {\n",
       "        vertical-align: top;\n",
       "    }\n",
       "\n",
       "    .dataframe thead th {\n",
       "        text-align: right;\n",
       "    }\n",
       "</style>\n",
       "<table border=\"1\" class=\"dataframe\">\n",
       "  <thead>\n",
       "    <tr style=\"text-align: right;\">\n",
       "      <th></th>\n",
       "      <th>year</th>\n",
       "      <th>title</th>\n",
       "      <th>abstract</th>\n",
       "      <th>paper_text</th>\n",
       "    </tr>\n",
       "  </thead>\n",
       "  <tbody>\n",
       "    <tr>\n",
       "      <th>0</th>\n",
       "      <td>1987</td>\n",
       "      <td>Self-Organization of Associative Database and ...</td>\n",
       "      <td>Abstract Missing</td>\n",
       "      <td>767\\n\\nSELF-ORGANIZATION OF ASSOCIATIVE DATABA...</td>\n",
       "    </tr>\n",
       "    <tr>\n",
       "      <th>1</th>\n",
       "      <td>1987</td>\n",
       "      <td>A Mean Field Theory of Layer IV of Visual Cort...</td>\n",
       "      <td>Abstract Missing</td>\n",
       "      <td>683\\n\\nA MEAN FIELD THEORY OF LAYER IV OF VISU...</td>\n",
       "    </tr>\n",
       "    <tr>\n",
       "      <th>2</th>\n",
       "      <td>1988</td>\n",
       "      <td>Storing Covariance by the Associative Long-Ter...</td>\n",
       "      <td>Abstract Missing</td>\n",
       "      <td>394\\n\\nSTORING COVARIANCE BY THE ASSOCIATIVE\\n...</td>\n",
       "    </tr>\n",
       "    <tr>\n",
       "      <th>3</th>\n",
       "      <td>1994</td>\n",
       "      <td>Bayesian Query Construction for Neural Network...</td>\n",
       "      <td>Abstract Missing</td>\n",
       "      <td>Bayesian Query Construction for Neural\\nNetwor...</td>\n",
       "    </tr>\n",
       "    <tr>\n",
       "      <th>4</th>\n",
       "      <td>1994</td>\n",
       "      <td>Neural Network Ensembles, Cross Validation, an...</td>\n",
       "      <td>Abstract Missing</td>\n",
       "      <td>Neural Network Ensembles, Cross\\nValidation, a...</td>\n",
       "    </tr>\n",
       "  </tbody>\n",
       "</table>\n",
       "</div>"
      ],
      "text/plain": [
       "   year                                              title          abstract  \\\n",
       "0  1987  Self-Organization of Associative Database and ...  Abstract Missing   \n",
       "1  1987  A Mean Field Theory of Layer IV of Visual Cort...  Abstract Missing   \n",
       "2  1988  Storing Covariance by the Associative Long-Ter...  Abstract Missing   \n",
       "3  1994  Bayesian Query Construction for Neural Network...  Abstract Missing   \n",
       "4  1994  Neural Network Ensembles, Cross Validation, an...  Abstract Missing   \n",
       "\n",
       "                                          paper_text  \n",
       "0  767\\n\\nSELF-ORGANIZATION OF ASSOCIATIVE DATABA...  \n",
       "1  683\\n\\nA MEAN FIELD THEORY OF LAYER IV OF VISU...  \n",
       "2  394\\n\\nSTORING COVARIANCE BY THE ASSOCIATIVE\\n...  \n",
       "3  Bayesian Query Construction for Neural\\nNetwor...  \n",
       "4  Neural Network Ensembles, Cross\\nValidation, a...  "
      ]
     },
     "execution_count": 4,
     "metadata": {},
     "output_type": "execute_result"
    }
   ],
   "source": [
    "\n",
    "\n",
    "# Remove the columns\n",
    "papers = papers.drop(columns=['id', 'event_type', 'pdf_name'], axis=1)\n",
    "\n",
    "# Print out the first rows of papers\n",
    "papers.head()\n"
   ]
  },
  {
   "cell_type": "code",
   "execution_count": 5,
   "metadata": {},
   "outputs": [
    {
     "data": {
      "text/plain": [
       "0    767\\n\\nself-organization of associative databa...\n",
       "1    683\\n\\na mean field theory of layer iv of visu...\n",
       "2    394\\n\\nstoring covariance by the associative\\n...\n",
       "3    bayesian query construction for neural\\nnetwor...\n",
       "4    neural network ensembles cross\\nvalidation and...\n",
       "Name: paper_text_processed, dtype: object"
      ]
     },
     "execution_count": 5,
     "metadata": {},
     "output_type": "execute_result"
    }
   ],
   "source": [
    "# Load the regular expression library\n",
    "import re\n",
    "\n",
    "# Remove punctuation\n",
    "papers['paper_text_processed'] = papers['paper_text'].map(lambda x: re.sub('[,\\.!?]', '', x))# Convert the titles to lowercase\n",
    "\n",
    "papers['paper_text_processed'] = papers['paper_text_processed'].map(lambda x: x.lower())\n",
    "\n",
    "papers['paper_text_processed'].head()"
   ]
  },
  {
   "cell_type": "code",
   "execution_count": 6,
   "metadata": {},
   "outputs": [
    {
     "data": {
      "image/png": "[encoded data removed]",
      "text/plain": [
       "<PIL.Image.Image image mode=RGB size=400x200 at 0x108B929C9A0>"
      ]
     },
     "execution_count": 6,
     "metadata": {},
     "output_type": "execute_result"
    }
   ],
   "source": [
    "# Import the wordcloud library\n",
    "\n",
    "from wordcloud import WordCloud\n",
    "\n",
    "# Join the different processed titles together.\n",
    "long_string = ','.join(list(papers['paper_text_processed'].values))\n",
    "\n",
    "# Create a WordCloud object\n",
    "wordcloud = WordCloud(background_color=\"white\", max_words=5000, contour_width=3, contour_color='steelblue')\n",
    "\n",
    "# Generate a word cloud\n",
    "wordcloud.generate(long_string)# Visualize the word cloud\n",
    "wordcloud.to_image()"
   ]
  },
  {
   "cell_type": "code",
   "execution_count": 6,
   "metadata": {},
   "outputs": [
    {
     "data": {
      "image/png": "[encoded data removed]",
      "text/plain": [
       "<Figure size 1080x667.491 with 1 Axes>"
      ]
     },
     "metadata": {
      "needs_background": "light"
     },
     "output_type": "display_data"
    }
   ],
   "source": [
    "# Load the library with the CountVectorizer method\n",
    "from sklearn.feature_extraction.text import CountVectorizer\n",
    "import numpy as np\n",
    "import matplotlib.pyplot as plt\n",
    "import seaborn as sns\n",
    "sns.set_style('whitegrid')\n",
    "%matplotlib inline\n",
    "# Helper function\n",
    "def plot_10_most_common_words(count_data, count_vectorizer):\n",
    "    import matplotlib.pyplot as plt\n",
    "    words = count_vectorizer.get_feature_names()\n",
    "    total_counts = np.zeros(len(words))\n",
    "    for t in count_data:\n",
    "        total_counts+=t.toarray()[0]\n",
    "    \n",
    "    count_dict = (zip(words, total_counts))\n",
    "    count_dict = sorted(count_dict, key=lambda x:x[1], reverse=True)[0:10]\n",
    "    words = [w[0] for w in count_dict]\n",
    "    counts = [w[1] for w in count_dict]\n",
    "    x_pos = np.arange(len(words)) \n",
    "    \n",
    "    plt.figure(2, figsize=(15, 15/1.6180))\n",
    "    plt.subplot(title='10 most common words')\n",
    "    sns.set_context(\"notebook\", font_scale=1.25, rc={\"lines.linewidth\": 2.5})\n",
    "    sns.barplot(x_pos, counts, palette='husl')\n",
    "    plt.xticks(x_pos, words, rotation=90) \n",
    "    plt.xlabel('words')\n",
    "    plt.ylabel('counts')\n",
    "    plt.show()# Initialise the count vectorizer with the English stop words\n",
    "count_vectorizer = CountVectorizer(stop_words='english')# Fit and transform the processed titles\n",
    "count_data = count_vectorizer.fit_transform(papers['paper_text_processed'])# Visualise the 10 most common words\n",
    "plot_10_most_common_words(count_data, count_vectorizer)"
   ]
  },
  {
   "cell_type": "code",
   "execution_count": 7,
   "metadata": {},
   "outputs": [
    {
     "name": "stdout",
     "output_type": "stream",
     "text": [
      "Topics found via LDA:\n",
      "\n",
      "Topic #0:\n",
      "model network image neural figure input images learning networks using\n",
      "\n",
      "Topic #1:\n",
      "training learning data set using classification model features used networks\n",
      "\n",
      "Topic #2:\n",
      "data matrix algorithm 10 model problem log set function using\n",
      "\n",
      "Topic #3:\n",
      "learning algorithm function set state problem bound policy optimal value\n",
      "\n",
      "Topic #4:\n",
      "model time data figure neurons neural spike 10 neuron network\n"
     ]
    }
   ],
   "source": [
    "import warnings\n",
    "warnings.simplefilter(\"ignore\", DeprecationWarning)# Load the LDA model from sk-learn\n",
    "from sklearn.decomposition import LatentDirichletAllocation as LDA\n",
    " \n",
    "# Helper function\n",
    "def print_topics(model, count_vectorizer, n_top_words):\n",
    "    words = count_vectorizer.get_feature_names()\n",
    "    for topic_idx, topic in enumerate(model.components_):\n",
    "        print(\"\\nTopic #%d:\" % topic_idx)\n",
    "        print(\" \".join([words[i]\n",
    "                        for i in topic.argsort()[:-n_top_words - 1:-1]]))\n",
    "        \n",
    "# Tweak the two parameters below\n",
    "number_topics = 5\n",
    "number_words = 10\n",
    "\n",
    "# Create and fit the LDA model\n",
    "lda = LDA(n_components=number_topics, n_jobs=-1)\n",
    "lda.fit(count_data)\n",
    "\n",
    "# Print the topics found by the LDA model\n",
    "print(\"Topics found via LDA:\")\n",
    "print_topics(lda, count_vectorizer, number_words)"
   ]
  },
  {
   "cell_type": "code",
   "execution_count": 13,
   "metadata": {},
   "outputs": [
    {
     "ename": "TypeError",
     "evalue": "dump() missing required argument 'file' (pos 2)",
     "output_type": "error",
     "traceback": [
      "\u001b[1;31m---------------------------------------------------------------------------\u001b[0m",
      "\u001b[1;31mTypeError\u001b[0m                                 Traceback (most recent call last)",
      "\u001b[1;32m<timed exec>\u001b[0m in \u001b[0;36m<module>\u001b[1;34m\u001b[0m\n",
      "\u001b[1;31mTypeError\u001b[0m: dump() missing required argument 'file' (pos 2)"
     ]
    }
   ],
   "source": [
    "%%time\n",
    "import os\n",
    "from pyLDAvis import sklearn as sklearn_lda\n",
    "import pickle \n",
    "import pyLDAvis\n",
    "#LDAvis_data_filepath = os.path.join('/ldavis_prepared_'+str(number_topics))\n",
    "# # this is a bit time consuming - make the if statement True\n",
    "# # if you want to execute visualization prep yourself\n",
    "if 1 == 1:\n",
    "    LDAvis_prepared = sklearn_lda.prepare(lda, count_data, count_vectorizer)\n",
    "    \n",
    "    #with open(LDAvis_data_filepath, 'w') as f:\n",
    "    pickle.dump(LDAvis_prepared)\n",
    "        \n",
    "# load the pre-prepared pyLDAvis data from disk\n",
    "#with open(LDAvis_data_filepath) as f:\n",
    "#LDAvis_prepared = pickle.load(f)\n",
    "    \n",
    "pyLDAvis.save_html(LDAvis_prepared, 'ldavis_prepared.html')"
   ]
  }
 ],
 "metadata": {
  "kernelspec": {
   "display_name": "Python 3",
   "language": "python",
   "name": "python3"
  },
  "language_info": {
   "codemirror_mode": {
    "name": "ipython",
    "version": 3
   },
   "file_extension": ".py",
   "mimetype": "text/x-python",
   "name": "python",
   "nbconvert_exporter": "python",
   "pygments_lexer": "ipython3",
   "version": "3.8.5"
  }
 },
 "nbformat": 4,
 "nbformat_minor": 4
}
