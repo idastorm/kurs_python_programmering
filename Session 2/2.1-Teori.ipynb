{
 "cells": [
  {
   "cell_type": "markdown",
   "metadata": {},
   "source": [
    "### Hur fattar datorn kod?\n",
    "\n",
    "I första föreläsningen lärde vi oss att skriva enkla instruktioner med variabler, aritmetik (``+``,``-``,``/``,``*``), inbyggda funktioner (``print``, ``sum``, ...) samt egenbyggda funktioner. \n",
    "\n",
    "Inget i detta förtäljer hur dessa instruktioner, som ju är relativt läsliga för människor, tolkas av datorn. Vi ska ge en liten kort överblick av hur datorn går från kod till genomförd instruktion. Det finns två typer av sätt att gå från källkod till utförd instruktion.\n",
    "\n",
    "<img src=\"Compilation.png\" width=\"500\" align=\"center\"/>\n",
    "\n",
    "\n",
    "\n",
    "\n",
    "#### Kompilerade språk\n",
    "Givet att du som programmerare skrivit en kodsnutt kallas den för *källkod* och genomgår som minst 3 steg.\n",
    "\n",
    "1. Preprocessing: Detta innebär att ditt program \"städas\" från kommentarer, nya rader och annat som ökar läsbarheten, men inte påverkar programmet. Här sker också lite mindre optimeringar. Preprocessorn kan exempelvis se om du upprepar dig i koden.\n",
    "\n",
    "2. Kompilering: Under kompileringen så omvandlas din städade kod till datorinstruktioner som är unika för just din datortyp. Dessa instruktioner skiljer sig om du har en Mac eller en PC, om du har en x32- eller x64-arkitektur (det är därför vissa program kräver att du laddar ner en viss version). \n",
    "\n",
    "3. Assembly: I det sista obligatoriska steget omvandlas instruktionerna till maskinkod, binär kod av 1:or och 0:or. Detta motsvarar tillstånd hos kretsarna som styr datorn. Maskinkoden är fristående, och kan köras utan tillgång till källkoden.\n",
    "\n",
    "Vanligtvis följs dessa processer av ytterligare två: En länkningsprocess som hittar och sammanfogar kod från olika bibliotek och filer, samt en som kallas tolkning. \n",
    "\n",
    "En vanlig fråga är, vad är programmen som sköter dessa stegen skrivna i? Blir det inte en fråga om hönan och ägget? I det här fallet är det så att vi har ett urägg: Maskinkod, motsvarande 1:or och 0:or. Alla kompileringsfunktioner är i slutändan implementerade på detta viset. \n",
    "\n",
    "<img src=\"Interpreting.png\" width=\"500\" align=\"center\"/>\n",
    "\n",
    "\n",
    "#### Tolkade språk\n",
    "När vi har kört kod i Jupyter Notebook har det inte producerats några binärkod-filer. Det beror på att Python är ett tolkat språk. I tolkade språk så genomgår varje bearbetas varje rad i ett program en i taget. Instruktionerna preprocessas som i kompileringsfallet, men skickas till en tolkare (*interpreter*) som direkt omvandlar det till maskinkod och exekverar den. Sedan fortsätter processen med nästa rad.\n",
    "\n",
    "Fördelen är att man inte behöver ha ett färdigt program utan kan ta en instruktion i taget. Nackdelen är att tolkade språk är väsentligt långsammare.\n",
    "\n",
    "<img src=\"Flow.png\" width=\"700\" align=\"center\"/>\n"
   ]
  },
  {
   "cell_type": "code",
   "execution_count": null,
   "metadata": {},
   "outputs": [],
   "source": []
  }
 ],
 "metadata": {
  "kernelspec": {
   "display_name": "Python 3.8.3 64-bit",
   "language": "python",
   "name": "python38364bitc07ce002ff1d424798a183d93faa705c"
  },
  "language_info": {
   "codemirror_mode": {
    "name": "ipython",
    "version": 3
   },
   "file_extension": ".py",
   "mimetype": "text/x-python",
   "name": "python",
   "nbconvert_exporter": "python",
   "pygments_lexer": "ipython3",
   "version": "3.8.3"
  }
 },
 "nbformat": 4,
 "nbformat_minor": 4
}
