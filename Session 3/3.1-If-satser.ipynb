{
 "cells": [
  {
   "cell_type": "markdown",
   "metadata": {},
   "source": [
    "<div class=\"image\">\n",
    "    <img src=\"cdh_logga.PNG\" width=\"1000\" align=\"top\"/>\n",
    "</div>\n",
    "\n",
    "\n",
    "<a id='section0'></a>\n",
    "## *if*-satser\n",
    "\n",
    "<h3>Innehåll</h3><br>\n",
    "    <ul>\n",
    "        <li><a href='#section1'>1A. Överblick</a></li><br>\n",
    "        <li><a href='#section2'>1B. if-elif-else-satser</a></li><br>\n",
    "        <li><a href='#section3'>1C. Andra viktiga operatorer</a></li><br>\n",
    "    </ul>    \n",
    "    "
   ]
  },
  {
   "cell_type": "markdown",
   "metadata": {},
   "source": [
    "<div style=\"text-align: right\"><a href='#section0' align='left'>Tillbaka till början</a></div>\n",
    "<a id='section1'></a>\n",
    "<h3>1A. Överblick</h3>"
   ]
  },
  {
   "cell_type": "markdown",
   "metadata": {},
   "source": [
    "Användningen av booleaner kommer till sin rätta med betingade uttryck, eller så kallade ``if-satser`` (*if-statements*). Dessa uttryck har liknande syntax som funktionsdefinitioner, och används för att köra kod på villkor att något är sant.\n",
    "\n",
    "<img src=\"flöde1.png\" width=\"500\" align=\"center\"/>\n",
    "\n",
    "If-satser utövar en form av satslogik - om ett påstående är sant, genomförs instruktionerna, annars inte. Liknande logik finns i exempelvis flödesscheman.\n",
    "\n",
    "Det finns ett antal huvudsakliga \"test-operatorer\" i python. Dessa är\n",
    "- ``>``: större än\n",
    "- ``<``: mindre än\n",
    "- ``==``: likhet, exakt samma\n",
    "- ``in``: finns i sträng/lista\n",
    "\n",
    "Vi kommer mest att fokusera på större/mindre än och om något finns i en sträng eller lista."
   ]
  },
  {
   "cell_type": "code",
   "execution_count": 2,
   "metadata": {},
   "outputs": [
    {
     "name": "stdout",
     "output_type": "stream",
     "text": [
      "Allt i första uttrycket körs\n"
     ]
    }
   ],
   "source": [
    "if 54 > 10:\n",
    "    print(\"Allt i första uttrycket körs\")\n",
    "    \n",
    "if 54 < 10:\n",
    "    print(\"Men det här uttrycket körs inte\")"
   ]
  },
  {
   "cell_type": "markdown",
   "metadata": {},
   "source": [
    "Observera att liksom i funktionsdefinitioner är indraget obligatoriskt. Om det *booleanska uttrycket* gäller kommer allt i indraget att köras. Ponera att vi inte skulle känna till värdet på ``x``. Det är i dessa fall if-satser kommer till sin rätt."
   ]
  },
  {
   "cell_type": "code",
   "execution_count": 2,
   "metadata": {},
   "outputs": [],
   "source": [
    "x = 6\n",
    "\n",
    "if x > 10:\n",
    "    print(\"Värdet är mindre än 10!\")"
   ]
  },
  {
   "cell_type": "markdown",
   "metadata": {},
   "source": [
    "<img src=\"flöde3.png\" width=\"500\" align=\"center\"/>"
   ]
  },
  {
   "cell_type": "markdown",
   "metadata": {},
   "source": [
    "Eftersom de booleanska uttrycken alltid returnerar sant eller falskt, kan man reducera ner alla if-satser till ``True`` eller ``False`` i Python."
   ]
  },
  {
   "cell_type": "code",
   "execution_count": 3,
   "metadata": {},
   "outputs": [
    {
     "name": "stdout",
     "output_type": "stream",
     "text": [
      "Om booleanen är sann körs uttrycken.\n"
     ]
    }
   ],
   "source": [
    "if True:\n",
    "    print(\"Om booleanen är sann körs uttrycken.\")\n",
    "\n",
    "if False:\n",
    "    print(\"Om booleanen är falsk körs uttrycken inte.\")"
   ]
  },
  {
   "cell_type": "markdown",
   "metadata": {},
   "source": [
    "Det är vanligt att man behöver sammansatta booleanska uttryck. Det är här booleanska algebran kommer in. Det finns ett antal booleanska operatorer med ganska transparenta namn:\n",
    "\n",
    "- ``X and Y``: returnerar sant om **både** X och Y är sanna, annars falskt\n",
    "- ``X or Y``: returnerar sant om **någon** av X och Y är sanna, annars falskt\n",
    "\n",
    "Man brukar för att undvika misstag använda parenteser för X, Y."
   ]
  },
  {
   "cell_type": "code",
   "execution_count": 14,
   "metadata": {},
   "outputs": [
    {
     "name": "stdout",
     "output_type": "stream",
     "text": [
      "Båda uttryck är sanna.\n",
      "Något uttryck är sant. Vilket?\n"
     ]
    }
   ],
   "source": [
    "if (6 > 5) and (8/2 == 4):\n",
    "    print(\"Båda uttryck är sanna.\")\n",
    "    \n",
    "if (\"ost\" == \"Ost\") or (13*4 > 4):\n",
    "    print(\"Något uttryck är sant. Vilket?\")\n",
    "    \n",
    "if (1 > 2) and (2 > 3):\n",
    "    print(\"Här är inget uttryck sant, så det skrivs inte ut.\")"
   ]
  },
  {
   "cell_type": "markdown",
   "metadata": {},
   "source": [
    "Vi betraktar nu fallet att värdet på en variabel är okänt, och vi vill göra olika saker beroende på dess värde. Ett exempelvis är en bil som visar olika varningar beroende på bränslenivån. Vi introducerar också nyckelordet ``pass`` som bokstavligt talat säger till tolkaren att hoppa över den raden."
   ]
  },
  {
   "cell_type": "code",
   "execution_count": 4,
   "metadata": {},
   "outputs": [
    {
     "name": "stdout",
     "output_type": "stream",
     "text": [
      "Orange varning. Du borde tanka snarast.\n",
      "Gul varning. Du har förbrukat en del bränsle. Dags att tanka.\n"
     ]
    }
   ],
   "source": [
    "from samples import fuel_level\n",
    "\n",
    "if fuel_level == 0: \n",
    "    print(\"Röd varning! Du har väldigt lite bränsle!\")\n",
    "\n",
    "if fuel_level < 15:\n",
    "    print(\"Orange varning. Du borde tanka snarast.\")\n",
    "    \n",
    "if fuel_level < 30:\n",
    "    print(\"Gul varning. Du har förbrukat en del bränsle. Dags att tanka.\")\n",
    "    \n",
    "if fuel_level > 30:\n",
    "    pass"
   ]
  },
  {
   "cell_type": "markdown",
   "metadata": {},
   "source": [
    "Aj då. Två varningar är ju inte hjälpsamt. Nu vet vi att värdet är mellan 5 och 15, men vi vill ju bara ha en varning. Nu körs alla if-satser, men om en av dem exekverat behöver ju resten inte köras. Därför används ofta \"if-else if-else\" satser:"
   ]
  },
  {
   "cell_type": "markdown",
   "metadata": {},
   "source": [
    "<div style=\"text-align: right\"><a href='#section0' align='left'>Tillbaka till början</a></div>\n",
    "<a id='section2'></a>\n",
    "\n",
    "### *if-elif-else*-satser\n",
    "``elif`` eller \"else-if\" körs i ordning efter första if-satsen, och endast en sats exekveras. Om det booleanska uttrycket är falskt går det vidare till nästa ``elif`` tills någon är sann eller satserna är slut. Man kan göra villkoren lite säkrare genom att introducera \"else\", som alltid körs sist:"
   ]
  },
  {
   "cell_type": "code",
   "execution_count": 1,
   "metadata": {},
   "outputs": [
    {
     "name": "stdout",
     "output_type": "stream",
     "text": [
      "Värdet är mindre än 10!\n"
     ]
    }
   ],
   "source": [
    "x = 6\n",
    "\n",
    "if x > 10:\n",
    "    print('Värdet är större än 10!')\n",
    "    \n",
    "elif x < 10:\n",
    "    print('Värdet är mindre än 10!')"
   ]
  },
  {
   "cell_type": "markdown",
   "metadata": {},
   "source": [
    "<img src=\"flöde4.png\" width=\"700\" align=\"center\"/>\n"
   ]
  },
  {
   "cell_type": "code",
   "execution_count": 2,
   "metadata": {},
   "outputs": [
    {
     "name": "stdout",
     "output_type": "stream",
     "text": [
      "Det här skrivs ut i alla fall som inte täcks av de första.\n"
     ]
    }
   ],
   "source": [
    "x = 10\n",
    "\n",
    "if x > 10:\n",
    "    print('Värdet är större än 10!')\n",
    "    \n",
    "elif x < 10:\n",
    "    print('Värdet är mindre än 10!')\n",
    "    \n",
    "else:\n",
    "    print('Det här skrivs ut i alla fall som inte täcks av de första.')"
   ]
  },
  {
   "cell_type": "markdown",
   "metadata": {},
   "source": [
    "<img src=\"flöde5.png\" width=\"700\" align=\"center\"/>"
   ]
  },
  {
   "cell_type": "markdown",
   "metadata": {},
   "source": [
    "Vi återkommer till vårt exempel med bilens varningslampor. Vi vill inte att det ska skrivas ut flera varningar i rad. Med if-elif körs varje villkor **i följd** och endast en av dem exekverar."
   ]
  },
  {
   "cell_type": "code",
   "execution_count": 5,
   "metadata": {},
   "outputs": [
    {
     "name": "stdout",
     "output_type": "stream",
     "text": [
      "Orange varning. Du borde tanka snarast.\n"
     ]
    }
   ],
   "source": [
    "if fuel_level < 5: \n",
    "    print(\"Röd varning! Du har väldigt lite bränsle!\")\n",
    "\n",
    "elif fuel_level < 15:\n",
    "    print(\"Orange varning. Du borde tanka snarast.\")\n",
    "    \n",
    "elif fuel_level < 30:\n",
    "    print(\"Gul varning. Du har förbrukat en del bränsle. Dags att tanka.\")\n",
    "    \n",
    "elif fuel_level > 30:\n",
    "    pass"
   ]
  },
  {
   "cell_type": "markdown",
   "metadata": {},
   "source": [
    "Slutligen kan vi alltså definiera ett helt säkert exempel. Vi använder ``and`` för att säkerställa att bränslenivån är ett positivt tal, eftersom något annat vore orimligt. I det fall att bränslenivån är negativ, täcks det av den sista ``else``-satsen."
   ]
  },
  {
   "cell_type": "code",
   "execution_count": 8,
   "metadata": {},
   "outputs": [
    {
     "name": "stdout",
     "output_type": "stream",
     "text": [
      "Bränslenivån måste vara ett positivt tal.\n"
     ]
    }
   ],
   "source": [
    "fuel_level = -10\n",
    "\n",
    "if (fuel_level > 0) and (fuel_level < 10): \n",
    "    print(\"Röd varning! Du har väldigt lite bränsle!\")\n",
    "\n",
    "elif (fuel_level > 0) and (fuel_level < 15):\n",
    "    print(\"Orange varning. Du borde tanka snarast.\")\n",
    "    \n",
    "elif (fuel_level > 0) and (fuel_level < 30):\n",
    "    print(\"Gul varning. Du har förbrukat en del bränsle. Dags att tanka.\")\n",
    "    \n",
    "elif (fuel_level > 0) and (fuel_level > 30):\n",
    "    pass\n",
    "\n",
    "else:\n",
    "    print(\"Bränslenivån måste vara ett positivt tal.\")"
   ]
  },
  {
   "cell_type": "markdown",
   "metadata": {},
   "source": [
    "<div style=\"text-align: right\"><a href='#section0' align='left'>Tillbaka till början</a></div>\n",
    "<a id='section3'></a>\n",
    "\n",
    "### Andra viktiga operatorer\n",
    "Det finns en del andra modifikationer än ``and`` och ``or`` som kan göras på sanningsvärden (booleaner). De mest nämnvärda är\n",
    "- ``not``: Negerar ett sanningsvärde. Exempelvis är ``not True`` detsamma som ``False`` och ``not False`` detsamma som ``True``.\n"
   ]
  },
  {
   "cell_type": "code",
   "execution_count": 16,
   "metadata": {},
   "outputs": [
    {
     "name": "stdout",
     "output_type": "stream",
     "text": [
      "Körs om användarnamnet INTE är stålkalle@hotmail.com\n"
     ]
    }
   ],
   "source": [
    "username = 'majsan95'\n",
    "\n",
    "if not (username == 'stålkalle@hotmail.com'):\n",
    "    print('Körs om användarnamnet INTE är stålkalle@hotmail.com')"
   ]
  },
  {
   "cell_type": "markdown",
   "metadata": {},
   "source": [
    "- ``in``: Används för att testa om ett element finns i en lista eller sträng. "
   ]
  },
  {
   "cell_type": "code",
   "execution_count": 8,
   "metadata": {},
   "outputs": [
    {
     "name": "stdout",
     "output_type": "stream",
     "text": [
      "True\n"
     ]
    }
   ],
   "source": [
    "lista = [\"jag\", \"du\", \"han\", \"hon\", \"vi\", \"ni\", \"de\", \"choklad\"]\n",
    "\n",
    "om_choklad_i_lista = 'choklad' in lista\n",
    "print(om_choklad_i_lista)"
   ]
  },
  {
   "cell_type": "code",
   "execution_count": 11,
   "metadata": {},
   "outputs": [
    {
     "name": "stdout",
     "output_type": "stream",
     "text": [
      "True\n"
     ]
    }
   ],
   "source": [
    "string = 'en längre mening eller text, som innehåller flera ord.'\n",
    "\n",
    "om_eller_i_string = 'eller' in string\n",
    "print(om_eller_i_string)"
   ]
  },
  {
   "cell_type": "markdown",
   "metadata": {},
   "source": [
    "**Utmaning!**\n",
    "\n",
    "Sök på förekomst av ord i Boye-texten.\n",
    "\n",
    "Skriv en if-sats som printar texten\n",
    "\n",
    "- \"Följande ord finns: SÖKORD\" om ditt SÖKORD finns i texten\n",
    "- \"Ordet hittades inte\" om ditt SÖKORD inte finns i texten\n"
   ]
  },
  {
   "cell_type": "code",
   "execution_count": 6,
   "metadata": {},
   "outputs": [],
   "source": [
    "from samples import boye_string\n",
    "\n",
    "# Skriv uppgiften här"
   ]
  }
 ],
 "metadata": {
  "kernelspec": {
   "display_name": "Python 3",
   "language": "python",
   "name": "python3"
  },
  "language_info": {
   "codemirror_mode": {
    "name": "ipython",
    "version": 3
   },
   "file_extension": ".py",
   "mimetype": "text/x-python",
   "name": "python",
   "nbconvert_exporter": "python",
   "pygments_lexer": "ipython3",
   "version": "3.8.3"
  }
 },
 "nbformat": 4,
 "nbformat_minor": 4
}
